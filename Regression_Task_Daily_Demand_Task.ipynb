{
  "nbformat": 4,
  "nbformat_minor": 0,
  "metadata": {
    "colab": {
      "name": "Regression_Task_Daily_Demand_Task.ipynb",
      "provenance": [],
      "authorship_tag": "ABX9TyPeL7Jr/3EdWRTQC/tEwtiK",
      "include_colab_link": true
    },
    "kernelspec": {
      "name": "python3",
      "display_name": "Python 3"
    },
    "language_info": {
      "name": "python"
    }
  },
  "cells": [
    {
      "cell_type": "markdown",
      "metadata": {
        "id": "view-in-github",
        "colab_type": "text"
      },
      "source": [
        "<a href=\"https://colab.research.google.com/github/nahidosen/1821168042_CSE445_Spring21/blob/main/Regression_Task_Daily_Demand_Task.ipynb\" target=\"_parent\"><img src=\"https://colab.research.google.com/assets/colab-badge.svg\" alt=\"Open In Colab\"/></a>"
      ]
    },
    {
      "cell_type": "markdown",
      "metadata": {
        "id": "vPZYE42Rkg_R"
      },
      "source": [
        "# EDA"
      ]
    },
    {
      "cell_type": "markdown",
      "metadata": {
        "id": "d0cWNAeY8Occ"
      },
      "source": [
        "\n",
        "e) Exploratory Data Analysis (EDA) and all the necessary data preparation\n",
        "\n",
        "f) Use any of the regression methods to build a predictor for predicting the daily demand of TV Models.\n",
        "\n",
        "g) Use proper evaluation parameters that have been discussed in the class to evaluate your result.\n",
        "\n",
        "h) Submit your code in an ipython notebook format in your Github repository and generate a report describing all of the above mentioned."
      ]
    },
    {
      "cell_type": "code",
      "metadata": {
        "colab": {
          "base_uri": "https://localhost:8080/"
        },
        "id": "_SM07sNe72K0",
        "outputId": "89b02807-cd1f-410a-e475-0a7d4c08dd08"
      },
      "source": [
        "!pip install scikit-plot"
      ],
      "execution_count": 2,
      "outputs": [
        {
          "output_type": "stream",
          "text": [
            "Collecting scikit-plot\n",
            "  Downloading https://files.pythonhosted.org/packages/7c/47/32520e259340c140a4ad27c1b97050dd3254fdc517b1d59974d47037510e/scikit_plot-0.3.7-py3-none-any.whl\n",
            "Requirement already satisfied: joblib>=0.10 in /usr/local/lib/python3.7/dist-packages (from scikit-plot) (1.0.1)\n",
            "Requirement already satisfied: matplotlib>=1.4.0 in /usr/local/lib/python3.7/dist-packages (from scikit-plot) (3.2.2)\n",
            "Requirement already satisfied: scipy>=0.9 in /usr/local/lib/python3.7/dist-packages (from scikit-plot) (1.4.1)\n",
            "Requirement already satisfied: scikit-learn>=0.18 in /usr/local/lib/python3.7/dist-packages (from scikit-plot) (0.22.2.post1)\n",
            "Requirement already satisfied: numpy>=1.11 in /usr/local/lib/python3.7/dist-packages (from matplotlib>=1.4.0->scikit-plot) (1.19.5)\n",
            "Requirement already satisfied: pyparsing!=2.0.4,!=2.1.2,!=2.1.6,>=2.0.1 in /usr/local/lib/python3.7/dist-packages (from matplotlib>=1.4.0->scikit-plot) (2.4.7)\n",
            "Requirement already satisfied: cycler>=0.10 in /usr/local/lib/python3.7/dist-packages (from matplotlib>=1.4.0->scikit-plot) (0.10.0)\n",
            "Requirement already satisfied: kiwisolver>=1.0.1 in /usr/local/lib/python3.7/dist-packages (from matplotlib>=1.4.0->scikit-plot) (1.3.1)\n",
            "Requirement already satisfied: python-dateutil>=2.1 in /usr/local/lib/python3.7/dist-packages (from matplotlib>=1.4.0->scikit-plot) (2.8.1)\n",
            "Requirement already satisfied: six in /usr/local/lib/python3.7/dist-packages (from cycler>=0.10->matplotlib>=1.4.0->scikit-plot) (1.15.0)\n",
            "Installing collected packages: scikit-plot\n",
            "Successfully installed scikit-plot-0.3.7\n"
          ],
          "name": "stdout"
        }
      ]
    },
    {
      "cell_type": "code",
      "metadata": {
        "id": "3baFNrvsY1fq"
      },
      "source": [
        "# Importing necessary packages\n",
        "\n",
        "import pandas as pd\n",
        "import numpy as np\n",
        "import matplotlib.pyplot as plt\n",
        "import seaborn as sns\n",
        "import scikitplot as skplt\n",
        "from sklearn.impute import SimpleImputer\n",
        "from sklearn import metrics\n",
        "from sklearn.model_selection import cross_val_score"
      ],
      "execution_count": 3,
      "outputs": []
    },
    {
      "cell_type": "code",
      "metadata": {
        "id": "M0rssDCcY5T6"
      },
      "source": [
        "# Importing dataset csv file\n",
        "\n",
        "tv_data = 'https://raw.githubusercontent.com/nahidosen/1821168042_CSE445_Spring21/main/datasets/tv_sale.csv?token=ASXWIV7AIZ7IMA4TYPVGNCLAVJNYC'\n",
        "tv_df = pd.read_csv(tv_data)"
      ],
      "execution_count": 4,
      "outputs": []
    },
    {
      "cell_type": "code",
      "metadata": {
        "colab": {
          "base_uri": "https://localhost:8080/",
          "height": 407
        },
        "id": "taJ5ol27anx2",
        "outputId": "cdf4d106-133a-4546-a0cf-1d133eac555b"
      },
      "source": [
        "tv_df"
      ],
      "execution_count": 5,
      "outputs": [
        {
          "output_type": "execute_result",
          "data": {
            "text/html": [
              "<div>\n",
              "<style scoped>\n",
              "    .dataframe tbody tr th:only-of-type {\n",
              "        vertical-align: middle;\n",
              "    }\n",
              "\n",
              "    .dataframe tbody tr th {\n",
              "        vertical-align: top;\n",
              "    }\n",
              "\n",
              "    .dataframe thead th {\n",
              "        text-align: right;\n",
              "    }\n",
              "</style>\n",
              "<table border=\"1\" class=\"dataframe\">\n",
              "  <thead>\n",
              "    <tr style=\"text-align: right;\">\n",
              "      <th></th>\n",
              "      <th>Date</th>\n",
              "      <th>Model</th>\n",
              "      <th>Count</th>\n",
              "    </tr>\n",
              "  </thead>\n",
              "  <tbody>\n",
              "    <tr>\n",
              "      <th>0</th>\n",
              "      <td>31-Aug-16</td>\n",
              "      <td>M45</td>\n",
              "      <td>5</td>\n",
              "    </tr>\n",
              "    <tr>\n",
              "      <th>1</th>\n",
              "      <td>31-Aug-16</td>\n",
              "      <td>M121</td>\n",
              "      <td>3</td>\n",
              "    </tr>\n",
              "    <tr>\n",
              "      <th>2</th>\n",
              "      <td>31-Aug-16</td>\n",
              "      <td>M122</td>\n",
              "      <td>4</td>\n",
              "    </tr>\n",
              "    <tr>\n",
              "      <th>3</th>\n",
              "      <td>31-Aug-16</td>\n",
              "      <td>M91</td>\n",
              "      <td>10</td>\n",
              "    </tr>\n",
              "    <tr>\n",
              "      <th>4</th>\n",
              "      <td>31-Aug-16</td>\n",
              "      <td>M66</td>\n",
              "      <td>57</td>\n",
              "    </tr>\n",
              "    <tr>\n",
              "      <th>...</th>\n",
              "      <td>...</td>\n",
              "      <td>...</td>\n",
              "      <td>...</td>\n",
              "    </tr>\n",
              "    <tr>\n",
              "      <th>46111</th>\n",
              "      <td>01-Jan-14</td>\n",
              "      <td>M74</td>\n",
              "      <td>1</td>\n",
              "    </tr>\n",
              "    <tr>\n",
              "      <th>46112</th>\n",
              "      <td>01-Jan-14</td>\n",
              "      <td>M59</td>\n",
              "      <td>1</td>\n",
              "    </tr>\n",
              "    <tr>\n",
              "      <th>46113</th>\n",
              "      <td>01-Jan-14</td>\n",
              "      <td>M60</td>\n",
              "      <td>5</td>\n",
              "    </tr>\n",
              "    <tr>\n",
              "      <th>46114</th>\n",
              "      <td>01-Jan-14</td>\n",
              "      <td>M54</td>\n",
              "      <td>1</td>\n",
              "    </tr>\n",
              "    <tr>\n",
              "      <th>46115</th>\n",
              "      <td>01-Jan-14</td>\n",
              "      <td>M58</td>\n",
              "      <td>1</td>\n",
              "    </tr>\n",
              "  </tbody>\n",
              "</table>\n",
              "<p>46116 rows × 3 columns</p>\n",
              "</div>"
            ],
            "text/plain": [
              "            Date Model  Count\n",
              "0      31-Aug-16   M45      5\n",
              "1      31-Aug-16  M121      3\n",
              "2      31-Aug-16  M122      4\n",
              "3      31-Aug-16   M91     10\n",
              "4      31-Aug-16   M66     57\n",
              "...          ...   ...    ...\n",
              "46111  01-Jan-14   M74      1\n",
              "46112  01-Jan-14   M59      1\n",
              "46113  01-Jan-14   M60      5\n",
              "46114  01-Jan-14   M54      1\n",
              "46115  01-Jan-14   M58      1\n",
              "\n",
              "[46116 rows x 3 columns]"
            ]
          },
          "metadata": {
            "tags": []
          },
          "execution_count": 5
        }
      ]
    },
    {
      "cell_type": "code",
      "metadata": {
        "colab": {
          "base_uri": "https://localhost:8080/",
          "height": 948
        },
        "id": "vbNiGGZnm8eS",
        "outputId": "c59e24f7-f234-414e-db00-3a21760bc4e3"
      },
      "source": [
        "tv_df.head(30)"
      ],
      "execution_count": 6,
      "outputs": [
        {
          "output_type": "execute_result",
          "data": {
            "text/html": [
              "<div>\n",
              "<style scoped>\n",
              "    .dataframe tbody tr th:only-of-type {\n",
              "        vertical-align: middle;\n",
              "    }\n",
              "\n",
              "    .dataframe tbody tr th {\n",
              "        vertical-align: top;\n",
              "    }\n",
              "\n",
              "    .dataframe thead th {\n",
              "        text-align: right;\n",
              "    }\n",
              "</style>\n",
              "<table border=\"1\" class=\"dataframe\">\n",
              "  <thead>\n",
              "    <tr style=\"text-align: right;\">\n",
              "      <th></th>\n",
              "      <th>Date</th>\n",
              "      <th>Model</th>\n",
              "      <th>Count</th>\n",
              "    </tr>\n",
              "  </thead>\n",
              "  <tbody>\n",
              "    <tr>\n",
              "      <th>0</th>\n",
              "      <td>31-Aug-16</td>\n",
              "      <td>M45</td>\n",
              "      <td>5</td>\n",
              "    </tr>\n",
              "    <tr>\n",
              "      <th>1</th>\n",
              "      <td>31-Aug-16</td>\n",
              "      <td>M121</td>\n",
              "      <td>3</td>\n",
              "    </tr>\n",
              "    <tr>\n",
              "      <th>2</th>\n",
              "      <td>31-Aug-16</td>\n",
              "      <td>M122</td>\n",
              "      <td>4</td>\n",
              "    </tr>\n",
              "    <tr>\n",
              "      <th>3</th>\n",
              "      <td>31-Aug-16</td>\n",
              "      <td>M91</td>\n",
              "      <td>10</td>\n",
              "    </tr>\n",
              "    <tr>\n",
              "      <th>4</th>\n",
              "      <td>31-Aug-16</td>\n",
              "      <td>M66</td>\n",
              "      <td>57</td>\n",
              "    </tr>\n",
              "    <tr>\n",
              "      <th>5</th>\n",
              "      <td>31-Aug-16</td>\n",
              "      <td>M100</td>\n",
              "      <td>59</td>\n",
              "    </tr>\n",
              "    <tr>\n",
              "      <th>6</th>\n",
              "      <td>31-Aug-16</td>\n",
              "      <td>M5</td>\n",
              "      <td>17</td>\n",
              "    </tr>\n",
              "    <tr>\n",
              "      <th>7</th>\n",
              "      <td>31-Aug-16</td>\n",
              "      <td>M14</td>\n",
              "      <td>653</td>\n",
              "    </tr>\n",
              "    <tr>\n",
              "      <th>8</th>\n",
              "      <td>31-Aug-16</td>\n",
              "      <td>M62</td>\n",
              "      <td>8</td>\n",
              "    </tr>\n",
              "    <tr>\n",
              "      <th>9</th>\n",
              "      <td>31-Aug-16</td>\n",
              "      <td>M15</td>\n",
              "      <td>25</td>\n",
              "    </tr>\n",
              "    <tr>\n",
              "      <th>10</th>\n",
              "      <td>31-Aug-16</td>\n",
              "      <td>M61</td>\n",
              "      <td>3</td>\n",
              "    </tr>\n",
              "    <tr>\n",
              "      <th>11</th>\n",
              "      <td>31-Aug-16</td>\n",
              "      <td>M82</td>\n",
              "      <td>42</td>\n",
              "    </tr>\n",
              "    <tr>\n",
              "      <th>12</th>\n",
              "      <td>31-Aug-16</td>\n",
              "      <td>M108</td>\n",
              "      <td>4</td>\n",
              "    </tr>\n",
              "    <tr>\n",
              "      <th>13</th>\n",
              "      <td>31-Aug-16</td>\n",
              "      <td>M55</td>\n",
              "      <td>1</td>\n",
              "    </tr>\n",
              "    <tr>\n",
              "      <th>14</th>\n",
              "      <td>31-Aug-16</td>\n",
              "      <td>M43</td>\n",
              "      <td>1</td>\n",
              "    </tr>\n",
              "    <tr>\n",
              "      <th>15</th>\n",
              "      <td>31-Aug-16</td>\n",
              "      <td>M31</td>\n",
              "      <td>23</td>\n",
              "    </tr>\n",
              "    <tr>\n",
              "      <th>16</th>\n",
              "      <td>31-Aug-16</td>\n",
              "      <td>M90</td>\n",
              "      <td>31</td>\n",
              "    </tr>\n",
              "    <tr>\n",
              "      <th>17</th>\n",
              "      <td>31-Aug-16</td>\n",
              "      <td>M96</td>\n",
              "      <td>19</td>\n",
              "    </tr>\n",
              "    <tr>\n",
              "      <th>18</th>\n",
              "      <td>31-Aug-16</td>\n",
              "      <td>M69</td>\n",
              "      <td>1</td>\n",
              "    </tr>\n",
              "    <tr>\n",
              "      <th>19</th>\n",
              "      <td>31-Aug-16</td>\n",
              "      <td>M76</td>\n",
              "      <td>4</td>\n",
              "    </tr>\n",
              "    <tr>\n",
              "      <th>20</th>\n",
              "      <td>31-Aug-16</td>\n",
              "      <td>M56</td>\n",
              "      <td>2</td>\n",
              "    </tr>\n",
              "    <tr>\n",
              "      <th>21</th>\n",
              "      <td>31-Aug-16</td>\n",
              "      <td>M92</td>\n",
              "      <td>2</td>\n",
              "    </tr>\n",
              "    <tr>\n",
              "      <th>22</th>\n",
              "      <td>31-Aug-16</td>\n",
              "      <td>M72</td>\n",
              "      <td>15</td>\n",
              "    </tr>\n",
              "    <tr>\n",
              "      <th>23</th>\n",
              "      <td>31-Aug-16</td>\n",
              "      <td>M94</td>\n",
              "      <td>1</td>\n",
              "    </tr>\n",
              "    <tr>\n",
              "      <th>24</th>\n",
              "      <td>31-Aug-16</td>\n",
              "      <td>M8</td>\n",
              "      <td>189</td>\n",
              "    </tr>\n",
              "    <tr>\n",
              "      <th>25</th>\n",
              "      <td>31-Aug-16</td>\n",
              "      <td>M97</td>\n",
              "      <td>3</td>\n",
              "    </tr>\n",
              "    <tr>\n",
              "      <th>26</th>\n",
              "      <td>31-Aug-16</td>\n",
              "      <td>M71</td>\n",
              "      <td>5</td>\n",
              "    </tr>\n",
              "    <tr>\n",
              "      <th>27</th>\n",
              "      <td>31-Aug-16</td>\n",
              "      <td>M57</td>\n",
              "      <td>2</td>\n",
              "    </tr>\n",
              "    <tr>\n",
              "      <th>28</th>\n",
              "      <td>31-Aug-16</td>\n",
              "      <td>M107</td>\n",
              "      <td>8</td>\n",
              "    </tr>\n",
              "    <tr>\n",
              "      <th>29</th>\n",
              "      <td>31-Aug-16</td>\n",
              "      <td>M99</td>\n",
              "      <td>2</td>\n",
              "    </tr>\n",
              "  </tbody>\n",
              "</table>\n",
              "</div>"
            ],
            "text/plain": [
              "         Date Model  Count\n",
              "0   31-Aug-16   M45      5\n",
              "1   31-Aug-16  M121      3\n",
              "2   31-Aug-16  M122      4\n",
              "3   31-Aug-16   M91     10\n",
              "4   31-Aug-16   M66     57\n",
              "5   31-Aug-16  M100     59\n",
              "6   31-Aug-16    M5     17\n",
              "7   31-Aug-16   M14    653\n",
              "8   31-Aug-16   M62      8\n",
              "9   31-Aug-16   M15     25\n",
              "10  31-Aug-16   M61      3\n",
              "11  31-Aug-16   M82     42\n",
              "12  31-Aug-16  M108      4\n",
              "13  31-Aug-16   M55      1\n",
              "14  31-Aug-16   M43      1\n",
              "15  31-Aug-16   M31     23\n",
              "16  31-Aug-16   M90     31\n",
              "17  31-Aug-16   M96     19\n",
              "18  31-Aug-16   M69      1\n",
              "19  31-Aug-16   M76      4\n",
              "20  31-Aug-16   M56      2\n",
              "21  31-Aug-16   M92      2\n",
              "22  31-Aug-16   M72     15\n",
              "23  31-Aug-16   M94      1\n",
              "24  31-Aug-16    M8    189\n",
              "25  31-Aug-16   M97      3\n",
              "26  31-Aug-16   M71      5\n",
              "27  31-Aug-16   M57      2\n",
              "28  31-Aug-16  M107      8\n",
              "29  31-Aug-16   M99      2"
            ]
          },
          "metadata": {
            "tags": []
          },
          "execution_count": 6
        }
      ]
    },
    {
      "cell_type": "code",
      "metadata": {
        "colab": {
          "base_uri": "https://localhost:8080/",
          "height": 288
        },
        "id": "NM70d6kZcWjK",
        "outputId": "7a66a862-361e-4e2c-d401-b9182a1620bf"
      },
      "source": [
        "tv_df.describe()"
      ],
      "execution_count": 7,
      "outputs": [
        {
          "output_type": "execute_result",
          "data": {
            "text/html": [
              "<div>\n",
              "<style scoped>\n",
              "    .dataframe tbody tr th:only-of-type {\n",
              "        vertical-align: middle;\n",
              "    }\n",
              "\n",
              "    .dataframe tbody tr th {\n",
              "        vertical-align: top;\n",
              "    }\n",
              "\n",
              "    .dataframe thead th {\n",
              "        text-align: right;\n",
              "    }\n",
              "</style>\n",
              "<table border=\"1\" class=\"dataframe\">\n",
              "  <thead>\n",
              "    <tr style=\"text-align: right;\">\n",
              "      <th></th>\n",
              "      <th>Count</th>\n",
              "    </tr>\n",
              "  </thead>\n",
              "  <tbody>\n",
              "    <tr>\n",
              "      <th>count</th>\n",
              "      <td>46116.000000</td>\n",
              "    </tr>\n",
              "    <tr>\n",
              "      <th>mean</th>\n",
              "      <td>96.690108</td>\n",
              "    </tr>\n",
              "    <tr>\n",
              "      <th>std</th>\n",
              "      <td>315.065946</td>\n",
              "    </tr>\n",
              "    <tr>\n",
              "      <th>min</th>\n",
              "      <td>1.000000</td>\n",
              "    </tr>\n",
              "    <tr>\n",
              "      <th>25%</th>\n",
              "      <td>3.000000</td>\n",
              "    </tr>\n",
              "    <tr>\n",
              "      <th>50%</th>\n",
              "      <td>14.000000</td>\n",
              "    </tr>\n",
              "    <tr>\n",
              "      <th>75%</th>\n",
              "      <td>67.000000</td>\n",
              "    </tr>\n",
              "    <tr>\n",
              "      <th>max</th>\n",
              "      <td>6678.000000</td>\n",
              "    </tr>\n",
              "  </tbody>\n",
              "</table>\n",
              "</div>"
            ],
            "text/plain": [
              "              Count\n",
              "count  46116.000000\n",
              "mean      96.690108\n",
              "std      315.065946\n",
              "min        1.000000\n",
              "25%        3.000000\n",
              "50%       14.000000\n",
              "75%       67.000000\n",
              "max     6678.000000"
            ]
          },
          "metadata": {
            "tags": []
          },
          "execution_count": 7
        }
      ]
    },
    {
      "cell_type": "code",
      "metadata": {
        "colab": {
          "base_uri": "https://localhost:8080/"
        },
        "id": "xFTlwjama8HZ",
        "outputId": "22b6e2c9-35cd-4a5a-c01a-67302a10fabc"
      },
      "source": [
        "tv_df.isnull().sum()"
      ],
      "execution_count": 8,
      "outputs": [
        {
          "output_type": "execute_result",
          "data": {
            "text/plain": [
              "Date     0\n",
              "Model    0\n",
              "Count    0\n",
              "dtype: int64"
            ]
          },
          "metadata": {
            "tags": []
          },
          "execution_count": 8
        }
      ]
    },
    {
      "cell_type": "code",
      "metadata": {
        "colab": {
          "base_uri": "https://localhost:8080/"
        },
        "id": "fvkEAuLlbCuR",
        "outputId": "f287a185-c807-4971-96b3-7ab4107e4d02"
      },
      "source": [
        "tv_df.nunique()"
      ],
      "execution_count": 9,
      "outputs": [
        {
          "output_type": "execute_result",
          "data": {
            "text/plain": [
              "Date      971\n",
              "Model     124\n",
              "Count    1191\n",
              "dtype: int64"
            ]
          },
          "metadata": {
            "tags": []
          },
          "execution_count": 9
        }
      ]
    },
    {
      "cell_type": "code",
      "metadata": {
        "colab": {
          "base_uri": "https://localhost:8080/"
        },
        "id": "I-TldF3Ca3kh",
        "outputId": "1f81cf4e-0398-4bb8-f265-9f9faad22a24"
      },
      "source": [
        "tv_df.info()"
      ],
      "execution_count": 10,
      "outputs": [
        {
          "output_type": "stream",
          "text": [
            "<class 'pandas.core.frame.DataFrame'>\n",
            "RangeIndex: 46116 entries, 0 to 46115\n",
            "Data columns (total 3 columns):\n",
            " #   Column  Non-Null Count  Dtype \n",
            "---  ------  --------------  ----- \n",
            " 0   Date    46116 non-null  object\n",
            " 1   Model   46116 non-null  object\n",
            " 2   Count   46116 non-null  int64 \n",
            "dtypes: int64(1), object(2)\n",
            "memory usage: 1.1+ MB\n"
          ],
          "name": "stdout"
        }
      ]
    },
    {
      "cell_type": "code",
      "metadata": {
        "colab": {
          "base_uri": "https://localhost:8080/"
        },
        "id": "OLCGCAlKfEez",
        "outputId": "2246e746-21e8-4674-d4f5-e9f8d5c63bdf"
      },
      "source": [
        "tv_df['Model'].unique()"
      ],
      "execution_count": 11,
      "outputs": [
        {
          "output_type": "execute_result",
          "data": {
            "text/plain": [
              "array(['M45', 'M121', 'M122', 'M91', 'M66', 'M100', 'M5', 'M14', 'M62',\n",
              "       'M15', 'M61', 'M82', 'M108', 'M55', 'M43', 'M31', 'M90', 'M96',\n",
              "       'M69', 'M76', 'M56', 'M92', 'M72', 'M94', 'M8', 'M97', 'M71',\n",
              "       'M57', 'M107', 'M99', 'M18', 'M30', 'M36', 'M86', 'M13', 'M73',\n",
              "       'M81', 'M41', 'M79', 'M70', 'M110', 'M95', 'M51', 'M117', 'M22',\n",
              "       'M10', 'M65', 'M115', 'M75', 'M124', 'M2', 'M42', 'M112', 'M27',\n",
              "       'M53', 'M60', 'M120', 'M23', 'M4', 'M39', 'M48', 'M32', 'M87',\n",
              "       'M6', 'M64', 'M68', 'M17', 'M7', 'M24', 'M44', 'M16', 'M77', 'M78',\n",
              "       'M28', 'M12', 'M1', 'M84', 'M11', 'M25', 'M20', 'M105', 'M88',\n",
              "       'M109', 'M21', 'M19', 'M40', 'M9', 'M116', 'M50', 'M67', 'M93',\n",
              "       'M89', 'M63', 'M123', 'M119', 'M49', 'M52', 'M102', 'M85', 'M126',\n",
              "       'M59', 'M38', 'M103', 'M74', 'M98', 'M37', 'M113', 'M125', 'M104',\n",
              "       'M26', 'M35', 'M80', 'M127', 'M111', 'M118', 'M101', 'M58', 'M47',\n",
              "       'M114', 'M54', 'M29', 'M34', 'M33', 'M106'], dtype=object)"
            ]
          },
          "metadata": {
            "tags": []
          },
          "execution_count": 11
        }
      ]
    },
    {
      "cell_type": "code",
      "metadata": {
        "colab": {
          "base_uri": "https://localhost:8080/"
        },
        "id": "Mnn0DeX0f11B",
        "outputId": "ba5e44e5-9538-473b-80d5-0c4337da906c"
      },
      "source": [
        "tv_df['Model'].value_counts()"
      ],
      "execution_count": 12,
      "outputs": [
        {
          "output_type": "execute_result",
          "data": {
            "text/plain": [
              "M119    926\n",
              "M70     778\n",
              "M97     770\n",
              "M88     769\n",
              "M43     748\n",
              "       ... \n",
              "M14      13\n",
              "M84      10\n",
              "M42       2\n",
              "M47       1\n",
              "M12       1\n",
              "Name: Model, Length: 124, dtype: int64"
            ]
          },
          "metadata": {
            "tags": []
          },
          "execution_count": 12
        }
      ]
    },
    {
      "cell_type": "code",
      "metadata": {
        "id": "GqcLgFqtq5X9"
      },
      "source": [
        "tv_df_2 = tv_df"
      ],
      "execution_count": 13,
      "outputs": []
    },
    {
      "cell_type": "code",
      "metadata": {
        "id": "sKZUYZ4ng-Qy"
      },
      "source": [
        "tv_df_2['Date'] = pd.to_datetime(tv_df_2['Date'])\n",
        "tv_df_2['Year'] = tv_df_2['Date'].dt.year\n",
        "tv_df_2['Month'] = tv_df_2['Date'].dt.month\n",
        "tv_df_2['Day'] = tv_df_2['Date'].dt.day"
      ],
      "execution_count": 14,
      "outputs": []
    },
    {
      "cell_type": "code",
      "metadata": {
        "colab": {
          "base_uri": "https://localhost:8080/",
          "height": 407
        },
        "id": "W-FaGQy_tCTJ",
        "outputId": "a04157c0-c28a-4ea7-a47d-13fc7c19a167"
      },
      "source": [
        "from sklearn.preprocessing import LabelEncoder\n",
        "labelenc = LabelEncoder()\n",
        "\n",
        "tv_df_2.Model = labelenc.fit_transform(tv_df_2.Model)\n",
        "tv_df_2\n",
        "# tv_df_2['Model'] = tv_df_2['Model'].astype('category')\n",
        "# tv_df_2['Model'] = tv_df_2['Model'].cat.codes\n",
        "# tv_df_2['Model'] = tv_df_2['Model'].astype(int)"
      ],
      "execution_count": 15,
      "outputs": [
        {
          "output_type": "execute_result",
          "data": {
            "text/html": [
              "<div>\n",
              "<style scoped>\n",
              "    .dataframe tbody tr th:only-of-type {\n",
              "        vertical-align: middle;\n",
              "    }\n",
              "\n",
              "    .dataframe tbody tr th {\n",
              "        vertical-align: top;\n",
              "    }\n",
              "\n",
              "    .dataframe thead th {\n",
              "        text-align: right;\n",
              "    }\n",
              "</style>\n",
              "<table border=\"1\" class=\"dataframe\">\n",
              "  <thead>\n",
              "    <tr style=\"text-align: right;\">\n",
              "      <th></th>\n",
              "      <th>Date</th>\n",
              "      <th>Model</th>\n",
              "      <th>Count</th>\n",
              "      <th>Year</th>\n",
              "      <th>Month</th>\n",
              "      <th>Day</th>\n",
              "    </tr>\n",
              "  </thead>\n",
              "  <tbody>\n",
              "    <tr>\n",
              "      <th>0</th>\n",
              "      <td>2016-08-31</td>\n",
              "      <td>66</td>\n",
              "      <td>5</td>\n",
              "      <td>2016</td>\n",
              "      <td>8</td>\n",
              "      <td>31</td>\n",
              "    </tr>\n",
              "    <tr>\n",
              "      <th>1</th>\n",
              "      <td>2016-08-31</td>\n",
              "      <td>25</td>\n",
              "      <td>3</td>\n",
              "      <td>2016</td>\n",
              "      <td>8</td>\n",
              "      <td>31</td>\n",
              "    </tr>\n",
              "    <tr>\n",
              "      <th>2</th>\n",
              "      <td>2016-08-31</td>\n",
              "      <td>26</td>\n",
              "      <td>4</td>\n",
              "      <td>2016</td>\n",
              "      <td>8</td>\n",
              "      <td>31</td>\n",
              "    </tr>\n",
              "    <tr>\n",
              "      <th>3</th>\n",
              "      <td>2016-08-31</td>\n",
              "      <td>115</td>\n",
              "      <td>10</td>\n",
              "      <td>2016</td>\n",
              "      <td>8</td>\n",
              "      <td>31</td>\n",
              "    </tr>\n",
              "    <tr>\n",
              "      <th>4</th>\n",
              "      <td>2016-08-31</td>\n",
              "      <td>88</td>\n",
              "      <td>57</td>\n",
              "      <td>2016</td>\n",
              "      <td>8</td>\n",
              "      <td>31</td>\n",
              "    </tr>\n",
              "    <tr>\n",
              "      <th>...</th>\n",
              "      <td>...</td>\n",
              "      <td>...</td>\n",
              "      <td>...</td>\n",
              "      <td>...</td>\n",
              "      <td>...</td>\n",
              "      <td>...</td>\n",
              "    </tr>\n",
              "    <tr>\n",
              "      <th>46111</th>\n",
              "      <td>2014-01-01</td>\n",
              "      <td>97</td>\n",
              "      <td>1</td>\n",
              "      <td>2014</td>\n",
              "      <td>1</td>\n",
              "      <td>1</td>\n",
              "    </tr>\n",
              "    <tr>\n",
              "      <th>46112</th>\n",
              "      <td>2014-01-01</td>\n",
              "      <td>80</td>\n",
              "      <td>1</td>\n",
              "      <td>2014</td>\n",
              "      <td>1</td>\n",
              "      <td>1</td>\n",
              "    </tr>\n",
              "    <tr>\n",
              "      <th>46113</th>\n",
              "      <td>2014-01-01</td>\n",
              "      <td>82</td>\n",
              "      <td>5</td>\n",
              "      <td>2014</td>\n",
              "      <td>1</td>\n",
              "      <td>1</td>\n",
              "    </tr>\n",
              "    <tr>\n",
              "      <th>46114</th>\n",
              "      <td>2014-01-01</td>\n",
              "      <td>75</td>\n",
              "      <td>1</td>\n",
              "      <td>2014</td>\n",
              "      <td>1</td>\n",
              "      <td>1</td>\n",
              "    </tr>\n",
              "    <tr>\n",
              "      <th>46115</th>\n",
              "      <td>2014-01-01</td>\n",
              "      <td>79</td>\n",
              "      <td>1</td>\n",
              "      <td>2014</td>\n",
              "      <td>1</td>\n",
              "      <td>1</td>\n",
              "    </tr>\n",
              "  </tbody>\n",
              "</table>\n",
              "<p>46116 rows × 6 columns</p>\n",
              "</div>"
            ],
            "text/plain": [
              "            Date  Model  Count  Year  Month  Day\n",
              "0     2016-08-31     66      5  2016      8   31\n",
              "1     2016-08-31     25      3  2016      8   31\n",
              "2     2016-08-31     26      4  2016      8   31\n",
              "3     2016-08-31    115     10  2016      8   31\n",
              "4     2016-08-31     88     57  2016      8   31\n",
              "...          ...    ...    ...   ...    ...  ...\n",
              "46111 2014-01-01     97      1  2014      1    1\n",
              "46112 2014-01-01     80      1  2014      1    1\n",
              "46113 2014-01-01     82      5  2014      1    1\n",
              "46114 2014-01-01     75      1  2014      1    1\n",
              "46115 2014-01-01     79      1  2014      1    1\n",
              "\n",
              "[46116 rows x 6 columns]"
            ]
          },
          "metadata": {
            "tags": []
          },
          "execution_count": 15
        }
      ]
    },
    {
      "cell_type": "code",
      "metadata": {
        "colab": {
          "base_uri": "https://localhost:8080/"
        },
        "id": "8mz5pqdM4QWf",
        "outputId": "b350a564-b9a1-4c92-e418-85dbe704a03e"
      },
      "source": [
        "print(min(tv_df_2['Date']))\n",
        "print(max(tv_df_2['Date']))"
      ],
      "execution_count": 16,
      "outputs": [
        {
          "output_type": "stream",
          "text": [
            "2014-01-01 00:00:00\n",
            "2016-08-31 00:00:00\n"
          ],
          "name": "stdout"
        }
      ]
    },
    {
      "cell_type": "code",
      "metadata": {
        "colab": {
          "base_uri": "https://localhost:8080/"
        },
        "id": "Mqj13y2-fmQs",
        "outputId": "377e43f6-fb5f-4164-eeff-c1f4b3941c7b"
      },
      "source": [
        "tv_df_2['Model'].unique()"
      ],
      "execution_count": 17,
      "outputs": [
        {
          "output_type": "execute_result",
          "data": {
            "text/plain": [
              "array([ 66,  25,  26, 115,  88,   2,  70,  33,  84,  34,  83, 106,  10,\n",
              "        76,  64,  51, 114, 120,  91,  99,  77, 116,  95, 118, 103, 121,\n",
              "        94,  78,   9, 123,  37,  50,  56, 109,  32,  96, 105,  62, 102,\n",
              "        93,  13, 119,  72,  20,  42,   1,  87,  18,  98,  28,  39,  63,\n",
              "        15,  47,  74,  82,  24,  43,  60,  59,  68,  52, 110,  81,  86,\n",
              "        90,  36,  92,  44,  65,  35, 100, 101,  48,  23,   0, 107,  12,\n",
              "        45,  40,   7, 111,  11,  41,  38,  61, 113,  19,  71,  89, 117,\n",
              "       112,  85,  27,  22,  69,  73,   4, 108,  30,  80,  58,   5,  97,\n",
              "       122,  57,  16,  29,   6,  46,  55, 104,  31,  14,  21,   3,  79,\n",
              "        67,  17,  75,  49,  54,  53,   8])"
            ]
          },
          "metadata": {
            "tags": []
          },
          "execution_count": 17
        }
      ]
    },
    {
      "cell_type": "code",
      "metadata": {
        "colab": {
          "base_uri": "https://localhost:8080/"
        },
        "id": "bNgBgR3dgF1k",
        "outputId": "6b1e8b55-030f-4ebe-ddb2-53b6b5ad956d"
      },
      "source": [
        "tv_df_2['Model'].value_counts()"
      ],
      "execution_count": 18,
      "outputs": [
        {
          "output_type": "execute_result",
          "data": {
            "text/plain": [
              "22     926\n",
              "93     778\n",
              "121    770\n",
              "111    769\n",
              "64     748\n",
              "      ... \n",
              "33      13\n",
              "107     10\n",
              "63       2\n",
              "67       1\n",
              "23       1\n",
              "Name: Model, Length: 124, dtype: int64"
            ]
          },
          "metadata": {
            "tags": []
          },
          "execution_count": 18
        }
      ]
    },
    {
      "cell_type": "code",
      "metadata": {
        "colab": {
          "base_uri": "https://localhost:8080/",
          "height": 407
        },
        "id": "2dM8UGVLcS0S",
        "outputId": "30067252-bd0c-47a7-b956-cae53b6e4393"
      },
      "source": [
        "tv_df_2"
      ],
      "execution_count": 19,
      "outputs": [
        {
          "output_type": "execute_result",
          "data": {
            "text/html": [
              "<div>\n",
              "<style scoped>\n",
              "    .dataframe tbody tr th:only-of-type {\n",
              "        vertical-align: middle;\n",
              "    }\n",
              "\n",
              "    .dataframe tbody tr th {\n",
              "        vertical-align: top;\n",
              "    }\n",
              "\n",
              "    .dataframe thead th {\n",
              "        text-align: right;\n",
              "    }\n",
              "</style>\n",
              "<table border=\"1\" class=\"dataframe\">\n",
              "  <thead>\n",
              "    <tr style=\"text-align: right;\">\n",
              "      <th></th>\n",
              "      <th>Date</th>\n",
              "      <th>Model</th>\n",
              "      <th>Count</th>\n",
              "      <th>Year</th>\n",
              "      <th>Month</th>\n",
              "      <th>Day</th>\n",
              "    </tr>\n",
              "  </thead>\n",
              "  <tbody>\n",
              "    <tr>\n",
              "      <th>0</th>\n",
              "      <td>2016-08-31</td>\n",
              "      <td>66</td>\n",
              "      <td>5</td>\n",
              "      <td>2016</td>\n",
              "      <td>8</td>\n",
              "      <td>31</td>\n",
              "    </tr>\n",
              "    <tr>\n",
              "      <th>1</th>\n",
              "      <td>2016-08-31</td>\n",
              "      <td>25</td>\n",
              "      <td>3</td>\n",
              "      <td>2016</td>\n",
              "      <td>8</td>\n",
              "      <td>31</td>\n",
              "    </tr>\n",
              "    <tr>\n",
              "      <th>2</th>\n",
              "      <td>2016-08-31</td>\n",
              "      <td>26</td>\n",
              "      <td>4</td>\n",
              "      <td>2016</td>\n",
              "      <td>8</td>\n",
              "      <td>31</td>\n",
              "    </tr>\n",
              "    <tr>\n",
              "      <th>3</th>\n",
              "      <td>2016-08-31</td>\n",
              "      <td>115</td>\n",
              "      <td>10</td>\n",
              "      <td>2016</td>\n",
              "      <td>8</td>\n",
              "      <td>31</td>\n",
              "    </tr>\n",
              "    <tr>\n",
              "      <th>4</th>\n",
              "      <td>2016-08-31</td>\n",
              "      <td>88</td>\n",
              "      <td>57</td>\n",
              "      <td>2016</td>\n",
              "      <td>8</td>\n",
              "      <td>31</td>\n",
              "    </tr>\n",
              "    <tr>\n",
              "      <th>...</th>\n",
              "      <td>...</td>\n",
              "      <td>...</td>\n",
              "      <td>...</td>\n",
              "      <td>...</td>\n",
              "      <td>...</td>\n",
              "      <td>...</td>\n",
              "    </tr>\n",
              "    <tr>\n",
              "      <th>46111</th>\n",
              "      <td>2014-01-01</td>\n",
              "      <td>97</td>\n",
              "      <td>1</td>\n",
              "      <td>2014</td>\n",
              "      <td>1</td>\n",
              "      <td>1</td>\n",
              "    </tr>\n",
              "    <tr>\n",
              "      <th>46112</th>\n",
              "      <td>2014-01-01</td>\n",
              "      <td>80</td>\n",
              "      <td>1</td>\n",
              "      <td>2014</td>\n",
              "      <td>1</td>\n",
              "      <td>1</td>\n",
              "    </tr>\n",
              "    <tr>\n",
              "      <th>46113</th>\n",
              "      <td>2014-01-01</td>\n",
              "      <td>82</td>\n",
              "      <td>5</td>\n",
              "      <td>2014</td>\n",
              "      <td>1</td>\n",
              "      <td>1</td>\n",
              "    </tr>\n",
              "    <tr>\n",
              "      <th>46114</th>\n",
              "      <td>2014-01-01</td>\n",
              "      <td>75</td>\n",
              "      <td>1</td>\n",
              "      <td>2014</td>\n",
              "      <td>1</td>\n",
              "      <td>1</td>\n",
              "    </tr>\n",
              "    <tr>\n",
              "      <th>46115</th>\n",
              "      <td>2014-01-01</td>\n",
              "      <td>79</td>\n",
              "      <td>1</td>\n",
              "      <td>2014</td>\n",
              "      <td>1</td>\n",
              "      <td>1</td>\n",
              "    </tr>\n",
              "  </tbody>\n",
              "</table>\n",
              "<p>46116 rows × 6 columns</p>\n",
              "</div>"
            ],
            "text/plain": [
              "            Date  Model  Count  Year  Month  Day\n",
              "0     2016-08-31     66      5  2016      8   31\n",
              "1     2016-08-31     25      3  2016      8   31\n",
              "2     2016-08-31     26      4  2016      8   31\n",
              "3     2016-08-31    115     10  2016      8   31\n",
              "4     2016-08-31     88     57  2016      8   31\n",
              "...          ...    ...    ...   ...    ...  ...\n",
              "46111 2014-01-01     97      1  2014      1    1\n",
              "46112 2014-01-01     80      1  2014      1    1\n",
              "46113 2014-01-01     82      5  2014      1    1\n",
              "46114 2014-01-01     75      1  2014      1    1\n",
              "46115 2014-01-01     79      1  2014      1    1\n",
              "\n",
              "[46116 rows x 6 columns]"
            ]
          },
          "metadata": {
            "tags": []
          },
          "execution_count": 19
        }
      ]
    },
    {
      "cell_type": "code",
      "metadata": {
        "colab": {
          "base_uri": "https://localhost:8080/"
        },
        "id": "j5m6wvjBd2j8",
        "outputId": "54a095a5-d83a-4d2c-ca94-f6e130622d65"
      },
      "source": [
        "tv_df_2.info()"
      ],
      "execution_count": 20,
      "outputs": [
        {
          "output_type": "stream",
          "text": [
            "<class 'pandas.core.frame.DataFrame'>\n",
            "RangeIndex: 46116 entries, 0 to 46115\n",
            "Data columns (total 6 columns):\n",
            " #   Column  Non-Null Count  Dtype         \n",
            "---  ------  --------------  -----         \n",
            " 0   Date    46116 non-null  datetime64[ns]\n",
            " 1   Model   46116 non-null  int64         \n",
            " 2   Count   46116 non-null  int64         \n",
            " 3   Year    46116 non-null  int64         \n",
            " 4   Month   46116 non-null  int64         \n",
            " 5   Day     46116 non-null  int64         \n",
            "dtypes: datetime64[ns](1), int64(5)\n",
            "memory usage: 2.1 MB\n"
          ],
          "name": "stdout"
        }
      ]
    },
    {
      "cell_type": "code",
      "metadata": {
        "id": "6-OqFJzzUJIR"
      },
      "source": [
        "tv_df_3 = tv_df_2"
      ],
      "execution_count": 21,
      "outputs": []
    },
    {
      "cell_type": "code",
      "metadata": {
        "colab": {
          "base_uri": "https://localhost:8080/",
          "height": 407
        },
        "id": "9qrBM_ihhbML",
        "outputId": "abcf8ece-189f-43b4-b5d7-3c05d6613883"
      },
      "source": [
        "tv_df_3 = tv_df_3[['Year', 'Month', 'Day', 'Model', 'Count']]\n",
        "tv_df_3"
      ],
      "execution_count": 22,
      "outputs": [
        {
          "output_type": "execute_result",
          "data": {
            "text/html": [
              "<div>\n",
              "<style scoped>\n",
              "    .dataframe tbody tr th:only-of-type {\n",
              "        vertical-align: middle;\n",
              "    }\n",
              "\n",
              "    .dataframe tbody tr th {\n",
              "        vertical-align: top;\n",
              "    }\n",
              "\n",
              "    .dataframe thead th {\n",
              "        text-align: right;\n",
              "    }\n",
              "</style>\n",
              "<table border=\"1\" class=\"dataframe\">\n",
              "  <thead>\n",
              "    <tr style=\"text-align: right;\">\n",
              "      <th></th>\n",
              "      <th>Year</th>\n",
              "      <th>Month</th>\n",
              "      <th>Day</th>\n",
              "      <th>Model</th>\n",
              "      <th>Count</th>\n",
              "    </tr>\n",
              "  </thead>\n",
              "  <tbody>\n",
              "    <tr>\n",
              "      <th>0</th>\n",
              "      <td>2016</td>\n",
              "      <td>8</td>\n",
              "      <td>31</td>\n",
              "      <td>66</td>\n",
              "      <td>5</td>\n",
              "    </tr>\n",
              "    <tr>\n",
              "      <th>1</th>\n",
              "      <td>2016</td>\n",
              "      <td>8</td>\n",
              "      <td>31</td>\n",
              "      <td>25</td>\n",
              "      <td>3</td>\n",
              "    </tr>\n",
              "    <tr>\n",
              "      <th>2</th>\n",
              "      <td>2016</td>\n",
              "      <td>8</td>\n",
              "      <td>31</td>\n",
              "      <td>26</td>\n",
              "      <td>4</td>\n",
              "    </tr>\n",
              "    <tr>\n",
              "      <th>3</th>\n",
              "      <td>2016</td>\n",
              "      <td>8</td>\n",
              "      <td>31</td>\n",
              "      <td>115</td>\n",
              "      <td>10</td>\n",
              "    </tr>\n",
              "    <tr>\n",
              "      <th>4</th>\n",
              "      <td>2016</td>\n",
              "      <td>8</td>\n",
              "      <td>31</td>\n",
              "      <td>88</td>\n",
              "      <td>57</td>\n",
              "    </tr>\n",
              "    <tr>\n",
              "      <th>...</th>\n",
              "      <td>...</td>\n",
              "      <td>...</td>\n",
              "      <td>...</td>\n",
              "      <td>...</td>\n",
              "      <td>...</td>\n",
              "    </tr>\n",
              "    <tr>\n",
              "      <th>46111</th>\n",
              "      <td>2014</td>\n",
              "      <td>1</td>\n",
              "      <td>1</td>\n",
              "      <td>97</td>\n",
              "      <td>1</td>\n",
              "    </tr>\n",
              "    <tr>\n",
              "      <th>46112</th>\n",
              "      <td>2014</td>\n",
              "      <td>1</td>\n",
              "      <td>1</td>\n",
              "      <td>80</td>\n",
              "      <td>1</td>\n",
              "    </tr>\n",
              "    <tr>\n",
              "      <th>46113</th>\n",
              "      <td>2014</td>\n",
              "      <td>1</td>\n",
              "      <td>1</td>\n",
              "      <td>82</td>\n",
              "      <td>5</td>\n",
              "    </tr>\n",
              "    <tr>\n",
              "      <th>46114</th>\n",
              "      <td>2014</td>\n",
              "      <td>1</td>\n",
              "      <td>1</td>\n",
              "      <td>75</td>\n",
              "      <td>1</td>\n",
              "    </tr>\n",
              "    <tr>\n",
              "      <th>46115</th>\n",
              "      <td>2014</td>\n",
              "      <td>1</td>\n",
              "      <td>1</td>\n",
              "      <td>79</td>\n",
              "      <td>1</td>\n",
              "    </tr>\n",
              "  </tbody>\n",
              "</table>\n",
              "<p>46116 rows × 5 columns</p>\n",
              "</div>"
            ],
            "text/plain": [
              "       Year  Month  Day  Model  Count\n",
              "0      2016      8   31     66      5\n",
              "1      2016      8   31     25      3\n",
              "2      2016      8   31     26      4\n",
              "3      2016      8   31    115     10\n",
              "4      2016      8   31     88     57\n",
              "...     ...    ...  ...    ...    ...\n",
              "46111  2014      1    1     97      1\n",
              "46112  2014      1    1     80      1\n",
              "46113  2014      1    1     82      5\n",
              "46114  2014      1    1     75      1\n",
              "46115  2014      1    1     79      1\n",
              "\n",
              "[46116 rows x 5 columns]"
            ]
          },
          "metadata": {
            "tags": []
          },
          "execution_count": 22
        }
      ]
    },
    {
      "cell_type": "code",
      "metadata": {
        "colab": {
          "base_uri": "https://localhost:8080/"
        },
        "id": "YJj_-jAVtuEu",
        "outputId": "78feb348-d869-4e8d-c634-abb23c4a3ff4"
      },
      "source": [
        "tv_df_3.info()"
      ],
      "execution_count": 23,
      "outputs": [
        {
          "output_type": "stream",
          "text": [
            "<class 'pandas.core.frame.DataFrame'>\n",
            "RangeIndex: 46116 entries, 0 to 46115\n",
            "Data columns (total 5 columns):\n",
            " #   Column  Non-Null Count  Dtype\n",
            "---  ------  --------------  -----\n",
            " 0   Year    46116 non-null  int64\n",
            " 1   Month   46116 non-null  int64\n",
            " 2   Day     46116 non-null  int64\n",
            " 3   Model   46116 non-null  int64\n",
            " 4   Count   46116 non-null  int64\n",
            "dtypes: int64(5)\n",
            "memory usage: 1.8 MB\n"
          ],
          "name": "stdout"
        }
      ]
    },
    {
      "cell_type": "code",
      "metadata": {
        "colab": {
          "base_uri": "https://localhost:8080/",
          "height": 879
        },
        "id": "92fujwROhccj",
        "outputId": "b90152f5-1b01-42e2-c0f2-cecf22836a37"
      },
      "source": [
        "tv_df_3.hist(figsize= (15, 15));"
      ],
      "execution_count": 24,
      "outputs": [
        {
          "output_type": "display_data",
          "data": {
            "image/png": "[encoded data removed]",
            "text/plain": [
              "<Figure size 1080x1080 with 6 Axes>"
            ]
          },
          "metadata": {
            "tags": [],
            "needs_background": "light"
          }
        }
      ]
    },
    {
      "cell_type": "code",
      "metadata": {
        "colab": {
          "base_uri": "https://localhost:8080/",
          "height": 301
        },
        "id": "dr9HnUzGjdL_",
        "outputId": "480ceeb9-0b8c-4456-e43b-ff96d6a27ae9"
      },
      "source": [
        "sns.scatterplot(data=tv_df_3, x=\"Month\",  y=\"Count\", hue=\"Year\")"
      ],
      "execution_count": 25,
      "outputs": [
        {
          "output_type": "execute_result",
          "data": {
            "text/plain": [
              "<matplotlib.axes._subplots.AxesSubplot at 0x7fb9320aa910>"
            ]
          },
          "metadata": {
            "tags": []
          },
          "execution_count": 25
        },
        {
          "output_type": "display_data",
          "data": {
            "image/png": "[encoded data removed]",
            "text/plain": [
              "<Figure size 432x288 with 1 Axes>"
            ]
          },
          "metadata": {
            "tags": [],
            "needs_background": "light"
          }
        }
      ]
    },
    {
      "cell_type": "code",
      "metadata": {
        "colab": {
          "base_uri": "https://localhost:8080/",
          "height": 297
        },
        "id": "fcbNx6ro3oOU",
        "outputId": "7e939408-a2b9-4c4c-c834-44149eaa3765"
      },
      "source": [
        "sns.countplot(data=tv_df_3, x=\"Month\", hue=\"Year\")"
      ],
      "execution_count": 26,
      "outputs": [
        {
          "output_type": "execute_result",
          "data": {
            "text/plain": [
              "<matplotlib.axes._subplots.AxesSubplot at 0x7fb930e18590>"
            ]
          },
          "metadata": {
            "tags": []
          },
          "execution_count": 26
        },
        {
          "output_type": "display_data",
          "data": {
            "image/png": "[encoded data removed]",
            "text/plain": [
              "<Figure size 432x288 with 1 Axes>"
            ]
          },
          "metadata": {
            "tags": [],
            "needs_background": "light"
          }
        }
      ]
    },
    {
      "cell_type": "code",
      "metadata": {
        "colab": {
          "base_uri": "https://localhost:8080/",
          "height": 301
        },
        "id": "7dElAeFjkWeT",
        "outputId": "a24f89a3-ad3b-466a-f506-461e8de1ae7c"
      },
      "source": [
        "sns.scatterplot(data=tv_df_3, x=\"Model\", y=\"Count\")"
      ],
      "execution_count": 27,
      "outputs": [
        {
          "output_type": "execute_result",
          "data": {
            "text/plain": [
              "<matplotlib.axes._subplots.AxesSubplot at 0x7fb930ab3910>"
            ]
          },
          "metadata": {
            "tags": []
          },
          "execution_count": 27
        },
        {
          "output_type": "display_data",
          "data": {
            "image/png": "[encoded data removed]",
            "text/plain": [
              "<Figure size 432x288 with 1 Axes>"
            ]
          },
          "metadata": {
            "tags": [],
            "needs_background": "light"
          }
        }
      ]
    },
    {
      "cell_type": "code",
      "metadata": {
        "colab": {
          "base_uri": "https://localhost:8080/"
        },
        "id": "Db2GlPBOlr-w",
        "outputId": "1a5ab5fa-b23a-4ba5-a191-4f7e3d233510"
      },
      "source": [
        "tv_df_3['Count'].value_counts()"
      ],
      "execution_count": 28,
      "outputs": [
        {
          "output_type": "execute_result",
          "data": {
            "text/plain": [
              "1       6141\n",
              "2       3697\n",
              "3       2566\n",
              "4       1913\n",
              "5       1475\n",
              "        ... \n",
              "1295       1\n",
              "1071       1\n",
              "847        1\n",
              "751        1\n",
              "3374       1\n",
              "Name: Count, Length: 1191, dtype: int64"
            ]
          },
          "metadata": {
            "tags": []
          },
          "execution_count": 28
        }
      ]
    },
    {
      "cell_type": "code",
      "metadata": {
        "colab": {
          "base_uri": "https://localhost:8080/",
          "height": 354
        },
        "id": "94fRnpt2i2ci",
        "outputId": "da8e6b16-a064-47db-cff5-ef028c07e349"
      },
      "source": [
        "sns.countplot(tv_df_3[\"Count\"])"
      ],
      "execution_count": 29,
      "outputs": [
        {
          "output_type": "stream",
          "text": [
            "/usr/local/lib/python3.7/dist-packages/seaborn/_decorators.py:43: FutureWarning: Pass the following variable as a keyword arg: x. From version 0.12, the only valid positional argument will be `data`, and passing other arguments without an explicit keyword will result in an error or misinterpretation.\n",
            "  FutureWarning\n"
          ],
          "name": "stderr"
        },
        {
          "output_type": "execute_result",
          "data": {
            "text/plain": [
              "<matplotlib.axes._subplots.AxesSubplot at 0x7fb93094bad0>"
            ]
          },
          "metadata": {
            "tags": []
          },
          "execution_count": 29
        },
        {
          "output_type": "display_data",
          "data": {
            "image/png": "[encoded data removed]",
            "text/plain": [
              "<Figure size 432x288 with 1 Axes>"
            ]
          },
          "metadata": {
            "tags": [],
            "needs_background": "light"
          }
        }
      ]
    },
    {
      "cell_type": "code",
      "metadata": {
        "colab": {
          "base_uri": "https://localhost:8080/",
          "height": 407
        },
        "id": "Mg3K1d4TmoIS",
        "outputId": "49c052d9-ed75-4d4b-8b0a-7ac04fd100e6"
      },
      "source": [
        "tv_df_3.sort_values(by='Count', ascending=False)"
      ],
      "execution_count": 30,
      "outputs": [
        {
          "output_type": "execute_result",
          "data": {
            "text/html": [
              "<div>\n",
              "<style scoped>\n",
              "    .dataframe tbody tr th:only-of-type {\n",
              "        vertical-align: middle;\n",
              "    }\n",
              "\n",
              "    .dataframe tbody tr th {\n",
              "        vertical-align: top;\n",
              "    }\n",
              "\n",
              "    .dataframe thead th {\n",
              "        text-align: right;\n",
              "    }\n",
              "</style>\n",
              "<table border=\"1\" class=\"dataframe\">\n",
              "  <thead>\n",
              "    <tr style=\"text-align: right;\">\n",
              "      <th></th>\n",
              "      <th>Year</th>\n",
              "      <th>Month</th>\n",
              "      <th>Day</th>\n",
              "      <th>Model</th>\n",
              "      <th>Count</th>\n",
              "    </tr>\n",
              "  </thead>\n",
              "  <tbody>\n",
              "    <tr>\n",
              "      <th>32322</th>\n",
              "      <td>2015</td>\n",
              "      <td>6</td>\n",
              "      <td>16</td>\n",
              "      <td>44</td>\n",
              "      <td>6678</td>\n",
              "    </tr>\n",
              "    <tr>\n",
              "      <th>32328</th>\n",
              "      <td>2015</td>\n",
              "      <td>6</td>\n",
              "      <td>15</td>\n",
              "      <td>44</td>\n",
              "      <td>6482</td>\n",
              "    </tr>\n",
              "    <tr>\n",
              "      <th>3992</th>\n",
              "      <td>2016</td>\n",
              "      <td>7</td>\n",
              "      <td>18</td>\n",
              "      <td>43</td>\n",
              "      <td>6422</td>\n",
              "    </tr>\n",
              "    <tr>\n",
              "      <th>32223</th>\n",
              "      <td>2015</td>\n",
              "      <td>6</td>\n",
              "      <td>17</td>\n",
              "      <td>44</td>\n",
              "      <td>6328</td>\n",
              "    </tr>\n",
              "    <tr>\n",
              "      <th>32217</th>\n",
              "      <td>2015</td>\n",
              "      <td>6</td>\n",
              "      <td>18</td>\n",
              "      <td>44</td>\n",
              "      <td>6258</td>\n",
              "    </tr>\n",
              "    <tr>\n",
              "      <th>...</th>\n",
              "      <td>...</td>\n",
              "      <td>...</td>\n",
              "      <td>...</td>\n",
              "      <td>...</td>\n",
              "      <td>...</td>\n",
              "    </tr>\n",
              "    <tr>\n",
              "      <th>18147</th>\n",
              "      <td>2016</td>\n",
              "      <td>1</td>\n",
              "      <td>17</td>\n",
              "      <td>29</td>\n",
              "      <td>1</td>\n",
              "    </tr>\n",
              "    <tr>\n",
              "      <th>18154</th>\n",
              "      <td>2016</td>\n",
              "      <td>1</td>\n",
              "      <td>17</td>\n",
              "      <td>97</td>\n",
              "      <td>1</td>\n",
              "    </tr>\n",
              "    <tr>\n",
              "      <th>18155</th>\n",
              "      <td>2016</td>\n",
              "      <td>1</td>\n",
              "      <td>17</td>\n",
              "      <td>54</td>\n",
              "      <td>1</td>\n",
              "    </tr>\n",
              "    <tr>\n",
              "      <th>39507</th>\n",
              "      <td>2015</td>\n",
              "      <td>1</td>\n",
              "      <td>5</td>\n",
              "      <td>17</td>\n",
              "      <td>1</td>\n",
              "    </tr>\n",
              "    <tr>\n",
              "      <th>46115</th>\n",
              "      <td>2014</td>\n",
              "      <td>1</td>\n",
              "      <td>1</td>\n",
              "      <td>79</td>\n",
              "      <td>1</td>\n",
              "    </tr>\n",
              "  </tbody>\n",
              "</table>\n",
              "<p>46116 rows × 5 columns</p>\n",
              "</div>"
            ],
            "text/plain": [
              "       Year  Month  Day  Model  Count\n",
              "32322  2015      6   16     44   6678\n",
              "32328  2015      6   15     44   6482\n",
              "3992   2016      7   18     43   6422\n",
              "32223  2015      6   17     44   6328\n",
              "32217  2015      6   18     44   6258\n",
              "...     ...    ...  ...    ...    ...\n",
              "18147  2016      1   17     29      1\n",
              "18154  2016      1   17     97      1\n",
              "18155  2016      1   17     54      1\n",
              "39507  2015      1    5     17      1\n",
              "46115  2014      1    1     79      1\n",
              "\n",
              "[46116 rows x 5 columns]"
            ]
          },
          "metadata": {
            "tags": []
          },
          "execution_count": 30
        }
      ]
    },
    {
      "cell_type": "code",
      "metadata": {
        "colab": {
          "base_uri": "https://localhost:8080/",
          "height": 297
        },
        "id": "19vgGIbrxjbW",
        "outputId": "a9b65816-3b87-4c95-d158-bb155e217de1"
      },
      "source": [
        "sns.countplot(x='Year', data=tv_df_3)"
      ],
      "execution_count": 31,
      "outputs": [
        {
          "output_type": "execute_result",
          "data": {
            "text/plain": [
              "<matplotlib.axes._subplots.AxesSubplot at 0x7fb930a19ad0>"
            ]
          },
          "metadata": {
            "tags": []
          },
          "execution_count": 31
        },
        {
          "output_type": "display_data",
          "data": {
            "image/png": "[encoded data removed]",
            "text/plain": [
              "<Figure size 432x288 with 1 Axes>"
            ]
          },
          "metadata": {
            "tags": [],
            "needs_background": "light"
          }
        }
      ]
    },
    {
      "cell_type": "code",
      "metadata": {
        "colab": {
          "base_uri": "https://localhost:8080/",
          "height": 297
        },
        "id": "kquFXO9JmZbB",
        "outputId": "cc2ebea7-6c36-405f-edd0-78acdac22bb9"
      },
      "source": [
        "sns.countplot(x='Month', data=tv_df_3)"
      ],
      "execution_count": 32,
      "outputs": [
        {
          "output_type": "execute_result",
          "data": {
            "text/plain": [
              "<matplotlib.axes._subplots.AxesSubplot at 0x7fb931daea90>"
            ]
          },
          "metadata": {
            "tags": []
          },
          "execution_count": 32
        },
        {
          "output_type": "display_data",
          "data": {
            "image/png": "[encoded data removed]",
            "text/plain": [
              "<Figure size 432x288 with 1 Axes>"
            ]
          },
          "metadata": {
            "tags": [],
            "needs_background": "light"
          }
        }
      ]
    },
    {
      "cell_type": "code",
      "metadata": {
        "colab": {
          "base_uri": "https://localhost:8080/",
          "height": 297
        },
        "id": "42zAKJbBmdBS",
        "outputId": "067fe93e-1062-4de3-9e0a-b31e814c7b5e"
      },
      "source": [
        "sns.countplot(x='Day', data=tv_df_3)"
      ],
      "execution_count": 33,
      "outputs": [
        {
          "output_type": "execute_result",
          "data": {
            "text/plain": [
              "<matplotlib.axes._subplots.AxesSubplot at 0x7fb9321aa9d0>"
            ]
          },
          "metadata": {
            "tags": []
          },
          "execution_count": 33
        },
        {
          "output_type": "display_data",
          "data": {
            "image/png": "[encoded data removed]",
            "text/plain": [
              "<Figure size 432x288 with 1 Axes>"
            ]
          },
          "metadata": {
            "tags": [],
            "needs_background": "light"
          }
        }
      ]
    },
    {
      "cell_type": "code",
      "metadata": {
        "colab": {
          "base_uri": "https://localhost:8080/",
          "height": 555
        },
        "id": "mvOnjOYs6oPY",
        "outputId": "88720e46-f2c8-4a3d-bc8d-0b4f1080e0e4"
      },
      "source": [
        "corr = tv_df_3.corr()\n",
        "mask = np.triu(np.ones_like(corr, dtype=bool))\n",
        "f, ax = plt.subplots(figsize=(11, 9))\n",
        "cmap = sns.diverging_palette(230, 20, as_cmap=True)\n",
        "sns.heatmap(corr, mask=mask, cmap=cmap, vmax=1, center=0, square=True, linewidths=.5, cbar_kws={\"shrink\": .5})"
      ],
      "execution_count": 34,
      "outputs": [
        {
          "output_type": "execute_result",
          "data": {
            "text/plain": [
              "<matplotlib.axes._subplots.AxesSubplot at 0x7fb930b4ac90>"
            ]
          },
          "metadata": {
            "tags": []
          },
          "execution_count": 34
        },
        {
          "output_type": "display_data",
          "data": {
            "image/png": "[encoded data removed]",
            "text/plain": [
              "<Figure size 792x648 with 2 Axes>"
            ]
          },
          "metadata": {
            "tags": [],
            "needs_background": "light"
          }
        }
      ]
    },
    {
      "cell_type": "code",
      "metadata": {
        "colab": {
          "base_uri": "https://localhost:8080/",
          "height": 145
        },
        "id": "1gonhfIZ7x6M",
        "outputId": "55011014-527d-476b-8503-83632c0820b7"
      },
      "source": [
        "corr.style.background_gradient(cmap=cmap).set_precision(2)"
      ],
      "execution_count": 35,
      "outputs": [
        {
          "output_type": "execute_result",
          "data": {
            "text/html": [
              "<style  type=\"text/css\" >\n",
              "#T_1f3e8d04_b6cc_11eb_acb4_0242ac1c0002row0_col0,#T_1f3e8d04_b6cc_11eb_acb4_0242ac1c0002row1_col1,#T_1f3e8d04_b6cc_11eb_acb4_0242ac1c0002row2_col2,#T_1f3e8d04_b6cc_11eb_acb4_0242ac1c0002row3_col3,#T_1f3e8d04_b6cc_11eb_acb4_0242ac1c0002row4_col4{\n",
              "            background-color:  #c3553a;\n",
              "            color:  #000000;\n",
              "        }#T_1f3e8d04_b6cc_11eb_acb4_0242ac1c0002row0_col1,#T_1f3e8d04_b6cc_11eb_acb4_0242ac1c0002row0_col2,#T_1f3e8d04_b6cc_11eb_acb4_0242ac1c0002row1_col0,#T_1f3e8d04_b6cc_11eb_acb4_0242ac1c0002row3_col4,#T_1f3e8d04_b6cc_11eb_acb4_0242ac1c0002row4_col2,#T_1f3e8d04_b6cc_11eb_acb4_0242ac1c0002row4_col3{\n",
              "            background-color:  #407e9c;\n",
              "            color:  #000000;\n",
              "        }#T_1f3e8d04_b6cc_11eb_acb4_0242ac1c0002row0_col3{\n",
              "            background-color:  #6d9cb2;\n",
              "            color:  #000000;\n",
              "        }#T_1f3e8d04_b6cc_11eb_acb4_0242ac1c0002row0_col4{\n",
              "            background-color:  #6797af;\n",
              "            color:  #000000;\n",
              "        }#T_1f3e8d04_b6cc_11eb_acb4_0242ac1c0002row1_col2{\n",
              "            background-color:  #44819e;\n",
              "            color:  #000000;\n",
              "        }#T_1f3e8d04_b6cc_11eb_acb4_0242ac1c0002row1_col3,#T_1f3e8d04_b6cc_11eb_acb4_0242ac1c0002row2_col4{\n",
              "            background-color:  #578da7;\n",
              "            color:  #000000;\n",
              "        }#T_1f3e8d04_b6cc_11eb_acb4_0242ac1c0002row1_col4{\n",
              "            background-color:  #6496ad;\n",
              "            color:  #000000;\n",
              "        }#T_1f3e8d04_b6cc_11eb_acb4_0242ac1c0002row2_col0{\n",
              "            background-color:  #a8c2cf;\n",
              "            color:  #000000;\n",
              "        }#T_1f3e8d04_b6cc_11eb_acb4_0242ac1c0002row2_col1{\n",
              "            background-color:  #acc5d1;\n",
              "            color:  #000000;\n",
              "        }#T_1f3e8d04_b6cc_11eb_acb4_0242ac1c0002row2_col3{\n",
              "            background-color:  #598ea8;\n",
              "            color:  #000000;\n",
              "        }#T_1f3e8d04_b6cc_11eb_acb4_0242ac1c0002row3_col0{\n",
              "            background-color:  #b9cdd7;\n",
              "            color:  #000000;\n",
              "        }#T_1f3e8d04_b6cc_11eb_acb4_0242ac1c0002row3_col1{\n",
              "            background-color:  #a9c3d0;\n",
              "            color:  #000000;\n",
              "        }#T_1f3e8d04_b6cc_11eb_acb4_0242ac1c0002row3_col2{\n",
              "            background-color:  #417f9c;\n",
              "            color:  #000000;\n",
              "        }#T_1f3e8d04_b6cc_11eb_acb4_0242ac1c0002row4_col0{\n",
              "            background-color:  #b4cad5;\n",
              "            color:  #000000;\n",
              "        }#T_1f3e8d04_b6cc_11eb_acb4_0242ac1c0002row4_col1{\n",
              "            background-color:  #b2c9d4;\n",
              "            color:  #000000;\n",
              "        }</style><table id=\"T_1f3e8d04_b6cc_11eb_acb4_0242ac1c0002\" ><thead>    <tr>        <th class=\"blank level0\" ></th>        <th class=\"col_heading level0 col0\" >Year</th>        <th class=\"col_heading level0 col1\" >Month</th>        <th class=\"col_heading level0 col2\" >Day</th>        <th class=\"col_heading level0 col3\" >Model</th>        <th class=\"col_heading level0 col4\" >Count</th>    </tr></thead><tbody>\n",
              "                <tr>\n",
              "                        <th id=\"T_1f3e8d04_b6cc_11eb_acb4_0242ac1c0002level0_row0\" class=\"row_heading level0 row0\" >Year</th>\n",
              "                        <td id=\"T_1f3e8d04_b6cc_11eb_acb4_0242ac1c0002row0_col0\" class=\"data row0 col0\" >1.00</td>\n",
              "                        <td id=\"T_1f3e8d04_b6cc_11eb_acb4_0242ac1c0002row0_col1\" class=\"data row0 col1\" >-0.42</td>\n",
              "                        <td id=\"T_1f3e8d04_b6cc_11eb_acb4_0242ac1c0002row0_col2\" class=\"data row0 col2\" >-0.00</td>\n",
              "                        <td id=\"T_1f3e8d04_b6cc_11eb_acb4_0242ac1c0002row0_col3\" class=\"data row0 col3\" >0.06</td>\n",
              "                        <td id=\"T_1f3e8d04_b6cc_11eb_acb4_0242ac1c0002row0_col4\" class=\"data row0 col4\" >0.04</td>\n",
              "            </tr>\n",
              "            <tr>\n",
              "                        <th id=\"T_1f3e8d04_b6cc_11eb_acb4_0242ac1c0002level0_row1\" class=\"row_heading level0 row1\" >Month</th>\n",
              "                        <td id=\"T_1f3e8d04_b6cc_11eb_acb4_0242ac1c0002row1_col0\" class=\"data row1 col0\" >-0.42</td>\n",
              "                        <td id=\"T_1f3e8d04_b6cc_11eb_acb4_0242ac1c0002row1_col1\" class=\"data row1 col1\" >1.00</td>\n",
              "                        <td id=\"T_1f3e8d04_b6cc_11eb_acb4_0242ac1c0002row1_col2\" class=\"data row1 col2\" >0.01</td>\n",
              "                        <td id=\"T_1f3e8d04_b6cc_11eb_acb4_0242ac1c0002row1_col3\" class=\"data row1 col3\" >-0.00</td>\n",
              "                        <td id=\"T_1f3e8d04_b6cc_11eb_acb4_0242ac1c0002row1_col4\" class=\"data row1 col4\" >0.03</td>\n",
              "            </tr>\n",
              "            <tr>\n",
              "                        <th id=\"T_1f3e8d04_b6cc_11eb_acb4_0242ac1c0002level0_row2\" class=\"row_heading level0 row2\" >Day</th>\n",
              "                        <td id=\"T_1f3e8d04_b6cc_11eb_acb4_0242ac1c0002row2_col0\" class=\"data row2 col0\" >-0.00</td>\n",
              "                        <td id=\"T_1f3e8d04_b6cc_11eb_acb4_0242ac1c0002row2_col1\" class=\"data row2 col1\" >0.01</td>\n",
              "                        <td id=\"T_1f3e8d04_b6cc_11eb_acb4_0242ac1c0002row2_col2\" class=\"data row2 col2\" >1.00</td>\n",
              "                        <td id=\"T_1f3e8d04_b6cc_11eb_acb4_0242ac1c0002row2_col3\" class=\"data row2 col3\" >0.00</td>\n",
              "                        <td id=\"T_1f3e8d04_b6cc_11eb_acb4_0242ac1c0002row2_col4\" class=\"data row2 col4\" >-0.00</td>\n",
              "            </tr>\n",
              "            <tr>\n",
              "                        <th id=\"T_1f3e8d04_b6cc_11eb_acb4_0242ac1c0002level0_row3\" class=\"row_heading level0 row3\" >Model</th>\n",
              "                        <td id=\"T_1f3e8d04_b6cc_11eb_acb4_0242ac1c0002row3_col0\" class=\"data row3 col0\" >0.06</td>\n",
              "                        <td id=\"T_1f3e8d04_b6cc_11eb_acb4_0242ac1c0002row3_col1\" class=\"data row3 col1\" >-0.00</td>\n",
              "                        <td id=\"T_1f3e8d04_b6cc_11eb_acb4_0242ac1c0002row3_col2\" class=\"data row3 col2\" >0.00</td>\n",
              "                        <td id=\"T_1f3e8d04_b6cc_11eb_acb4_0242ac1c0002row3_col3\" class=\"data row3 col3\" >1.00</td>\n",
              "                        <td id=\"T_1f3e8d04_b6cc_11eb_acb4_0242ac1c0002row3_col4\" class=\"data row3 col4\" >-0.08</td>\n",
              "            </tr>\n",
              "            <tr>\n",
              "                        <th id=\"T_1f3e8d04_b6cc_11eb_acb4_0242ac1c0002level0_row4\" class=\"row_heading level0 row4\" >Count</th>\n",
              "                        <td id=\"T_1f3e8d04_b6cc_11eb_acb4_0242ac1c0002row4_col0\" class=\"data row4 col0\" >0.04</td>\n",
              "                        <td id=\"T_1f3e8d04_b6cc_11eb_acb4_0242ac1c0002row4_col1\" class=\"data row4 col1\" >0.03</td>\n",
              "                        <td id=\"T_1f3e8d04_b6cc_11eb_acb4_0242ac1c0002row4_col2\" class=\"data row4 col2\" >-0.00</td>\n",
              "                        <td id=\"T_1f3e8d04_b6cc_11eb_acb4_0242ac1c0002row4_col3\" class=\"data row4 col3\" >-0.08</td>\n",
              "                        <td id=\"T_1f3e8d04_b6cc_11eb_acb4_0242ac1c0002row4_col4\" class=\"data row4 col4\" >1.00</td>\n",
              "            </tr>\n",
              "    </tbody></table>"
            ],
            "text/plain": [
              "<pandas.io.formats.style.Styler at 0x7fb930bc6e50>"
            ]
          },
          "metadata": {
            "tags": []
          },
          "execution_count": 35
        }
      ]
    },
    {
      "cell_type": "markdown",
      "metadata": {
        "id": "HBhofic-kVaK"
      },
      "source": [
        "# Training - Testing"
      ]
    },
    {
      "cell_type": "code",
      "metadata": {
        "colab": {
          "base_uri": "https://localhost:8080/",
          "height": 407
        },
        "id": "WRyWx2aPzQOh",
        "outputId": "fc8b6733-a0f2-4fb5-ea61-111f7e9816d4"
      },
      "source": [
        "tv_df_3"
      ],
      "execution_count": 36,
      "outputs": [
        {
          "output_type": "execute_result",
          "data": {
            "text/html": [
              "<div>\n",
              "<style scoped>\n",
              "    .dataframe tbody tr th:only-of-type {\n",
              "        vertical-align: middle;\n",
              "    }\n",
              "\n",
              "    .dataframe tbody tr th {\n",
              "        vertical-align: top;\n",
              "    }\n",
              "\n",
              "    .dataframe thead th {\n",
              "        text-align: right;\n",
              "    }\n",
              "</style>\n",
              "<table border=\"1\" class=\"dataframe\">\n",
              "  <thead>\n",
              "    <tr style=\"text-align: right;\">\n",
              "      <th></th>\n",
              "      <th>Year</th>\n",
              "      <th>Month</th>\n",
              "      <th>Day</th>\n",
              "      <th>Model</th>\n",
              "      <th>Count</th>\n",
              "    </tr>\n",
              "  </thead>\n",
              "  <tbody>\n",
              "    <tr>\n",
              "      <th>0</th>\n",
              "      <td>2016</td>\n",
              "      <td>8</td>\n",
              "      <td>31</td>\n",
              "      <td>66</td>\n",
              "      <td>5</td>\n",
              "    </tr>\n",
              "    <tr>\n",
              "      <th>1</th>\n",
              "      <td>2016</td>\n",
              "      <td>8</td>\n",
              "      <td>31</td>\n",
              "      <td>25</td>\n",
              "      <td>3</td>\n",
              "    </tr>\n",
              "    <tr>\n",
              "      <th>2</th>\n",
              "      <td>2016</td>\n",
              "      <td>8</td>\n",
              "      <td>31</td>\n",
              "      <td>26</td>\n",
              "      <td>4</td>\n",
              "    </tr>\n",
              "    <tr>\n",
              "      <th>3</th>\n",
              "      <td>2016</td>\n",
              "      <td>8</td>\n",
              "      <td>31</td>\n",
              "      <td>115</td>\n",
              "      <td>10</td>\n",
              "    </tr>\n",
              "    <tr>\n",
              "      <th>4</th>\n",
              "      <td>2016</td>\n",
              "      <td>8</td>\n",
              "      <td>31</td>\n",
              "      <td>88</td>\n",
              "      <td>57</td>\n",
              "    </tr>\n",
              "    <tr>\n",
              "      <th>...</th>\n",
              "      <td>...</td>\n",
              "      <td>...</td>\n",
              "      <td>...</td>\n",
              "      <td>...</td>\n",
              "      <td>...</td>\n",
              "    </tr>\n",
              "    <tr>\n",
              "      <th>46111</th>\n",
              "      <td>2014</td>\n",
              "      <td>1</td>\n",
              "      <td>1</td>\n",
              "      <td>97</td>\n",
              "      <td>1</td>\n",
              "    </tr>\n",
              "    <tr>\n",
              "      <th>46112</th>\n",
              "      <td>2014</td>\n",
              "      <td>1</td>\n",
              "      <td>1</td>\n",
              "      <td>80</td>\n",
              "      <td>1</td>\n",
              "    </tr>\n",
              "    <tr>\n",
              "      <th>46113</th>\n",
              "      <td>2014</td>\n",
              "      <td>1</td>\n",
              "      <td>1</td>\n",
              "      <td>82</td>\n",
              "      <td>5</td>\n",
              "    </tr>\n",
              "    <tr>\n",
              "      <th>46114</th>\n",
              "      <td>2014</td>\n",
              "      <td>1</td>\n",
              "      <td>1</td>\n",
              "      <td>75</td>\n",
              "      <td>1</td>\n",
              "    </tr>\n",
              "    <tr>\n",
              "      <th>46115</th>\n",
              "      <td>2014</td>\n",
              "      <td>1</td>\n",
              "      <td>1</td>\n",
              "      <td>79</td>\n",
              "      <td>1</td>\n",
              "    </tr>\n",
              "  </tbody>\n",
              "</table>\n",
              "<p>46116 rows × 5 columns</p>\n",
              "</div>"
            ],
            "text/plain": [
              "       Year  Month  Day  Model  Count\n",
              "0      2016      8   31     66      5\n",
              "1      2016      8   31     25      3\n",
              "2      2016      8   31     26      4\n",
              "3      2016      8   31    115     10\n",
              "4      2016      8   31     88     57\n",
              "...     ...    ...  ...    ...    ...\n",
              "46111  2014      1    1     97      1\n",
              "46112  2014      1    1     80      1\n",
              "46113  2014      1    1     82      5\n",
              "46114  2014      1    1     75      1\n",
              "46115  2014      1    1     79      1\n",
              "\n",
              "[46116 rows x 5 columns]"
            ]
          },
          "metadata": {
            "tags": []
          },
          "execution_count": 36
        }
      ]
    },
    {
      "cell_type": "code",
      "metadata": {
        "id": "iICGEd5pkF_D"
      },
      "source": [
        "X = tv_df_3.drop([\"Count\"], axis = 1)\n",
        "y = tv_df_3[\"Count\"]"
      ],
      "execution_count": 70,
      "outputs": []
    },
    {
      "cell_type": "code",
      "metadata": {
        "colab": {
          "base_uri": "https://localhost:8080/",
          "height": 407
        },
        "id": "oiQMSw8Ynqiz",
        "outputId": "d75c4085-30b3-4ac5-aecf-0581a3e96711"
      },
      "source": [
        "X"
      ],
      "execution_count": 56,
      "outputs": [
        {
          "output_type": "execute_result",
          "data": {
            "text/html": [
              "<div>\n",
              "<style scoped>\n",
              "    .dataframe tbody tr th:only-of-type {\n",
              "        vertical-align: middle;\n",
              "    }\n",
              "\n",
              "    .dataframe tbody tr th {\n",
              "        vertical-align: top;\n",
              "    }\n",
              "\n",
              "    .dataframe thead th {\n",
              "        text-align: right;\n",
              "    }\n",
              "</style>\n",
              "<table border=\"1\" class=\"dataframe\">\n",
              "  <thead>\n",
              "    <tr style=\"text-align: right;\">\n",
              "      <th></th>\n",
              "      <th>Year</th>\n",
              "      <th>Month</th>\n",
              "      <th>Day</th>\n",
              "      <th>Model</th>\n",
              "    </tr>\n",
              "  </thead>\n",
              "  <tbody>\n",
              "    <tr>\n",
              "      <th>0</th>\n",
              "      <td>2016</td>\n",
              "      <td>8</td>\n",
              "      <td>31</td>\n",
              "      <td>66</td>\n",
              "    </tr>\n",
              "    <tr>\n",
              "      <th>1</th>\n",
              "      <td>2016</td>\n",
              "      <td>8</td>\n",
              "      <td>31</td>\n",
              "      <td>25</td>\n",
              "    </tr>\n",
              "    <tr>\n",
              "      <th>2</th>\n",
              "      <td>2016</td>\n",
              "      <td>8</td>\n",
              "      <td>31</td>\n",
              "      <td>26</td>\n",
              "    </tr>\n",
              "    <tr>\n",
              "      <th>3</th>\n",
              "      <td>2016</td>\n",
              "      <td>8</td>\n",
              "      <td>31</td>\n",
              "      <td>115</td>\n",
              "    </tr>\n",
              "    <tr>\n",
              "      <th>4</th>\n",
              "      <td>2016</td>\n",
              "      <td>8</td>\n",
              "      <td>31</td>\n",
              "      <td>88</td>\n",
              "    </tr>\n",
              "    <tr>\n",
              "      <th>...</th>\n",
              "      <td>...</td>\n",
              "      <td>...</td>\n",
              "      <td>...</td>\n",
              "      <td>...</td>\n",
              "    </tr>\n",
              "    <tr>\n",
              "      <th>46111</th>\n",
              "      <td>2014</td>\n",
              "      <td>1</td>\n",
              "      <td>1</td>\n",
              "      <td>97</td>\n",
              "    </tr>\n",
              "    <tr>\n",
              "      <th>46112</th>\n",
              "      <td>2014</td>\n",
              "      <td>1</td>\n",
              "      <td>1</td>\n",
              "      <td>80</td>\n",
              "    </tr>\n",
              "    <tr>\n",
              "      <th>46113</th>\n",
              "      <td>2014</td>\n",
              "      <td>1</td>\n",
              "      <td>1</td>\n",
              "      <td>82</td>\n",
              "    </tr>\n",
              "    <tr>\n",
              "      <th>46114</th>\n",
              "      <td>2014</td>\n",
              "      <td>1</td>\n",
              "      <td>1</td>\n",
              "      <td>75</td>\n",
              "    </tr>\n",
              "    <tr>\n",
              "      <th>46115</th>\n",
              "      <td>2014</td>\n",
              "      <td>1</td>\n",
              "      <td>1</td>\n",
              "      <td>79</td>\n",
              "    </tr>\n",
              "  </tbody>\n",
              "</table>\n",
              "<p>46116 rows × 4 columns</p>\n",
              "</div>"
            ],
            "text/plain": [
              "       Year  Month  Day  Model\n",
              "0      2016      8   31     66\n",
              "1      2016      8   31     25\n",
              "2      2016      8   31     26\n",
              "3      2016      8   31    115\n",
              "4      2016      8   31     88\n",
              "...     ...    ...  ...    ...\n",
              "46111  2014      1    1     97\n",
              "46112  2014      1    1     80\n",
              "46113  2014      1    1     82\n",
              "46114  2014      1    1     75\n",
              "46115  2014      1    1     79\n",
              "\n",
              "[46116 rows x 4 columns]"
            ]
          },
          "metadata": {
            "tags": []
          },
          "execution_count": 56
        }
      ]
    },
    {
      "cell_type": "code",
      "metadata": {
        "colab": {
          "base_uri": "https://localhost:8080/"
        },
        "id": "sLzUr9mFnuiW",
        "outputId": "f1a46d11-b001-4b66-f56a-368c42064619"
      },
      "source": [
        "y"
      ],
      "execution_count": 57,
      "outputs": [
        {
          "output_type": "execute_result",
          "data": {
            "text/plain": [
              "0         5\n",
              "1         3\n",
              "2         4\n",
              "3        10\n",
              "4        57\n",
              "         ..\n",
              "46111     1\n",
              "46112     1\n",
              "46113     5\n",
              "46114     1\n",
              "46115     1\n",
              "Name: Count, Length: 46116, dtype: int64"
            ]
          },
          "metadata": {
            "tags": []
          },
          "execution_count": 57
        }
      ]
    },
    {
      "cell_type": "code",
      "metadata": {
        "id": "ZqFG5MIPkyDk"
      },
      "source": [
        "from sklearn.preprocessing import OneHotEncoder\n",
        "\n",
        "onehot = OneHotEncoder(handle_unknown= 'error')\n",
        "onehotend = pd.DataFrame(onehot.fit_transform(X[['Model']]).toarray())\n",
        "\n",
        "X = X.join(onehotend)"
      ],
      "execution_count": 71,
      "outputs": []
    },
    {
      "cell_type": "code",
      "metadata": {
        "id": "zRr0LgB2n0Ux",
        "colab": {
          "base_uri": "https://localhost:8080/"
        },
        "outputId": "0d897fa7-bc88-495d-aff6-2c9965d5c0f3"
      },
      "source": [
        "onehot.inverse_transform(onehotend)"
      ],
      "execution_count": 59,
      "outputs": [
        {
          "output_type": "execute_result",
          "data": {
            "text/plain": [
              "array([[66],\n",
              "       [25],\n",
              "       [26],\n",
              "       ...,\n",
              "       [82],\n",
              "       [75],\n",
              "       [79]])"
            ]
          },
          "metadata": {
            "tags": []
          },
          "execution_count": 59
        }
      ]
    },
    {
      "cell_type": "code",
      "metadata": {
        "colab": {
          "base_uri": "https://localhost:8080/",
          "height": 427
        },
        "id": "5RUhEHCv9W79",
        "outputId": "e5a29a9b-9e4c-4fbb-9903-cb0beeadc09e"
      },
      "source": [
        "X = X.drop(X[['Model']], axis=1)\n",
        "X"
      ],
      "execution_count": 72,
      "outputs": [
        {
          "output_type": "execute_result",
          "data": {
            "text/html": [
              "<div>\n",
              "<style scoped>\n",
              "    .dataframe tbody tr th:only-of-type {\n",
              "        vertical-align: middle;\n",
              "    }\n",
              "\n",
              "    .dataframe tbody tr th {\n",
              "        vertical-align: top;\n",
              "    }\n",
              "\n",
              "    .dataframe thead th {\n",
              "        text-align: right;\n",
              "    }\n",
              "</style>\n",
              "<table border=\"1\" class=\"dataframe\">\n",
              "  <thead>\n",
              "    <tr style=\"text-align: right;\">\n",
              "      <th></th>\n",
              "      <th>Year</th>\n",
              "      <th>Month</th>\n",
              "      <th>Day</th>\n",
              "      <th>0</th>\n",
              "      <th>1</th>\n",
              "      <th>2</th>\n",
              "      <th>3</th>\n",
              "      <th>4</th>\n",
              "      <th>5</th>\n",
              "      <th>6</th>\n",
              "      <th>7</th>\n",
              "      <th>8</th>\n",
              "      <th>9</th>\n",
              "      <th>10</th>\n",
              "      <th>11</th>\n",
              "      <th>12</th>\n",
              "      <th>13</th>\n",
              "      <th>14</th>\n",
              "      <th>15</th>\n",
              "      <th>16</th>\n",
              "      <th>17</th>\n",
              "      <th>18</th>\n",
              "      <th>19</th>\n",
              "      <th>20</th>\n",
              "      <th>21</th>\n",
              "      <th>22</th>\n",
              "      <th>23</th>\n",
              "      <th>24</th>\n",
              "      <th>25</th>\n",
              "      <th>26</th>\n",
              "      <th>27</th>\n",
              "      <th>28</th>\n",
              "      <th>29</th>\n",
              "      <th>30</th>\n",
              "      <th>31</th>\n",
              "      <th>32</th>\n",
              "      <th>33</th>\n",
              "      <th>34</th>\n",
              "      <th>35</th>\n",
              "      <th>36</th>\n",
              "      <th>...</th>\n",
              "      <th>84</th>\n",
              "      <th>85</th>\n",
              "      <th>86</th>\n",
              "      <th>87</th>\n",
              "      <th>88</th>\n",
              "      <th>89</th>\n",
              "      <th>90</th>\n",
              "      <th>91</th>\n",
              "      <th>92</th>\n",
              "      <th>93</th>\n",
              "      <th>94</th>\n",
              "      <th>95</th>\n",
              "      <th>96</th>\n",
              "      <th>97</th>\n",
              "      <th>98</th>\n",
              "      <th>99</th>\n",
              "      <th>100</th>\n",
              "      <th>101</th>\n",
              "      <th>102</th>\n",
              "      <th>103</th>\n",
              "      <th>104</th>\n",
              "      <th>105</th>\n",
              "      <th>106</th>\n",
              "      <th>107</th>\n",
              "      <th>108</th>\n",
              "      <th>109</th>\n",
              "      <th>110</th>\n",
              "      <th>111</th>\n",
              "      <th>112</th>\n",
              "      <th>113</th>\n",
              "      <th>114</th>\n",
              "      <th>115</th>\n",
              "      <th>116</th>\n",
              "      <th>117</th>\n",
              "      <th>118</th>\n",
              "      <th>119</th>\n",
              "      <th>120</th>\n",
              "      <th>121</th>\n",
              "      <th>122</th>\n",
              "      <th>123</th>\n",
              "    </tr>\n",
              "  </thead>\n",
              "  <tbody>\n",
              "    <tr>\n",
              "      <th>0</th>\n",
              "      <td>2016</td>\n",
              "      <td>8</td>\n",
              "      <td>31</td>\n",
              "      <td>0.0</td>\n",
              "      <td>0.0</td>\n",
              "      <td>0.0</td>\n",
              "      <td>0.0</td>\n",
              "      <td>0.0</td>\n",
              "      <td>0.0</td>\n",
              "      <td>0.0</td>\n",
              "      <td>0.0</td>\n",
              "      <td>0.0</td>\n",
              "      <td>0.0</td>\n",
              "      <td>0.0</td>\n",
              "      <td>0.0</td>\n",
              "      <td>0.0</td>\n",
              "      <td>0.0</td>\n",
              "      <td>0.0</td>\n",
              "      <td>0.0</td>\n",
              "      <td>0.0</td>\n",
              "      <td>0.0</td>\n",
              "      <td>0.0</td>\n",
              "      <td>0.0</td>\n",
              "      <td>0.0</td>\n",
              "      <td>0.0</td>\n",
              "      <td>0.0</td>\n",
              "      <td>0.0</td>\n",
              "      <td>0.0</td>\n",
              "      <td>0.0</td>\n",
              "      <td>0.0</td>\n",
              "      <td>0.0</td>\n",
              "      <td>0.0</td>\n",
              "      <td>0.0</td>\n",
              "      <td>0.0</td>\n",
              "      <td>0.0</td>\n",
              "      <td>0.0</td>\n",
              "      <td>0.0</td>\n",
              "      <td>0.0</td>\n",
              "      <td>0.0</td>\n",
              "      <td>0.0</td>\n",
              "      <td>...</td>\n",
              "      <td>0.0</td>\n",
              "      <td>0.0</td>\n",
              "      <td>0.0</td>\n",
              "      <td>0.0</td>\n",
              "      <td>0.0</td>\n",
              "      <td>0.0</td>\n",
              "      <td>0.0</td>\n",
              "      <td>0.0</td>\n",
              "      <td>0.0</td>\n",
              "      <td>0.0</td>\n",
              "      <td>0.0</td>\n",
              "      <td>0.0</td>\n",
              "      <td>0.0</td>\n",
              "      <td>0.0</td>\n",
              "      <td>0.0</td>\n",
              "      <td>0.0</td>\n",
              "      <td>0.0</td>\n",
              "      <td>0.0</td>\n",
              "      <td>0.0</td>\n",
              "      <td>0.0</td>\n",
              "      <td>0.0</td>\n",
              "      <td>0.0</td>\n",
              "      <td>0.0</td>\n",
              "      <td>0.0</td>\n",
              "      <td>0.0</td>\n",
              "      <td>0.0</td>\n",
              "      <td>0.0</td>\n",
              "      <td>0.0</td>\n",
              "      <td>0.0</td>\n",
              "      <td>0.0</td>\n",
              "      <td>0.0</td>\n",
              "      <td>0.0</td>\n",
              "      <td>0.0</td>\n",
              "      <td>0.0</td>\n",
              "      <td>0.0</td>\n",
              "      <td>0.0</td>\n",
              "      <td>0.0</td>\n",
              "      <td>0.0</td>\n",
              "      <td>0.0</td>\n",
              "      <td>0.0</td>\n",
              "    </tr>\n",
              "    <tr>\n",
              "      <th>1</th>\n",
              "      <td>2016</td>\n",
              "      <td>8</td>\n",
              "      <td>31</td>\n",
              "      <td>0.0</td>\n",
              "      <td>0.0</td>\n",
              "      <td>0.0</td>\n",
              "      <td>0.0</td>\n",
              "      <td>0.0</td>\n",
              "      <td>0.0</td>\n",
              "      <td>0.0</td>\n",
              "      <td>0.0</td>\n",
              "      <td>0.0</td>\n",
              "      <td>0.0</td>\n",
              "      <td>0.0</td>\n",
              "      <td>0.0</td>\n",
              "      <td>0.0</td>\n",
              "      <td>0.0</td>\n",
              "      <td>0.0</td>\n",
              "      <td>0.0</td>\n",
              "      <td>0.0</td>\n",
              "      <td>0.0</td>\n",
              "      <td>0.0</td>\n",
              "      <td>0.0</td>\n",
              "      <td>0.0</td>\n",
              "      <td>0.0</td>\n",
              "      <td>0.0</td>\n",
              "      <td>0.0</td>\n",
              "      <td>0.0</td>\n",
              "      <td>1.0</td>\n",
              "      <td>0.0</td>\n",
              "      <td>0.0</td>\n",
              "      <td>0.0</td>\n",
              "      <td>0.0</td>\n",
              "      <td>0.0</td>\n",
              "      <td>0.0</td>\n",
              "      <td>0.0</td>\n",
              "      <td>0.0</td>\n",
              "      <td>0.0</td>\n",
              "      <td>0.0</td>\n",
              "      <td>0.0</td>\n",
              "      <td>...</td>\n",
              "      <td>0.0</td>\n",
              "      <td>0.0</td>\n",
              "      <td>0.0</td>\n",
              "      <td>0.0</td>\n",
              "      <td>0.0</td>\n",
              "      <td>0.0</td>\n",
              "      <td>0.0</td>\n",
              "      <td>0.0</td>\n",
              "      <td>0.0</td>\n",
              "      <td>0.0</td>\n",
              "      <td>0.0</td>\n",
              "      <td>0.0</td>\n",
              "      <td>0.0</td>\n",
              "      <td>0.0</td>\n",
              "      <td>0.0</td>\n",
              "      <td>0.0</td>\n",
              "      <td>0.0</td>\n",
              "      <td>0.0</td>\n",
              "      <td>0.0</td>\n",
              "      <td>0.0</td>\n",
              "      <td>0.0</td>\n",
              "      <td>0.0</td>\n",
              "      <td>0.0</td>\n",
              "      <td>0.0</td>\n",
              "      <td>0.0</td>\n",
              "      <td>0.0</td>\n",
              "      <td>0.0</td>\n",
              "      <td>0.0</td>\n",
              "      <td>0.0</td>\n",
              "      <td>0.0</td>\n",
              "      <td>0.0</td>\n",
              "      <td>0.0</td>\n",
              "      <td>0.0</td>\n",
              "      <td>0.0</td>\n",
              "      <td>0.0</td>\n",
              "      <td>0.0</td>\n",
              "      <td>0.0</td>\n",
              "      <td>0.0</td>\n",
              "      <td>0.0</td>\n",
              "      <td>0.0</td>\n",
              "    </tr>\n",
              "    <tr>\n",
              "      <th>2</th>\n",
              "      <td>2016</td>\n",
              "      <td>8</td>\n",
              "      <td>31</td>\n",
              "      <td>0.0</td>\n",
              "      <td>0.0</td>\n",
              "      <td>0.0</td>\n",
              "      <td>0.0</td>\n",
              "      <td>0.0</td>\n",
              "      <td>0.0</td>\n",
              "      <td>0.0</td>\n",
              "      <td>0.0</td>\n",
              "      <td>0.0</td>\n",
              "      <td>0.0</td>\n",
              "      <td>0.0</td>\n",
              "      <td>0.0</td>\n",
              "      <td>0.0</td>\n",
              "      <td>0.0</td>\n",
              "      <td>0.0</td>\n",
              "      <td>0.0</td>\n",
              "      <td>0.0</td>\n",
              "      <td>0.0</td>\n",
              "      <td>0.0</td>\n",
              "      <td>0.0</td>\n",
              "      <td>0.0</td>\n",
              "      <td>0.0</td>\n",
              "      <td>0.0</td>\n",
              "      <td>0.0</td>\n",
              "      <td>0.0</td>\n",
              "      <td>0.0</td>\n",
              "      <td>1.0</td>\n",
              "      <td>0.0</td>\n",
              "      <td>0.0</td>\n",
              "      <td>0.0</td>\n",
              "      <td>0.0</td>\n",
              "      <td>0.0</td>\n",
              "      <td>0.0</td>\n",
              "      <td>0.0</td>\n",
              "      <td>0.0</td>\n",
              "      <td>0.0</td>\n",
              "      <td>0.0</td>\n",
              "      <td>...</td>\n",
              "      <td>0.0</td>\n",
              "      <td>0.0</td>\n",
              "      <td>0.0</td>\n",
              "      <td>0.0</td>\n",
              "      <td>0.0</td>\n",
              "      <td>0.0</td>\n",
              "      <td>0.0</td>\n",
              "      <td>0.0</td>\n",
              "      <td>0.0</td>\n",
              "      <td>0.0</td>\n",
              "      <td>0.0</td>\n",
              "      <td>0.0</td>\n",
              "      <td>0.0</td>\n",
              "      <td>0.0</td>\n",
              "      <td>0.0</td>\n",
              "      <td>0.0</td>\n",
              "      <td>0.0</td>\n",
              "      <td>0.0</td>\n",
              "      <td>0.0</td>\n",
              "      <td>0.0</td>\n",
              "      <td>0.0</td>\n",
              "      <td>0.0</td>\n",
              "      <td>0.0</td>\n",
              "      <td>0.0</td>\n",
              "      <td>0.0</td>\n",
              "      <td>0.0</td>\n",
              "      <td>0.0</td>\n",
              "      <td>0.0</td>\n",
              "      <td>0.0</td>\n",
              "      <td>0.0</td>\n",
              "      <td>0.0</td>\n",
              "      <td>0.0</td>\n",
              "      <td>0.0</td>\n",
              "      <td>0.0</td>\n",
              "      <td>0.0</td>\n",
              "      <td>0.0</td>\n",
              "      <td>0.0</td>\n",
              "      <td>0.0</td>\n",
              "      <td>0.0</td>\n",
              "      <td>0.0</td>\n",
              "    </tr>\n",
              "    <tr>\n",
              "      <th>3</th>\n",
              "      <td>2016</td>\n",
              "      <td>8</td>\n",
              "      <td>31</td>\n",
              "      <td>0.0</td>\n",
              "      <td>0.0</td>\n",
              "      <td>0.0</td>\n",
              "      <td>0.0</td>\n",
              "      <td>0.0</td>\n",
              "      <td>0.0</td>\n",
              "      <td>0.0</td>\n",
              "      <td>0.0</td>\n",
              "      <td>0.0</td>\n",
              "      <td>0.0</td>\n",
              "      <td>0.0</td>\n",
              "      <td>0.0</td>\n",
              "      <td>0.0</td>\n",
              "      <td>0.0</td>\n",
              "      <td>0.0</td>\n",
              "      <td>0.0</td>\n",
              "      <td>0.0</td>\n",
              "      <td>0.0</td>\n",
              "      <td>0.0</td>\n",
              "      <td>0.0</td>\n",
              "      <td>0.0</td>\n",
              "      <td>0.0</td>\n",
              "      <td>0.0</td>\n",
              "      <td>0.0</td>\n",
              "      <td>0.0</td>\n",
              "      <td>0.0</td>\n",
              "      <td>0.0</td>\n",
              "      <td>0.0</td>\n",
              "      <td>0.0</td>\n",
              "      <td>0.0</td>\n",
              "      <td>0.0</td>\n",
              "      <td>0.0</td>\n",
              "      <td>0.0</td>\n",
              "      <td>0.0</td>\n",
              "      <td>0.0</td>\n",
              "      <td>0.0</td>\n",
              "      <td>0.0</td>\n",
              "      <td>...</td>\n",
              "      <td>0.0</td>\n",
              "      <td>0.0</td>\n",
              "      <td>0.0</td>\n",
              "      <td>0.0</td>\n",
              "      <td>0.0</td>\n",
              "      <td>0.0</td>\n",
              "      <td>0.0</td>\n",
              "      <td>0.0</td>\n",
              "      <td>0.0</td>\n",
              "      <td>0.0</td>\n",
              "      <td>0.0</td>\n",
              "      <td>0.0</td>\n",
              "      <td>0.0</td>\n",
              "      <td>0.0</td>\n",
              "      <td>0.0</td>\n",
              "      <td>0.0</td>\n",
              "      <td>0.0</td>\n",
              "      <td>0.0</td>\n",
              "      <td>0.0</td>\n",
              "      <td>0.0</td>\n",
              "      <td>0.0</td>\n",
              "      <td>0.0</td>\n",
              "      <td>0.0</td>\n",
              "      <td>0.0</td>\n",
              "      <td>0.0</td>\n",
              "      <td>0.0</td>\n",
              "      <td>0.0</td>\n",
              "      <td>0.0</td>\n",
              "      <td>0.0</td>\n",
              "      <td>0.0</td>\n",
              "      <td>0.0</td>\n",
              "      <td>1.0</td>\n",
              "      <td>0.0</td>\n",
              "      <td>0.0</td>\n",
              "      <td>0.0</td>\n",
              "      <td>0.0</td>\n",
              "      <td>0.0</td>\n",
              "      <td>0.0</td>\n",
              "      <td>0.0</td>\n",
              "      <td>0.0</td>\n",
              "    </tr>\n",
              "    <tr>\n",
              "      <th>4</th>\n",
              "      <td>2016</td>\n",
              "      <td>8</td>\n",
              "      <td>31</td>\n",
              "      <td>0.0</td>\n",
              "      <td>0.0</td>\n",
              "      <td>0.0</td>\n",
              "      <td>0.0</td>\n",
              "      <td>0.0</td>\n",
              "      <td>0.0</td>\n",
              "      <td>0.0</td>\n",
              "      <td>0.0</td>\n",
              "      <td>0.0</td>\n",
              "      <td>0.0</td>\n",
              "      <td>0.0</td>\n",
              "      <td>0.0</td>\n",
              "      <td>0.0</td>\n",
              "      <td>0.0</td>\n",
              "      <td>0.0</td>\n",
              "      <td>0.0</td>\n",
              "      <td>0.0</td>\n",
              "      <td>0.0</td>\n",
              "      <td>0.0</td>\n",
              "      <td>0.0</td>\n",
              "      <td>0.0</td>\n",
              "      <td>0.0</td>\n",
              "      <td>0.0</td>\n",
              "      <td>0.0</td>\n",
              "      <td>0.0</td>\n",
              "      <td>0.0</td>\n",
              "      <td>0.0</td>\n",
              "      <td>0.0</td>\n",
              "      <td>0.0</td>\n",
              "      <td>0.0</td>\n",
              "      <td>0.0</td>\n",
              "      <td>0.0</td>\n",
              "      <td>0.0</td>\n",
              "      <td>0.0</td>\n",
              "      <td>0.0</td>\n",
              "      <td>0.0</td>\n",
              "      <td>0.0</td>\n",
              "      <td>...</td>\n",
              "      <td>0.0</td>\n",
              "      <td>0.0</td>\n",
              "      <td>0.0</td>\n",
              "      <td>0.0</td>\n",
              "      <td>1.0</td>\n",
              "      <td>0.0</td>\n",
              "      <td>0.0</td>\n",
              "      <td>0.0</td>\n",
              "      <td>0.0</td>\n",
              "      <td>0.0</td>\n",
              "      <td>0.0</td>\n",
              "      <td>0.0</td>\n",
              "      <td>0.0</td>\n",
              "      <td>0.0</td>\n",
              "      <td>0.0</td>\n",
              "      <td>0.0</td>\n",
              "      <td>0.0</td>\n",
              "      <td>0.0</td>\n",
              "      <td>0.0</td>\n",
              "      <td>0.0</td>\n",
              "      <td>0.0</td>\n",
              "      <td>0.0</td>\n",
              "      <td>0.0</td>\n",
              "      <td>0.0</td>\n",
              "      <td>0.0</td>\n",
              "      <td>0.0</td>\n",
              "      <td>0.0</td>\n",
              "      <td>0.0</td>\n",
              "      <td>0.0</td>\n",
              "      <td>0.0</td>\n",
              "      <td>0.0</td>\n",
              "      <td>0.0</td>\n",
              "      <td>0.0</td>\n",
              "      <td>0.0</td>\n",
              "      <td>0.0</td>\n",
              "      <td>0.0</td>\n",
              "      <td>0.0</td>\n",
              "      <td>0.0</td>\n",
              "      <td>0.0</td>\n",
              "      <td>0.0</td>\n",
              "    </tr>\n",
              "    <tr>\n",
              "      <th>...</th>\n",
              "      <td>...</td>\n",
              "      <td>...</td>\n",
              "      <td>...</td>\n",
              "      <td>...</td>\n",
              "      <td>...</td>\n",
              "      <td>...</td>\n",
              "      <td>...</td>\n",
              "      <td>...</td>\n",
              "      <td>...</td>\n",
              "      <td>...</td>\n",
              "      <td>...</td>\n",
              "      <td>...</td>\n",
              "      <td>...</td>\n",
              "      <td>...</td>\n",
              "      <td>...</td>\n",
              "      <td>...</td>\n",
              "      <td>...</td>\n",
              "      <td>...</td>\n",
              "      <td>...</td>\n",
              "      <td>...</td>\n",
              "      <td>...</td>\n",
              "      <td>...</td>\n",
              "      <td>...</td>\n",
              "      <td>...</td>\n",
              "      <td>...</td>\n",
              "      <td>...</td>\n",
              "      <td>...</td>\n",
              "      <td>...</td>\n",
              "      <td>...</td>\n",
              "      <td>...</td>\n",
              "      <td>...</td>\n",
              "      <td>...</td>\n",
              "      <td>...</td>\n",
              "      <td>...</td>\n",
              "      <td>...</td>\n",
              "      <td>...</td>\n",
              "      <td>...</td>\n",
              "      <td>...</td>\n",
              "      <td>...</td>\n",
              "      <td>...</td>\n",
              "      <td>...</td>\n",
              "      <td>...</td>\n",
              "      <td>...</td>\n",
              "      <td>...</td>\n",
              "      <td>...</td>\n",
              "      <td>...</td>\n",
              "      <td>...</td>\n",
              "      <td>...</td>\n",
              "      <td>...</td>\n",
              "      <td>...</td>\n",
              "      <td>...</td>\n",
              "      <td>...</td>\n",
              "      <td>...</td>\n",
              "      <td>...</td>\n",
              "      <td>...</td>\n",
              "      <td>...</td>\n",
              "      <td>...</td>\n",
              "      <td>...</td>\n",
              "      <td>...</td>\n",
              "      <td>...</td>\n",
              "      <td>...</td>\n",
              "      <td>...</td>\n",
              "      <td>...</td>\n",
              "      <td>...</td>\n",
              "      <td>...</td>\n",
              "      <td>...</td>\n",
              "      <td>...</td>\n",
              "      <td>...</td>\n",
              "      <td>...</td>\n",
              "      <td>...</td>\n",
              "      <td>...</td>\n",
              "      <td>...</td>\n",
              "      <td>...</td>\n",
              "      <td>...</td>\n",
              "      <td>...</td>\n",
              "      <td>...</td>\n",
              "      <td>...</td>\n",
              "      <td>...</td>\n",
              "      <td>...</td>\n",
              "      <td>...</td>\n",
              "      <td>...</td>\n",
              "    </tr>\n",
              "    <tr>\n",
              "      <th>46111</th>\n",
              "      <td>2014</td>\n",
              "      <td>1</td>\n",
              "      <td>1</td>\n",
              "      <td>0.0</td>\n",
              "      <td>0.0</td>\n",
              "      <td>0.0</td>\n",
              "      <td>0.0</td>\n",
              "      <td>0.0</td>\n",
              "      <td>0.0</td>\n",
              "      <td>0.0</td>\n",
              "      <td>0.0</td>\n",
              "      <td>0.0</td>\n",
              "      <td>0.0</td>\n",
              "      <td>0.0</td>\n",
              "      <td>0.0</td>\n",
              "      <td>0.0</td>\n",
              "      <td>0.0</td>\n",
              "      <td>0.0</td>\n",
              "      <td>0.0</td>\n",
              "      <td>0.0</td>\n",
              "      <td>0.0</td>\n",
              "      <td>0.0</td>\n",
              "      <td>0.0</td>\n",
              "      <td>0.0</td>\n",
              "      <td>0.0</td>\n",
              "      <td>0.0</td>\n",
              "      <td>0.0</td>\n",
              "      <td>0.0</td>\n",
              "      <td>0.0</td>\n",
              "      <td>0.0</td>\n",
              "      <td>0.0</td>\n",
              "      <td>0.0</td>\n",
              "      <td>0.0</td>\n",
              "      <td>0.0</td>\n",
              "      <td>0.0</td>\n",
              "      <td>0.0</td>\n",
              "      <td>0.0</td>\n",
              "      <td>0.0</td>\n",
              "      <td>0.0</td>\n",
              "      <td>0.0</td>\n",
              "      <td>...</td>\n",
              "      <td>0.0</td>\n",
              "      <td>0.0</td>\n",
              "      <td>0.0</td>\n",
              "      <td>0.0</td>\n",
              "      <td>0.0</td>\n",
              "      <td>0.0</td>\n",
              "      <td>0.0</td>\n",
              "      <td>0.0</td>\n",
              "      <td>0.0</td>\n",
              "      <td>0.0</td>\n",
              "      <td>0.0</td>\n",
              "      <td>0.0</td>\n",
              "      <td>0.0</td>\n",
              "      <td>1.0</td>\n",
              "      <td>0.0</td>\n",
              "      <td>0.0</td>\n",
              "      <td>0.0</td>\n",
              "      <td>0.0</td>\n",
              "      <td>0.0</td>\n",
              "      <td>0.0</td>\n",
              "      <td>0.0</td>\n",
              "      <td>0.0</td>\n",
              "      <td>0.0</td>\n",
              "      <td>0.0</td>\n",
              "      <td>0.0</td>\n",
              "      <td>0.0</td>\n",
              "      <td>0.0</td>\n",
              "      <td>0.0</td>\n",
              "      <td>0.0</td>\n",
              "      <td>0.0</td>\n",
              "      <td>0.0</td>\n",
              "      <td>0.0</td>\n",
              "      <td>0.0</td>\n",
              "      <td>0.0</td>\n",
              "      <td>0.0</td>\n",
              "      <td>0.0</td>\n",
              "      <td>0.0</td>\n",
              "      <td>0.0</td>\n",
              "      <td>0.0</td>\n",
              "      <td>0.0</td>\n",
              "    </tr>\n",
              "    <tr>\n",
              "      <th>46112</th>\n",
              "      <td>2014</td>\n",
              "      <td>1</td>\n",
              "      <td>1</td>\n",
              "      <td>0.0</td>\n",
              "      <td>0.0</td>\n",
              "      <td>0.0</td>\n",
              "      <td>0.0</td>\n",
              "      <td>0.0</td>\n",
              "      <td>0.0</td>\n",
              "      <td>0.0</td>\n",
              "      <td>0.0</td>\n",
              "      <td>0.0</td>\n",
              "      <td>0.0</td>\n",
              "      <td>0.0</td>\n",
              "      <td>0.0</td>\n",
              "      <td>0.0</td>\n",
              "      <td>0.0</td>\n",
              "      <td>0.0</td>\n",
              "      <td>0.0</td>\n",
              "      <td>0.0</td>\n",
              "      <td>0.0</td>\n",
              "      <td>0.0</td>\n",
              "      <td>0.0</td>\n",
              "      <td>0.0</td>\n",
              "      <td>0.0</td>\n",
              "      <td>0.0</td>\n",
              "      <td>0.0</td>\n",
              "      <td>0.0</td>\n",
              "      <td>0.0</td>\n",
              "      <td>0.0</td>\n",
              "      <td>0.0</td>\n",
              "      <td>0.0</td>\n",
              "      <td>0.0</td>\n",
              "      <td>0.0</td>\n",
              "      <td>0.0</td>\n",
              "      <td>0.0</td>\n",
              "      <td>0.0</td>\n",
              "      <td>0.0</td>\n",
              "      <td>0.0</td>\n",
              "      <td>0.0</td>\n",
              "      <td>...</td>\n",
              "      <td>0.0</td>\n",
              "      <td>0.0</td>\n",
              "      <td>0.0</td>\n",
              "      <td>0.0</td>\n",
              "      <td>0.0</td>\n",
              "      <td>0.0</td>\n",
              "      <td>0.0</td>\n",
              "      <td>0.0</td>\n",
              "      <td>0.0</td>\n",
              "      <td>0.0</td>\n",
              "      <td>0.0</td>\n",
              "      <td>0.0</td>\n",
              "      <td>0.0</td>\n",
              "      <td>0.0</td>\n",
              "      <td>0.0</td>\n",
              "      <td>0.0</td>\n",
              "      <td>0.0</td>\n",
              "      <td>0.0</td>\n",
              "      <td>0.0</td>\n",
              "      <td>0.0</td>\n",
              "      <td>0.0</td>\n",
              "      <td>0.0</td>\n",
              "      <td>0.0</td>\n",
              "      <td>0.0</td>\n",
              "      <td>0.0</td>\n",
              "      <td>0.0</td>\n",
              "      <td>0.0</td>\n",
              "      <td>0.0</td>\n",
              "      <td>0.0</td>\n",
              "      <td>0.0</td>\n",
              "      <td>0.0</td>\n",
              "      <td>0.0</td>\n",
              "      <td>0.0</td>\n",
              "      <td>0.0</td>\n",
              "      <td>0.0</td>\n",
              "      <td>0.0</td>\n",
              "      <td>0.0</td>\n",
              "      <td>0.0</td>\n",
              "      <td>0.0</td>\n",
              "      <td>0.0</td>\n",
              "    </tr>\n",
              "    <tr>\n",
              "      <th>46113</th>\n",
              "      <td>2014</td>\n",
              "      <td>1</td>\n",
              "      <td>1</td>\n",
              "      <td>0.0</td>\n",
              "      <td>0.0</td>\n",
              "      <td>0.0</td>\n",
              "      <td>0.0</td>\n",
              "      <td>0.0</td>\n",
              "      <td>0.0</td>\n",
              "      <td>0.0</td>\n",
              "      <td>0.0</td>\n",
              "      <td>0.0</td>\n",
              "      <td>0.0</td>\n",
              "      <td>0.0</td>\n",
              "      <td>0.0</td>\n",
              "      <td>0.0</td>\n",
              "      <td>0.0</td>\n",
              "      <td>0.0</td>\n",
              "      <td>0.0</td>\n",
              "      <td>0.0</td>\n",
              "      <td>0.0</td>\n",
              "      <td>0.0</td>\n",
              "      <td>0.0</td>\n",
              "      <td>0.0</td>\n",
              "      <td>0.0</td>\n",
              "      <td>0.0</td>\n",
              "      <td>0.0</td>\n",
              "      <td>0.0</td>\n",
              "      <td>0.0</td>\n",
              "      <td>0.0</td>\n",
              "      <td>0.0</td>\n",
              "      <td>0.0</td>\n",
              "      <td>0.0</td>\n",
              "      <td>0.0</td>\n",
              "      <td>0.0</td>\n",
              "      <td>0.0</td>\n",
              "      <td>0.0</td>\n",
              "      <td>0.0</td>\n",
              "      <td>0.0</td>\n",
              "      <td>0.0</td>\n",
              "      <td>...</td>\n",
              "      <td>0.0</td>\n",
              "      <td>0.0</td>\n",
              "      <td>0.0</td>\n",
              "      <td>0.0</td>\n",
              "      <td>0.0</td>\n",
              "      <td>0.0</td>\n",
              "      <td>0.0</td>\n",
              "      <td>0.0</td>\n",
              "      <td>0.0</td>\n",
              "      <td>0.0</td>\n",
              "      <td>0.0</td>\n",
              "      <td>0.0</td>\n",
              "      <td>0.0</td>\n",
              "      <td>0.0</td>\n",
              "      <td>0.0</td>\n",
              "      <td>0.0</td>\n",
              "      <td>0.0</td>\n",
              "      <td>0.0</td>\n",
              "      <td>0.0</td>\n",
              "      <td>0.0</td>\n",
              "      <td>0.0</td>\n",
              "      <td>0.0</td>\n",
              "      <td>0.0</td>\n",
              "      <td>0.0</td>\n",
              "      <td>0.0</td>\n",
              "      <td>0.0</td>\n",
              "      <td>0.0</td>\n",
              "      <td>0.0</td>\n",
              "      <td>0.0</td>\n",
              "      <td>0.0</td>\n",
              "      <td>0.0</td>\n",
              "      <td>0.0</td>\n",
              "      <td>0.0</td>\n",
              "      <td>0.0</td>\n",
              "      <td>0.0</td>\n",
              "      <td>0.0</td>\n",
              "      <td>0.0</td>\n",
              "      <td>0.0</td>\n",
              "      <td>0.0</td>\n",
              "      <td>0.0</td>\n",
              "    </tr>\n",
              "    <tr>\n",
              "      <th>46114</th>\n",
              "      <td>2014</td>\n",
              "      <td>1</td>\n",
              "      <td>1</td>\n",
              "      <td>0.0</td>\n",
              "      <td>0.0</td>\n",
              "      <td>0.0</td>\n",
              "      <td>0.0</td>\n",
              "      <td>0.0</td>\n",
              "      <td>0.0</td>\n",
              "      <td>0.0</td>\n",
              "      <td>0.0</td>\n",
              "      <td>0.0</td>\n",
              "      <td>0.0</td>\n",
              "      <td>0.0</td>\n",
              "      <td>0.0</td>\n",
              "      <td>0.0</td>\n",
              "      <td>0.0</td>\n",
              "      <td>0.0</td>\n",
              "      <td>0.0</td>\n",
              "      <td>0.0</td>\n",
              "      <td>0.0</td>\n",
              "      <td>0.0</td>\n",
              "      <td>0.0</td>\n",
              "      <td>0.0</td>\n",
              "      <td>0.0</td>\n",
              "      <td>0.0</td>\n",
              "      <td>0.0</td>\n",
              "      <td>0.0</td>\n",
              "      <td>0.0</td>\n",
              "      <td>0.0</td>\n",
              "      <td>0.0</td>\n",
              "      <td>0.0</td>\n",
              "      <td>0.0</td>\n",
              "      <td>0.0</td>\n",
              "      <td>0.0</td>\n",
              "      <td>0.0</td>\n",
              "      <td>0.0</td>\n",
              "      <td>0.0</td>\n",
              "      <td>0.0</td>\n",
              "      <td>0.0</td>\n",
              "      <td>...</td>\n",
              "      <td>0.0</td>\n",
              "      <td>0.0</td>\n",
              "      <td>0.0</td>\n",
              "      <td>0.0</td>\n",
              "      <td>0.0</td>\n",
              "      <td>0.0</td>\n",
              "      <td>0.0</td>\n",
              "      <td>0.0</td>\n",
              "      <td>0.0</td>\n",
              "      <td>0.0</td>\n",
              "      <td>0.0</td>\n",
              "      <td>0.0</td>\n",
              "      <td>0.0</td>\n",
              "      <td>0.0</td>\n",
              "      <td>0.0</td>\n",
              "      <td>0.0</td>\n",
              "      <td>0.0</td>\n",
              "      <td>0.0</td>\n",
              "      <td>0.0</td>\n",
              "      <td>0.0</td>\n",
              "      <td>0.0</td>\n",
              "      <td>0.0</td>\n",
              "      <td>0.0</td>\n",
              "      <td>0.0</td>\n",
              "      <td>0.0</td>\n",
              "      <td>0.0</td>\n",
              "      <td>0.0</td>\n",
              "      <td>0.0</td>\n",
              "      <td>0.0</td>\n",
              "      <td>0.0</td>\n",
              "      <td>0.0</td>\n",
              "      <td>0.0</td>\n",
              "      <td>0.0</td>\n",
              "      <td>0.0</td>\n",
              "      <td>0.0</td>\n",
              "      <td>0.0</td>\n",
              "      <td>0.0</td>\n",
              "      <td>0.0</td>\n",
              "      <td>0.0</td>\n",
              "      <td>0.0</td>\n",
              "    </tr>\n",
              "    <tr>\n",
              "      <th>46115</th>\n",
              "      <td>2014</td>\n",
              "      <td>1</td>\n",
              "      <td>1</td>\n",
              "      <td>0.0</td>\n",
              "      <td>0.0</td>\n",
              "      <td>0.0</td>\n",
              "      <td>0.0</td>\n",
              "      <td>0.0</td>\n",
              "      <td>0.0</td>\n",
              "      <td>0.0</td>\n",
              "      <td>0.0</td>\n",
              "      <td>0.0</td>\n",
              "      <td>0.0</td>\n",
              "      <td>0.0</td>\n",
              "      <td>0.0</td>\n",
              "      <td>0.0</td>\n",
              "      <td>0.0</td>\n",
              "      <td>0.0</td>\n",
              "      <td>0.0</td>\n",
              "      <td>0.0</td>\n",
              "      <td>0.0</td>\n",
              "      <td>0.0</td>\n",
              "      <td>0.0</td>\n",
              "      <td>0.0</td>\n",
              "      <td>0.0</td>\n",
              "      <td>0.0</td>\n",
              "      <td>0.0</td>\n",
              "      <td>0.0</td>\n",
              "      <td>0.0</td>\n",
              "      <td>0.0</td>\n",
              "      <td>0.0</td>\n",
              "      <td>0.0</td>\n",
              "      <td>0.0</td>\n",
              "      <td>0.0</td>\n",
              "      <td>0.0</td>\n",
              "      <td>0.0</td>\n",
              "      <td>0.0</td>\n",
              "      <td>0.0</td>\n",
              "      <td>0.0</td>\n",
              "      <td>0.0</td>\n",
              "      <td>...</td>\n",
              "      <td>0.0</td>\n",
              "      <td>0.0</td>\n",
              "      <td>0.0</td>\n",
              "      <td>0.0</td>\n",
              "      <td>0.0</td>\n",
              "      <td>0.0</td>\n",
              "      <td>0.0</td>\n",
              "      <td>0.0</td>\n",
              "      <td>0.0</td>\n",
              "      <td>0.0</td>\n",
              "      <td>0.0</td>\n",
              "      <td>0.0</td>\n",
              "      <td>0.0</td>\n",
              "      <td>0.0</td>\n",
              "      <td>0.0</td>\n",
              "      <td>0.0</td>\n",
              "      <td>0.0</td>\n",
              "      <td>0.0</td>\n",
              "      <td>0.0</td>\n",
              "      <td>0.0</td>\n",
              "      <td>0.0</td>\n",
              "      <td>0.0</td>\n",
              "      <td>0.0</td>\n",
              "      <td>0.0</td>\n",
              "      <td>0.0</td>\n",
              "      <td>0.0</td>\n",
              "      <td>0.0</td>\n",
              "      <td>0.0</td>\n",
              "      <td>0.0</td>\n",
              "      <td>0.0</td>\n",
              "      <td>0.0</td>\n",
              "      <td>0.0</td>\n",
              "      <td>0.0</td>\n",
              "      <td>0.0</td>\n",
              "      <td>0.0</td>\n",
              "      <td>0.0</td>\n",
              "      <td>0.0</td>\n",
              "      <td>0.0</td>\n",
              "      <td>0.0</td>\n",
              "      <td>0.0</td>\n",
              "    </tr>\n",
              "  </tbody>\n",
              "</table>\n",
              "<p>46116 rows × 127 columns</p>\n",
              "</div>"
            ],
            "text/plain": [
              "       Year  Month  Day    0    1    2    3  ...  117  118  119  120  121  122  123\n",
              "0      2016      8   31  0.0  0.0  0.0  0.0  ...  0.0  0.0  0.0  0.0  0.0  0.0  0.0\n",
              "1      2016      8   31  0.0  0.0  0.0  0.0  ...  0.0  0.0  0.0  0.0  0.0  0.0  0.0\n",
              "2      2016      8   31  0.0  0.0  0.0  0.0  ...  0.0  0.0  0.0  0.0  0.0  0.0  0.0\n",
              "3      2016      8   31  0.0  0.0  0.0  0.0  ...  0.0  0.0  0.0  0.0  0.0  0.0  0.0\n",
              "4      2016      8   31  0.0  0.0  0.0  0.0  ...  0.0  0.0  0.0  0.0  0.0  0.0  0.0\n",
              "...     ...    ...  ...  ...  ...  ...  ...  ...  ...  ...  ...  ...  ...  ...  ...\n",
              "46111  2014      1    1  0.0  0.0  0.0  0.0  ...  0.0  0.0  0.0  0.0  0.0  0.0  0.0\n",
              "46112  2014      1    1  0.0  0.0  0.0  0.0  ...  0.0  0.0  0.0  0.0  0.0  0.0  0.0\n",
              "46113  2014      1    1  0.0  0.0  0.0  0.0  ...  0.0  0.0  0.0  0.0  0.0  0.0  0.0\n",
              "46114  2014      1    1  0.0  0.0  0.0  0.0  ...  0.0  0.0  0.0  0.0  0.0  0.0  0.0\n",
              "46115  2014      1    1  0.0  0.0  0.0  0.0  ...  0.0  0.0  0.0  0.0  0.0  0.0  0.0\n",
              "\n",
              "[46116 rows x 127 columns]"
            ]
          },
          "metadata": {
            "tags": []
          },
          "execution_count": 72
        }
      ]
    },
    {
      "cell_type": "code",
      "metadata": {
        "id": "vLG9MwN5EVE1"
      },
      "source": [
        "from sklearn.model_selection import train_test_split\n",
        "from sklearn.metrics import classification_report\n",
        "from sklearn.metrics import confusion_matrix\n",
        "from sklearn.metrics import roc_auc_score\n",
        "from sklearn.metrics import roc_curve\n",
        "from sklearn.metrics import r2_score\n",
        "\n",
        "X_train, X_test, y_train, y_test = train_test_split(X, y, test_size = 0.22, random_state = 1) # 75% training and 25% testing"
      ],
      "execution_count": 173,
      "outputs": []
    },
    {
      "cell_type": "markdown",
      "metadata": {
        "id": "nI4T2AmsEGmb"
      },
      "source": [
        "# Linear Regression"
      ]
    },
    {
      "cell_type": "code",
      "metadata": {
        "colab": {
          "base_uri": "https://localhost:8080/"
        },
        "id": "reLYYpAQ1pPy",
        "outputId": "cb054492-aa0f-40d5-d50f-8f11bf49cd52"
      },
      "source": [
        "from sklearn.linear_model import LinearRegression\n",
        "line = LinearRegression()\n",
        "print(cross_val_score(line, X, y, cv=5))"
      ],
      "execution_count": 191,
      "outputs": [
        {
          "output_type": "stream",
          "text": [
            "[ 0.17543247  0.60328014  0.71474696  0.46017006 -2.37120774]\n"
          ],
          "name": "stdout"
        }
      ]
    },
    {
      "cell_type": "code",
      "metadata": {
        "colab": {
          "base_uri": "https://localhost:8080/"
        },
        "id": "pQxNrvNk4XGF",
        "outputId": "946eb3f1-7217-4aac-d6c9-98d83a38e5a5"
      },
      "source": [
        "line.fit(X_train, y_train)\n",
        "line.coef_"
      ],
      "execution_count": 192,
      "outputs": [
        {
          "output_type": "execute_result",
          "data": {
            "text/plain": [
              "array([-7.13223463e+01, -3.75935270e+00, -1.98017864e-01, -1.91198835e+12,\n",
              "       -1.91198835e+12, -1.91198835e+12, -1.91198835e+12, -1.91198835e+12,\n",
              "       -1.91198835e+12, -1.91198835e+12, -1.91198835e+12, -1.91198835e+12,\n",
              "       -1.91198835e+12, -1.91198835e+12, -1.91198835e+12, -1.91198835e+12,\n",
              "       -1.91198835e+12, -1.91198835e+12, -1.91198835e+12, -1.91198835e+12,\n",
              "       -1.91198835e+12, -1.91198835e+12, -1.91198835e+12, -1.91198835e+12,\n",
              "       -1.91198835e+12, -1.91198835e+12, -1.91198835e+12, -1.91198835e+12,\n",
              "       -1.91198835e+12, -1.91198835e+12, -1.91198835e+12, -1.91198835e+12,\n",
              "       -1.91198835e+12, -1.91198835e+12, -1.91198835e+12, -1.91198835e+12,\n",
              "       -1.91198835e+12, -1.91198835e+12, -1.91198835e+12, -1.91198835e+12,\n",
              "       -1.91198834e+12, -1.91198835e+12, -1.91198835e+12, -1.91198835e+12,\n",
              "       -1.91198835e+12, -1.91198835e+12, -1.91198834e+12, -1.91198835e+12,\n",
              "       -1.91198835e+12, -1.91198835e+12, -1.91198835e+12, -1.91198835e+12,\n",
              "       -1.91198835e+12, -1.91198835e+12, -1.91198835e+12, -1.91198835e+12,\n",
              "       -1.91198835e+12, -1.91198835e+12, -1.91198835e+12, -1.91198835e+12,\n",
              "       -1.91198835e+12, -1.91198835e+12, -1.91198835e+12, -1.91198835e+12,\n",
              "       -1.91198835e+12, -1.91198835e+12, -1.91198835e+12, -1.91198835e+12,\n",
              "       -1.91198835e+12, -1.91198835e+12, -1.91198835e+12, -1.91198835e+12,\n",
              "       -1.91198835e+12, -1.91198835e+12, -1.91198835e+12, -1.91198835e+12,\n",
              "       -1.91198835e+12, -1.91198835e+12, -1.91198835e+12, -1.91198835e+12,\n",
              "       -1.91198835e+12, -1.91198835e+12, -1.91198835e+12, -1.91198835e+12,\n",
              "       -1.91198835e+12, -1.91198835e+12, -1.91198835e+12, -1.91198835e+12,\n",
              "       -1.91198835e+12, -1.91198835e+12, -1.91198835e+12, -1.91198835e+12,\n",
              "       -1.91198835e+12, -1.91198835e+12, -1.91198835e+12, -1.91198835e+12,\n",
              "       -1.91198835e+12, -1.91198835e+12, -1.91198835e+12, -1.91198835e+12,\n",
              "       -1.91198835e+12, -1.91198835e+12, -1.91198835e+12, -1.91198835e+12,\n",
              "       -1.91198835e+12, -1.91198835e+12, -1.91198835e+12, -1.91198835e+12,\n",
              "       -1.91198835e+12, -1.91198835e+12, -1.91198835e+12, -1.91198835e+12,\n",
              "       -1.91198835e+12, -1.91198835e+12, -1.91198835e+12, -1.91198835e+12,\n",
              "       -1.91198835e+12, -1.91198835e+12, -1.91198835e+12, -1.91198835e+12,\n",
              "       -1.91198835e+12, -1.91198835e+12, -1.91198835e+12, -1.91198835e+12,\n",
              "       -1.91198835e+12, -1.91198835e+12, -1.91198835e+12])"
            ]
          },
          "metadata": {
            "tags": []
          },
          "execution_count": 192
        }
      ]
    },
    {
      "cell_type": "code",
      "metadata": {
        "colab": {
          "base_uri": "https://localhost:8080/"
        },
        "id": "8yMwzWRXEo0V",
        "outputId": "6a739b61-01ca-4655-d3e8-5217affacbf1"
      },
      "source": [
        "predictions = line.predict(X_train)\n",
        "mse = metrics.mean_squared_error(y_train, predictions)\n",
        "print(\"Mean Squared Error = {}\".format(mse))\n",
        "print(\"R2 Score =\", r2_score(y_train, predictions))"
      ],
      "execution_count": 202,
      "outputs": [
        {
          "output_type": "stream",
          "text": [
            "Mean Squared Error = 33449.12446231455\n",
            "R2 Score = 0.6797062031150136\n"
          ],
          "name": "stdout"
        }
      ]
    },
    {
      "cell_type": "code",
      "metadata": {
        "colab": {
          "base_uri": "https://localhost:8080/",
          "height": 639
        },
        "id": "uiuRjhBsEPac",
        "outputId": "e6f53605-5fab-4932-ffc2-31599fb82712"
      },
      "source": [
        "plt. figure(figsize=(15,10))\n",
        "plt.scatter(y_train, predictions)\n",
        "plt.xlabel('Actual')\n",
        "plt. ylabel( 'Predicted')\n",
        "plt.title('Actual vs. Predicted')"
      ],
      "execution_count": 205,
      "outputs": [
        {
          "output_type": "execute_result",
          "data": {
            "text/plain": [
              "Text(0.5, 1.0, 'Actual vs. Predicted')"
            ]
          },
          "metadata": {
            "tags": []
          },
          "execution_count": 205
        },
        {
          "output_type": "display_data",
          "data": {
            "image/png": "[encoded data removed]",
            "text/plain": [
              "<Figure size 1080x720 with 1 Axes>"
            ]
          },
          "metadata": {
            "tags": [],
            "needs_background": "light"
          }
        }
      ]
    },
    {
      "cell_type": "code",
      "metadata": {
        "colab": {
          "base_uri": "https://localhost:8080/",
          "height": 265
        },
        "id": "Zig-DGhvDJr0",
        "outputId": "dc6aaffa-8d29-4a29-e8bf-8d756d51a2be"
      },
      "source": [
        "plt.plot(y_train, predictions, label='Linear Regression', color='b')\n",
        "plt.show()"
      ],
      "execution_count": 207,
      "outputs": [
        {
          "output_type": "display_data",
          "data": {
            "image/png": "[encoded data removed]",
            "text/plain": [
              "<Figure size 432x288 with 1 Axes>"
            ]
          },
          "metadata": {
            "tags": [],
            "needs_background": "light"
          }
        }
      ]
    },
    {
      "cell_type": "code",
      "metadata": {
        "colab": {
          "base_uri": "https://localhost:8080/"
        },
        "id": "HBfSLOO8rjuJ",
        "outputId": "3b43ea13-08e7-4a0e-fd0d-39a0ffe1f824"
      },
      "source": [
        "predictions = line.predict(X_test)\n",
        "mse = metrics.mean_squared_error(y_test, predictions)\n",
        "print(\"Mean Squared Error = {}\".format(mse))\n",
        "print(\"R2 Score =\", r2_score(y_test, predictions))"
      ],
      "execution_count": 209,
      "outputs": [
        {
          "output_type": "stream",
          "text": [
            "Mean Squared Error = 28068.476521225763\n",
            "R2 Score = 0.6530129057781016\n"
          ],
          "name": "stdout"
        }
      ]
    },
    {
      "cell_type": "code",
      "metadata": {
        "colab": {
          "base_uri": "https://localhost:8080/",
          "height": 639
        },
        "id": "VjxJtHAKE8pS",
        "outputId": "7fd023f4-2f26-4cf5-c332-eca613ff3a21"
      },
      "source": [
        "plt. figure(figsize=(15,10))\n",
        "plt.scatter(y_test, predictions)\n",
        "plt.xlabel('Actual')\n",
        "plt. ylabel( 'Predicted')\n",
        "plt.title('Actual vs. Predicted')"
      ],
      "execution_count": 210,
      "outputs": [
        {
          "output_type": "execute_result",
          "data": {
            "text/plain": [
              "Text(0.5, 1.0, 'Actual vs. Predicted')"
            ]
          },
          "metadata": {
            "tags": []
          },
          "execution_count": 210
        },
        {
          "output_type": "display_data",
          "data": {
            "image/png": "[encoded data removed]",
            "text/plain": [
              "<Figure size 1080x720 with 1 Axes>"
            ]
          },
          "metadata": {
            "tags": [],
            "needs_background": "light"
          }
        }
      ]
    },
    {
      "cell_type": "code",
      "metadata": {
        "colab": {
          "base_uri": "https://localhost:8080/",
          "height": 265
        },
        "id": "EDfdYRYo7J6G",
        "outputId": "064ddff5-96f8-4f3c-bf5a-56c2f0efa40d"
      },
      "source": [
        "plt.plot(y_test, predictions, label='Linear Regression', color='b')\n",
        "plt.show() "
      ],
      "execution_count": 211,
      "outputs": [
        {
          "output_type": "display_data",
          "data": {
            "image/png": "[encoded data removed]",
            "text/plain": [
              "<Figure size 432x288 with 1 Axes>"
            ]
          },
          "metadata": {
            "tags": [],
            "needs_background": "light"
          }
        }
      ]
    }
  ]
}