{
  "nbformat": 4,
  "nbformat_minor": 0,
  "metadata": {
    "colab": {
      "name": "Regression_Task_Daily_Demand_Task.ipynb",
      "provenance": [],
      "authorship_tag": "ABX9TyMPEGwQ528QT368G9dqFFNI",
      "include_colab_link": true
    },
    "kernelspec": {
      "name": "python3",
      "display_name": "Python 3"
    },
    "language_info": {
      "name": "python"
    }
  },
  "cells": [
    {
      "cell_type": "markdown",
      "metadata": {
        "id": "view-in-github",
        "colab_type": "text"
      },
      "source": [
        "<a href=\"https://colab.research.google.com/github/nahidosen/1821168042_CSE445_Spring21/blob/main/Regression_Task_Daily_Demand_Task.ipynb\" target=\"_parent\"><img src=\"https://colab.research.google.com/assets/colab-badge.svg\" alt=\"Open In Colab\"/></a>"
      ]
    },
    {
      "cell_type": "markdown",
      "metadata": {
        "id": "d0cWNAeY8Occ"
      },
      "source": [
        "\n",
        "e) Exploratory Data Analysis (EDA) and all the necessary data preparation\n",
        "\n",
        "f) Use any of the regression methods to build a predictor for predicting the daily demand of TV Models.\n",
        "\n",
        "g) Use proper evaluation parameters that have been discussed in the class to evaluate your result.\n",
        "\n",
        "h) Submit your code in an ipython notebook format in your Github repository and generate a report describing all of the above mentioned."
      ]
    },
    {
      "cell_type": "code",
      "metadata": {
        "colab": {
          "base_uri": "https://localhost:8080/"
        },
        "id": "_SM07sNe72K0",
        "outputId": "0918913d-1fb4-4f30-cd0c-b9585cc9b5bb"
      },
      "source": [
        "!pip install scikit-plot"
      ],
      "execution_count": 73,
      "outputs": [
        {
          "output_type": "stream",
          "text": [
            "Requirement already satisfied: scikit-plot in /usr/local/lib/python3.7/dist-packages (0.3.7)\n",
            "Requirement already satisfied: scipy>=0.9 in /usr/local/lib/python3.7/dist-packages (from scikit-plot) (1.4.1)\n",
            "Requirement already satisfied: scikit-learn>=0.18 in /usr/local/lib/python3.7/dist-packages (from scikit-plot) (0.22.2.post1)\n",
            "Requirement already satisfied: joblib>=0.10 in /usr/local/lib/python3.7/dist-packages (from scikit-plot) (1.0.1)\n",
            "Requirement already satisfied: matplotlib>=1.4.0 in /usr/local/lib/python3.7/dist-packages (from scikit-plot) (3.2.2)\n",
            "Requirement already satisfied: numpy>=1.13.3 in /usr/local/lib/python3.7/dist-packages (from scipy>=0.9->scikit-plot) (1.19.5)\n",
            "Requirement already satisfied: python-dateutil>=2.1 in /usr/local/lib/python3.7/dist-packages (from matplotlib>=1.4.0->scikit-plot) (2.8.1)\n",
            "Requirement already satisfied: kiwisolver>=1.0.1 in /usr/local/lib/python3.7/dist-packages (from matplotlib>=1.4.0->scikit-plot) (1.3.1)\n",
            "Requirement already satisfied: cycler>=0.10 in /usr/local/lib/python3.7/dist-packages (from matplotlib>=1.4.0->scikit-plot) (0.10.0)\n",
            "Requirement already satisfied: pyparsing!=2.0.4,!=2.1.2,!=2.1.6,>=2.0.1 in /usr/local/lib/python3.7/dist-packages (from matplotlib>=1.4.0->scikit-plot) (2.4.7)\n",
            "Requirement already satisfied: six>=1.5 in /usr/local/lib/python3.7/dist-packages (from python-dateutil>=2.1->matplotlib>=1.4.0->scikit-plot) (1.15.0)\n"
          ],
          "name": "stdout"
        }
      ]
    },
    {
      "cell_type": "code",
      "metadata": {
        "id": "3baFNrvsY1fq"
      },
      "source": [
        "# Importing necessary packages\n",
        "\n",
        "import pandas as pd\n",
        "import numpy as np\n",
        "import matplotlib.pyplot as plt\n",
        "import seaborn as sns\n",
        "import scikitplot as skplt\n",
        "from sklearn.impute import SimpleImputer\n",
        "from sklearn import metrics"
      ],
      "execution_count": 74,
      "outputs": []
    },
    {
      "cell_type": "code",
      "metadata": {
        "id": "M0rssDCcY5T6"
      },
      "source": [
        "# Importing dataset csv file\n",
        "\n",
        "tv_data = 'https://raw.githubusercontent.com/nahidosen/1821168042_CSE445_Spring21/main/datasets/tv_sale.csv?token=ASXWIV7AIZ7IMA4TYPVGNCLAVJNYC'\n",
        "tv_df = pd.read_csv(tv_data)"
      ],
      "execution_count": 95,
      "outputs": []
    },
    {
      "cell_type": "code",
      "metadata": {
        "colab": {
          "base_uri": "https://localhost:8080/",
          "height": 407
        },
        "id": "taJ5ol27anx2",
        "outputId": "412afcad-740d-42ce-a304-8b6a6d9ca9c1"
      },
      "source": [
        "tv_df"
      ],
      "execution_count": 76,
      "outputs": [
        {
          "output_type": "execute_result",
          "data": {
            "text/html": [
              "<div>\n",
              "<style scoped>\n",
              "    .dataframe tbody tr th:only-of-type {\n",
              "        vertical-align: middle;\n",
              "    }\n",
              "\n",
              "    .dataframe tbody tr th {\n",
              "        vertical-align: top;\n",
              "    }\n",
              "\n",
              "    .dataframe thead th {\n",
              "        text-align: right;\n",
              "    }\n",
              "</style>\n",
              "<table border=\"1\" class=\"dataframe\">\n",
              "  <thead>\n",
              "    <tr style=\"text-align: right;\">\n",
              "      <th></th>\n",
              "      <th>Date</th>\n",
              "      <th>Model</th>\n",
              "      <th>Count</th>\n",
              "    </tr>\n",
              "  </thead>\n",
              "  <tbody>\n",
              "    <tr>\n",
              "      <th>0</th>\n",
              "      <td>31-Aug-16</td>\n",
              "      <td>M45</td>\n",
              "      <td>5</td>\n",
              "    </tr>\n",
              "    <tr>\n",
              "      <th>1</th>\n",
              "      <td>31-Aug-16</td>\n",
              "      <td>M121</td>\n",
              "      <td>3</td>\n",
              "    </tr>\n",
              "    <tr>\n",
              "      <th>2</th>\n",
              "      <td>31-Aug-16</td>\n",
              "      <td>M122</td>\n",
              "      <td>4</td>\n",
              "    </tr>\n",
              "    <tr>\n",
              "      <th>3</th>\n",
              "      <td>31-Aug-16</td>\n",
              "      <td>M91</td>\n",
              "      <td>10</td>\n",
              "    </tr>\n",
              "    <tr>\n",
              "      <th>4</th>\n",
              "      <td>31-Aug-16</td>\n",
              "      <td>M66</td>\n",
              "      <td>57</td>\n",
              "    </tr>\n",
              "    <tr>\n",
              "      <th>...</th>\n",
              "      <td>...</td>\n",
              "      <td>...</td>\n",
              "      <td>...</td>\n",
              "    </tr>\n",
              "    <tr>\n",
              "      <th>46111</th>\n",
              "      <td>01-Jan-14</td>\n",
              "      <td>M74</td>\n",
              "      <td>1</td>\n",
              "    </tr>\n",
              "    <tr>\n",
              "      <th>46112</th>\n",
              "      <td>01-Jan-14</td>\n",
              "      <td>M59</td>\n",
              "      <td>1</td>\n",
              "    </tr>\n",
              "    <tr>\n",
              "      <th>46113</th>\n",
              "      <td>01-Jan-14</td>\n",
              "      <td>M60</td>\n",
              "      <td>5</td>\n",
              "    </tr>\n",
              "    <tr>\n",
              "      <th>46114</th>\n",
              "      <td>01-Jan-14</td>\n",
              "      <td>M54</td>\n",
              "      <td>1</td>\n",
              "    </tr>\n",
              "    <tr>\n",
              "      <th>46115</th>\n",
              "      <td>01-Jan-14</td>\n",
              "      <td>M58</td>\n",
              "      <td>1</td>\n",
              "    </tr>\n",
              "  </tbody>\n",
              "</table>\n",
              "<p>46116 rows × 3 columns</p>\n",
              "</div>"
            ],
            "text/plain": [
              "            Date Model  Count\n",
              "0      31-Aug-16   M45      5\n",
              "1      31-Aug-16  M121      3\n",
              "2      31-Aug-16  M122      4\n",
              "3      31-Aug-16   M91     10\n",
              "4      31-Aug-16   M66     57\n",
              "...          ...   ...    ...\n",
              "46111  01-Jan-14   M74      1\n",
              "46112  01-Jan-14   M59      1\n",
              "46113  01-Jan-14   M60      5\n",
              "46114  01-Jan-14   M54      1\n",
              "46115  01-Jan-14   M58      1\n",
              "\n",
              "[46116 rows x 3 columns]"
            ]
          },
          "metadata": {
            "tags": []
          },
          "execution_count": 76
        }
      ]
    },
    {
      "cell_type": "code",
      "metadata": {
        "colab": {
          "base_uri": "https://localhost:8080/",
          "height": 948
        },
        "id": "vbNiGGZnm8eS",
        "outputId": "8c88cba0-2e84-4567-945a-8ad7f9e3c2f9"
      },
      "source": [
        "tv_df.head(30)"
      ],
      "execution_count": 77,
      "outputs": [
        {
          "output_type": "execute_result",
          "data": {
            "text/html": [
              "<div>\n",
              "<style scoped>\n",
              "    .dataframe tbody tr th:only-of-type {\n",
              "        vertical-align: middle;\n",
              "    }\n",
              "\n",
              "    .dataframe tbody tr th {\n",
              "        vertical-align: top;\n",
              "    }\n",
              "\n",
              "    .dataframe thead th {\n",
              "        text-align: right;\n",
              "    }\n",
              "</style>\n",
              "<table border=\"1\" class=\"dataframe\">\n",
              "  <thead>\n",
              "    <tr style=\"text-align: right;\">\n",
              "      <th></th>\n",
              "      <th>Date</th>\n",
              "      <th>Model</th>\n",
              "      <th>Count</th>\n",
              "    </tr>\n",
              "  </thead>\n",
              "  <tbody>\n",
              "    <tr>\n",
              "      <th>0</th>\n",
              "      <td>31-Aug-16</td>\n",
              "      <td>M45</td>\n",
              "      <td>5</td>\n",
              "    </tr>\n",
              "    <tr>\n",
              "      <th>1</th>\n",
              "      <td>31-Aug-16</td>\n",
              "      <td>M121</td>\n",
              "      <td>3</td>\n",
              "    </tr>\n",
              "    <tr>\n",
              "      <th>2</th>\n",
              "      <td>31-Aug-16</td>\n",
              "      <td>M122</td>\n",
              "      <td>4</td>\n",
              "    </tr>\n",
              "    <tr>\n",
              "      <th>3</th>\n",
              "      <td>31-Aug-16</td>\n",
              "      <td>M91</td>\n",
              "      <td>10</td>\n",
              "    </tr>\n",
              "    <tr>\n",
              "      <th>4</th>\n",
              "      <td>31-Aug-16</td>\n",
              "      <td>M66</td>\n",
              "      <td>57</td>\n",
              "    </tr>\n",
              "    <tr>\n",
              "      <th>5</th>\n",
              "      <td>31-Aug-16</td>\n",
              "      <td>M100</td>\n",
              "      <td>59</td>\n",
              "    </tr>\n",
              "    <tr>\n",
              "      <th>6</th>\n",
              "      <td>31-Aug-16</td>\n",
              "      <td>M5</td>\n",
              "      <td>17</td>\n",
              "    </tr>\n",
              "    <tr>\n",
              "      <th>7</th>\n",
              "      <td>31-Aug-16</td>\n",
              "      <td>M14</td>\n",
              "      <td>653</td>\n",
              "    </tr>\n",
              "    <tr>\n",
              "      <th>8</th>\n",
              "      <td>31-Aug-16</td>\n",
              "      <td>M62</td>\n",
              "      <td>8</td>\n",
              "    </tr>\n",
              "    <tr>\n",
              "      <th>9</th>\n",
              "      <td>31-Aug-16</td>\n",
              "      <td>M15</td>\n",
              "      <td>25</td>\n",
              "    </tr>\n",
              "    <tr>\n",
              "      <th>10</th>\n",
              "      <td>31-Aug-16</td>\n",
              "      <td>M61</td>\n",
              "      <td>3</td>\n",
              "    </tr>\n",
              "    <tr>\n",
              "      <th>11</th>\n",
              "      <td>31-Aug-16</td>\n",
              "      <td>M82</td>\n",
              "      <td>42</td>\n",
              "    </tr>\n",
              "    <tr>\n",
              "      <th>12</th>\n",
              "      <td>31-Aug-16</td>\n",
              "      <td>M108</td>\n",
              "      <td>4</td>\n",
              "    </tr>\n",
              "    <tr>\n",
              "      <th>13</th>\n",
              "      <td>31-Aug-16</td>\n",
              "      <td>M55</td>\n",
              "      <td>1</td>\n",
              "    </tr>\n",
              "    <tr>\n",
              "      <th>14</th>\n",
              "      <td>31-Aug-16</td>\n",
              "      <td>M43</td>\n",
              "      <td>1</td>\n",
              "    </tr>\n",
              "    <tr>\n",
              "      <th>15</th>\n",
              "      <td>31-Aug-16</td>\n",
              "      <td>M31</td>\n",
              "      <td>23</td>\n",
              "    </tr>\n",
              "    <tr>\n",
              "      <th>16</th>\n",
              "      <td>31-Aug-16</td>\n",
              "      <td>M90</td>\n",
              "      <td>31</td>\n",
              "    </tr>\n",
              "    <tr>\n",
              "      <th>17</th>\n",
              "      <td>31-Aug-16</td>\n",
              "      <td>M96</td>\n",
              "      <td>19</td>\n",
              "    </tr>\n",
              "    <tr>\n",
              "      <th>18</th>\n",
              "      <td>31-Aug-16</td>\n",
              "      <td>M69</td>\n",
              "      <td>1</td>\n",
              "    </tr>\n",
              "    <tr>\n",
              "      <th>19</th>\n",
              "      <td>31-Aug-16</td>\n",
              "      <td>M76</td>\n",
              "      <td>4</td>\n",
              "    </tr>\n",
              "    <tr>\n",
              "      <th>20</th>\n",
              "      <td>31-Aug-16</td>\n",
              "      <td>M56</td>\n",
              "      <td>2</td>\n",
              "    </tr>\n",
              "    <tr>\n",
              "      <th>21</th>\n",
              "      <td>31-Aug-16</td>\n",
              "      <td>M92</td>\n",
              "      <td>2</td>\n",
              "    </tr>\n",
              "    <tr>\n",
              "      <th>22</th>\n",
              "      <td>31-Aug-16</td>\n",
              "      <td>M72</td>\n",
              "      <td>15</td>\n",
              "    </tr>\n",
              "    <tr>\n",
              "      <th>23</th>\n",
              "      <td>31-Aug-16</td>\n",
              "      <td>M94</td>\n",
              "      <td>1</td>\n",
              "    </tr>\n",
              "    <tr>\n",
              "      <th>24</th>\n",
              "      <td>31-Aug-16</td>\n",
              "      <td>M8</td>\n",
              "      <td>189</td>\n",
              "    </tr>\n",
              "    <tr>\n",
              "      <th>25</th>\n",
              "      <td>31-Aug-16</td>\n",
              "      <td>M97</td>\n",
              "      <td>3</td>\n",
              "    </tr>\n",
              "    <tr>\n",
              "      <th>26</th>\n",
              "      <td>31-Aug-16</td>\n",
              "      <td>M71</td>\n",
              "      <td>5</td>\n",
              "    </tr>\n",
              "    <tr>\n",
              "      <th>27</th>\n",
              "      <td>31-Aug-16</td>\n",
              "      <td>M57</td>\n",
              "      <td>2</td>\n",
              "    </tr>\n",
              "    <tr>\n",
              "      <th>28</th>\n",
              "      <td>31-Aug-16</td>\n",
              "      <td>M107</td>\n",
              "      <td>8</td>\n",
              "    </tr>\n",
              "    <tr>\n",
              "      <th>29</th>\n",
              "      <td>31-Aug-16</td>\n",
              "      <td>M99</td>\n",
              "      <td>2</td>\n",
              "    </tr>\n",
              "  </tbody>\n",
              "</table>\n",
              "</div>"
            ],
            "text/plain": [
              "         Date Model  Count\n",
              "0   31-Aug-16   M45      5\n",
              "1   31-Aug-16  M121      3\n",
              "2   31-Aug-16  M122      4\n",
              "3   31-Aug-16   M91     10\n",
              "4   31-Aug-16   M66     57\n",
              "5   31-Aug-16  M100     59\n",
              "6   31-Aug-16    M5     17\n",
              "7   31-Aug-16   M14    653\n",
              "8   31-Aug-16   M62      8\n",
              "9   31-Aug-16   M15     25\n",
              "10  31-Aug-16   M61      3\n",
              "11  31-Aug-16   M82     42\n",
              "12  31-Aug-16  M108      4\n",
              "13  31-Aug-16   M55      1\n",
              "14  31-Aug-16   M43      1\n",
              "15  31-Aug-16   M31     23\n",
              "16  31-Aug-16   M90     31\n",
              "17  31-Aug-16   M96     19\n",
              "18  31-Aug-16   M69      1\n",
              "19  31-Aug-16   M76      4\n",
              "20  31-Aug-16   M56      2\n",
              "21  31-Aug-16   M92      2\n",
              "22  31-Aug-16   M72     15\n",
              "23  31-Aug-16   M94      1\n",
              "24  31-Aug-16    M8    189\n",
              "25  31-Aug-16   M97      3\n",
              "26  31-Aug-16   M71      5\n",
              "27  31-Aug-16   M57      2\n",
              "28  31-Aug-16  M107      8\n",
              "29  31-Aug-16   M99      2"
            ]
          },
          "metadata": {
            "tags": []
          },
          "execution_count": 77
        }
      ]
    },
    {
      "cell_type": "code",
      "metadata": {
        "colab": {
          "base_uri": "https://localhost:8080/"
        },
        "id": "I-TldF3Ca3kh",
        "outputId": "db348386-c295-40fc-ea3b-e637d8188f3f"
      },
      "source": [
        "tv_df.info()"
      ],
      "execution_count": 78,
      "outputs": [
        {
          "output_type": "stream",
          "text": [
            "<class 'pandas.core.frame.DataFrame'>\n",
            "RangeIndex: 46116 entries, 0 to 46115\n",
            "Data columns (total 3 columns):\n",
            " #   Column  Non-Null Count  Dtype \n",
            "---  ------  --------------  ----- \n",
            " 0   Date    46116 non-null  object\n",
            " 1   Model   46116 non-null  object\n",
            " 2   Count   46116 non-null  int64 \n",
            "dtypes: int64(1), object(2)\n",
            "memory usage: 1.1+ MB\n"
          ],
          "name": "stdout"
        }
      ]
    },
    {
      "cell_type": "code",
      "metadata": {
        "colab": {
          "base_uri": "https://localhost:8080/",
          "height": 288
        },
        "id": "NM70d6kZcWjK",
        "outputId": "becd92a7-c745-4f45-b754-c9a7b7e61d9d"
      },
      "source": [
        "tv_df.describe()"
      ],
      "execution_count": 79,
      "outputs": [
        {
          "output_type": "execute_result",
          "data": {
            "text/html": [
              "<div>\n",
              "<style scoped>\n",
              "    .dataframe tbody tr th:only-of-type {\n",
              "        vertical-align: middle;\n",
              "    }\n",
              "\n",
              "    .dataframe tbody tr th {\n",
              "        vertical-align: top;\n",
              "    }\n",
              "\n",
              "    .dataframe thead th {\n",
              "        text-align: right;\n",
              "    }\n",
              "</style>\n",
              "<table border=\"1\" class=\"dataframe\">\n",
              "  <thead>\n",
              "    <tr style=\"text-align: right;\">\n",
              "      <th></th>\n",
              "      <th>Count</th>\n",
              "    </tr>\n",
              "  </thead>\n",
              "  <tbody>\n",
              "    <tr>\n",
              "      <th>count</th>\n",
              "      <td>46116.000000</td>\n",
              "    </tr>\n",
              "    <tr>\n",
              "      <th>mean</th>\n",
              "      <td>96.690108</td>\n",
              "    </tr>\n",
              "    <tr>\n",
              "      <th>std</th>\n",
              "      <td>315.065946</td>\n",
              "    </tr>\n",
              "    <tr>\n",
              "      <th>min</th>\n",
              "      <td>1.000000</td>\n",
              "    </tr>\n",
              "    <tr>\n",
              "      <th>25%</th>\n",
              "      <td>3.000000</td>\n",
              "    </tr>\n",
              "    <tr>\n",
              "      <th>50%</th>\n",
              "      <td>14.000000</td>\n",
              "    </tr>\n",
              "    <tr>\n",
              "      <th>75%</th>\n",
              "      <td>67.000000</td>\n",
              "    </tr>\n",
              "    <tr>\n",
              "      <th>max</th>\n",
              "      <td>6678.000000</td>\n",
              "    </tr>\n",
              "  </tbody>\n",
              "</table>\n",
              "</div>"
            ],
            "text/plain": [
              "              Count\n",
              "count  46116.000000\n",
              "mean      96.690108\n",
              "std      315.065946\n",
              "min        1.000000\n",
              "25%        3.000000\n",
              "50%       14.000000\n",
              "75%       67.000000\n",
              "max     6678.000000"
            ]
          },
          "metadata": {
            "tags": []
          },
          "execution_count": 79
        }
      ]
    },
    {
      "cell_type": "code",
      "metadata": {
        "colab": {
          "base_uri": "https://localhost:8080/"
        },
        "id": "xFTlwjama8HZ",
        "outputId": "1fd5c85c-d3bf-47ee-98b8-63d005724c3f"
      },
      "source": [
        "tv_df.isnull().sum()"
      ],
      "execution_count": 80,
      "outputs": [
        {
          "output_type": "execute_result",
          "data": {
            "text/plain": [
              "Date     0\n",
              "Model    0\n",
              "Count    0\n",
              "dtype: int64"
            ]
          },
          "metadata": {
            "tags": []
          },
          "execution_count": 80
        }
      ]
    },
    {
      "cell_type": "code",
      "metadata": {
        "colab": {
          "base_uri": "https://localhost:8080/"
        },
        "id": "fvkEAuLlbCuR",
        "outputId": "d614fd8b-9904-4974-ab1c-5fedd861ba97"
      },
      "source": [
        "tv_df.nunique()"
      ],
      "execution_count": 81,
      "outputs": [
        {
          "output_type": "execute_result",
          "data": {
            "text/plain": [
              "Date      971\n",
              "Model     124\n",
              "Count    1191\n",
              "dtype: int64"
            ]
          },
          "metadata": {
            "tags": []
          },
          "execution_count": 81
        }
      ]
    },
    {
      "cell_type": "code",
      "metadata": {
        "id": "GqcLgFqtq5X9"
      },
      "source": [
        "tv_df['Date'] = pd.to_datetime(tv_df['Date'])"
      ],
      "execution_count": 101,
      "outputs": []
    },
    {
      "cell_type": "code",
      "metadata": {
        "id": "W-FaGQy_tCTJ"
      },
      "source": [
        "tv_df['Year'] = tv_df['Date'].dt.year\n",
        "tv_df['Month'] = tv_df['Date'].dt.month\n",
        "tv_df['Day'] = tv_df['Date'].dt.day"
      ],
      "execution_count": 102,
      "outputs": []
    },
    {
      "cell_type": "code",
      "metadata": {
        "colab": {
          "base_uri": "https://localhost:8080/"
        },
        "id": "j5m6wvjBd2j8",
        "outputId": "48a7610e-8bc8-4140-bf06-0a1375fdef5a"
      },
      "source": [
        "tv_df.columns"
      ],
      "execution_count": 103,
      "outputs": [
        {
          "output_type": "execute_result",
          "data": {
            "text/plain": [
              "Index(['Date', 'Model', 'Count', 'Year', 'Month', 'Day'], dtype='object')"
            ]
          },
          "metadata": {
            "tags": []
          },
          "execution_count": 103
        }
      ]
    },
    {
      "cell_type": "code",
      "metadata": {
        "colab": {
          "base_uri": "https://localhost:8080/"
        },
        "id": "6-OqFJzzUJIR",
        "outputId": "105a2b29-e952-4d6c-bb87-1815e2cb1aa0"
      },
      "source": [
        "tv_df.info()"
      ],
      "execution_count": 127,
      "outputs": [
        {
          "output_type": "stream",
          "text": [
            "<class 'pandas.core.frame.DataFrame'>\n",
            "RangeIndex: 46116 entries, 0 to 46115\n",
            "Data columns (total 6 columns):\n",
            " #   Column  Non-Null Count  Dtype         \n",
            "---  ------  --------------  -----         \n",
            " 0   Date    46116 non-null  datetime64[ns]\n",
            " 1   Model   46116 non-null  object        \n",
            " 2   Count   46116 non-null  int64         \n",
            " 3   Year    46116 non-null  int64         \n",
            " 4   Month   46116 non-null  int64         \n",
            " 5   Day     46116 non-null  int64         \n",
            "dtypes: datetime64[ns](1), int64(4), object(1)\n",
            "memory usage: 2.1+ MB\n"
          ],
          "name": "stdout"
        }
      ]
    },
    {
      "cell_type": "code",
      "metadata": {
        "colab": {
          "base_uri": "https://localhost:8080/",
          "height": 407
        },
        "id": "YJj_-jAVtuEu",
        "outputId": "8d64e452-b3dc-44b2-e437-2225842207c8"
      },
      "source": [
        "tv_df"
      ],
      "execution_count": 104,
      "outputs": [
        {
          "output_type": "execute_result",
          "data": {
            "text/html": [
              "<div>\n",
              "<style scoped>\n",
              "    .dataframe tbody tr th:only-of-type {\n",
              "        vertical-align: middle;\n",
              "    }\n",
              "\n",
              "    .dataframe tbody tr th {\n",
              "        vertical-align: top;\n",
              "    }\n",
              "\n",
              "    .dataframe thead th {\n",
              "        text-align: right;\n",
              "    }\n",
              "</style>\n",
              "<table border=\"1\" class=\"dataframe\">\n",
              "  <thead>\n",
              "    <tr style=\"text-align: right;\">\n",
              "      <th></th>\n",
              "      <th>Date</th>\n",
              "      <th>Model</th>\n",
              "      <th>Count</th>\n",
              "      <th>Year</th>\n",
              "      <th>Month</th>\n",
              "      <th>Day</th>\n",
              "    </tr>\n",
              "  </thead>\n",
              "  <tbody>\n",
              "    <tr>\n",
              "      <th>0</th>\n",
              "      <td>2016-08-31</td>\n",
              "      <td>M45</td>\n",
              "      <td>5</td>\n",
              "      <td>2016</td>\n",
              "      <td>8</td>\n",
              "      <td>31</td>\n",
              "    </tr>\n",
              "    <tr>\n",
              "      <th>1</th>\n",
              "      <td>2016-08-31</td>\n",
              "      <td>M121</td>\n",
              "      <td>3</td>\n",
              "      <td>2016</td>\n",
              "      <td>8</td>\n",
              "      <td>31</td>\n",
              "    </tr>\n",
              "    <tr>\n",
              "      <th>2</th>\n",
              "      <td>2016-08-31</td>\n",
              "      <td>M122</td>\n",
              "      <td>4</td>\n",
              "      <td>2016</td>\n",
              "      <td>8</td>\n",
              "      <td>31</td>\n",
              "    </tr>\n",
              "    <tr>\n",
              "      <th>3</th>\n",
              "      <td>2016-08-31</td>\n",
              "      <td>M91</td>\n",
              "      <td>10</td>\n",
              "      <td>2016</td>\n",
              "      <td>8</td>\n",
              "      <td>31</td>\n",
              "    </tr>\n",
              "    <tr>\n",
              "      <th>4</th>\n",
              "      <td>2016-08-31</td>\n",
              "      <td>M66</td>\n",
              "      <td>57</td>\n",
              "      <td>2016</td>\n",
              "      <td>8</td>\n",
              "      <td>31</td>\n",
              "    </tr>\n",
              "    <tr>\n",
              "      <th>...</th>\n",
              "      <td>...</td>\n",
              "      <td>...</td>\n",
              "      <td>...</td>\n",
              "      <td>...</td>\n",
              "      <td>...</td>\n",
              "      <td>...</td>\n",
              "    </tr>\n",
              "    <tr>\n",
              "      <th>46111</th>\n",
              "      <td>2014-01-01</td>\n",
              "      <td>M74</td>\n",
              "      <td>1</td>\n",
              "      <td>2014</td>\n",
              "      <td>1</td>\n",
              "      <td>1</td>\n",
              "    </tr>\n",
              "    <tr>\n",
              "      <th>46112</th>\n",
              "      <td>2014-01-01</td>\n",
              "      <td>M59</td>\n",
              "      <td>1</td>\n",
              "      <td>2014</td>\n",
              "      <td>1</td>\n",
              "      <td>1</td>\n",
              "    </tr>\n",
              "    <tr>\n",
              "      <th>46113</th>\n",
              "      <td>2014-01-01</td>\n",
              "      <td>M60</td>\n",
              "      <td>5</td>\n",
              "      <td>2014</td>\n",
              "      <td>1</td>\n",
              "      <td>1</td>\n",
              "    </tr>\n",
              "    <tr>\n",
              "      <th>46114</th>\n",
              "      <td>2014-01-01</td>\n",
              "      <td>M54</td>\n",
              "      <td>1</td>\n",
              "      <td>2014</td>\n",
              "      <td>1</td>\n",
              "      <td>1</td>\n",
              "    </tr>\n",
              "    <tr>\n",
              "      <th>46115</th>\n",
              "      <td>2014-01-01</td>\n",
              "      <td>M58</td>\n",
              "      <td>1</td>\n",
              "      <td>2014</td>\n",
              "      <td>1</td>\n",
              "      <td>1</td>\n",
              "    </tr>\n",
              "  </tbody>\n",
              "</table>\n",
              "<p>46116 rows × 6 columns</p>\n",
              "</div>"
            ],
            "text/plain": [
              "            Date Model  Count  Year  Month  Day\n",
              "0     2016-08-31   M45      5  2016      8   31\n",
              "1     2016-08-31  M121      3  2016      8   31\n",
              "2     2016-08-31  M122      4  2016      8   31\n",
              "3     2016-08-31   M91     10  2016      8   31\n",
              "4     2016-08-31   M66     57  2016      8   31\n",
              "...          ...   ...    ...   ...    ...  ...\n",
              "46111 2014-01-01   M74      1  2014      1    1\n",
              "46112 2014-01-01   M59      1  2014      1    1\n",
              "46113 2014-01-01   M60      5  2014      1    1\n",
              "46114 2014-01-01   M54      1  2014      1    1\n",
              "46115 2014-01-01   M58      1  2014      1    1\n",
              "\n",
              "[46116 rows x 6 columns]"
            ]
          },
          "metadata": {
            "tags": []
          },
          "execution_count": 104
        }
      ]
    },
    {
      "cell_type": "code",
      "metadata": {
        "colab": {
          "base_uri": "https://localhost:8080/"
        },
        "id": "8mz5pqdM4QWf",
        "outputId": "9806fecb-51b9-4be5-9dcd-c3cf3c552e5b"
      },
      "source": [
        "print(min(tv_df['Date']))\n",
        "print(max(tv_df['Date']))"
      ],
      "execution_count": 110,
      "outputs": [
        {
          "output_type": "stream",
          "text": [
            "2014-01-01 00:00:00\n",
            "2016-08-31 00:00:00\n"
          ],
          "name": "stdout"
        }
      ]
    },
    {
      "cell_type": "code",
      "metadata": {
        "colab": {
          "base_uri": "https://localhost:8080/"
        },
        "id": "92fujwROhccj",
        "outputId": "500a6f1a-eede-4948-a5e7-6d7eb7feaecd"
      },
      "source": [
        "tv_df[\"Date\"].value_counts()"
      ],
      "execution_count": 85,
      "outputs": [
        {
          "output_type": "execute_result",
          "data": {
            "text/plain": [
              "2016-08-08    99\n",
              "2016-08-14    95\n",
              "2016-08-31    94\n",
              "2016-08-04    94\n",
              "2016-08-19    94\n",
              "              ..\n",
              "2014-01-07     2\n",
              "2014-01-14     2\n",
              "2014-01-04     2\n",
              "2014-01-03     1\n",
              "2014-01-12     1\n",
              "Name: Date, Length: 971, dtype: int64"
            ]
          },
          "metadata": {
            "tags": []
          },
          "execution_count": 85
        }
      ]
    },
    {
      "cell_type": "code",
      "metadata": {
        "colab": {
          "base_uri": "https://localhost:8080/",
          "height": 356
        },
        "id": "Wt0puqI3bWiO",
        "outputId": "3b0a4f4d-9d9d-433d-e628-cb1c010fe09a"
      },
      "source": [
        "sns.countplot(tv_df[\"Date\"])"
      ],
      "execution_count": 105,
      "outputs": [
        {
          "output_type": "stream",
          "text": [
            "/usr/local/lib/python3.7/dist-packages/seaborn/_decorators.py:43: FutureWarning: Pass the following variable as a keyword arg: x. From version 0.12, the only valid positional argument will be `data`, and passing other arguments without an explicit keyword will result in an error or misinterpretation.\n",
            "  FutureWarning\n"
          ],
          "name": "stderr"
        },
        {
          "output_type": "execute_result",
          "data": {
            "text/plain": [
              "<matplotlib.axes._subplots.AxesSubplot at 0x7f07cc532b10>"
            ]
          },
          "metadata": {
            "tags": []
          },
          "execution_count": 105
        },
        {
          "output_type": "display_data",
          "data": {
            "image/png": "[encoded data removed]",
            "text/plain": [
              "<Figure size 432x288 with 1 Axes>"
            ]
          },
          "metadata": {
            "tags": []
          }
        }
      ]
    },
    {
      "cell_type": "code",
      "metadata": {
        "colab": {
          "base_uri": "https://localhost:8080/",
          "height": 305
        },
        "id": "dr9HnUzGjdL_",
        "outputId": "e0bdb617-40a4-49d8-c1f7-5234c8eb8758"
      },
      "source": [
        "sns.scatterplot(data=tv_df, x=\"Date\", y=\"Count\")"
      ],
      "execution_count": 87,
      "outputs": [
        {
          "output_type": "execute_result",
          "data": {
            "text/plain": [
              "<matplotlib.axes._subplots.AxesSubplot at 0x7f07d1954dd0>"
            ]
          },
          "metadata": {
            "tags": []
          },
          "execution_count": 87
        },
        {
          "output_type": "display_data",
          "data": {
            "image/png": "[encoded data removed]",
            "text/plain": [
              "<Figure size 432x288 with 1 Axes>"
            ]
          },
          "metadata": {
            "tags": []
          }
        }
      ]
    },
    {
      "cell_type": "code",
      "metadata": {
        "colab": {
          "base_uri": "https://localhost:8080/"
        },
        "id": "5r8Em2NmiC9x",
        "outputId": "7544acbc-d42e-4fcc-a0ed-13c338faefd1"
      },
      "source": [
        "tv_df[\"Model\"].value_counts()"
      ],
      "execution_count": 88,
      "outputs": [
        {
          "output_type": "execute_result",
          "data": {
            "text/plain": [
              "M119    926\n",
              "M70     778\n",
              "M97     770\n",
              "M88     769\n",
              "M43     748\n",
              "       ... \n",
              "M14      13\n",
              "M84      10\n",
              "M42       2\n",
              "M47       1\n",
              "M12       1\n",
              "Name: Model, Length: 124, dtype: int64"
            ]
          },
          "metadata": {
            "tags": []
          },
          "execution_count": 88
        }
      ]
    },
    {
      "cell_type": "code",
      "metadata": {
        "colab": {
          "base_uri": "https://localhost:8080/",
          "height": 356
        },
        "id": "M1O6hiHWiudc",
        "outputId": "baced5dd-2d7e-4053-cb0a-17edf043835d"
      },
      "source": [
        "sns.countplot(tv_df[\"Model\"])"
      ],
      "execution_count": 89,
      "outputs": [
        {
          "output_type": "stream",
          "text": [
            "/usr/local/lib/python3.7/dist-packages/seaborn/_decorators.py:43: FutureWarning: Pass the following variable as a keyword arg: x. From version 0.12, the only valid positional argument will be `data`, and passing other arguments without an explicit keyword will result in an error or misinterpretation.\n",
            "  FutureWarning\n"
          ],
          "name": "stderr"
        },
        {
          "output_type": "execute_result",
          "data": {
            "text/plain": [
              "<matplotlib.axes._subplots.AxesSubplot at 0x7f07ce80efd0>"
            ]
          },
          "metadata": {
            "tags": []
          },
          "execution_count": 89
        },
        {
          "output_type": "display_data",
          "data": {
            "image/png": "[encoded data removed]",
            "text/plain": [
              "<Figure size 432x288 with 1 Axes>"
            ]
          },
          "metadata": {
            "tags": []
          }
        }
      ]
    },
    {
      "cell_type": "code",
      "metadata": {
        "colab": {
          "base_uri": "https://localhost:8080/",
          "height": 305
        },
        "id": "7dElAeFjkWeT",
        "outputId": "b971d93b-3754-4c94-c2a0-8030f18e1c37"
      },
      "source": [
        "sns.scatterplot(data=tv_df, x=\"Model\", y=\"Count\")"
      ],
      "execution_count": 90,
      "outputs": [
        {
          "output_type": "execute_result",
          "data": {
            "text/plain": [
              "<matplotlib.axes._subplots.AxesSubplot at 0x7f07ce531750>"
            ]
          },
          "metadata": {
            "tags": []
          },
          "execution_count": 90
        },
        {
          "output_type": "display_data",
          "data": {
            "image/png": "[encoded data removed]",
            "text/plain": [
              "<Figure size 432x288 with 1 Axes>"
            ]
          },
          "metadata": {
            "tags": []
          }
        }
      ]
    },
    {
      "cell_type": "code",
      "metadata": {
        "colab": {
          "base_uri": "https://localhost:8080/"
        },
        "id": "KRGXErkviC1s",
        "outputId": "d98e7676-adff-4b1c-ce3c-e7e7e17bae4b"
      },
      "source": [
        "tv_df[\"Count\"].value_counts()"
      ],
      "execution_count": 91,
      "outputs": [
        {
          "output_type": "execute_result",
          "data": {
            "text/plain": [
              "1       6141\n",
              "2       3697\n",
              "3       2566\n",
              "4       1913\n",
              "5       1475\n",
              "        ... \n",
              "1295       1\n",
              "1071       1\n",
              "847        1\n",
              "751        1\n",
              "3374       1\n",
              "Name: Count, Length: 1191, dtype: int64"
            ]
          },
          "metadata": {
            "tags": []
          },
          "execution_count": 91
        }
      ]
    },
    {
      "cell_type": "code",
      "metadata": {
        "colab": {
          "base_uri": "https://localhost:8080/",
          "height": 356
        },
        "id": "94fRnpt2i2ci",
        "outputId": "1a915505-8218-475f-fc53-ef2c92d55ada"
      },
      "source": [
        "sns.countplot(tv_df[\"Count\"])"
      ],
      "execution_count": 92,
      "outputs": [
        {
          "output_type": "stream",
          "text": [
            "/usr/local/lib/python3.7/dist-packages/seaborn/_decorators.py:43: FutureWarning: Pass the following variable as a keyword arg: x. From version 0.12, the only valid positional argument will be `data`, and passing other arguments without an explicit keyword will result in an error or misinterpretation.\n",
            "  FutureWarning\n"
          ],
          "name": "stderr"
        },
        {
          "output_type": "execute_result",
          "data": {
            "text/plain": [
              "<matplotlib.axes._subplots.AxesSubplot at 0x7f07ce07f310>"
            ]
          },
          "metadata": {
            "tags": []
          },
          "execution_count": 92
        },
        {
          "output_type": "display_data",
          "data": {
            "image/png": "[encoded data removed]",
            "text/plain": [
              "<Figure size 432x288 with 1 Axes>"
            ]
          },
          "metadata": {
            "tags": []
          }
        }
      ]
    },
    {
      "cell_type": "code",
      "metadata": {
        "colab": {
          "base_uri": "https://localhost:8080/",
          "height": 407
        },
        "id": "Mg3K1d4TmoIS",
        "outputId": "02c71fcd-cc8f-48f9-e606-174f3e0323b5"
      },
      "source": [
        "tv_df.sort_values(by='Count', ascending=False)"
      ],
      "execution_count": 93,
      "outputs": [
        {
          "output_type": "execute_result",
          "data": {
            "text/html": [
              "<div>\n",
              "<style scoped>\n",
              "    .dataframe tbody tr th:only-of-type {\n",
              "        vertical-align: middle;\n",
              "    }\n",
              "\n",
              "    .dataframe tbody tr th {\n",
              "        vertical-align: top;\n",
              "    }\n",
              "\n",
              "    .dataframe thead th {\n",
              "        text-align: right;\n",
              "    }\n",
              "</style>\n",
              "<table border=\"1\" class=\"dataframe\">\n",
              "  <thead>\n",
              "    <tr style=\"text-align: right;\">\n",
              "      <th></th>\n",
              "      <th>Date</th>\n",
              "      <th>Model</th>\n",
              "      <th>Count</th>\n",
              "      <th>Day</th>\n",
              "      <th>Month</th>\n",
              "      <th>Year</th>\n",
              "    </tr>\n",
              "  </thead>\n",
              "  <tbody>\n",
              "    <tr>\n",
              "      <th>32322</th>\n",
              "      <td>2015-06-16</td>\n",
              "      <td>M24</td>\n",
              "      <td>6678</td>\n",
              "      <td>16</td>\n",
              "      <td>6</td>\n",
              "      <td>2015</td>\n",
              "    </tr>\n",
              "    <tr>\n",
              "      <th>32328</th>\n",
              "      <td>2015-06-15</td>\n",
              "      <td>M24</td>\n",
              "      <td>6482</td>\n",
              "      <td>15</td>\n",
              "      <td>6</td>\n",
              "      <td>2015</td>\n",
              "    </tr>\n",
              "    <tr>\n",
              "      <th>3992</th>\n",
              "      <td>2016-07-18</td>\n",
              "      <td>M23</td>\n",
              "      <td>6422</td>\n",
              "      <td>18</td>\n",
              "      <td>7</td>\n",
              "      <td>2016</td>\n",
              "    </tr>\n",
              "    <tr>\n",
              "      <th>32223</th>\n",
              "      <td>2015-06-17</td>\n",
              "      <td>M24</td>\n",
              "      <td>6328</td>\n",
              "      <td>17</td>\n",
              "      <td>6</td>\n",
              "      <td>2015</td>\n",
              "    </tr>\n",
              "    <tr>\n",
              "      <th>32217</th>\n",
              "      <td>2015-06-18</td>\n",
              "      <td>M24</td>\n",
              "      <td>6258</td>\n",
              "      <td>18</td>\n",
              "      <td>6</td>\n",
              "      <td>2015</td>\n",
              "    </tr>\n",
              "    <tr>\n",
              "      <th>...</th>\n",
              "      <td>...</td>\n",
              "      <td>...</td>\n",
              "      <td>...</td>\n",
              "      <td>...</td>\n",
              "      <td>...</td>\n",
              "      <td>...</td>\n",
              "    </tr>\n",
              "    <tr>\n",
              "      <th>18147</th>\n",
              "      <td>2016-01-17</td>\n",
              "      <td>M125</td>\n",
              "      <td>1</td>\n",
              "      <td>17</td>\n",
              "      <td>1</td>\n",
              "      <td>2016</td>\n",
              "    </tr>\n",
              "    <tr>\n",
              "      <th>18154</th>\n",
              "      <td>2016-01-17</td>\n",
              "      <td>M74</td>\n",
              "      <td>1</td>\n",
              "      <td>17</td>\n",
              "      <td>1</td>\n",
              "      <td>2016</td>\n",
              "    </tr>\n",
              "    <tr>\n",
              "      <th>18155</th>\n",
              "      <td>2016-01-17</td>\n",
              "      <td>M34</td>\n",
              "      <td>1</td>\n",
              "      <td>17</td>\n",
              "      <td>1</td>\n",
              "      <td>2016</td>\n",
              "    </tr>\n",
              "    <tr>\n",
              "      <th>39507</th>\n",
              "      <td>2015-01-05</td>\n",
              "      <td>M114</td>\n",
              "      <td>1</td>\n",
              "      <td>5</td>\n",
              "      <td>1</td>\n",
              "      <td>2015</td>\n",
              "    </tr>\n",
              "    <tr>\n",
              "      <th>46115</th>\n",
              "      <td>2014-01-01</td>\n",
              "      <td>M58</td>\n",
              "      <td>1</td>\n",
              "      <td>1</td>\n",
              "      <td>1</td>\n",
              "      <td>2014</td>\n",
              "    </tr>\n",
              "  </tbody>\n",
              "</table>\n",
              "<p>46116 rows × 6 columns</p>\n",
              "</div>"
            ],
            "text/plain": [
              "            Date Model  Count  Day  Month  Year\n",
              "32322 2015-06-16   M24   6678   16      6  2015\n",
              "32328 2015-06-15   M24   6482   15      6  2015\n",
              "3992  2016-07-18   M23   6422   18      7  2016\n",
              "32223 2015-06-17   M24   6328   17      6  2015\n",
              "32217 2015-06-18   M24   6258   18      6  2015\n",
              "...          ...   ...    ...  ...    ...   ...\n",
              "18147 2016-01-17  M125      1   17      1  2016\n",
              "18154 2016-01-17   M74      1   17      1  2016\n",
              "18155 2016-01-17   M34      1   17      1  2016\n",
              "39507 2015-01-05  M114      1    5      1  2015\n",
              "46115 2014-01-01   M58      1    1      1  2014\n",
              "\n",
              "[46116 rows x 6 columns]"
            ]
          },
          "metadata": {
            "tags": []
          },
          "execution_count": 93
        }
      ]
    },
    {
      "cell_type": "code",
      "metadata": {
        "colab": {
          "base_uri": "https://localhost:8080/",
          "height": 300
        },
        "id": "19vgGIbrxjbW",
        "outputId": "3d159ccf-2e3a-4388-98ce-9af36e0de46b"
      },
      "source": [
        "sns.countplot(x='Year', data=tv_df)"
      ],
      "execution_count": 109,
      "outputs": [
        {
          "output_type": "execute_result",
          "data": {
            "text/plain": [
              "<matplotlib.axes._subplots.AxesSubplot at 0x7f07cb020b50>"
            ]
          },
          "metadata": {
            "tags": []
          },
          "execution_count": 109
        },
        {
          "output_type": "display_data",
          "data": {
            "image/png": "[encoded data removed]",
            "text/plain": [
              "<Figure size 432x288 with 1 Axes>"
            ]
          },
          "metadata": {
            "tags": []
          }
        }
      ]
    },
    {
      "cell_type": "code",
      "metadata": {
        "colab": {
          "base_uri": "https://localhost:8080/",
          "height": 300
        },
        "id": "fcbNx6ro3oOU",
        "outputId": "d71acbf4-166b-4e80-b49c-5fa94ccde02e"
      },
      "source": [
        "sns.countplot(data=tv_df, x=\"Month\", hue=\"Year\")"
      ],
      "execution_count": 117,
      "outputs": [
        {
          "output_type": "execute_result",
          "data": {
            "text/plain": [
              "<matplotlib.axes._subplots.AxesSubplot at 0x7f07cad7fe50>"
            ]
          },
          "metadata": {
            "tags": []
          },
          "execution_count": 117
        },
        {
          "output_type": "display_data",
          "data": {
            "image/png": "[encoded data removed]",
            "text/plain": [
              "<Figure size 432x288 with 1 Axes>"
            ]
          },
          "metadata": {
            "tags": []
          }
        }
      ]
    },
    {
      "cell_type": "code",
      "metadata": {
        "colab": {
          "base_uri": "https://localhost:8080/"
        },
        "id": "Tq2Atcu68_ej",
        "outputId": "4c079801-08e1-4550-9354-b2c7e3301ce5"
      },
      "source": [
        "tv_df['Model'].unique()"
      ],
      "execution_count": 124,
      "outputs": [
        {
          "output_type": "execute_result",
          "data": {
            "text/plain": [
              "array(['M45', 'M121', 'M122', 'M91', 'M66', 'M100', 'M5', 'M14', 'M62',\n",
              "       'M15', 'M61', 'M82', 'M108', 'M55', 'M43', 'M31', 'M90', 'M96',\n",
              "       'M69', 'M76', 'M56', 'M92', 'M72', 'M94', 'M8', 'M97', 'M71',\n",
              "       'M57', 'M107', 'M99', 'M18', 'M30', 'M36', 'M86', 'M13', 'M73',\n",
              "       'M81', 'M41', 'M79', 'M70', 'M110', 'M95', 'M51', 'M117', 'M22',\n",
              "       'M10', 'M65', 'M115', 'M75', 'M124', 'M2', 'M42', 'M112', 'M27',\n",
              "       'M53', 'M60', 'M120', 'M23', 'M4', 'M39', 'M48', 'M32', 'M87',\n",
              "       'M6', 'M64', 'M68', 'M17', 'M7', 'M24', 'M44', 'M16', 'M77', 'M78',\n",
              "       'M28', 'M12', 'M1', 'M84', 'M11', 'M25', 'M20', 'M105', 'M88',\n",
              "       'M109', 'M21', 'M19', 'M40', 'M9', 'M116', 'M50', 'M67', 'M93',\n",
              "       'M89', 'M63', 'M123', 'M119', 'M49', 'M52', 'M102', 'M85', 'M126',\n",
              "       'M59', 'M38', 'M103', 'M74', 'M98', 'M37', 'M113', 'M125', 'M104',\n",
              "       'M26', 'M35', 'M80', 'M127', 'M111', 'M118', 'M101', 'M58', 'M47',\n",
              "       'M114', 'M54', 'M29', 'M34', 'M33', 'M106'], dtype=object)"
            ]
          },
          "metadata": {
            "tags": []
          },
          "execution_count": 124
        }
      ]
    },
    {
      "cell_type": "code",
      "metadata": {
        "colab": {
          "base_uri": "https://localhost:8080/",
          "height": 555
        },
        "id": "mvOnjOYs6oPY",
        "outputId": "c1ed5d2b-d241-4a13-e6ea-86aff4b1a806"
      },
      "source": [
        "corr = tv_df.corr()\n",
        "mask = np.triu(np.ones_like(corr, dtype=bool))\n",
        "f, ax = plt.subplots(figsize=(11, 9))\n",
        "cmap = sns.diverging_palette(230, 20, as_cmap=True)\n",
        "sns.heatmap(corr, mask=mask, cmap=cmap, vmax=1, center=0, square=True, linewidths=.5, cbar_kws={\"shrink\": .5})"
      ],
      "execution_count": 122,
      "outputs": [
        {
          "output_type": "execute_result",
          "data": {
            "text/plain": [
              "<matplotlib.axes._subplots.AxesSubplot at 0x7f07ca888850>"
            ]
          },
          "metadata": {
            "tags": []
          },
          "execution_count": 122
        },
        {
          "output_type": "display_data",
          "data": {
            "image/png": "[encoded data removed]",
            "text/plain": [
              "<Figure size 792x648 with 2 Axes>"
            ]
          },
          "metadata": {
            "tags": []
          }
        }
      ]
    },
    {
      "cell_type": "code",
      "metadata": {
        "colab": {
          "base_uri": "https://localhost:8080/",
          "height": 124
        },
        "id": "1gonhfIZ7x6M",
        "outputId": "04545d6a-35c3-4023-cf71-e48ba2524b63"
      },
      "source": [
        "corr.style.background_gradient(cmap=cmap).set_precision(2)"
      ],
      "execution_count": 123,
      "outputs": [
        {
          "output_type": "execute_result",
          "data": {
            "text/html": [
              "<style  type=\"text/css\" >\n",
              "#T_eaa47aba_b660_11eb_8e63_0242ac1c0002row0_col0,#T_eaa47aba_b660_11eb_8e63_0242ac1c0002row1_col1,#T_eaa47aba_b660_11eb_8e63_0242ac1c0002row2_col2,#T_eaa47aba_b660_11eb_8e63_0242ac1c0002row3_col3{\n",
              "            background-color:  #c3553a;\n",
              "            color:  #000000;\n",
              "        }#T_eaa47aba_b660_11eb_8e63_0242ac1c0002row0_col1{\n",
              "            background-color:  #b4cad5;\n",
              "            color:  #000000;\n",
              "        }#T_eaa47aba_b660_11eb_8e63_0242ac1c0002row0_col2{\n",
              "            background-color:  #b2c9d4;\n",
              "            color:  #000000;\n",
              "        }#T_eaa47aba_b660_11eb_8e63_0242ac1c0002row0_col3,#T_eaa47aba_b660_11eb_8e63_0242ac1c0002row1_col2,#T_eaa47aba_b660_11eb_8e63_0242ac1c0002row1_col3,#T_eaa47aba_b660_11eb_8e63_0242ac1c0002row2_col1,#T_eaa47aba_b660_11eb_8e63_0242ac1c0002row3_col0{\n",
              "            background-color:  #407e9c;\n",
              "            color:  #000000;\n",
              "        }#T_eaa47aba_b660_11eb_8e63_0242ac1c0002row1_col0{\n",
              "            background-color:  #4f88a3;\n",
              "            color:  #000000;\n",
              "        }#T_eaa47aba_b660_11eb_8e63_0242ac1c0002row2_col0{\n",
              "            background-color:  #4c86a2;\n",
              "            color:  #000000;\n",
              "        }#T_eaa47aba_b660_11eb_8e63_0242ac1c0002row2_col3{\n",
              "            background-color:  #44819e;\n",
              "            color:  #000000;\n",
              "        }#T_eaa47aba_b660_11eb_8e63_0242ac1c0002row3_col1{\n",
              "            background-color:  #a8c2cf;\n",
              "            color:  #000000;\n",
              "        }#T_eaa47aba_b660_11eb_8e63_0242ac1c0002row3_col2{\n",
              "            background-color:  #acc5d1;\n",
              "            color:  #000000;\n",
              "        }</style><table id=\"T_eaa47aba_b660_11eb_8e63_0242ac1c0002\" ><thead>    <tr>        <th class=\"blank level0\" ></th>        <th class=\"col_heading level0 col0\" >Count</th>        <th class=\"col_heading level0 col1\" >Year</th>        <th class=\"col_heading level0 col2\" >Month</th>        <th class=\"col_heading level0 col3\" >Day</th>    </tr></thead><tbody>\n",
              "                <tr>\n",
              "                        <th id=\"T_eaa47aba_b660_11eb_8e63_0242ac1c0002level0_row0\" class=\"row_heading level0 row0\" >Count</th>\n",
              "                        <td id=\"T_eaa47aba_b660_11eb_8e63_0242ac1c0002row0_col0\" class=\"data row0 col0\" >1.00</td>\n",
              "                        <td id=\"T_eaa47aba_b660_11eb_8e63_0242ac1c0002row0_col1\" class=\"data row0 col1\" >0.04</td>\n",
              "                        <td id=\"T_eaa47aba_b660_11eb_8e63_0242ac1c0002row0_col2\" class=\"data row0 col2\" >0.03</td>\n",
              "                        <td id=\"T_eaa47aba_b660_11eb_8e63_0242ac1c0002row0_col3\" class=\"data row0 col3\" >-0.00</td>\n",
              "            </tr>\n",
              "            <tr>\n",
              "                        <th id=\"T_eaa47aba_b660_11eb_8e63_0242ac1c0002level0_row1\" class=\"row_heading level0 row1\" >Year</th>\n",
              "                        <td id=\"T_eaa47aba_b660_11eb_8e63_0242ac1c0002row1_col0\" class=\"data row1 col0\" >0.04</td>\n",
              "                        <td id=\"T_eaa47aba_b660_11eb_8e63_0242ac1c0002row1_col1\" class=\"data row1 col1\" >1.00</td>\n",
              "                        <td id=\"T_eaa47aba_b660_11eb_8e63_0242ac1c0002row1_col2\" class=\"data row1 col2\" >-0.42</td>\n",
              "                        <td id=\"T_eaa47aba_b660_11eb_8e63_0242ac1c0002row1_col3\" class=\"data row1 col3\" >-0.00</td>\n",
              "            </tr>\n",
              "            <tr>\n",
              "                        <th id=\"T_eaa47aba_b660_11eb_8e63_0242ac1c0002level0_row2\" class=\"row_heading level0 row2\" >Month</th>\n",
              "                        <td id=\"T_eaa47aba_b660_11eb_8e63_0242ac1c0002row2_col0\" class=\"data row2 col0\" >0.03</td>\n",
              "                        <td id=\"T_eaa47aba_b660_11eb_8e63_0242ac1c0002row2_col1\" class=\"data row2 col1\" >-0.42</td>\n",
              "                        <td id=\"T_eaa47aba_b660_11eb_8e63_0242ac1c0002row2_col2\" class=\"data row2 col2\" >1.00</td>\n",
              "                        <td id=\"T_eaa47aba_b660_11eb_8e63_0242ac1c0002row2_col3\" class=\"data row2 col3\" >0.01</td>\n",
              "            </tr>\n",
              "            <tr>\n",
              "                        <th id=\"T_eaa47aba_b660_11eb_8e63_0242ac1c0002level0_row3\" class=\"row_heading level0 row3\" >Day</th>\n",
              "                        <td id=\"T_eaa47aba_b660_11eb_8e63_0242ac1c0002row3_col0\" class=\"data row3 col0\" >-0.00</td>\n",
              "                        <td id=\"T_eaa47aba_b660_11eb_8e63_0242ac1c0002row3_col1\" class=\"data row3 col1\" >-0.00</td>\n",
              "                        <td id=\"T_eaa47aba_b660_11eb_8e63_0242ac1c0002row3_col2\" class=\"data row3 col2\" >0.01</td>\n",
              "                        <td id=\"T_eaa47aba_b660_11eb_8e63_0242ac1c0002row3_col3\" class=\"data row3 col3\" >1.00</td>\n",
              "            </tr>\n",
              "    </tbody></table>"
            ],
            "text/plain": [
              "<pandas.io.formats.style.Styler at 0x7f07ca7ced50>"
            ]
          },
          "metadata": {
            "tags": []
          },
          "execution_count": 123
        }
      ]
    }
  ]
}