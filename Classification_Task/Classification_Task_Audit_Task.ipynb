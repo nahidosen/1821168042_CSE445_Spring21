{
  "nbformat": 4,
  "nbformat_minor": 0,
  "metadata": {
    "colab": {
      "name": "Classification_Task_Audit_Task.ipynb",
      "provenance": [],
      "authorship_tag": "ABX9TyNI9BzgbwhSZ6scW6WwKBx6",
      "include_colab_link": true
    },
    "kernelspec": {
      "name": "python3",
      "display_name": "Python 3"
    },
    "language_info": {
      "name": "python"
    }
  },
  "cells": [
    {
      "cell_type": "markdown",
      "metadata": {
        "id": "view-in-github",
        "colab_type": "text"
      },
      "source": [
        "<a href=\"https://colab.research.google.com/github/nahidosen/1821168042_CSE445_Spring21/blob/main/Classification_Task/Classification_Task_Audit_Task.ipynb\" target=\"_parent\"><img src=\"https://colab.research.google.com/assets/colab-badge.svg\" alt=\"Open In Colab\"/></a>"
      ]
    },
    {
      "cell_type": "markdown",
      "metadata": {
        "id": "YoktycHuXDcz"
      },
      "source": [
        "a) Exploratory Data Analysis (EDA) and all the necessary data preparation\n",
        "\n",
        "b) Use any of the classification methods to build a predictor for classifying suspicious firms\n",
        "\n",
        "c) Use proper evaluation parameters that have been discussed in the class to evaluate your result.\n",
        "\n",
        "d) Submit your code in an ipython notebook format in your Github repository and generate a report describing all of the above mentioned."
      ]
    },
    {
      "cell_type": "code",
      "metadata": {
        "id": "TdtmTb0uDjhk"
      },
      "source": [
        "import pandas as pd\n",
        "import numpy as np\n",
        "import matplotlib.pyplot as plt\n",
        "plt.style.use('ggplot')\n",
        "import seaborn as sns\n",
        "from sklearn.impute import SimpleImputer"
      ],
      "execution_count": 132,
      "outputs": []
    },
    {
      "cell_type": "code",
      "metadata": {
        "id": "6Q_xD1JHFyxy"
      },
      "source": [
        "audit_risk = 'https://raw.githubusercontent.com/nahidosen/1821168042_CSE445_Spring21/main/datasets/audit_risk.csv?token=ASXWIV77VJQESEVYD5NFPLLAUXWZQ'\n",
        "trial = 'https://raw.githubusercontent.com/nahidosen/1821168042_CSE445_Spring21/main/datasets/trial.csv?token=ASXWIV5QF2KCSGTA27H3JN3AUXW5W'\n",
        "\n",
        "df_audit_risk = pd.read_csv(audit_risk)\n",
        "df_trial = pd.read_csv(trial)"
      ],
      "execution_count": 133,
      "outputs": []
    },
    {
      "cell_type": "code",
      "metadata": {
        "colab": {
          "base_uri": "https://localhost:8080/",
          "height": 439
        },
        "id": "FMu4blj0HOlo",
        "outputId": "1e60144f-7d64-4765-b28a-7f715e782144"
      },
      "source": [
        "df_audit_risk"
      ],
      "execution_count": 134,
      "outputs": [
        {
          "output_type": "execute_result",
          "data": {
            "text/html": [
              "<div>\n",
              "<style scoped>\n",
              "    .dataframe tbody tr th:only-of-type {\n",
              "        vertical-align: middle;\n",
              "    }\n",
              "\n",
              "    .dataframe tbody tr th {\n",
              "        vertical-align: top;\n",
              "    }\n",
              "\n",
              "    .dataframe thead th {\n",
              "        text-align: right;\n",
              "    }\n",
              "</style>\n",
              "<table border=\"1\" class=\"dataframe\">\n",
              "  <thead>\n",
              "    <tr style=\"text-align: right;\">\n",
              "      <th></th>\n",
              "      <th>Sector_score</th>\n",
              "      <th>LOCATION_ID</th>\n",
              "      <th>PARA_A</th>\n",
              "      <th>Score_A</th>\n",
              "      <th>Risk_A</th>\n",
              "      <th>PARA_B</th>\n",
              "      <th>Score_B</th>\n",
              "      <th>Risk_B</th>\n",
              "      <th>TOTAL</th>\n",
              "      <th>numbers</th>\n",
              "      <th>Score_B.1</th>\n",
              "      <th>Risk_C</th>\n",
              "      <th>Money_Value</th>\n",
              "      <th>Score_MV</th>\n",
              "      <th>Risk_D</th>\n",
              "      <th>District_Loss</th>\n",
              "      <th>PROB</th>\n",
              "      <th>RiSk_E</th>\n",
              "      <th>History</th>\n",
              "      <th>Prob</th>\n",
              "      <th>Risk_F</th>\n",
              "      <th>Score</th>\n",
              "      <th>Inherent_Risk</th>\n",
              "      <th>CONTROL_RISK</th>\n",
              "      <th>Detection_Risk</th>\n",
              "      <th>Audit_Risk</th>\n",
              "      <th>Risk</th>\n",
              "    </tr>\n",
              "  </thead>\n",
              "  <tbody>\n",
              "    <tr>\n",
              "      <th>0</th>\n",
              "      <td>3.89</td>\n",
              "      <td>23</td>\n",
              "      <td>4.18</td>\n",
              "      <td>0.6</td>\n",
              "      <td>2.508</td>\n",
              "      <td>2.50</td>\n",
              "      <td>0.2</td>\n",
              "      <td>0.500</td>\n",
              "      <td>6.68</td>\n",
              "      <td>5.0</td>\n",
              "      <td>0.2</td>\n",
              "      <td>1.0</td>\n",
              "      <td>3.38</td>\n",
              "      <td>0.2</td>\n",
              "      <td>0.676</td>\n",
              "      <td>2</td>\n",
              "      <td>0.2</td>\n",
              "      <td>0.4</td>\n",
              "      <td>0</td>\n",
              "      <td>0.2</td>\n",
              "      <td>0.0</td>\n",
              "      <td>2.4</td>\n",
              "      <td>8.574</td>\n",
              "      <td>0.4</td>\n",
              "      <td>0.5</td>\n",
              "      <td>1.7148</td>\n",
              "      <td>1</td>\n",
              "    </tr>\n",
              "    <tr>\n",
              "      <th>1</th>\n",
              "      <td>3.89</td>\n",
              "      <td>6</td>\n",
              "      <td>0.00</td>\n",
              "      <td>0.2</td>\n",
              "      <td>0.000</td>\n",
              "      <td>4.83</td>\n",
              "      <td>0.2</td>\n",
              "      <td>0.966</td>\n",
              "      <td>4.83</td>\n",
              "      <td>5.0</td>\n",
              "      <td>0.2</td>\n",
              "      <td>1.0</td>\n",
              "      <td>0.94</td>\n",
              "      <td>0.2</td>\n",
              "      <td>0.188</td>\n",
              "      <td>2</td>\n",
              "      <td>0.2</td>\n",
              "      <td>0.4</td>\n",
              "      <td>0</td>\n",
              "      <td>0.2</td>\n",
              "      <td>0.0</td>\n",
              "      <td>2.0</td>\n",
              "      <td>2.554</td>\n",
              "      <td>0.4</td>\n",
              "      <td>0.5</td>\n",
              "      <td>0.5108</td>\n",
              "      <td>0</td>\n",
              "    </tr>\n",
              "    <tr>\n",
              "      <th>2</th>\n",
              "      <td>3.89</td>\n",
              "      <td>6</td>\n",
              "      <td>0.51</td>\n",
              "      <td>0.2</td>\n",
              "      <td>0.102</td>\n",
              "      <td>0.23</td>\n",
              "      <td>0.2</td>\n",
              "      <td>0.046</td>\n",
              "      <td>0.74</td>\n",
              "      <td>5.0</td>\n",
              "      <td>0.2</td>\n",
              "      <td>1.0</td>\n",
              "      <td>0.00</td>\n",
              "      <td>0.2</td>\n",
              "      <td>0.000</td>\n",
              "      <td>2</td>\n",
              "      <td>0.2</td>\n",
              "      <td>0.4</td>\n",
              "      <td>0</td>\n",
              "      <td>0.2</td>\n",
              "      <td>0.0</td>\n",
              "      <td>2.0</td>\n",
              "      <td>1.548</td>\n",
              "      <td>0.4</td>\n",
              "      <td>0.5</td>\n",
              "      <td>0.3096</td>\n",
              "      <td>0</td>\n",
              "    </tr>\n",
              "    <tr>\n",
              "      <th>3</th>\n",
              "      <td>3.89</td>\n",
              "      <td>6</td>\n",
              "      <td>0.00</td>\n",
              "      <td>0.2</td>\n",
              "      <td>0.000</td>\n",
              "      <td>10.80</td>\n",
              "      <td>0.6</td>\n",
              "      <td>6.480</td>\n",
              "      <td>10.80</td>\n",
              "      <td>6.0</td>\n",
              "      <td>0.6</td>\n",
              "      <td>3.6</td>\n",
              "      <td>11.75</td>\n",
              "      <td>0.6</td>\n",
              "      <td>7.050</td>\n",
              "      <td>2</td>\n",
              "      <td>0.2</td>\n",
              "      <td>0.4</td>\n",
              "      <td>0</td>\n",
              "      <td>0.2</td>\n",
              "      <td>0.0</td>\n",
              "      <td>4.4</td>\n",
              "      <td>17.530</td>\n",
              "      <td>0.4</td>\n",
              "      <td>0.5</td>\n",
              "      <td>3.5060</td>\n",
              "      <td>1</td>\n",
              "    </tr>\n",
              "    <tr>\n",
              "      <th>4</th>\n",
              "      <td>3.89</td>\n",
              "      <td>6</td>\n",
              "      <td>0.00</td>\n",
              "      <td>0.2</td>\n",
              "      <td>0.000</td>\n",
              "      <td>0.08</td>\n",
              "      <td>0.2</td>\n",
              "      <td>0.016</td>\n",
              "      <td>0.08</td>\n",
              "      <td>5.0</td>\n",
              "      <td>0.2</td>\n",
              "      <td>1.0</td>\n",
              "      <td>0.00</td>\n",
              "      <td>0.2</td>\n",
              "      <td>0.000</td>\n",
              "      <td>2</td>\n",
              "      <td>0.2</td>\n",
              "      <td>0.4</td>\n",
              "      <td>0</td>\n",
              "      <td>0.2</td>\n",
              "      <td>0.0</td>\n",
              "      <td>2.0</td>\n",
              "      <td>1.416</td>\n",
              "      <td>0.4</td>\n",
              "      <td>0.5</td>\n",
              "      <td>0.2832</td>\n",
              "      <td>0</td>\n",
              "    </tr>\n",
              "    <tr>\n",
              "      <th>...</th>\n",
              "      <td>...</td>\n",
              "      <td>...</td>\n",
              "      <td>...</td>\n",
              "      <td>...</td>\n",
              "      <td>...</td>\n",
              "      <td>...</td>\n",
              "      <td>...</td>\n",
              "      <td>...</td>\n",
              "      <td>...</td>\n",
              "      <td>...</td>\n",
              "      <td>...</td>\n",
              "      <td>...</td>\n",
              "      <td>...</td>\n",
              "      <td>...</td>\n",
              "      <td>...</td>\n",
              "      <td>...</td>\n",
              "      <td>...</td>\n",
              "      <td>...</td>\n",
              "      <td>...</td>\n",
              "      <td>...</td>\n",
              "      <td>...</td>\n",
              "      <td>...</td>\n",
              "      <td>...</td>\n",
              "      <td>...</td>\n",
              "      <td>...</td>\n",
              "      <td>...</td>\n",
              "      <td>...</td>\n",
              "    </tr>\n",
              "    <tr>\n",
              "      <th>771</th>\n",
              "      <td>55.57</td>\n",
              "      <td>9</td>\n",
              "      <td>0.49</td>\n",
              "      <td>0.2</td>\n",
              "      <td>0.098</td>\n",
              "      <td>0.40</td>\n",
              "      <td>0.2</td>\n",
              "      <td>0.080</td>\n",
              "      <td>0.89</td>\n",
              "      <td>5.0</td>\n",
              "      <td>0.2</td>\n",
              "      <td>1.0</td>\n",
              "      <td>0.00</td>\n",
              "      <td>0.2</td>\n",
              "      <td>0.000</td>\n",
              "      <td>2</td>\n",
              "      <td>0.2</td>\n",
              "      <td>0.4</td>\n",
              "      <td>0</td>\n",
              "      <td>0.2</td>\n",
              "      <td>0.0</td>\n",
              "      <td>2.0</td>\n",
              "      <td>1.578</td>\n",
              "      <td>0.4</td>\n",
              "      <td>0.5</td>\n",
              "      <td>0.3156</td>\n",
              "      <td>0</td>\n",
              "    </tr>\n",
              "    <tr>\n",
              "      <th>772</th>\n",
              "      <td>55.57</td>\n",
              "      <td>16</td>\n",
              "      <td>0.47</td>\n",
              "      <td>0.2</td>\n",
              "      <td>0.094</td>\n",
              "      <td>0.37</td>\n",
              "      <td>0.2</td>\n",
              "      <td>0.074</td>\n",
              "      <td>0.84</td>\n",
              "      <td>5.0</td>\n",
              "      <td>0.2</td>\n",
              "      <td>1.0</td>\n",
              "      <td>0.00</td>\n",
              "      <td>0.2</td>\n",
              "      <td>0.000</td>\n",
              "      <td>2</td>\n",
              "      <td>0.2</td>\n",
              "      <td>0.4</td>\n",
              "      <td>0</td>\n",
              "      <td>0.2</td>\n",
              "      <td>0.0</td>\n",
              "      <td>2.0</td>\n",
              "      <td>1.568</td>\n",
              "      <td>0.4</td>\n",
              "      <td>0.5</td>\n",
              "      <td>0.3136</td>\n",
              "      <td>0</td>\n",
              "    </tr>\n",
              "    <tr>\n",
              "      <th>773</th>\n",
              "      <td>55.57</td>\n",
              "      <td>14</td>\n",
              "      <td>0.24</td>\n",
              "      <td>0.2</td>\n",
              "      <td>0.048</td>\n",
              "      <td>0.04</td>\n",
              "      <td>0.2</td>\n",
              "      <td>0.008</td>\n",
              "      <td>0.28</td>\n",
              "      <td>5.0</td>\n",
              "      <td>0.2</td>\n",
              "      <td>1.0</td>\n",
              "      <td>0.00</td>\n",
              "      <td>0.2</td>\n",
              "      <td>0.000</td>\n",
              "      <td>2</td>\n",
              "      <td>0.2</td>\n",
              "      <td>0.4</td>\n",
              "      <td>0</td>\n",
              "      <td>0.2</td>\n",
              "      <td>0.0</td>\n",
              "      <td>2.0</td>\n",
              "      <td>1.456</td>\n",
              "      <td>0.4</td>\n",
              "      <td>0.5</td>\n",
              "      <td>0.2912</td>\n",
              "      <td>0</td>\n",
              "    </tr>\n",
              "    <tr>\n",
              "      <th>774</th>\n",
              "      <td>55.57</td>\n",
              "      <td>18</td>\n",
              "      <td>0.20</td>\n",
              "      <td>0.2</td>\n",
              "      <td>0.040</td>\n",
              "      <td>0.00</td>\n",
              "      <td>0.2</td>\n",
              "      <td>0.000</td>\n",
              "      <td>0.20</td>\n",
              "      <td>5.0</td>\n",
              "      <td>0.2</td>\n",
              "      <td>1.0</td>\n",
              "      <td>0.00</td>\n",
              "      <td>0.2</td>\n",
              "      <td>0.000</td>\n",
              "      <td>2</td>\n",
              "      <td>0.2</td>\n",
              "      <td>0.4</td>\n",
              "      <td>0</td>\n",
              "      <td>0.2</td>\n",
              "      <td>0.0</td>\n",
              "      <td>2.0</td>\n",
              "      <td>1.440</td>\n",
              "      <td>0.4</td>\n",
              "      <td>0.5</td>\n",
              "      <td>0.2880</td>\n",
              "      <td>0</td>\n",
              "    </tr>\n",
              "    <tr>\n",
              "      <th>775</th>\n",
              "      <td>55.57</td>\n",
              "      <td>15</td>\n",
              "      <td>0.00</td>\n",
              "      <td>0.2</td>\n",
              "      <td>0.000</td>\n",
              "      <td>0.00</td>\n",
              "      <td>0.2</td>\n",
              "      <td>0.000</td>\n",
              "      <td>0.00</td>\n",
              "      <td>5.0</td>\n",
              "      <td>0.2</td>\n",
              "      <td>1.0</td>\n",
              "      <td>0.32</td>\n",
              "      <td>0.2</td>\n",
              "      <td>0.064</td>\n",
              "      <td>2</td>\n",
              "      <td>0.2</td>\n",
              "      <td>0.4</td>\n",
              "      <td>0</td>\n",
              "      <td>0.2</td>\n",
              "      <td>0.0</td>\n",
              "      <td>2.0</td>\n",
              "      <td>1.464</td>\n",
              "      <td>0.4</td>\n",
              "      <td>0.5</td>\n",
              "      <td>0.2928</td>\n",
              "      <td>0</td>\n",
              "    </tr>\n",
              "  </tbody>\n",
              "</table>\n",
              "<p>776 rows × 27 columns</p>\n",
              "</div>"
            ],
            "text/plain": [
              "     Sector_score LOCATION_ID  PARA_A  ...  Detection_Risk  Audit_Risk  Risk\n",
              "0            3.89          23    4.18  ...             0.5      1.7148     1\n",
              "1            3.89           6    0.00  ...             0.5      0.5108     0\n",
              "2            3.89           6    0.51  ...             0.5      0.3096     0\n",
              "3            3.89           6    0.00  ...             0.5      3.5060     1\n",
              "4            3.89           6    0.00  ...             0.5      0.2832     0\n",
              "..            ...         ...     ...  ...             ...         ...   ...\n",
              "771         55.57           9    0.49  ...             0.5      0.3156     0\n",
              "772         55.57          16    0.47  ...             0.5      0.3136     0\n",
              "773         55.57          14    0.24  ...             0.5      0.2912     0\n",
              "774         55.57          18    0.20  ...             0.5      0.2880     0\n",
              "775         55.57          15    0.00  ...             0.5      0.2928     0\n",
              "\n",
              "[776 rows x 27 columns]"
            ]
          },
          "metadata": {
            "tags": []
          },
          "execution_count": 134
        }
      ]
    },
    {
      "cell_type": "code",
      "metadata": {
        "id": "0gvtPwW-yqwo",
        "outputId": "ca8a270c-2292-475a-c715-9032a3be0c18",
        "colab": {
          "base_uri": "https://localhost:8080/"
        }
      },
      "source": [
        "df_audit_risk.info()"
      ],
      "execution_count": 135,
      "outputs": [
        {
          "output_type": "stream",
          "text": [
            "<class 'pandas.core.frame.DataFrame'>\n",
            "RangeIndex: 776 entries, 0 to 775\n",
            "Data columns (total 27 columns):\n",
            " #   Column          Non-Null Count  Dtype  \n",
            "---  ------          --------------  -----  \n",
            " 0   Sector_score    776 non-null    float64\n",
            " 1   LOCATION_ID     776 non-null    object \n",
            " 2   PARA_A          776 non-null    float64\n",
            " 3   Score_A         776 non-null    float64\n",
            " 4   Risk_A          776 non-null    float64\n",
            " 5   PARA_B          776 non-null    float64\n",
            " 6   Score_B         776 non-null    float64\n",
            " 7   Risk_B          776 non-null    float64\n",
            " 8   TOTAL           776 non-null    float64\n",
            " 9   numbers         776 non-null    float64\n",
            " 10  Score_B.1       776 non-null    float64\n",
            " 11  Risk_C          776 non-null    float64\n",
            " 12  Money_Value     775 non-null    float64\n",
            " 13  Score_MV        776 non-null    float64\n",
            " 14  Risk_D          776 non-null    float64\n",
            " 15  District_Loss   776 non-null    int64  \n",
            " 16  PROB            776 non-null    float64\n",
            " 17  RiSk_E          776 non-null    float64\n",
            " 18  History         776 non-null    int64  \n",
            " 19  Prob            776 non-null    float64\n",
            " 20  Risk_F          776 non-null    float64\n",
            " 21  Score           776 non-null    float64\n",
            " 22  Inherent_Risk   776 non-null    float64\n",
            " 23  CONTROL_RISK    776 non-null    float64\n",
            " 24  Detection_Risk  776 non-null    float64\n",
            " 25  Audit_Risk      776 non-null    float64\n",
            " 26  Risk            776 non-null    int64  \n",
            "dtypes: float64(23), int64(3), object(1)\n",
            "memory usage: 163.8+ KB\n"
          ],
          "name": "stdout"
        }
      ]
    },
    {
      "cell_type": "code",
      "metadata": {
        "id": "fQhlHGXbzHP7",
        "outputId": "291e7a2b-c823-4e89-b960-35283b27bca2",
        "colab": {
          "base_uri": "https://localhost:8080/",
          "height": 100
        }
      },
      "source": [
        "df_audit_risk[df_audit_risk['Money_Value'].isnull() == True]"
      ],
      "execution_count": 136,
      "outputs": [
        {
          "output_type": "execute_result",
          "data": {
            "text/html": [
              "<div>\n",
              "<style scoped>\n",
              "    .dataframe tbody tr th:only-of-type {\n",
              "        vertical-align: middle;\n",
              "    }\n",
              "\n",
              "    .dataframe tbody tr th {\n",
              "        vertical-align: top;\n",
              "    }\n",
              "\n",
              "    .dataframe thead th {\n",
              "        text-align: right;\n",
              "    }\n",
              "</style>\n",
              "<table border=\"1\" class=\"dataframe\">\n",
              "  <thead>\n",
              "    <tr style=\"text-align: right;\">\n",
              "      <th></th>\n",
              "      <th>Sector_score</th>\n",
              "      <th>LOCATION_ID</th>\n",
              "      <th>PARA_A</th>\n",
              "      <th>Score_A</th>\n",
              "      <th>Risk_A</th>\n",
              "      <th>PARA_B</th>\n",
              "      <th>Score_B</th>\n",
              "      <th>Risk_B</th>\n",
              "      <th>TOTAL</th>\n",
              "      <th>numbers</th>\n",
              "      <th>Score_B.1</th>\n",
              "      <th>Risk_C</th>\n",
              "      <th>Money_Value</th>\n",
              "      <th>Score_MV</th>\n",
              "      <th>Risk_D</th>\n",
              "      <th>District_Loss</th>\n",
              "      <th>PROB</th>\n",
              "      <th>RiSk_E</th>\n",
              "      <th>History</th>\n",
              "      <th>Prob</th>\n",
              "      <th>Risk_F</th>\n",
              "      <th>Score</th>\n",
              "      <th>Inherent_Risk</th>\n",
              "      <th>CONTROL_RISK</th>\n",
              "      <th>Detection_Risk</th>\n",
              "      <th>Audit_Risk</th>\n",
              "      <th>Risk</th>\n",
              "    </tr>\n",
              "  </thead>\n",
              "  <tbody>\n",
              "    <tr>\n",
              "      <th>642</th>\n",
              "      <td>55.57</td>\n",
              "      <td>4</td>\n",
              "      <td>0.23</td>\n",
              "      <td>0.2</td>\n",
              "      <td>0.046</td>\n",
              "      <td>0.0</td>\n",
              "      <td>0.2</td>\n",
              "      <td>0.0</td>\n",
              "      <td>0.23</td>\n",
              "      <td>5.0</td>\n",
              "      <td>0.2</td>\n",
              "      <td>1.0</td>\n",
              "      <td>NaN</td>\n",
              "      <td>0.2</td>\n",
              "      <td>0.0</td>\n",
              "      <td>2</td>\n",
              "      <td>0.2</td>\n",
              "      <td>0.4</td>\n",
              "      <td>0</td>\n",
              "      <td>0.2</td>\n",
              "      <td>0.0</td>\n",
              "      <td>2.0</td>\n",
              "      <td>1.446</td>\n",
              "      <td>0.4</td>\n",
              "      <td>0.5</td>\n",
              "      <td>0.2892</td>\n",
              "      <td>0</td>\n",
              "    </tr>\n",
              "  </tbody>\n",
              "</table>\n",
              "</div>"
            ],
            "text/plain": [
              "     Sector_score LOCATION_ID  PARA_A  ...  Detection_Risk  Audit_Risk  Risk\n",
              "642         55.57           4    0.23  ...             0.5      0.2892     0\n",
              "\n",
              "[1 rows x 27 columns]"
            ]
          },
          "metadata": {
            "tags": []
          },
          "execution_count": 136
        }
      ]
    },
    {
      "cell_type": "code",
      "metadata": {
        "id": "lvTVlZJbzOlE"
      },
      "source": [
        "df_audit_risk['Money_Value'] = df_audit_risk['Money_Value'].fillna(df_audit_risk['Money_Value'].median())"
      ],
      "execution_count": 137,
      "outputs": []
    },
    {
      "cell_type": "code",
      "metadata": {
        "id": "_Mxa41YozaLc",
        "outputId": "4858015d-9be1-48d3-9302-810bea438552",
        "colab": {
          "base_uri": "https://localhost:8080/"
        }
      },
      "source": [
        "df_audit_risk.isnull().sum() "
      ],
      "execution_count": 138,
      "outputs": [
        {
          "output_type": "execute_result",
          "data": {
            "text/plain": [
              "Sector_score      0\n",
              "LOCATION_ID       0\n",
              "PARA_A            0\n",
              "Score_A           0\n",
              "Risk_A            0\n",
              "PARA_B            0\n",
              "Score_B           0\n",
              "Risk_B            0\n",
              "TOTAL             0\n",
              "numbers           0\n",
              "Score_B.1         0\n",
              "Risk_C            0\n",
              "Money_Value       0\n",
              "Score_MV          0\n",
              "Risk_D            0\n",
              "District_Loss     0\n",
              "PROB              0\n",
              "RiSk_E            0\n",
              "History           0\n",
              "Prob              0\n",
              "Risk_F            0\n",
              "Score             0\n",
              "Inherent_Risk     0\n",
              "CONTROL_RISK      0\n",
              "Detection_Risk    0\n",
              "Audit_Risk        0\n",
              "Risk              0\n",
              "dtype: int64"
            ]
          },
          "metadata": {
            "tags": []
          },
          "execution_count": 138
        }
      ]
    },
    {
      "cell_type": "code",
      "metadata": {
        "id": "C7FrJ7V4zwqH",
        "outputId": "a572d351-7ee8-4a8e-b701-afd74727b9b0",
        "colab": {
          "base_uri": "https://localhost:8080/"
        }
      },
      "source": [
        "df_audit_risk.nunique()"
      ],
      "execution_count": 139,
      "outputs": [
        {
          "output_type": "execute_result",
          "data": {
            "text/plain": [
              "Sector_score       13\n",
              "LOCATION_ID        45\n",
              "PARA_A            363\n",
              "Score_A             3\n",
              "Risk_A            363\n",
              "PARA_B            358\n",
              "Score_B             3\n",
              "Risk_B            360\n",
              "TOTAL             471\n",
              "numbers             5\n",
              "Score_B.1           3\n",
              "Risk_C              5\n",
              "Money_Value       328\n",
              "Score_MV            3\n",
              "Risk_D            328\n",
              "District_Loss       3\n",
              "PROB                3\n",
              "RiSk_E              5\n",
              "History             7\n",
              "Prob                3\n",
              "Risk_F              7\n",
              "Score              17\n",
              "Inherent_Risk     584\n",
              "CONTROL_RISK       11\n",
              "Detection_Risk      1\n",
              "Audit_Risk        601\n",
              "Risk                2\n",
              "dtype: int64"
            ]
          },
          "metadata": {
            "tags": []
          },
          "execution_count": 139
        }
      ]
    },
    {
      "cell_type": "code",
      "metadata": {
        "id": "KHVM3txX0K51"
      },
      "source": [
        "df_audit_risk_1 = df_audit_risk.drop(['Detection_Risk'], axis = 1) # Because it has only one value "
      ],
      "execution_count": 140,
      "outputs": []
    },
    {
      "cell_type": "code",
      "metadata": {
        "colab": {
          "base_uri": "https://localhost:8080/"
        },
        "id": "MUGTyscQK_98",
        "outputId": "e969879e-d6c0-4e4a-c206-b1c86b5c4183"
      },
      "source": [
        "df_audit_risk_1.columns"
      ],
      "execution_count": 141,
      "outputs": [
        {
          "output_type": "execute_result",
          "data": {
            "text/plain": [
              "Index(['Sector_score', 'LOCATION_ID', 'PARA_A', 'Score_A', 'Risk_A', 'PARA_B',\n",
              "       'Score_B', 'Risk_B', 'TOTAL', 'numbers', 'Score_B.1', 'Risk_C',\n",
              "       'Money_Value', 'Score_MV', 'Risk_D', 'District_Loss', 'PROB', 'RiSk_E',\n",
              "       'History', 'Prob', 'Risk_F', 'Score', 'Inherent_Risk', 'CONTROL_RISK',\n",
              "       'Audit_Risk', 'Risk'],\n",
              "      dtype='object')"
            ]
          },
          "metadata": {
            "tags": []
          },
          "execution_count": 141
        }
      ]
    },
    {
      "cell_type": "markdown",
      "metadata": {
        "id": "G_0x2GaVUGil"
      },
      "source": [
        "Checked every unique value to find anomaly"
      ]
    },
    {
      "cell_type": "code",
      "metadata": {
        "colab": {
          "base_uri": "https://localhost:8080/"
        },
        "id": "DTWnGiabKdh0",
        "outputId": "0de843df-04f2-41a1-a9b4-2b2ca19309a4"
      },
      "source": [
        "df_audit_risk_1[\"LOCATION_ID\"].value_counts()"
      ],
      "execution_count": 143,
      "outputs": [
        {
          "output_type": "execute_result",
          "data": {
            "text/plain": [
              "8          76\n",
              "19         68\n",
              "9          53\n",
              "16         52\n",
              "12         47\n",
              "5          44\n",
              "2          41\n",
              "4          37\n",
              "15         35\n",
              "13         35\n",
              "6          33\n",
              "32         29\n",
              "11         26\n",
              "22         24\n",
              "29         21\n",
              "14         20\n",
              "18         16\n",
              "31         12\n",
              "1          11\n",
              "37         10\n",
              "39          9\n",
              "21          8\n",
              "27          8\n",
              "28          8\n",
              "43          7\n",
              "25          6\n",
              "20          5\n",
              "36          4\n",
              "30          4\n",
              "7           4\n",
              "38          4\n",
              "40          3\n",
              "3           3\n",
              "35          2\n",
              "41          1\n",
              "44          1\n",
              "34          1\n",
              "SAFIDON     1\n",
              "17          1\n",
              "NUH         1\n",
              "33          1\n",
              "42          1\n",
              "24          1\n",
              "23          1\n",
              "LOHARU      1\n",
              "Name: LOCATION_ID, dtype: int64"
            ]
          },
          "metadata": {
            "tags": []
          },
          "execution_count": 143
        }
      ]
    },
    {
      "cell_type": "code",
      "metadata": {
        "id": "qtkz-rTUOkc2"
      },
      "source": [
        "df_audit_risk_1 = df_audit_risk_1[(df_audit_risk_1.LOCATION_ID != 'LOHARU')]\n",
        "df_audit_risk_1 = df_audit_risk_1[(df_audit_risk_1.LOCATION_ID != 'NUH')]\n",
        "df_audit_risk_1 = df_audit_risk_1[(df_audit_risk_1.LOCATION_ID != 'SAFIDON')]"
      ],
      "execution_count": 144,
      "outputs": []
    },
    {
      "cell_type": "code",
      "metadata": {
        "colab": {
          "base_uri": "https://localhost:8080/"
        },
        "id": "TIVTFOuzPDg8",
        "outputId": "56a681a2-afad-474f-bdf9-865df9e24b1c"
      },
      "source": [
        "df_audit_risk_1[\"LOCATION_ID\"].value_counts()"
      ],
      "execution_count": 145,
      "outputs": [
        {
          "output_type": "execute_result",
          "data": {
            "text/plain": [
              "8     76\n",
              "19    68\n",
              "9     53\n",
              "16    52\n",
              "12    47\n",
              "5     44\n",
              "2     41\n",
              "4     37\n",
              "13    35\n",
              "15    35\n",
              "6     33\n",
              "32    29\n",
              "11    26\n",
              "22    24\n",
              "29    21\n",
              "14    20\n",
              "18    16\n",
              "31    12\n",
              "1     11\n",
              "37    10\n",
              "39     9\n",
              "27     8\n",
              "28     8\n",
              "21     8\n",
              "43     7\n",
              "25     6\n",
              "20     5\n",
              "30     4\n",
              "38     4\n",
              "7      4\n",
              "36     4\n",
              "40     3\n",
              "3      3\n",
              "35     2\n",
              "41     1\n",
              "34     1\n",
              "44     1\n",
              "17     1\n",
              "42     1\n",
              "24     1\n",
              "23     1\n",
              "33     1\n",
              "Name: LOCATION_ID, dtype: int64"
            ]
          },
          "metadata": {
            "tags": []
          },
          "execution_count": 145
        }
      ]
    },
    {
      "cell_type": "code",
      "metadata": {
        "id": "MPuO2kL8PcrR"
      },
      "source": [
        "df_audit_risk_2 = df_audit_risk_1.drop_duplicates(keep = 'first')"
      ],
      "execution_count": 146,
      "outputs": []
    },
    {
      "cell_type": "code",
      "metadata": {
        "colab": {
          "base_uri": "https://localhost:8080/"
        },
        "id": "Af1J5e01Pchy",
        "outputId": "45863da3-19af-4a0f-893a-caff24dff44e"
      },
      "source": [
        "df_audit_risk_2.info()"
      ],
      "execution_count": 147,
      "outputs": [
        {
          "output_type": "stream",
          "text": [
            "<class 'pandas.core.frame.DataFrame'>\n",
            "Int64Index: 760 entries, 0 to 775\n",
            "Data columns (total 26 columns):\n",
            " #   Column         Non-Null Count  Dtype  \n",
            "---  ------         --------------  -----  \n",
            " 0   Sector_score   760 non-null    float64\n",
            " 1   LOCATION_ID    760 non-null    object \n",
            " 2   PARA_A         760 non-null    float64\n",
            " 3   Score_A        760 non-null    float64\n",
            " 4   Risk_A         760 non-null    float64\n",
            " 5   PARA_B         760 non-null    float64\n",
            " 6   Score_B        760 non-null    float64\n",
            " 7   Risk_B         760 non-null    float64\n",
            " 8   TOTAL          760 non-null    float64\n",
            " 9   numbers        760 non-null    float64\n",
            " 10  Score_B.1      760 non-null    float64\n",
            " 11  Risk_C         760 non-null    float64\n",
            " 12  Money_Value    760 non-null    float64\n",
            " 13  Score_MV       760 non-null    float64\n",
            " 14  Risk_D         760 non-null    float64\n",
            " 15  District_Loss  760 non-null    int64  \n",
            " 16  PROB           760 non-null    float64\n",
            " 17  RiSk_E         760 non-null    float64\n",
            " 18  History        760 non-null    int64  \n",
            " 19  Prob           760 non-null    float64\n",
            " 20  Risk_F         760 non-null    float64\n",
            " 21  Score          760 non-null    float64\n",
            " 22  Inherent_Risk  760 non-null    float64\n",
            " 23  CONTROL_RISK   760 non-null    float64\n",
            " 24  Audit_Risk     760 non-null    float64\n",
            " 25  Risk           760 non-null    int64  \n",
            "dtypes: float64(22), int64(3), object(1)\n",
            "memory usage: 160.3+ KB\n"
          ],
          "name": "stdout"
        }
      ]
    },
    {
      "cell_type": "code",
      "metadata": {
        "id": "NL0ubySTPcUu"
      },
      "source": [
        "df_audit_risk_3 = df_audit_risk_2.astype(float)"
      ],
      "execution_count": 148,
      "outputs": []
    },
    {
      "cell_type": "code",
      "metadata": {
        "colab": {
          "base_uri": "https://localhost:8080/"
        },
        "id": "pQ1Gmg95P1YC",
        "outputId": "30148bcf-e29d-4e5c-fff9-afe26318bd57"
      },
      "source": [
        "df_audit_risk_3.info()"
      ],
      "execution_count": 149,
      "outputs": [
        {
          "output_type": "stream",
          "text": [
            "<class 'pandas.core.frame.DataFrame'>\n",
            "Int64Index: 760 entries, 0 to 775\n",
            "Data columns (total 26 columns):\n",
            " #   Column         Non-Null Count  Dtype  \n",
            "---  ------         --------------  -----  \n",
            " 0   Sector_score   760 non-null    float64\n",
            " 1   LOCATION_ID    760 non-null    float64\n",
            " 2   PARA_A         760 non-null    float64\n",
            " 3   Score_A        760 non-null    float64\n",
            " 4   Risk_A         760 non-null    float64\n",
            " 5   PARA_B         760 non-null    float64\n",
            " 6   Score_B        760 non-null    float64\n",
            " 7   Risk_B         760 non-null    float64\n",
            " 8   TOTAL          760 non-null    float64\n",
            " 9   numbers        760 non-null    float64\n",
            " 10  Score_B.1      760 non-null    float64\n",
            " 11  Risk_C         760 non-null    float64\n",
            " 12  Money_Value    760 non-null    float64\n",
            " 13  Score_MV       760 non-null    float64\n",
            " 14  Risk_D         760 non-null    float64\n",
            " 15  District_Loss  760 non-null    float64\n",
            " 16  PROB           760 non-null    float64\n",
            " 17  RiSk_E         760 non-null    float64\n",
            " 18  History        760 non-null    float64\n",
            " 19  Prob           760 non-null    float64\n",
            " 20  Risk_F         760 non-null    float64\n",
            " 21  Score          760 non-null    float64\n",
            " 22  Inherent_Risk  760 non-null    float64\n",
            " 23  CONTROL_RISK   760 non-null    float64\n",
            " 24  Audit_Risk     760 non-null    float64\n",
            " 25  Risk           760 non-null    float64\n",
            "dtypes: float64(26)\n",
            "memory usage: 160.3 KB\n"
          ],
          "name": "stdout"
        }
      ]
    },
    {
      "cell_type": "markdown",
      "metadata": {
        "id": "VRjUK9GZ4Jp2"
      },
      "source": [
        "now the 2nd dataset"
      ]
    },
    {
      "cell_type": "code",
      "metadata": {
        "colab": {
          "base_uri": "https://localhost:8080/",
          "height": 439
        },
        "id": "IEkIDA98HUe3",
        "outputId": "3edaae72-9786-4fec-bd70-3e83b35050d1"
      },
      "source": [
        "df_trial"
      ],
      "execution_count": 150,
      "outputs": [
        {
          "output_type": "execute_result",
          "data": {
            "text/html": [
              "<div>\n",
              "<style scoped>\n",
              "    .dataframe tbody tr th:only-of-type {\n",
              "        vertical-align: middle;\n",
              "    }\n",
              "\n",
              "    .dataframe tbody tr th {\n",
              "        vertical-align: top;\n",
              "    }\n",
              "\n",
              "    .dataframe thead th {\n",
              "        text-align: right;\n",
              "    }\n",
              "</style>\n",
              "<table border=\"1\" class=\"dataframe\">\n",
              "  <thead>\n",
              "    <tr style=\"text-align: right;\">\n",
              "      <th></th>\n",
              "      <th>Sector_score</th>\n",
              "      <th>LOCATION_ID</th>\n",
              "      <th>PARA_A</th>\n",
              "      <th>SCORE_A</th>\n",
              "      <th>PARA_B</th>\n",
              "      <th>SCORE_B</th>\n",
              "      <th>TOTAL</th>\n",
              "      <th>numbers</th>\n",
              "      <th>Marks</th>\n",
              "      <th>Money_Value</th>\n",
              "      <th>MONEY_Marks</th>\n",
              "      <th>District</th>\n",
              "      <th>Loss</th>\n",
              "      <th>LOSS_SCORE</th>\n",
              "      <th>History</th>\n",
              "      <th>History_score</th>\n",
              "      <th>Score</th>\n",
              "      <th>Risk</th>\n",
              "    </tr>\n",
              "  </thead>\n",
              "  <tbody>\n",
              "    <tr>\n",
              "      <th>0</th>\n",
              "      <td>3.89</td>\n",
              "      <td>23</td>\n",
              "      <td>4.18</td>\n",
              "      <td>6</td>\n",
              "      <td>2.50</td>\n",
              "      <td>2</td>\n",
              "      <td>6.68</td>\n",
              "      <td>5.0</td>\n",
              "      <td>2</td>\n",
              "      <td>3.38</td>\n",
              "      <td>2</td>\n",
              "      <td>2</td>\n",
              "      <td>0</td>\n",
              "      <td>2</td>\n",
              "      <td>0</td>\n",
              "      <td>2</td>\n",
              "      <td>2.4</td>\n",
              "      <td>1</td>\n",
              "    </tr>\n",
              "    <tr>\n",
              "      <th>1</th>\n",
              "      <td>3.89</td>\n",
              "      <td>6</td>\n",
              "      <td>0.00</td>\n",
              "      <td>2</td>\n",
              "      <td>4.83</td>\n",
              "      <td>2</td>\n",
              "      <td>4.83</td>\n",
              "      <td>5.0</td>\n",
              "      <td>2</td>\n",
              "      <td>0.94</td>\n",
              "      <td>2</td>\n",
              "      <td>2</td>\n",
              "      <td>0</td>\n",
              "      <td>2</td>\n",
              "      <td>0</td>\n",
              "      <td>2</td>\n",
              "      <td>2.0</td>\n",
              "      <td>0</td>\n",
              "    </tr>\n",
              "    <tr>\n",
              "      <th>2</th>\n",
              "      <td>3.89</td>\n",
              "      <td>6</td>\n",
              "      <td>0.51</td>\n",
              "      <td>2</td>\n",
              "      <td>0.23</td>\n",
              "      <td>2</td>\n",
              "      <td>0.74</td>\n",
              "      <td>5.0</td>\n",
              "      <td>2</td>\n",
              "      <td>0.00</td>\n",
              "      <td>2</td>\n",
              "      <td>2</td>\n",
              "      <td>0</td>\n",
              "      <td>2</td>\n",
              "      <td>0</td>\n",
              "      <td>2</td>\n",
              "      <td>2.0</td>\n",
              "      <td>0</td>\n",
              "    </tr>\n",
              "    <tr>\n",
              "      <th>3</th>\n",
              "      <td>3.89</td>\n",
              "      <td>6</td>\n",
              "      <td>0.00</td>\n",
              "      <td>2</td>\n",
              "      <td>10.80</td>\n",
              "      <td>6</td>\n",
              "      <td>10.80</td>\n",
              "      <td>6.0</td>\n",
              "      <td>6</td>\n",
              "      <td>11.75</td>\n",
              "      <td>6</td>\n",
              "      <td>2</td>\n",
              "      <td>0</td>\n",
              "      <td>2</td>\n",
              "      <td>0</td>\n",
              "      <td>2</td>\n",
              "      <td>4.4</td>\n",
              "      <td>1</td>\n",
              "    </tr>\n",
              "    <tr>\n",
              "      <th>4</th>\n",
              "      <td>3.89</td>\n",
              "      <td>6</td>\n",
              "      <td>0.00</td>\n",
              "      <td>2</td>\n",
              "      <td>0.08</td>\n",
              "      <td>2</td>\n",
              "      <td>0.08</td>\n",
              "      <td>5.0</td>\n",
              "      <td>2</td>\n",
              "      <td>0.00</td>\n",
              "      <td>2</td>\n",
              "      <td>2</td>\n",
              "      <td>0</td>\n",
              "      <td>2</td>\n",
              "      <td>0</td>\n",
              "      <td>2</td>\n",
              "      <td>2.0</td>\n",
              "      <td>0</td>\n",
              "    </tr>\n",
              "    <tr>\n",
              "      <th>...</th>\n",
              "      <td>...</td>\n",
              "      <td>...</td>\n",
              "      <td>...</td>\n",
              "      <td>...</td>\n",
              "      <td>...</td>\n",
              "      <td>...</td>\n",
              "      <td>...</td>\n",
              "      <td>...</td>\n",
              "      <td>...</td>\n",
              "      <td>...</td>\n",
              "      <td>...</td>\n",
              "      <td>...</td>\n",
              "      <td>...</td>\n",
              "      <td>...</td>\n",
              "      <td>...</td>\n",
              "      <td>...</td>\n",
              "      <td>...</td>\n",
              "      <td>...</td>\n",
              "    </tr>\n",
              "    <tr>\n",
              "      <th>771</th>\n",
              "      <td>55.57</td>\n",
              "      <td>9</td>\n",
              "      <td>0.49</td>\n",
              "      <td>2</td>\n",
              "      <td>0.40</td>\n",
              "      <td>2</td>\n",
              "      <td>0.89</td>\n",
              "      <td>5.0</td>\n",
              "      <td>2</td>\n",
              "      <td>0.00</td>\n",
              "      <td>2</td>\n",
              "      <td>2</td>\n",
              "      <td>0</td>\n",
              "      <td>2</td>\n",
              "      <td>0</td>\n",
              "      <td>2</td>\n",
              "      <td>2.0</td>\n",
              "      <td>0</td>\n",
              "    </tr>\n",
              "    <tr>\n",
              "      <th>772</th>\n",
              "      <td>55.57</td>\n",
              "      <td>16</td>\n",
              "      <td>0.47</td>\n",
              "      <td>2</td>\n",
              "      <td>0.37</td>\n",
              "      <td>2</td>\n",
              "      <td>0.84</td>\n",
              "      <td>5.0</td>\n",
              "      <td>2</td>\n",
              "      <td>0.00</td>\n",
              "      <td>2</td>\n",
              "      <td>2</td>\n",
              "      <td>0</td>\n",
              "      <td>2</td>\n",
              "      <td>0</td>\n",
              "      <td>2</td>\n",
              "      <td>2.0</td>\n",
              "      <td>0</td>\n",
              "    </tr>\n",
              "    <tr>\n",
              "      <th>773</th>\n",
              "      <td>55.57</td>\n",
              "      <td>14</td>\n",
              "      <td>0.24</td>\n",
              "      <td>2</td>\n",
              "      <td>0.04</td>\n",
              "      <td>2</td>\n",
              "      <td>0.28</td>\n",
              "      <td>5.0</td>\n",
              "      <td>2</td>\n",
              "      <td>0.00</td>\n",
              "      <td>2</td>\n",
              "      <td>2</td>\n",
              "      <td>0</td>\n",
              "      <td>2</td>\n",
              "      <td>0</td>\n",
              "      <td>2</td>\n",
              "      <td>2.0</td>\n",
              "      <td>0</td>\n",
              "    </tr>\n",
              "    <tr>\n",
              "      <th>774</th>\n",
              "      <td>55.57</td>\n",
              "      <td>18</td>\n",
              "      <td>0.20</td>\n",
              "      <td>2</td>\n",
              "      <td>0.00</td>\n",
              "      <td>2</td>\n",
              "      <td>0.20</td>\n",
              "      <td>5.0</td>\n",
              "      <td>2</td>\n",
              "      <td>0.00</td>\n",
              "      <td>2</td>\n",
              "      <td>2</td>\n",
              "      <td>0</td>\n",
              "      <td>2</td>\n",
              "      <td>0</td>\n",
              "      <td>2</td>\n",
              "      <td>2.0</td>\n",
              "      <td>0</td>\n",
              "    </tr>\n",
              "    <tr>\n",
              "      <th>775</th>\n",
              "      <td>55.57</td>\n",
              "      <td>15</td>\n",
              "      <td>0.00</td>\n",
              "      <td>2</td>\n",
              "      <td>0.00</td>\n",
              "      <td>2</td>\n",
              "      <td>0.00</td>\n",
              "      <td>5.0</td>\n",
              "      <td>2</td>\n",
              "      <td>0.32</td>\n",
              "      <td>2</td>\n",
              "      <td>2</td>\n",
              "      <td>0</td>\n",
              "      <td>2</td>\n",
              "      <td>0</td>\n",
              "      <td>2</td>\n",
              "      <td>2.0</td>\n",
              "      <td>0</td>\n",
              "    </tr>\n",
              "  </tbody>\n",
              "</table>\n",
              "<p>776 rows × 18 columns</p>\n",
              "</div>"
            ],
            "text/plain": [
              "     Sector_score LOCATION_ID  PARA_A  ...  History_score  Score  Risk\n",
              "0            3.89          23    4.18  ...              2    2.4     1\n",
              "1            3.89           6    0.00  ...              2    2.0     0\n",
              "2            3.89           6    0.51  ...              2    2.0     0\n",
              "3            3.89           6    0.00  ...              2    4.4     1\n",
              "4            3.89           6    0.00  ...              2    2.0     0\n",
              "..            ...         ...     ...  ...            ...    ...   ...\n",
              "771         55.57           9    0.49  ...              2    2.0     0\n",
              "772         55.57          16    0.47  ...              2    2.0     0\n",
              "773         55.57          14    0.24  ...              2    2.0     0\n",
              "774         55.57          18    0.20  ...              2    2.0     0\n",
              "775         55.57          15    0.00  ...              2    2.0     0\n",
              "\n",
              "[776 rows x 18 columns]"
            ]
          },
          "metadata": {
            "tags": []
          },
          "execution_count": 150
        }
      ]
    },
    {
      "cell_type": "code",
      "metadata": {
        "id": "9VA5VQaBHXsG"
      },
      "source": [
        "df_trial['SCORE_A'] = df_trial['SCORE_A']/10\n",
        "df_trial['SCORE_B'] = df_trial['SCORE_B']/10"
      ],
      "execution_count": 151,
      "outputs": []
    },
    {
      "cell_type": "code",
      "metadata": {
        "id": "eEpsmwLTQLvf",
        "outputId": "76e10ab5-a765-4b12-bfcc-ab4c04c44761",
        "colab": {
          "base_uri": "https://localhost:8080/",
          "height": 439
        }
      },
      "source": [
        "df_trial"
      ],
      "execution_count": 152,
      "outputs": [
        {
          "output_type": "execute_result",
          "data": {
            "text/html": [
              "<div>\n",
              "<style scoped>\n",
              "    .dataframe tbody tr th:only-of-type {\n",
              "        vertical-align: middle;\n",
              "    }\n",
              "\n",
              "    .dataframe tbody tr th {\n",
              "        vertical-align: top;\n",
              "    }\n",
              "\n",
              "    .dataframe thead th {\n",
              "        text-align: right;\n",
              "    }\n",
              "</style>\n",
              "<table border=\"1\" class=\"dataframe\">\n",
              "  <thead>\n",
              "    <tr style=\"text-align: right;\">\n",
              "      <th></th>\n",
              "      <th>Sector_score</th>\n",
              "      <th>LOCATION_ID</th>\n",
              "      <th>PARA_A</th>\n",
              "      <th>SCORE_A</th>\n",
              "      <th>PARA_B</th>\n",
              "      <th>SCORE_B</th>\n",
              "      <th>TOTAL</th>\n",
              "      <th>numbers</th>\n",
              "      <th>Marks</th>\n",
              "      <th>Money_Value</th>\n",
              "      <th>MONEY_Marks</th>\n",
              "      <th>District</th>\n",
              "      <th>Loss</th>\n",
              "      <th>LOSS_SCORE</th>\n",
              "      <th>History</th>\n",
              "      <th>History_score</th>\n",
              "      <th>Score</th>\n",
              "      <th>Risk</th>\n",
              "    </tr>\n",
              "  </thead>\n",
              "  <tbody>\n",
              "    <tr>\n",
              "      <th>0</th>\n",
              "      <td>3.89</td>\n",
              "      <td>23</td>\n",
              "      <td>4.18</td>\n",
              "      <td>0.6</td>\n",
              "      <td>2.50</td>\n",
              "      <td>0.2</td>\n",
              "      <td>6.68</td>\n",
              "      <td>5.0</td>\n",
              "      <td>2</td>\n",
              "      <td>3.38</td>\n",
              "      <td>2</td>\n",
              "      <td>2</td>\n",
              "      <td>0</td>\n",
              "      <td>2</td>\n",
              "      <td>0</td>\n",
              "      <td>2</td>\n",
              "      <td>2.4</td>\n",
              "      <td>1</td>\n",
              "    </tr>\n",
              "    <tr>\n",
              "      <th>1</th>\n",
              "      <td>3.89</td>\n",
              "      <td>6</td>\n",
              "      <td>0.00</td>\n",
              "      <td>0.2</td>\n",
              "      <td>4.83</td>\n",
              "      <td>0.2</td>\n",
              "      <td>4.83</td>\n",
              "      <td>5.0</td>\n",
              "      <td>2</td>\n",
              "      <td>0.94</td>\n",
              "      <td>2</td>\n",
              "      <td>2</td>\n",
              "      <td>0</td>\n",
              "      <td>2</td>\n",
              "      <td>0</td>\n",
              "      <td>2</td>\n",
              "      <td>2.0</td>\n",
              "      <td>0</td>\n",
              "    </tr>\n",
              "    <tr>\n",
              "      <th>2</th>\n",
              "      <td>3.89</td>\n",
              "      <td>6</td>\n",
              "      <td>0.51</td>\n",
              "      <td>0.2</td>\n",
              "      <td>0.23</td>\n",
              "      <td>0.2</td>\n",
              "      <td>0.74</td>\n",
              "      <td>5.0</td>\n",
              "      <td>2</td>\n",
              "      <td>0.00</td>\n",
              "      <td>2</td>\n",
              "      <td>2</td>\n",
              "      <td>0</td>\n",
              "      <td>2</td>\n",
              "      <td>0</td>\n",
              "      <td>2</td>\n",
              "      <td>2.0</td>\n",
              "      <td>0</td>\n",
              "    </tr>\n",
              "    <tr>\n",
              "      <th>3</th>\n",
              "      <td>3.89</td>\n",
              "      <td>6</td>\n",
              "      <td>0.00</td>\n",
              "      <td>0.2</td>\n",
              "      <td>10.80</td>\n",
              "      <td>0.6</td>\n",
              "      <td>10.80</td>\n",
              "      <td>6.0</td>\n",
              "      <td>6</td>\n",
              "      <td>11.75</td>\n",
              "      <td>6</td>\n",
              "      <td>2</td>\n",
              "      <td>0</td>\n",
              "      <td>2</td>\n",
              "      <td>0</td>\n",
              "      <td>2</td>\n",
              "      <td>4.4</td>\n",
              "      <td>1</td>\n",
              "    </tr>\n",
              "    <tr>\n",
              "      <th>4</th>\n",
              "      <td>3.89</td>\n",
              "      <td>6</td>\n",
              "      <td>0.00</td>\n",
              "      <td>0.2</td>\n",
              "      <td>0.08</td>\n",
              "      <td>0.2</td>\n",
              "      <td>0.08</td>\n",
              "      <td>5.0</td>\n",
              "      <td>2</td>\n",
              "      <td>0.00</td>\n",
              "      <td>2</td>\n",
              "      <td>2</td>\n",
              "      <td>0</td>\n",
              "      <td>2</td>\n",
              "      <td>0</td>\n",
              "      <td>2</td>\n",
              "      <td>2.0</td>\n",
              "      <td>0</td>\n",
              "    </tr>\n",
              "    <tr>\n",
              "      <th>...</th>\n",
              "      <td>...</td>\n",
              "      <td>...</td>\n",
              "      <td>...</td>\n",
              "      <td>...</td>\n",
              "      <td>...</td>\n",
              "      <td>...</td>\n",
              "      <td>...</td>\n",
              "      <td>...</td>\n",
              "      <td>...</td>\n",
              "      <td>...</td>\n",
              "      <td>...</td>\n",
              "      <td>...</td>\n",
              "      <td>...</td>\n",
              "      <td>...</td>\n",
              "      <td>...</td>\n",
              "      <td>...</td>\n",
              "      <td>...</td>\n",
              "      <td>...</td>\n",
              "    </tr>\n",
              "    <tr>\n",
              "      <th>771</th>\n",
              "      <td>55.57</td>\n",
              "      <td>9</td>\n",
              "      <td>0.49</td>\n",
              "      <td>0.2</td>\n",
              "      <td>0.40</td>\n",
              "      <td>0.2</td>\n",
              "      <td>0.89</td>\n",
              "      <td>5.0</td>\n",
              "      <td>2</td>\n",
              "      <td>0.00</td>\n",
              "      <td>2</td>\n",
              "      <td>2</td>\n",
              "      <td>0</td>\n",
              "      <td>2</td>\n",
              "      <td>0</td>\n",
              "      <td>2</td>\n",
              "      <td>2.0</td>\n",
              "      <td>0</td>\n",
              "    </tr>\n",
              "    <tr>\n",
              "      <th>772</th>\n",
              "      <td>55.57</td>\n",
              "      <td>16</td>\n",
              "      <td>0.47</td>\n",
              "      <td>0.2</td>\n",
              "      <td>0.37</td>\n",
              "      <td>0.2</td>\n",
              "      <td>0.84</td>\n",
              "      <td>5.0</td>\n",
              "      <td>2</td>\n",
              "      <td>0.00</td>\n",
              "      <td>2</td>\n",
              "      <td>2</td>\n",
              "      <td>0</td>\n",
              "      <td>2</td>\n",
              "      <td>0</td>\n",
              "      <td>2</td>\n",
              "      <td>2.0</td>\n",
              "      <td>0</td>\n",
              "    </tr>\n",
              "    <tr>\n",
              "      <th>773</th>\n",
              "      <td>55.57</td>\n",
              "      <td>14</td>\n",
              "      <td>0.24</td>\n",
              "      <td>0.2</td>\n",
              "      <td>0.04</td>\n",
              "      <td>0.2</td>\n",
              "      <td>0.28</td>\n",
              "      <td>5.0</td>\n",
              "      <td>2</td>\n",
              "      <td>0.00</td>\n",
              "      <td>2</td>\n",
              "      <td>2</td>\n",
              "      <td>0</td>\n",
              "      <td>2</td>\n",
              "      <td>0</td>\n",
              "      <td>2</td>\n",
              "      <td>2.0</td>\n",
              "      <td>0</td>\n",
              "    </tr>\n",
              "    <tr>\n",
              "      <th>774</th>\n",
              "      <td>55.57</td>\n",
              "      <td>18</td>\n",
              "      <td>0.20</td>\n",
              "      <td>0.2</td>\n",
              "      <td>0.00</td>\n",
              "      <td>0.2</td>\n",
              "      <td>0.20</td>\n",
              "      <td>5.0</td>\n",
              "      <td>2</td>\n",
              "      <td>0.00</td>\n",
              "      <td>2</td>\n",
              "      <td>2</td>\n",
              "      <td>0</td>\n",
              "      <td>2</td>\n",
              "      <td>0</td>\n",
              "      <td>2</td>\n",
              "      <td>2.0</td>\n",
              "      <td>0</td>\n",
              "    </tr>\n",
              "    <tr>\n",
              "      <th>775</th>\n",
              "      <td>55.57</td>\n",
              "      <td>15</td>\n",
              "      <td>0.00</td>\n",
              "      <td>0.2</td>\n",
              "      <td>0.00</td>\n",
              "      <td>0.2</td>\n",
              "      <td>0.00</td>\n",
              "      <td>5.0</td>\n",
              "      <td>2</td>\n",
              "      <td>0.32</td>\n",
              "      <td>2</td>\n",
              "      <td>2</td>\n",
              "      <td>0</td>\n",
              "      <td>2</td>\n",
              "      <td>0</td>\n",
              "      <td>2</td>\n",
              "      <td>2.0</td>\n",
              "      <td>0</td>\n",
              "    </tr>\n",
              "  </tbody>\n",
              "</table>\n",
              "<p>776 rows × 18 columns</p>\n",
              "</div>"
            ],
            "text/plain": [
              "     Sector_score LOCATION_ID  PARA_A  ...  History_score  Score  Risk\n",
              "0            3.89          23    4.18  ...              2    2.4     1\n",
              "1            3.89           6    0.00  ...              2    2.0     0\n",
              "2            3.89           6    0.51  ...              2    2.0     0\n",
              "3            3.89           6    0.00  ...              2    4.4     1\n",
              "4            3.89           6    0.00  ...              2    2.0     0\n",
              "..            ...         ...     ...  ...            ...    ...   ...\n",
              "771         55.57           9    0.49  ...              2    2.0     0\n",
              "772         55.57          16    0.47  ...              2    2.0     0\n",
              "773         55.57          14    0.24  ...              2    2.0     0\n",
              "774         55.57          18    0.20  ...              2    2.0     0\n",
              "775         55.57          15    0.00  ...              2    2.0     0\n",
              "\n",
              "[776 rows x 18 columns]"
            ]
          },
          "metadata": {
            "tags": []
          },
          "execution_count": 152
        }
      ]
    },
    {
      "cell_type": "code",
      "metadata": {
        "id": "iVYFXyE5sk4-",
        "outputId": "26fb177d-6622-4c17-e9d5-2832d0a1e7dd",
        "colab": {
          "base_uri": "https://localhost:8080/"
        }
      },
      "source": [
        "df_audit_risk.columns"
      ],
      "execution_count": 153,
      "outputs": [
        {
          "output_type": "execute_result",
          "data": {
            "text/plain": [
              "Index(['Sector_score', 'LOCATION_ID', 'PARA_A', 'Score_A', 'Risk_A', 'PARA_B',\n",
              "       'Score_B', 'Risk_B', 'TOTAL', 'numbers', 'Score_B.1', 'Risk_C',\n",
              "       'Money_Value', 'Score_MV', 'Risk_D', 'District_Loss', 'PROB', 'RiSk_E',\n",
              "       'History', 'Prob', 'Risk_F', 'Score', 'Inherent_Risk', 'CONTROL_RISK',\n",
              "       'Detection_Risk', 'Audit_Risk', 'Risk'],\n",
              "      dtype='object')"
            ]
          },
          "metadata": {
            "tags": []
          },
          "execution_count": 153
        }
      ]
    },
    {
      "cell_type": "code",
      "metadata": {
        "id": "lugXLBG7tVXV",
        "outputId": "e4207473-2168-4fea-ac18-dc566d5c627e",
        "colab": {
          "base_uri": "https://localhost:8080/"
        }
      },
      "source": [
        "df_trial.columns"
      ],
      "execution_count": 154,
      "outputs": [
        {
          "output_type": "execute_result",
          "data": {
            "text/plain": [
              "Index(['Sector_score', 'LOCATION_ID', 'PARA_A', 'SCORE_A', 'PARA_B', 'SCORE_B',\n",
              "       'TOTAL', 'numbers', 'Marks', 'Money_Value', 'MONEY_Marks', 'District',\n",
              "       'Loss', 'LOSS_SCORE', 'History', 'History_score', 'Score', 'Risk'],\n",
              "      dtype='object')"
            ]
          },
          "metadata": {
            "tags": []
          },
          "execution_count": 154
        }
      ]
    },
    {
      "cell_type": "code",
      "metadata": {
        "id": "vu8BfqADtYkl"
      },
      "source": [
        "# Renameing the columns for the same feature\n",
        "df_trial.columns = ['Sector_score', 'LOCATION_ID', 'PARA_A', 'Score_A', 'PARA_B', 'Score_B',\n",
        "       'TOTAL', 'numbers', 'Marks', 'Money_Value', 'MONEY_Marks', 'District',\n",
        "       'Loss', 'LOSS_SCORE', 'History', 'History_score', 'Score', 'Risk']"
      ],
      "execution_count": 155,
      "outputs": []
    },
    {
      "cell_type": "code",
      "metadata": {
        "id": "3dRS7IQ7y2_n",
        "outputId": "a13313c5-3781-45d3-e872-573b3e6133bd",
        "colab": {
          "base_uri": "https://localhost:8080/"
        }
      },
      "source": [
        "df_trial.info()"
      ],
      "execution_count": 156,
      "outputs": [
        {
          "output_type": "stream",
          "text": [
            "<class 'pandas.core.frame.DataFrame'>\n",
            "RangeIndex: 776 entries, 0 to 775\n",
            "Data columns (total 18 columns):\n",
            " #   Column         Non-Null Count  Dtype  \n",
            "---  ------         --------------  -----  \n",
            " 0   Sector_score   776 non-null    float64\n",
            " 1   LOCATION_ID    776 non-null    object \n",
            " 2   PARA_A         776 non-null    float64\n",
            " 3   Score_A        776 non-null    float64\n",
            " 4   PARA_B         776 non-null    float64\n",
            " 5   Score_B        776 non-null    float64\n",
            " 6   TOTAL          776 non-null    float64\n",
            " 7   numbers        776 non-null    float64\n",
            " 8   Marks          776 non-null    int64  \n",
            " 9   Money_Value    775 non-null    float64\n",
            " 10  MONEY_Marks    776 non-null    int64  \n",
            " 11  District       776 non-null    int64  \n",
            " 12  Loss           776 non-null    int64  \n",
            " 13  LOSS_SCORE     776 non-null    int64  \n",
            " 14  History        776 non-null    int64  \n",
            " 15  History_score  776 non-null    int64  \n",
            " 16  Score          776 non-null    float64\n",
            " 17  Risk           776 non-null    int64  \n",
            "dtypes: float64(9), int64(8), object(1)\n",
            "memory usage: 109.2+ KB\n"
          ],
          "name": "stdout"
        }
      ]
    },
    {
      "cell_type": "code",
      "metadata": {
        "id": "I5S-h3V7Swft",
        "outputId": "e06011db-fb2e-486b-c57e-5166f8a40649",
        "colab": {
          "base_uri": "https://localhost:8080/",
          "height": 100
        }
      },
      "source": [
        "df_trial[df_trial['Money_Value'].isnull() == True]"
      ],
      "execution_count": 157,
      "outputs": [
        {
          "output_type": "execute_result",
          "data": {
            "text/html": [
              "<div>\n",
              "<style scoped>\n",
              "    .dataframe tbody tr th:only-of-type {\n",
              "        vertical-align: middle;\n",
              "    }\n",
              "\n",
              "    .dataframe tbody tr th {\n",
              "        vertical-align: top;\n",
              "    }\n",
              "\n",
              "    .dataframe thead th {\n",
              "        text-align: right;\n",
              "    }\n",
              "</style>\n",
              "<table border=\"1\" class=\"dataframe\">\n",
              "  <thead>\n",
              "    <tr style=\"text-align: right;\">\n",
              "      <th></th>\n",
              "      <th>Sector_score</th>\n",
              "      <th>LOCATION_ID</th>\n",
              "      <th>PARA_A</th>\n",
              "      <th>Score_A</th>\n",
              "      <th>PARA_B</th>\n",
              "      <th>Score_B</th>\n",
              "      <th>TOTAL</th>\n",
              "      <th>numbers</th>\n",
              "      <th>Marks</th>\n",
              "      <th>Money_Value</th>\n",
              "      <th>MONEY_Marks</th>\n",
              "      <th>District</th>\n",
              "      <th>Loss</th>\n",
              "      <th>LOSS_SCORE</th>\n",
              "      <th>History</th>\n",
              "      <th>History_score</th>\n",
              "      <th>Score</th>\n",
              "      <th>Risk</th>\n",
              "    </tr>\n",
              "  </thead>\n",
              "  <tbody>\n",
              "    <tr>\n",
              "      <th>642</th>\n",
              "      <td>55.57</td>\n",
              "      <td>4</td>\n",
              "      <td>0.23</td>\n",
              "      <td>0.2</td>\n",
              "      <td>0.0</td>\n",
              "      <td>0.2</td>\n",
              "      <td>0.23</td>\n",
              "      <td>5.0</td>\n",
              "      <td>2</td>\n",
              "      <td>NaN</td>\n",
              "      <td>2</td>\n",
              "      <td>2</td>\n",
              "      <td>0</td>\n",
              "      <td>2</td>\n",
              "      <td>0</td>\n",
              "      <td>2</td>\n",
              "      <td>2.0</td>\n",
              "      <td>0</td>\n",
              "    </tr>\n",
              "  </tbody>\n",
              "</table>\n",
              "</div>"
            ],
            "text/plain": [
              "     Sector_score LOCATION_ID  PARA_A  ...  History_score  Score  Risk\n",
              "642         55.57           4    0.23  ...              2    2.0     0\n",
              "\n",
              "[1 rows x 18 columns]"
            ]
          },
          "metadata": {
            "tags": []
          },
          "execution_count": 157
        }
      ]
    },
    {
      "cell_type": "code",
      "metadata": {
        "id": "ka9jF4QvzhM2"
      },
      "source": [
        "df_trial['Money_Value'] = df_trial['Money_Value'].fillna(df_trial['Money_Value'].median())"
      ],
      "execution_count": 158,
      "outputs": []
    },
    {
      "cell_type": "code",
      "metadata": {
        "id": "mxR52EbFS_aL",
        "outputId": "d0acac44-98af-436c-8074-6687261d7d4e",
        "colab": {
          "base_uri": "https://localhost:8080/"
        }
      },
      "source": [
        "df_audit_risk.isnull().sum() "
      ],
      "execution_count": 159,
      "outputs": [
        {
          "output_type": "execute_result",
          "data": {
            "text/plain": [
              "Sector_score      0\n",
              "LOCATION_ID       0\n",
              "PARA_A            0\n",
              "Score_A           0\n",
              "Risk_A            0\n",
              "PARA_B            0\n",
              "Score_B           0\n",
              "Risk_B            0\n",
              "TOTAL             0\n",
              "numbers           0\n",
              "Score_B.1         0\n",
              "Risk_C            0\n",
              "Money_Value       0\n",
              "Score_MV          0\n",
              "Risk_D            0\n",
              "District_Loss     0\n",
              "PROB              0\n",
              "RiSk_E            0\n",
              "History           0\n",
              "Prob              0\n",
              "Risk_F            0\n",
              "Score             0\n",
              "Inherent_Risk     0\n",
              "CONTROL_RISK      0\n",
              "Detection_Risk    0\n",
              "Audit_Risk        0\n",
              "Risk              0\n",
              "dtype: int64"
            ]
          },
          "metadata": {
            "tags": []
          },
          "execution_count": 159
        }
      ]
    },
    {
      "cell_type": "code",
      "metadata": {
        "colab": {
          "base_uri": "https://localhost:8080/"
        },
        "id": "qSe1oeFAQtkA",
        "outputId": "b7b85681-a5b9-45f2-95bb-cdc7c64c6561"
      },
      "source": [
        "df_trial.columns"
      ],
      "execution_count": 160,
      "outputs": [
        {
          "output_type": "execute_result",
          "data": {
            "text/plain": [
              "Index(['Sector_score', 'LOCATION_ID', 'PARA_A', 'Score_A', 'PARA_B', 'Score_B',\n",
              "       'TOTAL', 'numbers', 'Marks', 'Money_Value', 'MONEY_Marks', 'District',\n",
              "       'Loss', 'LOSS_SCORE', 'History', 'History_score', 'Score', 'Risk'],\n",
              "      dtype='object')"
            ]
          },
          "metadata": {
            "tags": []
          },
          "execution_count": 160
        }
      ]
    },
    {
      "cell_type": "markdown",
      "metadata": {
        "id": "OoWsWIAxUhCV"
      },
      "source": [
        "Checked every unique value to find anomaly"
      ]
    },
    {
      "cell_type": "code",
      "metadata": {
        "colab": {
          "base_uri": "https://localhost:8080/"
        },
        "id": "uZ_0oOCLQtkU",
        "outputId": "7c31fd4f-4c7a-4880-d238-1d7820323022"
      },
      "source": [
        "df_trial[\"LOCATION_ID\"].value_counts()"
      ],
      "execution_count": 162,
      "outputs": [
        {
          "output_type": "execute_result",
          "data": {
            "text/plain": [
              "8          76\n",
              "19         68\n",
              "9          53\n",
              "16         52\n",
              "12         47\n",
              "5          44\n",
              "2          41\n",
              "4          37\n",
              "15         35\n",
              "13         35\n",
              "6          33\n",
              "32         29\n",
              "11         26\n",
              "22         24\n",
              "29         21\n",
              "14         20\n",
              "18         16\n",
              "31         12\n",
              "1          11\n",
              "37         10\n",
              "39          9\n",
              "21          8\n",
              "27          8\n",
              "28          8\n",
              "43          7\n",
              "25          6\n",
              "20          5\n",
              "36          4\n",
              "30          4\n",
              "7           4\n",
              "38          4\n",
              "40          3\n",
              "3           3\n",
              "35          2\n",
              "41          1\n",
              "44          1\n",
              "34          1\n",
              "SAFIDON     1\n",
              "17          1\n",
              "NUH         1\n",
              "33          1\n",
              "42          1\n",
              "24          1\n",
              "23          1\n",
              "LOHARU      1\n",
              "Name: LOCATION_ID, dtype: int64"
            ]
          },
          "metadata": {
            "tags": []
          },
          "execution_count": 162
        }
      ]
    },
    {
      "cell_type": "code",
      "metadata": {
        "id": "mQZk3eGwQtkV"
      },
      "source": [
        "df_trial_1 = df_trial[(df_trial.LOCATION_ID != 'LOHARU')]\n",
        "df_trial_1 = df_trial_1[(df_trial_1.LOCATION_ID != 'NUH')]\n",
        "df_trial_1 = df_trial_1[(df_trial_1.LOCATION_ID != 'SAFIDON')]"
      ],
      "execution_count": 163,
      "outputs": []
    },
    {
      "cell_type": "code",
      "metadata": {
        "colab": {
          "base_uri": "https://localhost:8080/"
        },
        "id": "XMvb_buWQtkV",
        "outputId": "77e05747-9475-436b-8a4e-0c058f0b469b"
      },
      "source": [
        "df_trial_1[\"LOCATION_ID\"].value_counts()"
      ],
      "execution_count": 164,
      "outputs": [
        {
          "output_type": "execute_result",
          "data": {
            "text/plain": [
              "8     76\n",
              "19    68\n",
              "9     53\n",
              "16    52\n",
              "12    47\n",
              "5     44\n",
              "2     41\n",
              "4     37\n",
              "13    35\n",
              "15    35\n",
              "6     33\n",
              "32    29\n",
              "11    26\n",
              "22    24\n",
              "29    21\n",
              "14    20\n",
              "18    16\n",
              "31    12\n",
              "1     11\n",
              "37    10\n",
              "39     9\n",
              "27     8\n",
              "28     8\n",
              "21     8\n",
              "43     7\n",
              "25     6\n",
              "20     5\n",
              "30     4\n",
              "38     4\n",
              "7      4\n",
              "36     4\n",
              "40     3\n",
              "3      3\n",
              "35     2\n",
              "41     1\n",
              "34     1\n",
              "44     1\n",
              "17     1\n",
              "42     1\n",
              "24     1\n",
              "23     1\n",
              "33     1\n",
              "Name: LOCATION_ID, dtype: int64"
            ]
          },
          "metadata": {
            "tags": []
          },
          "execution_count": 164
        }
      ]
    },
    {
      "cell_type": "code",
      "metadata": {
        "id": "-4sW4g5GQtkW"
      },
      "source": [
        "df_trial_2 = df_trial_1.drop_duplicates(keep = 'first')"
      ],
      "execution_count": 165,
      "outputs": []
    },
    {
      "cell_type": "code",
      "metadata": {
        "colab": {
          "base_uri": "https://localhost:8080/"
        },
        "id": "U-bFdKW3QtkW",
        "outputId": "0a5e0591-2a56-4d78-f7f4-52a8705bd260"
      },
      "source": [
        "df_trial_2.info()"
      ],
      "execution_count": 166,
      "outputs": [
        {
          "output_type": "stream",
          "text": [
            "<class 'pandas.core.frame.DataFrame'>\n",
            "Int64Index: 760 entries, 0 to 775\n",
            "Data columns (total 18 columns):\n",
            " #   Column         Non-Null Count  Dtype  \n",
            "---  ------         --------------  -----  \n",
            " 0   Sector_score   760 non-null    float64\n",
            " 1   LOCATION_ID    760 non-null    object \n",
            " 2   PARA_A         760 non-null    float64\n",
            " 3   Score_A        760 non-null    float64\n",
            " 4   PARA_B         760 non-null    float64\n",
            " 5   Score_B        760 non-null    float64\n",
            " 6   TOTAL          760 non-null    float64\n",
            " 7   numbers        760 non-null    float64\n",
            " 8   Marks          760 non-null    int64  \n",
            " 9   Money_Value    760 non-null    float64\n",
            " 10  MONEY_Marks    760 non-null    int64  \n",
            " 11  District       760 non-null    int64  \n",
            " 12  Loss           760 non-null    int64  \n",
            " 13  LOSS_SCORE     760 non-null    int64  \n",
            " 14  History        760 non-null    int64  \n",
            " 15  History_score  760 non-null    int64  \n",
            " 16  Score          760 non-null    float64\n",
            " 17  Risk           760 non-null    int64  \n",
            "dtypes: float64(9), int64(8), object(1)\n",
            "memory usage: 112.8+ KB\n"
          ],
          "name": "stdout"
        }
      ]
    },
    {
      "cell_type": "code",
      "metadata": {
        "id": "7BclTqwQQtkX"
      },
      "source": [
        "df_trial_3 = df_trial_2.astype(float)"
      ],
      "execution_count": 167,
      "outputs": []
    },
    {
      "cell_type": "code",
      "metadata": {
        "colab": {
          "base_uri": "https://localhost:8080/"
        },
        "id": "-g6Y8mMBQtkX",
        "outputId": "1ee1bab6-724c-4c81-ca61-450642310440"
      },
      "source": [
        "df_trial_3.info()"
      ],
      "execution_count": 168,
      "outputs": [
        {
          "output_type": "stream",
          "text": [
            "<class 'pandas.core.frame.DataFrame'>\n",
            "Int64Index: 760 entries, 0 to 775\n",
            "Data columns (total 18 columns):\n",
            " #   Column         Non-Null Count  Dtype  \n",
            "---  ------         --------------  -----  \n",
            " 0   Sector_score   760 non-null    float64\n",
            " 1   LOCATION_ID    760 non-null    float64\n",
            " 2   PARA_A         760 non-null    float64\n",
            " 3   Score_A        760 non-null    float64\n",
            " 4   PARA_B         760 non-null    float64\n",
            " 5   Score_B        760 non-null    float64\n",
            " 6   TOTAL          760 non-null    float64\n",
            " 7   numbers        760 non-null    float64\n",
            " 8   Marks          760 non-null    float64\n",
            " 9   Money_Value    760 non-null    float64\n",
            " 10  MONEY_Marks    760 non-null    float64\n",
            " 11  District       760 non-null    float64\n",
            " 12  Loss           760 non-null    float64\n",
            " 13  LOSS_SCORE     760 non-null    float64\n",
            " 14  History        760 non-null    float64\n",
            " 15  History_score  760 non-null    float64\n",
            " 16  Score          760 non-null    float64\n",
            " 17  Risk           760 non-null    float64\n",
            "dtypes: float64(18)\n",
            "memory usage: 112.8 KB\n"
          ],
          "name": "stdout"
        }
      ]
    },
    {
      "cell_type": "code",
      "metadata": {
        "id": "Bes0lK-YV-xD",
        "outputId": "b1077fe8-d0b3-4727-91f9-16af335f2280",
        "colab": {
          "base_uri": "https://localhost:8080/"
        }
      },
      "source": [
        "df_audit_risk_3.columns"
      ],
      "execution_count": 169,
      "outputs": [
        {
          "output_type": "execute_result",
          "data": {
            "text/plain": [
              "Index(['Sector_score', 'LOCATION_ID', 'PARA_A', 'Score_A', 'Risk_A', 'PARA_B',\n",
              "       'Score_B', 'Risk_B', 'TOTAL', 'numbers', 'Score_B.1', 'Risk_C',\n",
              "       'Money_Value', 'Score_MV', 'Risk_D', 'District_Loss', 'PROB', 'RiSk_E',\n",
              "       'History', 'Prob', 'Risk_F', 'Score', 'Inherent_Risk', 'CONTROL_RISK',\n",
              "       'Audit_Risk', 'Risk'],\n",
              "      dtype='object')"
            ]
          },
          "metadata": {
            "tags": []
          },
          "execution_count": 169
        }
      ]
    },
    {
      "cell_type": "code",
      "metadata": {
        "id": "YFgLLUlUWHoy",
        "outputId": "e4b13957-5f27-4bc5-d0d6-2e0312295509",
        "colab": {
          "base_uri": "https://localhost:8080/"
        }
      },
      "source": [
        "df_trial_3.columns"
      ],
      "execution_count": 170,
      "outputs": [
        {
          "output_type": "execute_result",
          "data": {
            "text/plain": [
              "Index(['Sector_score', 'LOCATION_ID', 'PARA_A', 'Score_A', 'PARA_B', 'Score_B',\n",
              "       'TOTAL', 'numbers', 'Marks', 'Money_Value', 'MONEY_Marks', 'District',\n",
              "       'Loss', 'LOSS_SCORE', 'History', 'History_score', 'Score', 'Risk'],\n",
              "      dtype='object')"
            ]
          },
          "metadata": {
            "tags": []
          },
          "execution_count": 170
        }
      ]
    },
    {
      "cell_type": "code",
      "metadata": {
        "id": "FqmkEeZgWNkn",
        "outputId": "4100652f-9b63-47fa-a444-64e670410fe2",
        "colab": {
          "base_uri": "https://localhost:8080/"
        }
      },
      "source": [
        "common_columns = np.intersect1d(df_audit_risk_3.columns, df_trial_3.columns)\n",
        "common_columns"
      ],
      "execution_count": 173,
      "outputs": [
        {
          "output_type": "execute_result",
          "data": {
            "text/plain": [
              "array(['History', 'LOCATION_ID', 'Money_Value', 'PARA_A', 'PARA_B',\n",
              "       'Risk', 'Score', 'Score_A', 'Score_B', 'Sector_score', 'TOTAL',\n",
              "       'numbers'], dtype=object)"
            ]
          },
          "metadata": {
            "tags": []
          },
          "execution_count": 173
        }
      ]
    },
    {
      "cell_type": "code",
      "metadata": {
        "id": "xwZtDa2k0R3U",
        "outputId": "d4b94511-a4fc-4006-f6ec-028315e04a73",
        "colab": {
          "base_uri": "https://localhost:8080/"
        }
      },
      "source": [
        "df_audit_risk_3['History'].equals(df_trial_3['History'])"
      ],
      "execution_count": 174,
      "outputs": [
        {
          "output_type": "execute_result",
          "data": {
            "text/plain": [
              "True"
            ]
          },
          "metadata": {
            "tags": []
          },
          "execution_count": 174
        }
      ]
    },
    {
      "cell_type": "code",
      "metadata": {
        "id": "MQgrObYeWk9K",
        "outputId": "14f50e9d-8906-40d3-e458-d17823c31cf3",
        "colab": {
          "base_uri": "https://localhost:8080/"
        }
      },
      "source": [
        "df_audit_risk_3['LOCATION_ID'].equals(df_trial_3['LOCATION_ID'])"
      ],
      "execution_count": 176,
      "outputs": [
        {
          "output_type": "execute_result",
          "data": {
            "text/plain": [
              "True"
            ]
          },
          "metadata": {
            "tags": []
          },
          "execution_count": 176
        }
      ]
    },
    {
      "cell_type": "code",
      "metadata": {
        "id": "GiJ-sPsMWkqq",
        "outputId": "fbae4c3f-4807-4830-a45f-90307d36668e",
        "colab": {
          "base_uri": "https://localhost:8080/"
        }
      },
      "source": [
        "df_audit_risk_3['Money_Value'].equals(df_trial_3['Money_Value'])"
      ],
      "execution_count": 177,
      "outputs": [
        {
          "output_type": "execute_result",
          "data": {
            "text/plain": [
              "True"
            ]
          },
          "metadata": {
            "tags": []
          },
          "execution_count": 177
        }
      ]
    },
    {
      "cell_type": "code",
      "metadata": {
        "id": "tjDp3g0AWkdK",
        "outputId": "c3f9dc52-82ab-4292-f549-3925ab7e6912",
        "colab": {
          "base_uri": "https://localhost:8080/"
        }
      },
      "source": [
        "df_audit_risk_3['PARA_A'].equals(df_trial_3['PARA_A'])"
      ],
      "execution_count": 178,
      "outputs": [
        {
          "output_type": "execute_result",
          "data": {
            "text/plain": [
              "True"
            ]
          },
          "metadata": {
            "tags": []
          },
          "execution_count": 178
        }
      ]
    },
    {
      "cell_type": "code",
      "metadata": {
        "id": "y2p0TXG3WkO0",
        "outputId": "6e3bf9c6-44e6-4472-afd2-9ba14e675dc4",
        "colab": {
          "base_uri": "https://localhost:8080/"
        }
      },
      "source": [
        "df_audit_risk_3['PARA_B'].equals(df_trial_3['PARA_B'])"
      ],
      "execution_count": 179,
      "outputs": [
        {
          "output_type": "execute_result",
          "data": {
            "text/plain": [
              "True"
            ]
          },
          "metadata": {
            "tags": []
          },
          "execution_count": 179
        }
      ]
    },
    {
      "cell_type": "code",
      "metadata": {
        "id": "Jv6oSa4AWj7S",
        "outputId": "319b2817-7d3c-4c8d-c661-812eefd39bc9",
        "colab": {
          "base_uri": "https://localhost:8080/"
        }
      },
      "source": [
        "df_audit_risk_3['Risk'].equals(df_trial_3['Risk'])"
      ],
      "execution_count": 180,
      "outputs": [
        {
          "output_type": "execute_result",
          "data": {
            "text/plain": [
              "False"
            ]
          },
          "metadata": {
            "tags": []
          },
          "execution_count": 180
        }
      ]
    },
    {
      "cell_type": "code",
      "metadata": {
        "id": "rkG3dR7UWdjv",
        "outputId": "55dc0e62-63f3-4934-e1f5-26c6654ff569",
        "colab": {
          "base_uri": "https://localhost:8080/"
        }
      },
      "source": [
        "df_audit_risk_3['Score'].equals(df_trial_3['Score'])"
      ],
      "execution_count": 181,
      "outputs": [
        {
          "output_type": "execute_result",
          "data": {
            "text/plain": [
              "True"
            ]
          },
          "metadata": {
            "tags": []
          },
          "execution_count": 181
        }
      ]
    },
    {
      "cell_type": "code",
      "metadata": {
        "id": "yJU7k-hCWhKy",
        "outputId": "2442f0e6-009b-4d9c-f791-fcc74d8df6ba",
        "colab": {
          "base_uri": "https://localhost:8080/"
        }
      },
      "source": [
        "df_audit_risk_3['Score_A'].equals(df_trial_3['Score_A'])"
      ],
      "execution_count": 182,
      "outputs": [
        {
          "output_type": "execute_result",
          "data": {
            "text/plain": [
              "True"
            ]
          },
          "metadata": {
            "tags": []
          },
          "execution_count": 182
        }
      ]
    },
    {
      "cell_type": "code",
      "metadata": {
        "id": "CdMVqSp9W8js",
        "outputId": "438a3b59-6e8e-4fc8-a226-b0720cd4b6e6",
        "colab": {
          "base_uri": "https://localhost:8080/"
        }
      },
      "source": [
        "df_audit_risk_3['Score_B'].equals(df_trial_3['Score_B'])"
      ],
      "execution_count": 183,
      "outputs": [
        {
          "output_type": "execute_result",
          "data": {
            "text/plain": [
              "True"
            ]
          },
          "metadata": {
            "tags": []
          },
          "execution_count": 183
        }
      ]
    },
    {
      "cell_type": "code",
      "metadata": {
        "id": "FdAxNAiMXA7S",
        "outputId": "ef651d63-cc61-4284-c522-0fa73917d4be",
        "colab": {
          "base_uri": "https://localhost:8080/"
        }
      },
      "source": [
        "df_audit_risk_3['Sector_score'].equals(df_trial_3['Sector_score'])"
      ],
      "execution_count": 184,
      "outputs": [
        {
          "output_type": "execute_result",
          "data": {
            "text/plain": [
              "True"
            ]
          },
          "metadata": {
            "tags": []
          },
          "execution_count": 184
        }
      ]
    },
    {
      "cell_type": "code",
      "metadata": {
        "id": "L7SkqNU1XAhJ",
        "outputId": "07d0ba68-1cb2-494a-e92c-99d516b2dccf",
        "colab": {
          "base_uri": "https://localhost:8080/"
        }
      },
      "source": [
        "df_audit_risk_3['TOTAL'].equals(df_trial_3['TOTAL'])"
      ],
      "execution_count": 185,
      "outputs": [
        {
          "output_type": "execute_result",
          "data": {
            "text/plain": [
              "True"
            ]
          },
          "metadata": {
            "tags": []
          },
          "execution_count": 185
        }
      ]
    },
    {
      "cell_type": "code",
      "metadata": {
        "id": "VkwH5GewXVs_",
        "outputId": "2d19e6e9-4310-4913-e44d-1de9ad475e52",
        "colab": {
          "base_uri": "https://localhost:8080/"
        }
      },
      "source": [
        "df_audit_risk_3['numbers'].equals(df_trial_3['numbers'])"
      ],
      "execution_count": 186,
      "outputs": [
        {
          "output_type": "execute_result",
          "data": {
            "text/plain": [
              "True"
            ]
          },
          "metadata": {
            "tags": []
          },
          "execution_count": 186
        }
      ]
    },
    {
      "cell_type": "markdown",
      "metadata": {
        "id": "vaEFcX-fXgIy"
      },
      "source": [
        "So they are equals but the Risk column in trial dataset has different data which is conflicting to the audit dataset. so two datasets can be merged after droping Risk from trial dataset"
      ]
    },
    {
      "cell_type": "code",
      "metadata": {
        "id": "mV-b3PA9XwHX"
      },
      "source": [
        "df_trial_4 = df_trial_3.drop(['Risk'], axis = 1)"
      ],
      "execution_count": 187,
      "outputs": []
    },
    {
      "cell_type": "code",
      "metadata": {
        "id": "UFPhn8jWYZ0D",
        "outputId": "e0bf1223-6df1-4c81-bc28-1836c5622588",
        "colab": {
          "base_uri": "https://localhost:8080/",
          "height": 439
        }
      },
      "source": [
        "df_trial_4"
      ],
      "execution_count": 188,
      "outputs": [
        {
          "output_type": "execute_result",
          "data": {
            "text/html": [
              "<div>\n",
              "<style scoped>\n",
              "    .dataframe tbody tr th:only-of-type {\n",
              "        vertical-align: middle;\n",
              "    }\n",
              "\n",
              "    .dataframe tbody tr th {\n",
              "        vertical-align: top;\n",
              "    }\n",
              "\n",
              "    .dataframe thead th {\n",
              "        text-align: right;\n",
              "    }\n",
              "</style>\n",
              "<table border=\"1\" class=\"dataframe\">\n",
              "  <thead>\n",
              "    <tr style=\"text-align: right;\">\n",
              "      <th></th>\n",
              "      <th>Sector_score</th>\n",
              "      <th>LOCATION_ID</th>\n",
              "      <th>PARA_A</th>\n",
              "      <th>Score_A</th>\n",
              "      <th>PARA_B</th>\n",
              "      <th>Score_B</th>\n",
              "      <th>TOTAL</th>\n",
              "      <th>numbers</th>\n",
              "      <th>Marks</th>\n",
              "      <th>Money_Value</th>\n",
              "      <th>MONEY_Marks</th>\n",
              "      <th>District</th>\n",
              "      <th>Loss</th>\n",
              "      <th>LOSS_SCORE</th>\n",
              "      <th>History</th>\n",
              "      <th>History_score</th>\n",
              "      <th>Score</th>\n",
              "    </tr>\n",
              "  </thead>\n",
              "  <tbody>\n",
              "    <tr>\n",
              "      <th>0</th>\n",
              "      <td>3.89</td>\n",
              "      <td>23.0</td>\n",
              "      <td>4.18</td>\n",
              "      <td>0.6</td>\n",
              "      <td>2.50</td>\n",
              "      <td>0.2</td>\n",
              "      <td>6.68</td>\n",
              "      <td>5.0</td>\n",
              "      <td>2.0</td>\n",
              "      <td>3.38</td>\n",
              "      <td>2.0</td>\n",
              "      <td>2.0</td>\n",
              "      <td>0.0</td>\n",
              "      <td>2.0</td>\n",
              "      <td>0.0</td>\n",
              "      <td>2.0</td>\n",
              "      <td>2.4</td>\n",
              "    </tr>\n",
              "    <tr>\n",
              "      <th>1</th>\n",
              "      <td>3.89</td>\n",
              "      <td>6.0</td>\n",
              "      <td>0.00</td>\n",
              "      <td>0.2</td>\n",
              "      <td>4.83</td>\n",
              "      <td>0.2</td>\n",
              "      <td>4.83</td>\n",
              "      <td>5.0</td>\n",
              "      <td>2.0</td>\n",
              "      <td>0.94</td>\n",
              "      <td>2.0</td>\n",
              "      <td>2.0</td>\n",
              "      <td>0.0</td>\n",
              "      <td>2.0</td>\n",
              "      <td>0.0</td>\n",
              "      <td>2.0</td>\n",
              "      <td>2.0</td>\n",
              "    </tr>\n",
              "    <tr>\n",
              "      <th>2</th>\n",
              "      <td>3.89</td>\n",
              "      <td>6.0</td>\n",
              "      <td>0.51</td>\n",
              "      <td>0.2</td>\n",
              "      <td>0.23</td>\n",
              "      <td>0.2</td>\n",
              "      <td>0.74</td>\n",
              "      <td>5.0</td>\n",
              "      <td>2.0</td>\n",
              "      <td>0.00</td>\n",
              "      <td>2.0</td>\n",
              "      <td>2.0</td>\n",
              "      <td>0.0</td>\n",
              "      <td>2.0</td>\n",
              "      <td>0.0</td>\n",
              "      <td>2.0</td>\n",
              "      <td>2.0</td>\n",
              "    </tr>\n",
              "    <tr>\n",
              "      <th>3</th>\n",
              "      <td>3.89</td>\n",
              "      <td>6.0</td>\n",
              "      <td>0.00</td>\n",
              "      <td>0.2</td>\n",
              "      <td>10.80</td>\n",
              "      <td>0.6</td>\n",
              "      <td>10.80</td>\n",
              "      <td>6.0</td>\n",
              "      <td>6.0</td>\n",
              "      <td>11.75</td>\n",
              "      <td>6.0</td>\n",
              "      <td>2.0</td>\n",
              "      <td>0.0</td>\n",
              "      <td>2.0</td>\n",
              "      <td>0.0</td>\n",
              "      <td>2.0</td>\n",
              "      <td>4.4</td>\n",
              "    </tr>\n",
              "    <tr>\n",
              "      <th>4</th>\n",
              "      <td>3.89</td>\n",
              "      <td>6.0</td>\n",
              "      <td>0.00</td>\n",
              "      <td>0.2</td>\n",
              "      <td>0.08</td>\n",
              "      <td>0.2</td>\n",
              "      <td>0.08</td>\n",
              "      <td>5.0</td>\n",
              "      <td>2.0</td>\n",
              "      <td>0.00</td>\n",
              "      <td>2.0</td>\n",
              "      <td>2.0</td>\n",
              "      <td>0.0</td>\n",
              "      <td>2.0</td>\n",
              "      <td>0.0</td>\n",
              "      <td>2.0</td>\n",
              "      <td>2.0</td>\n",
              "    </tr>\n",
              "    <tr>\n",
              "      <th>...</th>\n",
              "      <td>...</td>\n",
              "      <td>...</td>\n",
              "      <td>...</td>\n",
              "      <td>...</td>\n",
              "      <td>...</td>\n",
              "      <td>...</td>\n",
              "      <td>...</td>\n",
              "      <td>...</td>\n",
              "      <td>...</td>\n",
              "      <td>...</td>\n",
              "      <td>...</td>\n",
              "      <td>...</td>\n",
              "      <td>...</td>\n",
              "      <td>...</td>\n",
              "      <td>...</td>\n",
              "      <td>...</td>\n",
              "      <td>...</td>\n",
              "    </tr>\n",
              "    <tr>\n",
              "      <th>770</th>\n",
              "      <td>55.57</td>\n",
              "      <td>18.0</td>\n",
              "      <td>0.75</td>\n",
              "      <td>0.2</td>\n",
              "      <td>0.45</td>\n",
              "      <td>0.2</td>\n",
              "      <td>1.20</td>\n",
              "      <td>5.0</td>\n",
              "      <td>2.0</td>\n",
              "      <td>0.00</td>\n",
              "      <td>2.0</td>\n",
              "      <td>2.0</td>\n",
              "      <td>0.0</td>\n",
              "      <td>2.0</td>\n",
              "      <td>0.0</td>\n",
              "      <td>2.0</td>\n",
              "      <td>2.0</td>\n",
              "    </tr>\n",
              "    <tr>\n",
              "      <th>772</th>\n",
              "      <td>55.57</td>\n",
              "      <td>16.0</td>\n",
              "      <td>0.47</td>\n",
              "      <td>0.2</td>\n",
              "      <td>0.37</td>\n",
              "      <td>0.2</td>\n",
              "      <td>0.84</td>\n",
              "      <td>5.0</td>\n",
              "      <td>2.0</td>\n",
              "      <td>0.00</td>\n",
              "      <td>2.0</td>\n",
              "      <td>2.0</td>\n",
              "      <td>0.0</td>\n",
              "      <td>2.0</td>\n",
              "      <td>0.0</td>\n",
              "      <td>2.0</td>\n",
              "      <td>2.0</td>\n",
              "    </tr>\n",
              "    <tr>\n",
              "      <th>773</th>\n",
              "      <td>55.57</td>\n",
              "      <td>14.0</td>\n",
              "      <td>0.24</td>\n",
              "      <td>0.2</td>\n",
              "      <td>0.04</td>\n",
              "      <td>0.2</td>\n",
              "      <td>0.28</td>\n",
              "      <td>5.0</td>\n",
              "      <td>2.0</td>\n",
              "      <td>0.00</td>\n",
              "      <td>2.0</td>\n",
              "      <td>2.0</td>\n",
              "      <td>0.0</td>\n",
              "      <td>2.0</td>\n",
              "      <td>0.0</td>\n",
              "      <td>2.0</td>\n",
              "      <td>2.0</td>\n",
              "    </tr>\n",
              "    <tr>\n",
              "      <th>774</th>\n",
              "      <td>55.57</td>\n",
              "      <td>18.0</td>\n",
              "      <td>0.20</td>\n",
              "      <td>0.2</td>\n",
              "      <td>0.00</td>\n",
              "      <td>0.2</td>\n",
              "      <td>0.20</td>\n",
              "      <td>5.0</td>\n",
              "      <td>2.0</td>\n",
              "      <td>0.00</td>\n",
              "      <td>2.0</td>\n",
              "      <td>2.0</td>\n",
              "      <td>0.0</td>\n",
              "      <td>2.0</td>\n",
              "      <td>0.0</td>\n",
              "      <td>2.0</td>\n",
              "      <td>2.0</td>\n",
              "    </tr>\n",
              "    <tr>\n",
              "      <th>775</th>\n",
              "      <td>55.57</td>\n",
              "      <td>15.0</td>\n",
              "      <td>0.00</td>\n",
              "      <td>0.2</td>\n",
              "      <td>0.00</td>\n",
              "      <td>0.2</td>\n",
              "      <td>0.00</td>\n",
              "      <td>5.0</td>\n",
              "      <td>2.0</td>\n",
              "      <td>0.32</td>\n",
              "      <td>2.0</td>\n",
              "      <td>2.0</td>\n",
              "      <td>0.0</td>\n",
              "      <td>2.0</td>\n",
              "      <td>0.0</td>\n",
              "      <td>2.0</td>\n",
              "      <td>2.0</td>\n",
              "    </tr>\n",
              "  </tbody>\n",
              "</table>\n",
              "<p>760 rows × 17 columns</p>\n",
              "</div>"
            ],
            "text/plain": [
              "     Sector_score  LOCATION_ID  PARA_A  ...  History  History_score  Score\n",
              "0            3.89         23.0    4.18  ...      0.0            2.0    2.4\n",
              "1            3.89          6.0    0.00  ...      0.0            2.0    2.0\n",
              "2            3.89          6.0    0.51  ...      0.0            2.0    2.0\n",
              "3            3.89          6.0    0.00  ...      0.0            2.0    4.4\n",
              "4            3.89          6.0    0.00  ...      0.0            2.0    2.0\n",
              "..            ...          ...     ...  ...      ...            ...    ...\n",
              "770         55.57         18.0    0.75  ...      0.0            2.0    2.0\n",
              "772         55.57         16.0    0.47  ...      0.0            2.0    2.0\n",
              "773         55.57         14.0    0.24  ...      0.0            2.0    2.0\n",
              "774         55.57         18.0    0.20  ...      0.0            2.0    2.0\n",
              "775         55.57         15.0    0.00  ...      0.0            2.0    2.0\n",
              "\n",
              "[760 rows x 17 columns]"
            ]
          },
          "metadata": {
            "tags": []
          },
          "execution_count": 188
        }
      ]
    },
    {
      "cell_type": "code",
      "metadata": {
        "id": "yf88EMY3YqGZ",
        "outputId": "87cbc0bc-fcdb-4df4-d735-4c457ef11ee7",
        "colab": {
          "base_uri": "https://localhost:8080/"
        }
      },
      "source": [
        "common_columns = np.intersect1d(df_audit_risk_3.columns, df_trial_4.columns)\n",
        "common_columns"
      ],
      "execution_count": 190,
      "outputs": [
        {
          "output_type": "execute_result",
          "data": {
            "text/plain": [
              "array(['History', 'LOCATION_ID', 'Money_Value', 'PARA_A', 'PARA_B',\n",
              "       'Score', 'Score_A', 'Score_B', 'Sector_score', 'TOTAL', 'numbers'],\n",
              "      dtype=object)"
            ]
          },
          "metadata": {
            "tags": []
          },
          "execution_count": 190
        }
      ]
    },
    {
      "cell_type": "code",
      "metadata": {
        "id": "BXuefdGQYpNq"
      },
      "source": [
        "one_df = pd.merge(df_audit_risk_3, df_trial_4, how='outer', on = ['History', 'LOCATION_ID', 'Money_Value', 'PARA_A', 'PARA_B',\n",
        "       'Score', 'Score_A', 'Score_B', 'Sector_score', 'TOTAL', 'numbers'])"
      ],
      "execution_count": 191,
      "outputs": []
    },
    {
      "cell_type": "code",
      "metadata": {
        "id": "OokW1gNkaR8u",
        "outputId": "b0920bac-ebb9-4804-9ba4-d37e8ccf4db7",
        "colab": {
          "base_uri": "https://localhost:8080/",
          "height": 439
        }
      },
      "source": [
        "one_df"
      ],
      "execution_count": 192,
      "outputs": [
        {
          "output_type": "execute_result",
          "data": {
            "text/html": [
              "<div>\n",
              "<style scoped>\n",
              "    .dataframe tbody tr th:only-of-type {\n",
              "        vertical-align: middle;\n",
              "    }\n",
              "\n",
              "    .dataframe tbody tr th {\n",
              "        vertical-align: top;\n",
              "    }\n",
              "\n",
              "    .dataframe thead th {\n",
              "        text-align: right;\n",
              "    }\n",
              "</style>\n",
              "<table border=\"1\" class=\"dataframe\">\n",
              "  <thead>\n",
              "    <tr style=\"text-align: right;\">\n",
              "      <th></th>\n",
              "      <th>Sector_score</th>\n",
              "      <th>LOCATION_ID</th>\n",
              "      <th>PARA_A</th>\n",
              "      <th>Score_A</th>\n",
              "      <th>Risk_A</th>\n",
              "      <th>PARA_B</th>\n",
              "      <th>Score_B</th>\n",
              "      <th>Risk_B</th>\n",
              "      <th>TOTAL</th>\n",
              "      <th>numbers</th>\n",
              "      <th>Score_B.1</th>\n",
              "      <th>Risk_C</th>\n",
              "      <th>Money_Value</th>\n",
              "      <th>Score_MV</th>\n",
              "      <th>Risk_D</th>\n",
              "      <th>District_Loss</th>\n",
              "      <th>PROB</th>\n",
              "      <th>RiSk_E</th>\n",
              "      <th>History</th>\n",
              "      <th>Prob</th>\n",
              "      <th>Risk_F</th>\n",
              "      <th>Score</th>\n",
              "      <th>Inherent_Risk</th>\n",
              "      <th>CONTROL_RISK</th>\n",
              "      <th>Audit_Risk</th>\n",
              "      <th>Risk</th>\n",
              "      <th>Marks</th>\n",
              "      <th>MONEY_Marks</th>\n",
              "      <th>District</th>\n",
              "      <th>Loss</th>\n",
              "      <th>LOSS_SCORE</th>\n",
              "      <th>History_score</th>\n",
              "    </tr>\n",
              "  </thead>\n",
              "  <tbody>\n",
              "    <tr>\n",
              "      <th>0</th>\n",
              "      <td>3.89</td>\n",
              "      <td>23.0</td>\n",
              "      <td>4.18</td>\n",
              "      <td>0.6</td>\n",
              "      <td>2.508</td>\n",
              "      <td>2.50</td>\n",
              "      <td>0.2</td>\n",
              "      <td>0.500</td>\n",
              "      <td>6.68</td>\n",
              "      <td>5.0</td>\n",
              "      <td>0.2</td>\n",
              "      <td>1.0</td>\n",
              "      <td>3.38</td>\n",
              "      <td>0.2</td>\n",
              "      <td>0.676</td>\n",
              "      <td>2.0</td>\n",
              "      <td>0.2</td>\n",
              "      <td>0.4</td>\n",
              "      <td>0.0</td>\n",
              "      <td>0.2</td>\n",
              "      <td>0.0</td>\n",
              "      <td>2.4</td>\n",
              "      <td>8.574</td>\n",
              "      <td>0.4</td>\n",
              "      <td>1.7148</td>\n",
              "      <td>1.0</td>\n",
              "      <td>2.0</td>\n",
              "      <td>2.0</td>\n",
              "      <td>2.0</td>\n",
              "      <td>0.0</td>\n",
              "      <td>2.0</td>\n",
              "      <td>2.0</td>\n",
              "    </tr>\n",
              "    <tr>\n",
              "      <th>1</th>\n",
              "      <td>3.89</td>\n",
              "      <td>6.0</td>\n",
              "      <td>0.00</td>\n",
              "      <td>0.2</td>\n",
              "      <td>0.000</td>\n",
              "      <td>4.83</td>\n",
              "      <td>0.2</td>\n",
              "      <td>0.966</td>\n",
              "      <td>4.83</td>\n",
              "      <td>5.0</td>\n",
              "      <td>0.2</td>\n",
              "      <td>1.0</td>\n",
              "      <td>0.94</td>\n",
              "      <td>0.2</td>\n",
              "      <td>0.188</td>\n",
              "      <td>2.0</td>\n",
              "      <td>0.2</td>\n",
              "      <td>0.4</td>\n",
              "      <td>0.0</td>\n",
              "      <td>0.2</td>\n",
              "      <td>0.0</td>\n",
              "      <td>2.0</td>\n",
              "      <td>2.554</td>\n",
              "      <td>0.4</td>\n",
              "      <td>0.5108</td>\n",
              "      <td>0.0</td>\n",
              "      <td>2.0</td>\n",
              "      <td>2.0</td>\n",
              "      <td>2.0</td>\n",
              "      <td>0.0</td>\n",
              "      <td>2.0</td>\n",
              "      <td>2.0</td>\n",
              "    </tr>\n",
              "    <tr>\n",
              "      <th>2</th>\n",
              "      <td>3.89</td>\n",
              "      <td>6.0</td>\n",
              "      <td>0.51</td>\n",
              "      <td>0.2</td>\n",
              "      <td>0.102</td>\n",
              "      <td>0.23</td>\n",
              "      <td>0.2</td>\n",
              "      <td>0.046</td>\n",
              "      <td>0.74</td>\n",
              "      <td>5.0</td>\n",
              "      <td>0.2</td>\n",
              "      <td>1.0</td>\n",
              "      <td>0.00</td>\n",
              "      <td>0.2</td>\n",
              "      <td>0.000</td>\n",
              "      <td>2.0</td>\n",
              "      <td>0.2</td>\n",
              "      <td>0.4</td>\n",
              "      <td>0.0</td>\n",
              "      <td>0.2</td>\n",
              "      <td>0.0</td>\n",
              "      <td>2.0</td>\n",
              "      <td>1.548</td>\n",
              "      <td>0.4</td>\n",
              "      <td>0.3096</td>\n",
              "      <td>0.0</td>\n",
              "      <td>2.0</td>\n",
              "      <td>2.0</td>\n",
              "      <td>2.0</td>\n",
              "      <td>0.0</td>\n",
              "      <td>2.0</td>\n",
              "      <td>2.0</td>\n",
              "    </tr>\n",
              "    <tr>\n",
              "      <th>3</th>\n",
              "      <td>3.89</td>\n",
              "      <td>6.0</td>\n",
              "      <td>0.00</td>\n",
              "      <td>0.2</td>\n",
              "      <td>0.000</td>\n",
              "      <td>10.80</td>\n",
              "      <td>0.6</td>\n",
              "      <td>6.480</td>\n",
              "      <td>10.80</td>\n",
              "      <td>6.0</td>\n",
              "      <td>0.6</td>\n",
              "      <td>3.6</td>\n",
              "      <td>11.75</td>\n",
              "      <td>0.6</td>\n",
              "      <td>7.050</td>\n",
              "      <td>2.0</td>\n",
              "      <td>0.2</td>\n",
              "      <td>0.4</td>\n",
              "      <td>0.0</td>\n",
              "      <td>0.2</td>\n",
              "      <td>0.0</td>\n",
              "      <td>4.4</td>\n",
              "      <td>17.530</td>\n",
              "      <td>0.4</td>\n",
              "      <td>3.5060</td>\n",
              "      <td>1.0</td>\n",
              "      <td>6.0</td>\n",
              "      <td>6.0</td>\n",
              "      <td>2.0</td>\n",
              "      <td>0.0</td>\n",
              "      <td>2.0</td>\n",
              "      <td>2.0</td>\n",
              "    </tr>\n",
              "    <tr>\n",
              "      <th>4</th>\n",
              "      <td>3.89</td>\n",
              "      <td>6.0</td>\n",
              "      <td>0.00</td>\n",
              "      <td>0.2</td>\n",
              "      <td>0.000</td>\n",
              "      <td>0.08</td>\n",
              "      <td>0.2</td>\n",
              "      <td>0.016</td>\n",
              "      <td>0.08</td>\n",
              "      <td>5.0</td>\n",
              "      <td>0.2</td>\n",
              "      <td>1.0</td>\n",
              "      <td>0.00</td>\n",
              "      <td>0.2</td>\n",
              "      <td>0.000</td>\n",
              "      <td>2.0</td>\n",
              "      <td>0.2</td>\n",
              "      <td>0.4</td>\n",
              "      <td>0.0</td>\n",
              "      <td>0.2</td>\n",
              "      <td>0.0</td>\n",
              "      <td>2.0</td>\n",
              "      <td>1.416</td>\n",
              "      <td>0.4</td>\n",
              "      <td>0.2832</td>\n",
              "      <td>0.0</td>\n",
              "      <td>2.0</td>\n",
              "      <td>2.0</td>\n",
              "      <td>2.0</td>\n",
              "      <td>0.0</td>\n",
              "      <td>2.0</td>\n",
              "      <td>2.0</td>\n",
              "    </tr>\n",
              "    <tr>\n",
              "      <th>...</th>\n",
              "      <td>...</td>\n",
              "      <td>...</td>\n",
              "      <td>...</td>\n",
              "      <td>...</td>\n",
              "      <td>...</td>\n",
              "      <td>...</td>\n",
              "      <td>...</td>\n",
              "      <td>...</td>\n",
              "      <td>...</td>\n",
              "      <td>...</td>\n",
              "      <td>...</td>\n",
              "      <td>...</td>\n",
              "      <td>...</td>\n",
              "      <td>...</td>\n",
              "      <td>...</td>\n",
              "      <td>...</td>\n",
              "      <td>...</td>\n",
              "      <td>...</td>\n",
              "      <td>...</td>\n",
              "      <td>...</td>\n",
              "      <td>...</td>\n",
              "      <td>...</td>\n",
              "      <td>...</td>\n",
              "      <td>...</td>\n",
              "      <td>...</td>\n",
              "      <td>...</td>\n",
              "      <td>...</td>\n",
              "      <td>...</td>\n",
              "      <td>...</td>\n",
              "      <td>...</td>\n",
              "      <td>...</td>\n",
              "      <td>...</td>\n",
              "    </tr>\n",
              "    <tr>\n",
              "      <th>755</th>\n",
              "      <td>55.57</td>\n",
              "      <td>18.0</td>\n",
              "      <td>0.75</td>\n",
              "      <td>0.2</td>\n",
              "      <td>0.150</td>\n",
              "      <td>0.45</td>\n",
              "      <td>0.2</td>\n",
              "      <td>0.090</td>\n",
              "      <td>1.20</td>\n",
              "      <td>5.0</td>\n",
              "      <td>0.2</td>\n",
              "      <td>1.0</td>\n",
              "      <td>0.00</td>\n",
              "      <td>0.2</td>\n",
              "      <td>0.000</td>\n",
              "      <td>2.0</td>\n",
              "      <td>0.2</td>\n",
              "      <td>0.4</td>\n",
              "      <td>0.0</td>\n",
              "      <td>0.2</td>\n",
              "      <td>0.0</td>\n",
              "      <td>2.0</td>\n",
              "      <td>1.640</td>\n",
              "      <td>0.4</td>\n",
              "      <td>0.3280</td>\n",
              "      <td>0.0</td>\n",
              "      <td>2.0</td>\n",
              "      <td>2.0</td>\n",
              "      <td>2.0</td>\n",
              "      <td>0.0</td>\n",
              "      <td>2.0</td>\n",
              "      <td>2.0</td>\n",
              "    </tr>\n",
              "    <tr>\n",
              "      <th>756</th>\n",
              "      <td>55.57</td>\n",
              "      <td>16.0</td>\n",
              "      <td>0.47</td>\n",
              "      <td>0.2</td>\n",
              "      <td>0.094</td>\n",
              "      <td>0.37</td>\n",
              "      <td>0.2</td>\n",
              "      <td>0.074</td>\n",
              "      <td>0.84</td>\n",
              "      <td>5.0</td>\n",
              "      <td>0.2</td>\n",
              "      <td>1.0</td>\n",
              "      <td>0.00</td>\n",
              "      <td>0.2</td>\n",
              "      <td>0.000</td>\n",
              "      <td>2.0</td>\n",
              "      <td>0.2</td>\n",
              "      <td>0.4</td>\n",
              "      <td>0.0</td>\n",
              "      <td>0.2</td>\n",
              "      <td>0.0</td>\n",
              "      <td>2.0</td>\n",
              "      <td>1.568</td>\n",
              "      <td>0.4</td>\n",
              "      <td>0.3136</td>\n",
              "      <td>0.0</td>\n",
              "      <td>2.0</td>\n",
              "      <td>2.0</td>\n",
              "      <td>2.0</td>\n",
              "      <td>0.0</td>\n",
              "      <td>2.0</td>\n",
              "      <td>2.0</td>\n",
              "    </tr>\n",
              "    <tr>\n",
              "      <th>757</th>\n",
              "      <td>55.57</td>\n",
              "      <td>14.0</td>\n",
              "      <td>0.24</td>\n",
              "      <td>0.2</td>\n",
              "      <td>0.048</td>\n",
              "      <td>0.04</td>\n",
              "      <td>0.2</td>\n",
              "      <td>0.008</td>\n",
              "      <td>0.28</td>\n",
              "      <td>5.0</td>\n",
              "      <td>0.2</td>\n",
              "      <td>1.0</td>\n",
              "      <td>0.00</td>\n",
              "      <td>0.2</td>\n",
              "      <td>0.000</td>\n",
              "      <td>2.0</td>\n",
              "      <td>0.2</td>\n",
              "      <td>0.4</td>\n",
              "      <td>0.0</td>\n",
              "      <td>0.2</td>\n",
              "      <td>0.0</td>\n",
              "      <td>2.0</td>\n",
              "      <td>1.456</td>\n",
              "      <td>0.4</td>\n",
              "      <td>0.2912</td>\n",
              "      <td>0.0</td>\n",
              "      <td>2.0</td>\n",
              "      <td>2.0</td>\n",
              "      <td>2.0</td>\n",
              "      <td>0.0</td>\n",
              "      <td>2.0</td>\n",
              "      <td>2.0</td>\n",
              "    </tr>\n",
              "    <tr>\n",
              "      <th>758</th>\n",
              "      <td>55.57</td>\n",
              "      <td>18.0</td>\n",
              "      <td>0.20</td>\n",
              "      <td>0.2</td>\n",
              "      <td>0.040</td>\n",
              "      <td>0.00</td>\n",
              "      <td>0.2</td>\n",
              "      <td>0.000</td>\n",
              "      <td>0.20</td>\n",
              "      <td>5.0</td>\n",
              "      <td>0.2</td>\n",
              "      <td>1.0</td>\n",
              "      <td>0.00</td>\n",
              "      <td>0.2</td>\n",
              "      <td>0.000</td>\n",
              "      <td>2.0</td>\n",
              "      <td>0.2</td>\n",
              "      <td>0.4</td>\n",
              "      <td>0.0</td>\n",
              "      <td>0.2</td>\n",
              "      <td>0.0</td>\n",
              "      <td>2.0</td>\n",
              "      <td>1.440</td>\n",
              "      <td>0.4</td>\n",
              "      <td>0.2880</td>\n",
              "      <td>0.0</td>\n",
              "      <td>2.0</td>\n",
              "      <td>2.0</td>\n",
              "      <td>2.0</td>\n",
              "      <td>0.0</td>\n",
              "      <td>2.0</td>\n",
              "      <td>2.0</td>\n",
              "    </tr>\n",
              "    <tr>\n",
              "      <th>759</th>\n",
              "      <td>55.57</td>\n",
              "      <td>15.0</td>\n",
              "      <td>0.00</td>\n",
              "      <td>0.2</td>\n",
              "      <td>0.000</td>\n",
              "      <td>0.00</td>\n",
              "      <td>0.2</td>\n",
              "      <td>0.000</td>\n",
              "      <td>0.00</td>\n",
              "      <td>5.0</td>\n",
              "      <td>0.2</td>\n",
              "      <td>1.0</td>\n",
              "      <td>0.32</td>\n",
              "      <td>0.2</td>\n",
              "      <td>0.064</td>\n",
              "      <td>2.0</td>\n",
              "      <td>0.2</td>\n",
              "      <td>0.4</td>\n",
              "      <td>0.0</td>\n",
              "      <td>0.2</td>\n",
              "      <td>0.0</td>\n",
              "      <td>2.0</td>\n",
              "      <td>1.464</td>\n",
              "      <td>0.4</td>\n",
              "      <td>0.2928</td>\n",
              "      <td>0.0</td>\n",
              "      <td>2.0</td>\n",
              "      <td>2.0</td>\n",
              "      <td>2.0</td>\n",
              "      <td>0.0</td>\n",
              "      <td>2.0</td>\n",
              "      <td>2.0</td>\n",
              "    </tr>\n",
              "  </tbody>\n",
              "</table>\n",
              "<p>760 rows × 32 columns</p>\n",
              "</div>"
            ],
            "text/plain": [
              "     Sector_score  LOCATION_ID  PARA_A  ...  Loss  LOSS_SCORE  History_score\n",
              "0            3.89         23.0    4.18  ...   0.0         2.0            2.0\n",
              "1            3.89          6.0    0.00  ...   0.0         2.0            2.0\n",
              "2            3.89          6.0    0.51  ...   0.0         2.0            2.0\n",
              "3            3.89          6.0    0.00  ...   0.0         2.0            2.0\n",
              "4            3.89          6.0    0.00  ...   0.0         2.0            2.0\n",
              "..            ...          ...     ...  ...   ...         ...            ...\n",
              "755         55.57         18.0    0.75  ...   0.0         2.0            2.0\n",
              "756         55.57         16.0    0.47  ...   0.0         2.0            2.0\n",
              "757         55.57         14.0    0.24  ...   0.0         2.0            2.0\n",
              "758         55.57         18.0    0.20  ...   0.0         2.0            2.0\n",
              "759         55.57         15.0    0.00  ...   0.0         2.0            2.0\n",
              "\n",
              "[760 rows x 32 columns]"
            ]
          },
          "metadata": {
            "tags": []
          },
          "execution_count": 192
        }
      ]
    },
    {
      "cell_type": "code",
      "metadata": {
        "id": "-JGkdoBYaWBJ",
        "outputId": "5c166304-b2b9-4ad3-fb2d-abf797dd65d1",
        "colab": {
          "base_uri": "https://localhost:8080/"
        }
      },
      "source": [
        "one_df.info()"
      ],
      "execution_count": 193,
      "outputs": [
        {
          "output_type": "stream",
          "text": [
            "<class 'pandas.core.frame.DataFrame'>\n",
            "Int64Index: 760 entries, 0 to 759\n",
            "Data columns (total 32 columns):\n",
            " #   Column         Non-Null Count  Dtype  \n",
            "---  ------         --------------  -----  \n",
            " 0   Sector_score   760 non-null    float64\n",
            " 1   LOCATION_ID    760 non-null    float64\n",
            " 2   PARA_A         760 non-null    float64\n",
            " 3   Score_A        760 non-null    float64\n",
            " 4   Risk_A         760 non-null    float64\n",
            " 5   PARA_B         760 non-null    float64\n",
            " 6   Score_B        760 non-null    float64\n",
            " 7   Risk_B         760 non-null    float64\n",
            " 8   TOTAL          760 non-null    float64\n",
            " 9   numbers        760 non-null    float64\n",
            " 10  Score_B.1      760 non-null    float64\n",
            " 11  Risk_C         760 non-null    float64\n",
            " 12  Money_Value    760 non-null    float64\n",
            " 13  Score_MV       760 non-null    float64\n",
            " 14  Risk_D         760 non-null    float64\n",
            " 15  District_Loss  760 non-null    float64\n",
            " 16  PROB           760 non-null    float64\n",
            " 17  RiSk_E         760 non-null    float64\n",
            " 18  History        760 non-null    float64\n",
            " 19  Prob           760 non-null    float64\n",
            " 20  Risk_F         760 non-null    float64\n",
            " 21  Score          760 non-null    float64\n",
            " 22  Inherent_Risk  760 non-null    float64\n",
            " 23  CONTROL_RISK   760 non-null    float64\n",
            " 24  Audit_Risk     760 non-null    float64\n",
            " 25  Risk           760 non-null    float64\n",
            " 26  Marks          760 non-null    float64\n",
            " 27  MONEY_Marks    760 non-null    float64\n",
            " 28  District       760 non-null    float64\n",
            " 29  Loss           760 non-null    float64\n",
            " 30  LOSS_SCORE     760 non-null    float64\n",
            " 31  History_score  760 non-null    float64\n",
            "dtypes: float64(32)\n",
            "memory usage: 195.9 KB\n"
          ],
          "name": "stdout"
        }
      ]
    }
  ]
}