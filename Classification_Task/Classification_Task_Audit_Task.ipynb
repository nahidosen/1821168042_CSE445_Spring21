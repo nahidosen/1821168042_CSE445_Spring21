{
  "nbformat": 4,
  "nbformat_minor": 0,
  "metadata": {
    "colab": {
      "name": "Classification_Task_Audit_Task.ipynb",
      "provenance": [],
      "authorship_tag": "ABX9TyMbB2nUk4sEL00b5zcgtoNA",
      "include_colab_link": true
    },
    "kernelspec": {
      "name": "python3",
      "display_name": "Python 3"
    },
    "language_info": {
      "name": "python"
    }
  },
  "cells": [
    {
      "cell_type": "markdown",
      "metadata": {
        "id": "view-in-github",
        "colab_type": "text"
      },
      "source": [
        "<a href=\"https://colab.research.google.com/github/nahidosen/1821168042_CSE445_Spring21/blob/main/Classification_Task/Classification_Task_Audit_Task.ipynb\" target=\"_parent\"><img src=\"https://colab.research.google.com/assets/colab-badge.svg\" alt=\"Open In Colab\"/></a>"
      ]
    },
    {
      "cell_type": "markdown",
      "metadata": {
        "id": "YoktycHuXDcz"
      },
      "source": [
        "a) Exploratory Data Analysis (EDA) and all the necessary data preparation\n",
        "\n",
        "b) Use any of the classification methods to build a predictor for classifying suspicious firms\n",
        "\n",
        "c) Use proper evaluation parameters that have been discussed in the class to evaluate your result.\n",
        "\n",
        "d) Submit your code in an ipython notebook format in your Github repository and generate a report describing all of the above mentioned."
      ]
    },
    {
      "cell_type": "code",
      "metadata": {
        "id": "TdtmTb0uDjhk"
      },
      "source": [
        "# Importing necessary packages\n",
        "\n",
        "import pandas as pd\n",
        "import numpy as np\n",
        "import matplotlib.pyplot as plt\n",
        "plt.style.use('ggplot')\n",
        "import seaborn as sns\n",
        "from sklearn.impute import SimpleImputer"
      ],
      "execution_count": 46,
      "outputs": []
    },
    {
      "cell_type": "code",
      "metadata": {
        "id": "6Q_xD1JHFyxy"
      },
      "source": [
        "# Importing dataset csv files\n",
        "\n",
        "audit_risk = 'https://raw.githubusercontent.com/nahidosen/1821168042_CSE445_Spring21/main/datasets/audit_risk.csv?token=ASXWIV77VJQESEVYD5NFPLLAUXWZQ'\n",
        "trial = 'https://raw.githubusercontent.com/nahidosen/1821168042_CSE445_Spring21/main/datasets/trial.csv?token=ASXWIV5QF2KCSGTA27H3JN3AUXW5W'\n",
        "\n",
        "df_audit_risk = pd.read_csv(audit_risk)\n",
        "df_trial = pd.read_csv(trial)"
      ],
      "execution_count": 47,
      "outputs": []
    },
    {
      "cell_type": "code",
      "metadata": {
        "colab": {
          "base_uri": "https://localhost:8080/",
          "height": 439
        },
        "id": "FMu4blj0HOlo",
        "outputId": "116ccdec-d9d8-4b1f-9f97-311fa57c1109"
      },
      "source": [
        "df_audit_risk"
      ],
      "execution_count": 48,
      "outputs": [
        {
          "output_type": "execute_result",
          "data": {
            "text/html": [
              "<div>\n",
              "<style scoped>\n",
              "    .dataframe tbody tr th:only-of-type {\n",
              "        vertical-align: middle;\n",
              "    }\n",
              "\n",
              "    .dataframe tbody tr th {\n",
              "        vertical-align: top;\n",
              "    }\n",
              "\n",
              "    .dataframe thead th {\n",
              "        text-align: right;\n",
              "    }\n",
              "</style>\n",
              "<table border=\"1\" class=\"dataframe\">\n",
              "  <thead>\n",
              "    <tr style=\"text-align: right;\">\n",
              "      <th></th>\n",
              "      <th>Sector_score</th>\n",
              "      <th>LOCATION_ID</th>\n",
              "      <th>PARA_A</th>\n",
              "      <th>Score_A</th>\n",
              "      <th>Risk_A</th>\n",
              "      <th>PARA_B</th>\n",
              "      <th>Score_B</th>\n",
              "      <th>Risk_B</th>\n",
              "      <th>TOTAL</th>\n",
              "      <th>numbers</th>\n",
              "      <th>Score_B.1</th>\n",
              "      <th>Risk_C</th>\n",
              "      <th>Money_Value</th>\n",
              "      <th>Score_MV</th>\n",
              "      <th>Risk_D</th>\n",
              "      <th>District_Loss</th>\n",
              "      <th>PROB</th>\n",
              "      <th>RiSk_E</th>\n",
              "      <th>History</th>\n",
              "      <th>Prob</th>\n",
              "      <th>Risk_F</th>\n",
              "      <th>Score</th>\n",
              "      <th>Inherent_Risk</th>\n",
              "      <th>CONTROL_RISK</th>\n",
              "      <th>Detection_Risk</th>\n",
              "      <th>Audit_Risk</th>\n",
              "      <th>Risk</th>\n",
              "    </tr>\n",
              "  </thead>\n",
              "  <tbody>\n",
              "    <tr>\n",
              "      <th>0</th>\n",
              "      <td>3.89</td>\n",
              "      <td>23</td>\n",
              "      <td>4.18</td>\n",
              "      <td>0.6</td>\n",
              "      <td>2.508</td>\n",
              "      <td>2.50</td>\n",
              "      <td>0.2</td>\n",
              "      <td>0.500</td>\n",
              "      <td>6.68</td>\n",
              "      <td>5.0</td>\n",
              "      <td>0.2</td>\n",
              "      <td>1.0</td>\n",
              "      <td>3.38</td>\n",
              "      <td>0.2</td>\n",
              "      <td>0.676</td>\n",
              "      <td>2</td>\n",
              "      <td>0.2</td>\n",
              "      <td>0.4</td>\n",
              "      <td>0</td>\n",
              "      <td>0.2</td>\n",
              "      <td>0.0</td>\n",
              "      <td>2.4</td>\n",
              "      <td>8.574</td>\n",
              "      <td>0.4</td>\n",
              "      <td>0.5</td>\n",
              "      <td>1.7148</td>\n",
              "      <td>1</td>\n",
              "    </tr>\n",
              "    <tr>\n",
              "      <th>1</th>\n",
              "      <td>3.89</td>\n",
              "      <td>6</td>\n",
              "      <td>0.00</td>\n",
              "      <td>0.2</td>\n",
              "      <td>0.000</td>\n",
              "      <td>4.83</td>\n",
              "      <td>0.2</td>\n",
              "      <td>0.966</td>\n",
              "      <td>4.83</td>\n",
              "      <td>5.0</td>\n",
              "      <td>0.2</td>\n",
              "      <td>1.0</td>\n",
              "      <td>0.94</td>\n",
              "      <td>0.2</td>\n",
              "      <td>0.188</td>\n",
              "      <td>2</td>\n",
              "      <td>0.2</td>\n",
              "      <td>0.4</td>\n",
              "      <td>0</td>\n",
              "      <td>0.2</td>\n",
              "      <td>0.0</td>\n",
              "      <td>2.0</td>\n",
              "      <td>2.554</td>\n",
              "      <td>0.4</td>\n",
              "      <td>0.5</td>\n",
              "      <td>0.5108</td>\n",
              "      <td>0</td>\n",
              "    </tr>\n",
              "    <tr>\n",
              "      <th>2</th>\n",
              "      <td>3.89</td>\n",
              "      <td>6</td>\n",
              "      <td>0.51</td>\n",
              "      <td>0.2</td>\n",
              "      <td>0.102</td>\n",
              "      <td>0.23</td>\n",
              "      <td>0.2</td>\n",
              "      <td>0.046</td>\n",
              "      <td>0.74</td>\n",
              "      <td>5.0</td>\n",
              "      <td>0.2</td>\n",
              "      <td>1.0</td>\n",
              "      <td>0.00</td>\n",
              "      <td>0.2</td>\n",
              "      <td>0.000</td>\n",
              "      <td>2</td>\n",
              "      <td>0.2</td>\n",
              "      <td>0.4</td>\n",
              "      <td>0</td>\n",
              "      <td>0.2</td>\n",
              "      <td>0.0</td>\n",
              "      <td>2.0</td>\n",
              "      <td>1.548</td>\n",
              "      <td>0.4</td>\n",
              "      <td>0.5</td>\n",
              "      <td>0.3096</td>\n",
              "      <td>0</td>\n",
              "    </tr>\n",
              "    <tr>\n",
              "      <th>3</th>\n",
              "      <td>3.89</td>\n",
              "      <td>6</td>\n",
              "      <td>0.00</td>\n",
              "      <td>0.2</td>\n",
              "      <td>0.000</td>\n",
              "      <td>10.80</td>\n",
              "      <td>0.6</td>\n",
              "      <td>6.480</td>\n",
              "      <td>10.80</td>\n",
              "      <td>6.0</td>\n",
              "      <td>0.6</td>\n",
              "      <td>3.6</td>\n",
              "      <td>11.75</td>\n",
              "      <td>0.6</td>\n",
              "      <td>7.050</td>\n",
              "      <td>2</td>\n",
              "      <td>0.2</td>\n",
              "      <td>0.4</td>\n",
              "      <td>0</td>\n",
              "      <td>0.2</td>\n",
              "      <td>0.0</td>\n",
              "      <td>4.4</td>\n",
              "      <td>17.530</td>\n",
              "      <td>0.4</td>\n",
              "      <td>0.5</td>\n",
              "      <td>3.5060</td>\n",
              "      <td>1</td>\n",
              "    </tr>\n",
              "    <tr>\n",
              "      <th>4</th>\n",
              "      <td>3.89</td>\n",
              "      <td>6</td>\n",
              "      <td>0.00</td>\n",
              "      <td>0.2</td>\n",
              "      <td>0.000</td>\n",
              "      <td>0.08</td>\n",
              "      <td>0.2</td>\n",
              "      <td>0.016</td>\n",
              "      <td>0.08</td>\n",
              "      <td>5.0</td>\n",
              "      <td>0.2</td>\n",
              "      <td>1.0</td>\n",
              "      <td>0.00</td>\n",
              "      <td>0.2</td>\n",
              "      <td>0.000</td>\n",
              "      <td>2</td>\n",
              "      <td>0.2</td>\n",
              "      <td>0.4</td>\n",
              "      <td>0</td>\n",
              "      <td>0.2</td>\n",
              "      <td>0.0</td>\n",
              "      <td>2.0</td>\n",
              "      <td>1.416</td>\n",
              "      <td>0.4</td>\n",
              "      <td>0.5</td>\n",
              "      <td>0.2832</td>\n",
              "      <td>0</td>\n",
              "    </tr>\n",
              "    <tr>\n",
              "      <th>...</th>\n",
              "      <td>...</td>\n",
              "      <td>...</td>\n",
              "      <td>...</td>\n",
              "      <td>...</td>\n",
              "      <td>...</td>\n",
              "      <td>...</td>\n",
              "      <td>...</td>\n",
              "      <td>...</td>\n",
              "      <td>...</td>\n",
              "      <td>...</td>\n",
              "      <td>...</td>\n",
              "      <td>...</td>\n",
              "      <td>...</td>\n",
              "      <td>...</td>\n",
              "      <td>...</td>\n",
              "      <td>...</td>\n",
              "      <td>...</td>\n",
              "      <td>...</td>\n",
              "      <td>...</td>\n",
              "      <td>...</td>\n",
              "      <td>...</td>\n",
              "      <td>...</td>\n",
              "      <td>...</td>\n",
              "      <td>...</td>\n",
              "      <td>...</td>\n",
              "      <td>...</td>\n",
              "      <td>...</td>\n",
              "    </tr>\n",
              "    <tr>\n",
              "      <th>771</th>\n",
              "      <td>55.57</td>\n",
              "      <td>9</td>\n",
              "      <td>0.49</td>\n",
              "      <td>0.2</td>\n",
              "      <td>0.098</td>\n",
              "      <td>0.40</td>\n",
              "      <td>0.2</td>\n",
              "      <td>0.080</td>\n",
              "      <td>0.89</td>\n",
              "      <td>5.0</td>\n",
              "      <td>0.2</td>\n",
              "      <td>1.0</td>\n",
              "      <td>0.00</td>\n",
              "      <td>0.2</td>\n",
              "      <td>0.000</td>\n",
              "      <td>2</td>\n",
              "      <td>0.2</td>\n",
              "      <td>0.4</td>\n",
              "      <td>0</td>\n",
              "      <td>0.2</td>\n",
              "      <td>0.0</td>\n",
              "      <td>2.0</td>\n",
              "      <td>1.578</td>\n",
              "      <td>0.4</td>\n",
              "      <td>0.5</td>\n",
              "      <td>0.3156</td>\n",
              "      <td>0</td>\n",
              "    </tr>\n",
              "    <tr>\n",
              "      <th>772</th>\n",
              "      <td>55.57</td>\n",
              "      <td>16</td>\n",
              "      <td>0.47</td>\n",
              "      <td>0.2</td>\n",
              "      <td>0.094</td>\n",
              "      <td>0.37</td>\n",
              "      <td>0.2</td>\n",
              "      <td>0.074</td>\n",
              "      <td>0.84</td>\n",
              "      <td>5.0</td>\n",
              "      <td>0.2</td>\n",
              "      <td>1.0</td>\n",
              "      <td>0.00</td>\n",
              "      <td>0.2</td>\n",
              "      <td>0.000</td>\n",
              "      <td>2</td>\n",
              "      <td>0.2</td>\n",
              "      <td>0.4</td>\n",
              "      <td>0</td>\n",
              "      <td>0.2</td>\n",
              "      <td>0.0</td>\n",
              "      <td>2.0</td>\n",
              "      <td>1.568</td>\n",
              "      <td>0.4</td>\n",
              "      <td>0.5</td>\n",
              "      <td>0.3136</td>\n",
              "      <td>0</td>\n",
              "    </tr>\n",
              "    <tr>\n",
              "      <th>773</th>\n",
              "      <td>55.57</td>\n",
              "      <td>14</td>\n",
              "      <td>0.24</td>\n",
              "      <td>0.2</td>\n",
              "      <td>0.048</td>\n",
              "      <td>0.04</td>\n",
              "      <td>0.2</td>\n",
              "      <td>0.008</td>\n",
              "      <td>0.28</td>\n",
              "      <td>5.0</td>\n",
              "      <td>0.2</td>\n",
              "      <td>1.0</td>\n",
              "      <td>0.00</td>\n",
              "      <td>0.2</td>\n",
              "      <td>0.000</td>\n",
              "      <td>2</td>\n",
              "      <td>0.2</td>\n",
              "      <td>0.4</td>\n",
              "      <td>0</td>\n",
              "      <td>0.2</td>\n",
              "      <td>0.0</td>\n",
              "      <td>2.0</td>\n",
              "      <td>1.456</td>\n",
              "      <td>0.4</td>\n",
              "      <td>0.5</td>\n",
              "      <td>0.2912</td>\n",
              "      <td>0</td>\n",
              "    </tr>\n",
              "    <tr>\n",
              "      <th>774</th>\n",
              "      <td>55.57</td>\n",
              "      <td>18</td>\n",
              "      <td>0.20</td>\n",
              "      <td>0.2</td>\n",
              "      <td>0.040</td>\n",
              "      <td>0.00</td>\n",
              "      <td>0.2</td>\n",
              "      <td>0.000</td>\n",
              "      <td>0.20</td>\n",
              "      <td>5.0</td>\n",
              "      <td>0.2</td>\n",
              "      <td>1.0</td>\n",
              "      <td>0.00</td>\n",
              "      <td>0.2</td>\n",
              "      <td>0.000</td>\n",
              "      <td>2</td>\n",
              "      <td>0.2</td>\n",
              "      <td>0.4</td>\n",
              "      <td>0</td>\n",
              "      <td>0.2</td>\n",
              "      <td>0.0</td>\n",
              "      <td>2.0</td>\n",
              "      <td>1.440</td>\n",
              "      <td>0.4</td>\n",
              "      <td>0.5</td>\n",
              "      <td>0.2880</td>\n",
              "      <td>0</td>\n",
              "    </tr>\n",
              "    <tr>\n",
              "      <th>775</th>\n",
              "      <td>55.57</td>\n",
              "      <td>15</td>\n",
              "      <td>0.00</td>\n",
              "      <td>0.2</td>\n",
              "      <td>0.000</td>\n",
              "      <td>0.00</td>\n",
              "      <td>0.2</td>\n",
              "      <td>0.000</td>\n",
              "      <td>0.00</td>\n",
              "      <td>5.0</td>\n",
              "      <td>0.2</td>\n",
              "      <td>1.0</td>\n",
              "      <td>0.32</td>\n",
              "      <td>0.2</td>\n",
              "      <td>0.064</td>\n",
              "      <td>2</td>\n",
              "      <td>0.2</td>\n",
              "      <td>0.4</td>\n",
              "      <td>0</td>\n",
              "      <td>0.2</td>\n",
              "      <td>0.0</td>\n",
              "      <td>2.0</td>\n",
              "      <td>1.464</td>\n",
              "      <td>0.4</td>\n",
              "      <td>0.5</td>\n",
              "      <td>0.2928</td>\n",
              "      <td>0</td>\n",
              "    </tr>\n",
              "  </tbody>\n",
              "</table>\n",
              "<p>776 rows × 27 columns</p>\n",
              "</div>"
            ],
            "text/plain": [
              "     Sector_score LOCATION_ID  PARA_A  ...  Detection_Risk  Audit_Risk  Risk\n",
              "0            3.89          23    4.18  ...             0.5      1.7148     1\n",
              "1            3.89           6    0.00  ...             0.5      0.5108     0\n",
              "2            3.89           6    0.51  ...             0.5      0.3096     0\n",
              "3            3.89           6    0.00  ...             0.5      3.5060     1\n",
              "4            3.89           6    0.00  ...             0.5      0.2832     0\n",
              "..            ...         ...     ...  ...             ...         ...   ...\n",
              "771         55.57           9    0.49  ...             0.5      0.3156     0\n",
              "772         55.57          16    0.47  ...             0.5      0.3136     0\n",
              "773         55.57          14    0.24  ...             0.5      0.2912     0\n",
              "774         55.57          18    0.20  ...             0.5      0.2880     0\n",
              "775         55.57          15    0.00  ...             0.5      0.2928     0\n",
              "\n",
              "[776 rows x 27 columns]"
            ]
          },
          "metadata": {
            "tags": []
          },
          "execution_count": 48
        }
      ]
    },
    {
      "cell_type": "code",
      "metadata": {
        "id": "0gvtPwW-yqwo",
        "colab": {
          "base_uri": "https://localhost:8080/"
        },
        "outputId": "113f433c-0fcd-495f-df3c-4be3eb876188"
      },
      "source": [
        "df_audit_risk.info()"
      ],
      "execution_count": 49,
      "outputs": [
        {
          "output_type": "stream",
          "text": [
            "<class 'pandas.core.frame.DataFrame'>\n",
            "RangeIndex: 776 entries, 0 to 775\n",
            "Data columns (total 27 columns):\n",
            " #   Column          Non-Null Count  Dtype  \n",
            "---  ------          --------------  -----  \n",
            " 0   Sector_score    776 non-null    float64\n",
            " 1   LOCATION_ID     776 non-null    object \n",
            " 2   PARA_A          776 non-null    float64\n",
            " 3   Score_A         776 non-null    float64\n",
            " 4   Risk_A          776 non-null    float64\n",
            " 5   PARA_B          776 non-null    float64\n",
            " 6   Score_B         776 non-null    float64\n",
            " 7   Risk_B          776 non-null    float64\n",
            " 8   TOTAL           776 non-null    float64\n",
            " 9   numbers         776 non-null    float64\n",
            " 10  Score_B.1       776 non-null    float64\n",
            " 11  Risk_C          776 non-null    float64\n",
            " 12  Money_Value     775 non-null    float64\n",
            " 13  Score_MV        776 non-null    float64\n",
            " 14  Risk_D          776 non-null    float64\n",
            " 15  District_Loss   776 non-null    int64  \n",
            " 16  PROB            776 non-null    float64\n",
            " 17  RiSk_E          776 non-null    float64\n",
            " 18  History         776 non-null    int64  \n",
            " 19  Prob            776 non-null    float64\n",
            " 20  Risk_F          776 non-null    float64\n",
            " 21  Score           776 non-null    float64\n",
            " 22  Inherent_Risk   776 non-null    float64\n",
            " 23  CONTROL_RISK    776 non-null    float64\n",
            " 24  Detection_Risk  776 non-null    float64\n",
            " 25  Audit_Risk      776 non-null    float64\n",
            " 26  Risk            776 non-null    int64  \n",
            "dtypes: float64(23), int64(3), object(1)\n",
            "memory usage: 163.8+ KB\n"
          ],
          "name": "stdout"
        }
      ]
    },
    {
      "cell_type": "code",
      "metadata": {
        "id": "fQhlHGXbzHP7",
        "colab": {
          "base_uri": "https://localhost:8080/",
          "height": 100
        },
        "outputId": "ae1761ee-6150-4e03-d391-57af289e4926"
      },
      "source": [
        "df_audit_risk[df_audit_risk['Money_Value'].isnull() == True]"
      ],
      "execution_count": 50,
      "outputs": [
        {
          "output_type": "execute_result",
          "data": {
            "text/html": [
              "<div>\n",
              "<style scoped>\n",
              "    .dataframe tbody tr th:only-of-type {\n",
              "        vertical-align: middle;\n",
              "    }\n",
              "\n",
              "    .dataframe tbody tr th {\n",
              "        vertical-align: top;\n",
              "    }\n",
              "\n",
              "    .dataframe thead th {\n",
              "        text-align: right;\n",
              "    }\n",
              "</style>\n",
              "<table border=\"1\" class=\"dataframe\">\n",
              "  <thead>\n",
              "    <tr style=\"text-align: right;\">\n",
              "      <th></th>\n",
              "      <th>Sector_score</th>\n",
              "      <th>LOCATION_ID</th>\n",
              "      <th>PARA_A</th>\n",
              "      <th>Score_A</th>\n",
              "      <th>Risk_A</th>\n",
              "      <th>PARA_B</th>\n",
              "      <th>Score_B</th>\n",
              "      <th>Risk_B</th>\n",
              "      <th>TOTAL</th>\n",
              "      <th>numbers</th>\n",
              "      <th>Score_B.1</th>\n",
              "      <th>Risk_C</th>\n",
              "      <th>Money_Value</th>\n",
              "      <th>Score_MV</th>\n",
              "      <th>Risk_D</th>\n",
              "      <th>District_Loss</th>\n",
              "      <th>PROB</th>\n",
              "      <th>RiSk_E</th>\n",
              "      <th>History</th>\n",
              "      <th>Prob</th>\n",
              "      <th>Risk_F</th>\n",
              "      <th>Score</th>\n",
              "      <th>Inherent_Risk</th>\n",
              "      <th>CONTROL_RISK</th>\n",
              "      <th>Detection_Risk</th>\n",
              "      <th>Audit_Risk</th>\n",
              "      <th>Risk</th>\n",
              "    </tr>\n",
              "  </thead>\n",
              "  <tbody>\n",
              "    <tr>\n",
              "      <th>642</th>\n",
              "      <td>55.57</td>\n",
              "      <td>4</td>\n",
              "      <td>0.23</td>\n",
              "      <td>0.2</td>\n",
              "      <td>0.046</td>\n",
              "      <td>0.0</td>\n",
              "      <td>0.2</td>\n",
              "      <td>0.0</td>\n",
              "      <td>0.23</td>\n",
              "      <td>5.0</td>\n",
              "      <td>0.2</td>\n",
              "      <td>1.0</td>\n",
              "      <td>NaN</td>\n",
              "      <td>0.2</td>\n",
              "      <td>0.0</td>\n",
              "      <td>2</td>\n",
              "      <td>0.2</td>\n",
              "      <td>0.4</td>\n",
              "      <td>0</td>\n",
              "      <td>0.2</td>\n",
              "      <td>0.0</td>\n",
              "      <td>2.0</td>\n",
              "      <td>1.446</td>\n",
              "      <td>0.4</td>\n",
              "      <td>0.5</td>\n",
              "      <td>0.2892</td>\n",
              "      <td>0</td>\n",
              "    </tr>\n",
              "  </tbody>\n",
              "</table>\n",
              "</div>"
            ],
            "text/plain": [
              "     Sector_score LOCATION_ID  PARA_A  ...  Detection_Risk  Audit_Risk  Risk\n",
              "642         55.57           4    0.23  ...             0.5      0.2892     0\n",
              "\n",
              "[1 rows x 27 columns]"
            ]
          },
          "metadata": {
            "tags": []
          },
          "execution_count": 50
        }
      ]
    },
    {
      "cell_type": "code",
      "metadata": {
        "id": "lvTVlZJbzOlE"
      },
      "source": [
        "df_audit_risk['Money_Value'] = df_audit_risk['Money_Value'].fillna(df_audit_risk['Money_Value'].median())"
      ],
      "execution_count": 51,
      "outputs": []
    },
    {
      "cell_type": "code",
      "metadata": {
        "id": "_Mxa41YozaLc",
        "colab": {
          "base_uri": "https://localhost:8080/"
        },
        "outputId": "4d87a229-90fc-47a4-be7f-629dc23b5c0e"
      },
      "source": [
        "df_audit_risk.isnull().sum() "
      ],
      "execution_count": 52,
      "outputs": [
        {
          "output_type": "execute_result",
          "data": {
            "text/plain": [
              "Sector_score      0\n",
              "LOCATION_ID       0\n",
              "PARA_A            0\n",
              "Score_A           0\n",
              "Risk_A            0\n",
              "PARA_B            0\n",
              "Score_B           0\n",
              "Risk_B            0\n",
              "TOTAL             0\n",
              "numbers           0\n",
              "Score_B.1         0\n",
              "Risk_C            0\n",
              "Money_Value       0\n",
              "Score_MV          0\n",
              "Risk_D            0\n",
              "District_Loss     0\n",
              "PROB              0\n",
              "RiSk_E            0\n",
              "History           0\n",
              "Prob              0\n",
              "Risk_F            0\n",
              "Score             0\n",
              "Inherent_Risk     0\n",
              "CONTROL_RISK      0\n",
              "Detection_Risk    0\n",
              "Audit_Risk        0\n",
              "Risk              0\n",
              "dtype: int64"
            ]
          },
          "metadata": {
            "tags": []
          },
          "execution_count": 52
        }
      ]
    },
    {
      "cell_type": "code",
      "metadata": {
        "id": "C7FrJ7V4zwqH",
        "colab": {
          "base_uri": "https://localhost:8080/"
        },
        "outputId": "07789e35-4cfc-4c58-82d3-f9788452b64e"
      },
      "source": [
        "df_audit_risk.nunique()"
      ],
      "execution_count": 53,
      "outputs": [
        {
          "output_type": "execute_result",
          "data": {
            "text/plain": [
              "Sector_score       13\n",
              "LOCATION_ID        45\n",
              "PARA_A            363\n",
              "Score_A             3\n",
              "Risk_A            363\n",
              "PARA_B            358\n",
              "Score_B             3\n",
              "Risk_B            360\n",
              "TOTAL             471\n",
              "numbers             5\n",
              "Score_B.1           3\n",
              "Risk_C              5\n",
              "Money_Value       328\n",
              "Score_MV            3\n",
              "Risk_D            328\n",
              "District_Loss       3\n",
              "PROB                3\n",
              "RiSk_E              5\n",
              "History             7\n",
              "Prob                3\n",
              "Risk_F              7\n",
              "Score              17\n",
              "Inherent_Risk     584\n",
              "CONTROL_RISK       11\n",
              "Detection_Risk      1\n",
              "Audit_Risk        601\n",
              "Risk                2\n",
              "dtype: int64"
            ]
          },
          "metadata": {
            "tags": []
          },
          "execution_count": 53
        }
      ]
    },
    {
      "cell_type": "code",
      "metadata": {
        "id": "KHVM3txX0K51"
      },
      "source": [
        "df_audit_risk_1 = df_audit_risk.drop(['Detection_Risk'], axis = 1) # Because it has only one value "
      ],
      "execution_count": 54,
      "outputs": []
    },
    {
      "cell_type": "code",
      "metadata": {
        "colab": {
          "base_uri": "https://localhost:8080/"
        },
        "id": "MUGTyscQK_98",
        "outputId": "72ea74a6-f2a5-421a-d8e7-7cb2fd3b7056"
      },
      "source": [
        "df_audit_risk_1.columns"
      ],
      "execution_count": 55,
      "outputs": [
        {
          "output_type": "execute_result",
          "data": {
            "text/plain": [
              "Index(['Sector_score', 'LOCATION_ID', 'PARA_A', 'Score_A', 'Risk_A', 'PARA_B',\n",
              "       'Score_B', 'Risk_B', 'TOTAL', 'numbers', 'Score_B.1', 'Risk_C',\n",
              "       'Money_Value', 'Score_MV', 'Risk_D', 'District_Loss', 'PROB', 'RiSk_E',\n",
              "       'History', 'Prob', 'Risk_F', 'Score', 'Inherent_Risk', 'CONTROL_RISK',\n",
              "       'Audit_Risk', 'Risk'],\n",
              "      dtype='object')"
            ]
          },
          "metadata": {
            "tags": []
          },
          "execution_count": 55
        }
      ]
    },
    {
      "cell_type": "markdown",
      "metadata": {
        "id": "G_0x2GaVUGil"
      },
      "source": [
        "Checked every unique value to find anomaly"
      ]
    },
    {
      "cell_type": "code",
      "metadata": {
        "colab": {
          "base_uri": "https://localhost:8080/"
        },
        "id": "DTWnGiabKdh0",
        "outputId": "837bf226-66be-4624-abf6-bfb34e63824b"
      },
      "source": [
        "df_audit_risk_1[\"LOCATION_ID\"].value_counts()"
      ],
      "execution_count": 56,
      "outputs": [
        {
          "output_type": "execute_result",
          "data": {
            "text/plain": [
              "8          76\n",
              "19         68\n",
              "9          53\n",
              "16         52\n",
              "12         47\n",
              "5          44\n",
              "2          41\n",
              "4          37\n",
              "13         35\n",
              "15         35\n",
              "6          33\n",
              "32         29\n",
              "11         26\n",
              "22         24\n",
              "29         21\n",
              "14         20\n",
              "18         16\n",
              "31         12\n",
              "1          11\n",
              "37         10\n",
              "39          9\n",
              "21          8\n",
              "27          8\n",
              "28          8\n",
              "43          7\n",
              "25          6\n",
              "20          5\n",
              "30          4\n",
              "38          4\n",
              "7           4\n",
              "36          4\n",
              "40          3\n",
              "3           3\n",
              "35          2\n",
              "23          1\n",
              "34          1\n",
              "41          1\n",
              "LOHARU      1\n",
              "24          1\n",
              "SAFIDON     1\n",
              "NUH         1\n",
              "33          1\n",
              "42          1\n",
              "44          1\n",
              "17          1\n",
              "Name: LOCATION_ID, dtype: int64"
            ]
          },
          "metadata": {
            "tags": []
          },
          "execution_count": 56
        }
      ]
    },
    {
      "cell_type": "code",
      "metadata": {
        "id": "qtkz-rTUOkc2"
      },
      "source": [
        "df_audit_risk_1 = df_audit_risk_1[(df_audit_risk_1.LOCATION_ID != 'LOHARU')]\n",
        "df_audit_risk_1 = df_audit_risk_1[(df_audit_risk_1.LOCATION_ID != 'NUH')]\n",
        "df_audit_risk_1 = df_audit_risk_1[(df_audit_risk_1.LOCATION_ID != 'SAFIDON')]"
      ],
      "execution_count": 57,
      "outputs": []
    },
    {
      "cell_type": "code",
      "metadata": {
        "colab": {
          "base_uri": "https://localhost:8080/"
        },
        "id": "TIVTFOuzPDg8",
        "outputId": "d0867089-a92e-449d-d9ce-ba295c37c400"
      },
      "source": [
        "df_audit_risk_1[\"LOCATION_ID\"].value_counts()"
      ],
      "execution_count": 58,
      "outputs": [
        {
          "output_type": "execute_result",
          "data": {
            "text/plain": [
              "8     76\n",
              "19    68\n",
              "9     53\n",
              "16    52\n",
              "12    47\n",
              "5     44\n",
              "2     41\n",
              "4     37\n",
              "13    35\n",
              "15    35\n",
              "6     33\n",
              "32    29\n",
              "11    26\n",
              "22    24\n",
              "29    21\n",
              "14    20\n",
              "18    16\n",
              "31    12\n",
              "1     11\n",
              "37    10\n",
              "39     9\n",
              "27     8\n",
              "28     8\n",
              "21     8\n",
              "43     7\n",
              "25     6\n",
              "20     5\n",
              "36     4\n",
              "30     4\n",
              "7      4\n",
              "38     4\n",
              "40     3\n",
              "3      3\n",
              "35     2\n",
              "23     1\n",
              "34     1\n",
              "41     1\n",
              "24     1\n",
              "33     1\n",
              "42     1\n",
              "44     1\n",
              "17     1\n",
              "Name: LOCATION_ID, dtype: int64"
            ]
          },
          "metadata": {
            "tags": []
          },
          "execution_count": 58
        }
      ]
    },
    {
      "cell_type": "code",
      "metadata": {
        "id": "MPuO2kL8PcrR"
      },
      "source": [
        "df_audit_risk_2 = df_audit_risk_1.drop_duplicates(keep = 'first')"
      ],
      "execution_count": 59,
      "outputs": []
    },
    {
      "cell_type": "code",
      "metadata": {
        "colab": {
          "base_uri": "https://localhost:8080/"
        },
        "id": "Af1J5e01Pchy",
        "outputId": "f170a894-8764-4f2c-8ec9-26d0c03e40f2"
      },
      "source": [
        "df_audit_risk_2.info()"
      ],
      "execution_count": 60,
      "outputs": [
        {
          "output_type": "stream",
          "text": [
            "<class 'pandas.core.frame.DataFrame'>\n",
            "Int64Index: 760 entries, 0 to 775\n",
            "Data columns (total 26 columns):\n",
            " #   Column         Non-Null Count  Dtype  \n",
            "---  ------         --------------  -----  \n",
            " 0   Sector_score   760 non-null    float64\n",
            " 1   LOCATION_ID    760 non-null    object \n",
            " 2   PARA_A         760 non-null    float64\n",
            " 3   Score_A        760 non-null    float64\n",
            " 4   Risk_A         760 non-null    float64\n",
            " 5   PARA_B         760 non-null    float64\n",
            " 6   Score_B        760 non-null    float64\n",
            " 7   Risk_B         760 non-null    float64\n",
            " 8   TOTAL          760 non-null    float64\n",
            " 9   numbers        760 non-null    float64\n",
            " 10  Score_B.1      760 non-null    float64\n",
            " 11  Risk_C         760 non-null    float64\n",
            " 12  Money_Value    760 non-null    float64\n",
            " 13  Score_MV       760 non-null    float64\n",
            " 14  Risk_D         760 non-null    float64\n",
            " 15  District_Loss  760 non-null    int64  \n",
            " 16  PROB           760 non-null    float64\n",
            " 17  RiSk_E         760 non-null    float64\n",
            " 18  History        760 non-null    int64  \n",
            " 19  Prob           760 non-null    float64\n",
            " 20  Risk_F         760 non-null    float64\n",
            " 21  Score          760 non-null    float64\n",
            " 22  Inherent_Risk  760 non-null    float64\n",
            " 23  CONTROL_RISK   760 non-null    float64\n",
            " 24  Audit_Risk     760 non-null    float64\n",
            " 25  Risk           760 non-null    int64  \n",
            "dtypes: float64(22), int64(3), object(1)\n",
            "memory usage: 160.3+ KB\n"
          ],
          "name": "stdout"
        }
      ]
    },
    {
      "cell_type": "code",
      "metadata": {
        "id": "NL0ubySTPcUu"
      },
      "source": [
        "df_audit_risk_3 = df_audit_risk_2.astype(float)"
      ],
      "execution_count": 61,
      "outputs": []
    },
    {
      "cell_type": "code",
      "metadata": {
        "colab": {
          "base_uri": "https://localhost:8080/"
        },
        "id": "pQ1Gmg95P1YC",
        "outputId": "7683f395-d776-42eb-a9f5-356a4b5679f4"
      },
      "source": [
        "df_audit_risk_3.info()"
      ],
      "execution_count": 62,
      "outputs": [
        {
          "output_type": "stream",
          "text": [
            "<class 'pandas.core.frame.DataFrame'>\n",
            "Int64Index: 760 entries, 0 to 775\n",
            "Data columns (total 26 columns):\n",
            " #   Column         Non-Null Count  Dtype  \n",
            "---  ------         --------------  -----  \n",
            " 0   Sector_score   760 non-null    float64\n",
            " 1   LOCATION_ID    760 non-null    float64\n",
            " 2   PARA_A         760 non-null    float64\n",
            " 3   Score_A        760 non-null    float64\n",
            " 4   Risk_A         760 non-null    float64\n",
            " 5   PARA_B         760 non-null    float64\n",
            " 6   Score_B        760 non-null    float64\n",
            " 7   Risk_B         760 non-null    float64\n",
            " 8   TOTAL          760 non-null    float64\n",
            " 9   numbers        760 non-null    float64\n",
            " 10  Score_B.1      760 non-null    float64\n",
            " 11  Risk_C         760 non-null    float64\n",
            " 12  Money_Value    760 non-null    float64\n",
            " 13  Score_MV       760 non-null    float64\n",
            " 14  Risk_D         760 non-null    float64\n",
            " 15  District_Loss  760 non-null    float64\n",
            " 16  PROB           760 non-null    float64\n",
            " 17  RiSk_E         760 non-null    float64\n",
            " 18  History        760 non-null    float64\n",
            " 19  Prob           760 non-null    float64\n",
            " 20  Risk_F         760 non-null    float64\n",
            " 21  Score          760 non-null    float64\n",
            " 22  Inherent_Risk  760 non-null    float64\n",
            " 23  CONTROL_RISK   760 non-null    float64\n",
            " 24  Audit_Risk     760 non-null    float64\n",
            " 25  Risk           760 non-null    float64\n",
            "dtypes: float64(26)\n",
            "memory usage: 160.3 KB\n"
          ],
          "name": "stdout"
        }
      ]
    },
    {
      "cell_type": "markdown",
      "metadata": {
        "id": "VRjUK9GZ4Jp2"
      },
      "source": [
        "now the 2nd dataset"
      ]
    },
    {
      "cell_type": "code",
      "metadata": {
        "colab": {
          "base_uri": "https://localhost:8080/",
          "height": 439
        },
        "id": "IEkIDA98HUe3",
        "outputId": "b22c1ccc-bd0d-459b-e472-4245057b218e"
      },
      "source": [
        "df_trial"
      ],
      "execution_count": 63,
      "outputs": [
        {
          "output_type": "execute_result",
          "data": {
            "text/html": [
              "<div>\n",
              "<style scoped>\n",
              "    .dataframe tbody tr th:only-of-type {\n",
              "        vertical-align: middle;\n",
              "    }\n",
              "\n",
              "    .dataframe tbody tr th {\n",
              "        vertical-align: top;\n",
              "    }\n",
              "\n",
              "    .dataframe thead th {\n",
              "        text-align: right;\n",
              "    }\n",
              "</style>\n",
              "<table border=\"1\" class=\"dataframe\">\n",
              "  <thead>\n",
              "    <tr style=\"text-align: right;\">\n",
              "      <th></th>\n",
              "      <th>Sector_score</th>\n",
              "      <th>LOCATION_ID</th>\n",
              "      <th>PARA_A</th>\n",
              "      <th>SCORE_A</th>\n",
              "      <th>PARA_B</th>\n",
              "      <th>SCORE_B</th>\n",
              "      <th>TOTAL</th>\n",
              "      <th>numbers</th>\n",
              "      <th>Marks</th>\n",
              "      <th>Money_Value</th>\n",
              "      <th>MONEY_Marks</th>\n",
              "      <th>District</th>\n",
              "      <th>Loss</th>\n",
              "      <th>LOSS_SCORE</th>\n",
              "      <th>History</th>\n",
              "      <th>History_score</th>\n",
              "      <th>Score</th>\n",
              "      <th>Risk</th>\n",
              "    </tr>\n",
              "  </thead>\n",
              "  <tbody>\n",
              "    <tr>\n",
              "      <th>0</th>\n",
              "      <td>3.89</td>\n",
              "      <td>23</td>\n",
              "      <td>4.18</td>\n",
              "      <td>6</td>\n",
              "      <td>2.50</td>\n",
              "      <td>2</td>\n",
              "      <td>6.68</td>\n",
              "      <td>5.0</td>\n",
              "      <td>2</td>\n",
              "      <td>3.38</td>\n",
              "      <td>2</td>\n",
              "      <td>2</td>\n",
              "      <td>0</td>\n",
              "      <td>2</td>\n",
              "      <td>0</td>\n",
              "      <td>2</td>\n",
              "      <td>2.4</td>\n",
              "      <td>1</td>\n",
              "    </tr>\n",
              "    <tr>\n",
              "      <th>1</th>\n",
              "      <td>3.89</td>\n",
              "      <td>6</td>\n",
              "      <td>0.00</td>\n",
              "      <td>2</td>\n",
              "      <td>4.83</td>\n",
              "      <td>2</td>\n",
              "      <td>4.83</td>\n",
              "      <td>5.0</td>\n",
              "      <td>2</td>\n",
              "      <td>0.94</td>\n",
              "      <td>2</td>\n",
              "      <td>2</td>\n",
              "      <td>0</td>\n",
              "      <td>2</td>\n",
              "      <td>0</td>\n",
              "      <td>2</td>\n",
              "      <td>2.0</td>\n",
              "      <td>0</td>\n",
              "    </tr>\n",
              "    <tr>\n",
              "      <th>2</th>\n",
              "      <td>3.89</td>\n",
              "      <td>6</td>\n",
              "      <td>0.51</td>\n",
              "      <td>2</td>\n",
              "      <td>0.23</td>\n",
              "      <td>2</td>\n",
              "      <td>0.74</td>\n",
              "      <td>5.0</td>\n",
              "      <td>2</td>\n",
              "      <td>0.00</td>\n",
              "      <td>2</td>\n",
              "      <td>2</td>\n",
              "      <td>0</td>\n",
              "      <td>2</td>\n",
              "      <td>0</td>\n",
              "      <td>2</td>\n",
              "      <td>2.0</td>\n",
              "      <td>0</td>\n",
              "    </tr>\n",
              "    <tr>\n",
              "      <th>3</th>\n",
              "      <td>3.89</td>\n",
              "      <td>6</td>\n",
              "      <td>0.00</td>\n",
              "      <td>2</td>\n",
              "      <td>10.80</td>\n",
              "      <td>6</td>\n",
              "      <td>10.80</td>\n",
              "      <td>6.0</td>\n",
              "      <td>6</td>\n",
              "      <td>11.75</td>\n",
              "      <td>6</td>\n",
              "      <td>2</td>\n",
              "      <td>0</td>\n",
              "      <td>2</td>\n",
              "      <td>0</td>\n",
              "      <td>2</td>\n",
              "      <td>4.4</td>\n",
              "      <td>1</td>\n",
              "    </tr>\n",
              "    <tr>\n",
              "      <th>4</th>\n",
              "      <td>3.89</td>\n",
              "      <td>6</td>\n",
              "      <td>0.00</td>\n",
              "      <td>2</td>\n",
              "      <td>0.08</td>\n",
              "      <td>2</td>\n",
              "      <td>0.08</td>\n",
              "      <td>5.0</td>\n",
              "      <td>2</td>\n",
              "      <td>0.00</td>\n",
              "      <td>2</td>\n",
              "      <td>2</td>\n",
              "      <td>0</td>\n",
              "      <td>2</td>\n",
              "      <td>0</td>\n",
              "      <td>2</td>\n",
              "      <td>2.0</td>\n",
              "      <td>0</td>\n",
              "    </tr>\n",
              "    <tr>\n",
              "      <th>...</th>\n",
              "      <td>...</td>\n",
              "      <td>...</td>\n",
              "      <td>...</td>\n",
              "      <td>...</td>\n",
              "      <td>...</td>\n",
              "      <td>...</td>\n",
              "      <td>...</td>\n",
              "      <td>...</td>\n",
              "      <td>...</td>\n",
              "      <td>...</td>\n",
              "      <td>...</td>\n",
              "      <td>...</td>\n",
              "      <td>...</td>\n",
              "      <td>...</td>\n",
              "      <td>...</td>\n",
              "      <td>...</td>\n",
              "      <td>...</td>\n",
              "      <td>...</td>\n",
              "    </tr>\n",
              "    <tr>\n",
              "      <th>771</th>\n",
              "      <td>55.57</td>\n",
              "      <td>9</td>\n",
              "      <td>0.49</td>\n",
              "      <td>2</td>\n",
              "      <td>0.40</td>\n",
              "      <td>2</td>\n",
              "      <td>0.89</td>\n",
              "      <td>5.0</td>\n",
              "      <td>2</td>\n",
              "      <td>0.00</td>\n",
              "      <td>2</td>\n",
              "      <td>2</td>\n",
              "      <td>0</td>\n",
              "      <td>2</td>\n",
              "      <td>0</td>\n",
              "      <td>2</td>\n",
              "      <td>2.0</td>\n",
              "      <td>0</td>\n",
              "    </tr>\n",
              "    <tr>\n",
              "      <th>772</th>\n",
              "      <td>55.57</td>\n",
              "      <td>16</td>\n",
              "      <td>0.47</td>\n",
              "      <td>2</td>\n",
              "      <td>0.37</td>\n",
              "      <td>2</td>\n",
              "      <td>0.84</td>\n",
              "      <td>5.0</td>\n",
              "      <td>2</td>\n",
              "      <td>0.00</td>\n",
              "      <td>2</td>\n",
              "      <td>2</td>\n",
              "      <td>0</td>\n",
              "      <td>2</td>\n",
              "      <td>0</td>\n",
              "      <td>2</td>\n",
              "      <td>2.0</td>\n",
              "      <td>0</td>\n",
              "    </tr>\n",
              "    <tr>\n",
              "      <th>773</th>\n",
              "      <td>55.57</td>\n",
              "      <td>14</td>\n",
              "      <td>0.24</td>\n",
              "      <td>2</td>\n",
              "      <td>0.04</td>\n",
              "      <td>2</td>\n",
              "      <td>0.28</td>\n",
              "      <td>5.0</td>\n",
              "      <td>2</td>\n",
              "      <td>0.00</td>\n",
              "      <td>2</td>\n",
              "      <td>2</td>\n",
              "      <td>0</td>\n",
              "      <td>2</td>\n",
              "      <td>0</td>\n",
              "      <td>2</td>\n",
              "      <td>2.0</td>\n",
              "      <td>0</td>\n",
              "    </tr>\n",
              "    <tr>\n",
              "      <th>774</th>\n",
              "      <td>55.57</td>\n",
              "      <td>18</td>\n",
              "      <td>0.20</td>\n",
              "      <td>2</td>\n",
              "      <td>0.00</td>\n",
              "      <td>2</td>\n",
              "      <td>0.20</td>\n",
              "      <td>5.0</td>\n",
              "      <td>2</td>\n",
              "      <td>0.00</td>\n",
              "      <td>2</td>\n",
              "      <td>2</td>\n",
              "      <td>0</td>\n",
              "      <td>2</td>\n",
              "      <td>0</td>\n",
              "      <td>2</td>\n",
              "      <td>2.0</td>\n",
              "      <td>0</td>\n",
              "    </tr>\n",
              "    <tr>\n",
              "      <th>775</th>\n",
              "      <td>55.57</td>\n",
              "      <td>15</td>\n",
              "      <td>0.00</td>\n",
              "      <td>2</td>\n",
              "      <td>0.00</td>\n",
              "      <td>2</td>\n",
              "      <td>0.00</td>\n",
              "      <td>5.0</td>\n",
              "      <td>2</td>\n",
              "      <td>0.32</td>\n",
              "      <td>2</td>\n",
              "      <td>2</td>\n",
              "      <td>0</td>\n",
              "      <td>2</td>\n",
              "      <td>0</td>\n",
              "      <td>2</td>\n",
              "      <td>2.0</td>\n",
              "      <td>0</td>\n",
              "    </tr>\n",
              "  </tbody>\n",
              "</table>\n",
              "<p>776 rows × 18 columns</p>\n",
              "</div>"
            ],
            "text/plain": [
              "     Sector_score LOCATION_ID  PARA_A  ...  History_score  Score  Risk\n",
              "0            3.89          23    4.18  ...              2    2.4     1\n",
              "1            3.89           6    0.00  ...              2    2.0     0\n",
              "2            3.89           6    0.51  ...              2    2.0     0\n",
              "3            3.89           6    0.00  ...              2    4.4     1\n",
              "4            3.89           6    0.00  ...              2    2.0     0\n",
              "..            ...         ...     ...  ...            ...    ...   ...\n",
              "771         55.57           9    0.49  ...              2    2.0     0\n",
              "772         55.57          16    0.47  ...              2    2.0     0\n",
              "773         55.57          14    0.24  ...              2    2.0     0\n",
              "774         55.57          18    0.20  ...              2    2.0     0\n",
              "775         55.57          15    0.00  ...              2    2.0     0\n",
              "\n",
              "[776 rows x 18 columns]"
            ]
          },
          "metadata": {
            "tags": []
          },
          "execution_count": 63
        }
      ]
    },
    {
      "cell_type": "code",
      "metadata": {
        "id": "9VA5VQaBHXsG"
      },
      "source": [
        "df_trial['SCORE_A'] = df_trial['SCORE_A']/10\n",
        "df_trial['SCORE_B'] = df_trial['SCORE_B']/10"
      ],
      "execution_count": 64,
      "outputs": []
    },
    {
      "cell_type": "code",
      "metadata": {
        "id": "eEpsmwLTQLvf",
        "colab": {
          "base_uri": "https://localhost:8080/",
          "height": 439
        },
        "outputId": "15b14d21-8c18-4eb3-bd80-92d1bea561ba"
      },
      "source": [
        "df_trial"
      ],
      "execution_count": 65,
      "outputs": [
        {
          "output_type": "execute_result",
          "data": {
            "text/html": [
              "<div>\n",
              "<style scoped>\n",
              "    .dataframe tbody tr th:only-of-type {\n",
              "        vertical-align: middle;\n",
              "    }\n",
              "\n",
              "    .dataframe tbody tr th {\n",
              "        vertical-align: top;\n",
              "    }\n",
              "\n",
              "    .dataframe thead th {\n",
              "        text-align: right;\n",
              "    }\n",
              "</style>\n",
              "<table border=\"1\" class=\"dataframe\">\n",
              "  <thead>\n",
              "    <tr style=\"text-align: right;\">\n",
              "      <th></th>\n",
              "      <th>Sector_score</th>\n",
              "      <th>LOCATION_ID</th>\n",
              "      <th>PARA_A</th>\n",
              "      <th>SCORE_A</th>\n",
              "      <th>PARA_B</th>\n",
              "      <th>SCORE_B</th>\n",
              "      <th>TOTAL</th>\n",
              "      <th>numbers</th>\n",
              "      <th>Marks</th>\n",
              "      <th>Money_Value</th>\n",
              "      <th>MONEY_Marks</th>\n",
              "      <th>District</th>\n",
              "      <th>Loss</th>\n",
              "      <th>LOSS_SCORE</th>\n",
              "      <th>History</th>\n",
              "      <th>History_score</th>\n",
              "      <th>Score</th>\n",
              "      <th>Risk</th>\n",
              "    </tr>\n",
              "  </thead>\n",
              "  <tbody>\n",
              "    <tr>\n",
              "      <th>0</th>\n",
              "      <td>3.89</td>\n",
              "      <td>23</td>\n",
              "      <td>4.18</td>\n",
              "      <td>0.6</td>\n",
              "      <td>2.50</td>\n",
              "      <td>0.2</td>\n",
              "      <td>6.68</td>\n",
              "      <td>5.0</td>\n",
              "      <td>2</td>\n",
              "      <td>3.38</td>\n",
              "      <td>2</td>\n",
              "      <td>2</td>\n",
              "      <td>0</td>\n",
              "      <td>2</td>\n",
              "      <td>0</td>\n",
              "      <td>2</td>\n",
              "      <td>2.4</td>\n",
              "      <td>1</td>\n",
              "    </tr>\n",
              "    <tr>\n",
              "      <th>1</th>\n",
              "      <td>3.89</td>\n",
              "      <td>6</td>\n",
              "      <td>0.00</td>\n",
              "      <td>0.2</td>\n",
              "      <td>4.83</td>\n",
              "      <td>0.2</td>\n",
              "      <td>4.83</td>\n",
              "      <td>5.0</td>\n",
              "      <td>2</td>\n",
              "      <td>0.94</td>\n",
              "      <td>2</td>\n",
              "      <td>2</td>\n",
              "      <td>0</td>\n",
              "      <td>2</td>\n",
              "      <td>0</td>\n",
              "      <td>2</td>\n",
              "      <td>2.0</td>\n",
              "      <td>0</td>\n",
              "    </tr>\n",
              "    <tr>\n",
              "      <th>2</th>\n",
              "      <td>3.89</td>\n",
              "      <td>6</td>\n",
              "      <td>0.51</td>\n",
              "      <td>0.2</td>\n",
              "      <td>0.23</td>\n",
              "      <td>0.2</td>\n",
              "      <td>0.74</td>\n",
              "      <td>5.0</td>\n",
              "      <td>2</td>\n",
              "      <td>0.00</td>\n",
              "      <td>2</td>\n",
              "      <td>2</td>\n",
              "      <td>0</td>\n",
              "      <td>2</td>\n",
              "      <td>0</td>\n",
              "      <td>2</td>\n",
              "      <td>2.0</td>\n",
              "      <td>0</td>\n",
              "    </tr>\n",
              "    <tr>\n",
              "      <th>3</th>\n",
              "      <td>3.89</td>\n",
              "      <td>6</td>\n",
              "      <td>0.00</td>\n",
              "      <td>0.2</td>\n",
              "      <td>10.80</td>\n",
              "      <td>0.6</td>\n",
              "      <td>10.80</td>\n",
              "      <td>6.0</td>\n",
              "      <td>6</td>\n",
              "      <td>11.75</td>\n",
              "      <td>6</td>\n",
              "      <td>2</td>\n",
              "      <td>0</td>\n",
              "      <td>2</td>\n",
              "      <td>0</td>\n",
              "      <td>2</td>\n",
              "      <td>4.4</td>\n",
              "      <td>1</td>\n",
              "    </tr>\n",
              "    <tr>\n",
              "      <th>4</th>\n",
              "      <td>3.89</td>\n",
              "      <td>6</td>\n",
              "      <td>0.00</td>\n",
              "      <td>0.2</td>\n",
              "      <td>0.08</td>\n",
              "      <td>0.2</td>\n",
              "      <td>0.08</td>\n",
              "      <td>5.0</td>\n",
              "      <td>2</td>\n",
              "      <td>0.00</td>\n",
              "      <td>2</td>\n",
              "      <td>2</td>\n",
              "      <td>0</td>\n",
              "      <td>2</td>\n",
              "      <td>0</td>\n",
              "      <td>2</td>\n",
              "      <td>2.0</td>\n",
              "      <td>0</td>\n",
              "    </tr>\n",
              "    <tr>\n",
              "      <th>...</th>\n",
              "      <td>...</td>\n",
              "      <td>...</td>\n",
              "      <td>...</td>\n",
              "      <td>...</td>\n",
              "      <td>...</td>\n",
              "      <td>...</td>\n",
              "      <td>...</td>\n",
              "      <td>...</td>\n",
              "      <td>...</td>\n",
              "      <td>...</td>\n",
              "      <td>...</td>\n",
              "      <td>...</td>\n",
              "      <td>...</td>\n",
              "      <td>...</td>\n",
              "      <td>...</td>\n",
              "      <td>...</td>\n",
              "      <td>...</td>\n",
              "      <td>...</td>\n",
              "    </tr>\n",
              "    <tr>\n",
              "      <th>771</th>\n",
              "      <td>55.57</td>\n",
              "      <td>9</td>\n",
              "      <td>0.49</td>\n",
              "      <td>0.2</td>\n",
              "      <td>0.40</td>\n",
              "      <td>0.2</td>\n",
              "      <td>0.89</td>\n",
              "      <td>5.0</td>\n",
              "      <td>2</td>\n",
              "      <td>0.00</td>\n",
              "      <td>2</td>\n",
              "      <td>2</td>\n",
              "      <td>0</td>\n",
              "      <td>2</td>\n",
              "      <td>0</td>\n",
              "      <td>2</td>\n",
              "      <td>2.0</td>\n",
              "      <td>0</td>\n",
              "    </tr>\n",
              "    <tr>\n",
              "      <th>772</th>\n",
              "      <td>55.57</td>\n",
              "      <td>16</td>\n",
              "      <td>0.47</td>\n",
              "      <td>0.2</td>\n",
              "      <td>0.37</td>\n",
              "      <td>0.2</td>\n",
              "      <td>0.84</td>\n",
              "      <td>5.0</td>\n",
              "      <td>2</td>\n",
              "      <td>0.00</td>\n",
              "      <td>2</td>\n",
              "      <td>2</td>\n",
              "      <td>0</td>\n",
              "      <td>2</td>\n",
              "      <td>0</td>\n",
              "      <td>2</td>\n",
              "      <td>2.0</td>\n",
              "      <td>0</td>\n",
              "    </tr>\n",
              "    <tr>\n",
              "      <th>773</th>\n",
              "      <td>55.57</td>\n",
              "      <td>14</td>\n",
              "      <td>0.24</td>\n",
              "      <td>0.2</td>\n",
              "      <td>0.04</td>\n",
              "      <td>0.2</td>\n",
              "      <td>0.28</td>\n",
              "      <td>5.0</td>\n",
              "      <td>2</td>\n",
              "      <td>0.00</td>\n",
              "      <td>2</td>\n",
              "      <td>2</td>\n",
              "      <td>0</td>\n",
              "      <td>2</td>\n",
              "      <td>0</td>\n",
              "      <td>2</td>\n",
              "      <td>2.0</td>\n",
              "      <td>0</td>\n",
              "    </tr>\n",
              "    <tr>\n",
              "      <th>774</th>\n",
              "      <td>55.57</td>\n",
              "      <td>18</td>\n",
              "      <td>0.20</td>\n",
              "      <td>0.2</td>\n",
              "      <td>0.00</td>\n",
              "      <td>0.2</td>\n",
              "      <td>0.20</td>\n",
              "      <td>5.0</td>\n",
              "      <td>2</td>\n",
              "      <td>0.00</td>\n",
              "      <td>2</td>\n",
              "      <td>2</td>\n",
              "      <td>0</td>\n",
              "      <td>2</td>\n",
              "      <td>0</td>\n",
              "      <td>2</td>\n",
              "      <td>2.0</td>\n",
              "      <td>0</td>\n",
              "    </tr>\n",
              "    <tr>\n",
              "      <th>775</th>\n",
              "      <td>55.57</td>\n",
              "      <td>15</td>\n",
              "      <td>0.00</td>\n",
              "      <td>0.2</td>\n",
              "      <td>0.00</td>\n",
              "      <td>0.2</td>\n",
              "      <td>0.00</td>\n",
              "      <td>5.0</td>\n",
              "      <td>2</td>\n",
              "      <td>0.32</td>\n",
              "      <td>2</td>\n",
              "      <td>2</td>\n",
              "      <td>0</td>\n",
              "      <td>2</td>\n",
              "      <td>0</td>\n",
              "      <td>2</td>\n",
              "      <td>2.0</td>\n",
              "      <td>0</td>\n",
              "    </tr>\n",
              "  </tbody>\n",
              "</table>\n",
              "<p>776 rows × 18 columns</p>\n",
              "</div>"
            ],
            "text/plain": [
              "     Sector_score LOCATION_ID  PARA_A  ...  History_score  Score  Risk\n",
              "0            3.89          23    4.18  ...              2    2.4     1\n",
              "1            3.89           6    0.00  ...              2    2.0     0\n",
              "2            3.89           6    0.51  ...              2    2.0     0\n",
              "3            3.89           6    0.00  ...              2    4.4     1\n",
              "4            3.89           6    0.00  ...              2    2.0     0\n",
              "..            ...         ...     ...  ...            ...    ...   ...\n",
              "771         55.57           9    0.49  ...              2    2.0     0\n",
              "772         55.57          16    0.47  ...              2    2.0     0\n",
              "773         55.57          14    0.24  ...              2    2.0     0\n",
              "774         55.57          18    0.20  ...              2    2.0     0\n",
              "775         55.57          15    0.00  ...              2    2.0     0\n",
              "\n",
              "[776 rows x 18 columns]"
            ]
          },
          "metadata": {
            "tags": []
          },
          "execution_count": 65
        }
      ]
    },
    {
      "cell_type": "code",
      "metadata": {
        "id": "iVYFXyE5sk4-",
        "colab": {
          "base_uri": "https://localhost:8080/"
        },
        "outputId": "8e93229f-f43d-4a02-f133-f430b43b5e08"
      },
      "source": [
        "df_audit_risk.columns"
      ],
      "execution_count": 66,
      "outputs": [
        {
          "output_type": "execute_result",
          "data": {
            "text/plain": [
              "Index(['Sector_score', 'LOCATION_ID', 'PARA_A', 'Score_A', 'Risk_A', 'PARA_B',\n",
              "       'Score_B', 'Risk_B', 'TOTAL', 'numbers', 'Score_B.1', 'Risk_C',\n",
              "       'Money_Value', 'Score_MV', 'Risk_D', 'District_Loss', 'PROB', 'RiSk_E',\n",
              "       'History', 'Prob', 'Risk_F', 'Score', 'Inherent_Risk', 'CONTROL_RISK',\n",
              "       'Detection_Risk', 'Audit_Risk', 'Risk'],\n",
              "      dtype='object')"
            ]
          },
          "metadata": {
            "tags": []
          },
          "execution_count": 66
        }
      ]
    },
    {
      "cell_type": "code",
      "metadata": {
        "id": "lugXLBG7tVXV",
        "colab": {
          "base_uri": "https://localhost:8080/"
        },
        "outputId": "349b4877-973a-4710-ce2f-91ab3e76bf93"
      },
      "source": [
        "df_trial.columns"
      ],
      "execution_count": 67,
      "outputs": [
        {
          "output_type": "execute_result",
          "data": {
            "text/plain": [
              "Index(['Sector_score', 'LOCATION_ID', 'PARA_A', 'SCORE_A', 'PARA_B', 'SCORE_B',\n",
              "       'TOTAL', 'numbers', 'Marks', 'Money_Value', 'MONEY_Marks', 'District',\n",
              "       'Loss', 'LOSS_SCORE', 'History', 'History_score', 'Score', 'Risk'],\n",
              "      dtype='object')"
            ]
          },
          "metadata": {
            "tags": []
          },
          "execution_count": 67
        }
      ]
    },
    {
      "cell_type": "code",
      "metadata": {
        "id": "vu8BfqADtYkl"
      },
      "source": [
        "# Renameing the columns for the same feature\n",
        "df_trial.columns = ['Sector_score', 'LOCATION_ID', 'PARA_A', 'Score_A', 'PARA_B', 'Score_B',\n",
        "       'TOTAL', 'numbers', 'Marks', 'Money_Value', 'MONEY_Marks', 'District',\n",
        "       'Loss', 'LOSS_SCORE', 'History', 'History_score', 'Score', 'Risk']"
      ],
      "execution_count": 68,
      "outputs": []
    },
    {
      "cell_type": "code",
      "metadata": {
        "id": "3dRS7IQ7y2_n",
        "colab": {
          "base_uri": "https://localhost:8080/"
        },
        "outputId": "fac8c429-c6ff-4326-bfb7-ae5818cb943d"
      },
      "source": [
        "df_trial.info()"
      ],
      "execution_count": 69,
      "outputs": [
        {
          "output_type": "stream",
          "text": [
            "<class 'pandas.core.frame.DataFrame'>\n",
            "RangeIndex: 776 entries, 0 to 775\n",
            "Data columns (total 18 columns):\n",
            " #   Column         Non-Null Count  Dtype  \n",
            "---  ------         --------------  -----  \n",
            " 0   Sector_score   776 non-null    float64\n",
            " 1   LOCATION_ID    776 non-null    object \n",
            " 2   PARA_A         776 non-null    float64\n",
            " 3   Score_A        776 non-null    float64\n",
            " 4   PARA_B         776 non-null    float64\n",
            " 5   Score_B        776 non-null    float64\n",
            " 6   TOTAL          776 non-null    float64\n",
            " 7   numbers        776 non-null    float64\n",
            " 8   Marks          776 non-null    int64  \n",
            " 9   Money_Value    775 non-null    float64\n",
            " 10  MONEY_Marks    776 non-null    int64  \n",
            " 11  District       776 non-null    int64  \n",
            " 12  Loss           776 non-null    int64  \n",
            " 13  LOSS_SCORE     776 non-null    int64  \n",
            " 14  History        776 non-null    int64  \n",
            " 15  History_score  776 non-null    int64  \n",
            " 16  Score          776 non-null    float64\n",
            " 17  Risk           776 non-null    int64  \n",
            "dtypes: float64(9), int64(8), object(1)\n",
            "memory usage: 109.2+ KB\n"
          ],
          "name": "stdout"
        }
      ]
    },
    {
      "cell_type": "code",
      "metadata": {
        "id": "I5S-h3V7Swft",
        "colab": {
          "base_uri": "https://localhost:8080/",
          "height": 100
        },
        "outputId": "dac5bfcc-8d17-4eb7-cdf6-83bd2c6dde29"
      },
      "source": [
        "df_trial[df_trial['Money_Value'].isnull() == True]"
      ],
      "execution_count": 70,
      "outputs": [
        {
          "output_type": "execute_result",
          "data": {
            "text/html": [
              "<div>\n",
              "<style scoped>\n",
              "    .dataframe tbody tr th:only-of-type {\n",
              "        vertical-align: middle;\n",
              "    }\n",
              "\n",
              "    .dataframe tbody tr th {\n",
              "        vertical-align: top;\n",
              "    }\n",
              "\n",
              "    .dataframe thead th {\n",
              "        text-align: right;\n",
              "    }\n",
              "</style>\n",
              "<table border=\"1\" class=\"dataframe\">\n",
              "  <thead>\n",
              "    <tr style=\"text-align: right;\">\n",
              "      <th></th>\n",
              "      <th>Sector_score</th>\n",
              "      <th>LOCATION_ID</th>\n",
              "      <th>PARA_A</th>\n",
              "      <th>Score_A</th>\n",
              "      <th>PARA_B</th>\n",
              "      <th>Score_B</th>\n",
              "      <th>TOTAL</th>\n",
              "      <th>numbers</th>\n",
              "      <th>Marks</th>\n",
              "      <th>Money_Value</th>\n",
              "      <th>MONEY_Marks</th>\n",
              "      <th>District</th>\n",
              "      <th>Loss</th>\n",
              "      <th>LOSS_SCORE</th>\n",
              "      <th>History</th>\n",
              "      <th>History_score</th>\n",
              "      <th>Score</th>\n",
              "      <th>Risk</th>\n",
              "    </tr>\n",
              "  </thead>\n",
              "  <tbody>\n",
              "    <tr>\n",
              "      <th>642</th>\n",
              "      <td>55.57</td>\n",
              "      <td>4</td>\n",
              "      <td>0.23</td>\n",
              "      <td>0.2</td>\n",
              "      <td>0.0</td>\n",
              "      <td>0.2</td>\n",
              "      <td>0.23</td>\n",
              "      <td>5.0</td>\n",
              "      <td>2</td>\n",
              "      <td>NaN</td>\n",
              "      <td>2</td>\n",
              "      <td>2</td>\n",
              "      <td>0</td>\n",
              "      <td>2</td>\n",
              "      <td>0</td>\n",
              "      <td>2</td>\n",
              "      <td>2.0</td>\n",
              "      <td>0</td>\n",
              "    </tr>\n",
              "  </tbody>\n",
              "</table>\n",
              "</div>"
            ],
            "text/plain": [
              "     Sector_score LOCATION_ID  PARA_A  ...  History_score  Score  Risk\n",
              "642         55.57           4    0.23  ...              2    2.0     0\n",
              "\n",
              "[1 rows x 18 columns]"
            ]
          },
          "metadata": {
            "tags": []
          },
          "execution_count": 70
        }
      ]
    },
    {
      "cell_type": "code",
      "metadata": {
        "id": "ka9jF4QvzhM2"
      },
      "source": [
        "df_trial['Money_Value'] = df_trial['Money_Value'].fillna(df_trial['Money_Value'].median())"
      ],
      "execution_count": 71,
      "outputs": []
    },
    {
      "cell_type": "code",
      "metadata": {
        "id": "mxR52EbFS_aL",
        "colab": {
          "base_uri": "https://localhost:8080/"
        },
        "outputId": "22747dfb-5dad-4867-851d-50d9542fe80b"
      },
      "source": [
        "df_audit_risk.isnull().sum() "
      ],
      "execution_count": 72,
      "outputs": [
        {
          "output_type": "execute_result",
          "data": {
            "text/plain": [
              "Sector_score      0\n",
              "LOCATION_ID       0\n",
              "PARA_A            0\n",
              "Score_A           0\n",
              "Risk_A            0\n",
              "PARA_B            0\n",
              "Score_B           0\n",
              "Risk_B            0\n",
              "TOTAL             0\n",
              "numbers           0\n",
              "Score_B.1         0\n",
              "Risk_C            0\n",
              "Money_Value       0\n",
              "Score_MV          0\n",
              "Risk_D            0\n",
              "District_Loss     0\n",
              "PROB              0\n",
              "RiSk_E            0\n",
              "History           0\n",
              "Prob              0\n",
              "Risk_F            0\n",
              "Score             0\n",
              "Inherent_Risk     0\n",
              "CONTROL_RISK      0\n",
              "Detection_Risk    0\n",
              "Audit_Risk        0\n",
              "Risk              0\n",
              "dtype: int64"
            ]
          },
          "metadata": {
            "tags": []
          },
          "execution_count": 72
        }
      ]
    },
    {
      "cell_type": "code",
      "metadata": {
        "colab": {
          "base_uri": "https://localhost:8080/"
        },
        "id": "qSe1oeFAQtkA",
        "outputId": "cf5d1603-cede-4463-b5ee-5e7fb800c3c9"
      },
      "source": [
        "df_trial.columns"
      ],
      "execution_count": 73,
      "outputs": [
        {
          "output_type": "execute_result",
          "data": {
            "text/plain": [
              "Index(['Sector_score', 'LOCATION_ID', 'PARA_A', 'Score_A', 'PARA_B', 'Score_B',\n",
              "       'TOTAL', 'numbers', 'Marks', 'Money_Value', 'MONEY_Marks', 'District',\n",
              "       'Loss', 'LOSS_SCORE', 'History', 'History_score', 'Score', 'Risk'],\n",
              "      dtype='object')"
            ]
          },
          "metadata": {
            "tags": []
          },
          "execution_count": 73
        }
      ]
    },
    {
      "cell_type": "markdown",
      "metadata": {
        "id": "OoWsWIAxUhCV"
      },
      "source": [
        "Checked every unique value to find anomaly"
      ]
    },
    {
      "cell_type": "code",
      "metadata": {
        "colab": {
          "base_uri": "https://localhost:8080/"
        },
        "id": "uZ_0oOCLQtkU",
        "outputId": "d8fc1e8b-11ea-4d73-cdbf-871b9f8ba32a"
      },
      "source": [
        "df_trial[\"LOCATION_ID\"].value_counts()"
      ],
      "execution_count": 74,
      "outputs": [
        {
          "output_type": "execute_result",
          "data": {
            "text/plain": [
              "8          76\n",
              "19         68\n",
              "9          53\n",
              "16         52\n",
              "12         47\n",
              "5          44\n",
              "2          41\n",
              "4          37\n",
              "13         35\n",
              "15         35\n",
              "6          33\n",
              "32         29\n",
              "11         26\n",
              "22         24\n",
              "29         21\n",
              "14         20\n",
              "18         16\n",
              "31         12\n",
              "1          11\n",
              "37         10\n",
              "39          9\n",
              "21          8\n",
              "27          8\n",
              "28          8\n",
              "43          7\n",
              "25          6\n",
              "20          5\n",
              "30          4\n",
              "38          4\n",
              "7           4\n",
              "36          4\n",
              "40          3\n",
              "3           3\n",
              "35          2\n",
              "23          1\n",
              "34          1\n",
              "41          1\n",
              "LOHARU      1\n",
              "24          1\n",
              "SAFIDON     1\n",
              "NUH         1\n",
              "33          1\n",
              "42          1\n",
              "44          1\n",
              "17          1\n",
              "Name: LOCATION_ID, dtype: int64"
            ]
          },
          "metadata": {
            "tags": []
          },
          "execution_count": 74
        }
      ]
    },
    {
      "cell_type": "code",
      "metadata": {
        "id": "mQZk3eGwQtkV"
      },
      "source": [
        "df_trial_1 = df_trial[(df_trial.LOCATION_ID != 'LOHARU')]\n",
        "df_trial_1 = df_trial_1[(df_trial_1.LOCATION_ID != 'NUH')]\n",
        "df_trial_1 = df_trial_1[(df_trial_1.LOCATION_ID != 'SAFIDON')]"
      ],
      "execution_count": 75,
      "outputs": []
    },
    {
      "cell_type": "code",
      "metadata": {
        "colab": {
          "base_uri": "https://localhost:8080/"
        },
        "id": "XMvb_buWQtkV",
        "outputId": "0253c270-711d-4112-8b9d-6d948bc3d819"
      },
      "source": [
        "df_trial_1[\"LOCATION_ID\"].value_counts()"
      ],
      "execution_count": 76,
      "outputs": [
        {
          "output_type": "execute_result",
          "data": {
            "text/plain": [
              "8     76\n",
              "19    68\n",
              "9     53\n",
              "16    52\n",
              "12    47\n",
              "5     44\n",
              "2     41\n",
              "4     37\n",
              "13    35\n",
              "15    35\n",
              "6     33\n",
              "32    29\n",
              "11    26\n",
              "22    24\n",
              "29    21\n",
              "14    20\n",
              "18    16\n",
              "31    12\n",
              "1     11\n",
              "37    10\n",
              "39     9\n",
              "27     8\n",
              "28     8\n",
              "21     8\n",
              "43     7\n",
              "25     6\n",
              "20     5\n",
              "36     4\n",
              "30     4\n",
              "7      4\n",
              "38     4\n",
              "40     3\n",
              "3      3\n",
              "35     2\n",
              "23     1\n",
              "34     1\n",
              "41     1\n",
              "24     1\n",
              "33     1\n",
              "42     1\n",
              "44     1\n",
              "17     1\n",
              "Name: LOCATION_ID, dtype: int64"
            ]
          },
          "metadata": {
            "tags": []
          },
          "execution_count": 76
        }
      ]
    },
    {
      "cell_type": "code",
      "metadata": {
        "id": "-4sW4g5GQtkW"
      },
      "source": [
        "df_trial_2 = df_trial_1.drop_duplicates(keep = 'first')"
      ],
      "execution_count": 77,
      "outputs": []
    },
    {
      "cell_type": "code",
      "metadata": {
        "colab": {
          "base_uri": "https://localhost:8080/"
        },
        "id": "U-bFdKW3QtkW",
        "outputId": "45363337-7672-40a8-a996-87501b7204a2"
      },
      "source": [
        "df_trial_2.info()"
      ],
      "execution_count": 78,
      "outputs": [
        {
          "output_type": "stream",
          "text": [
            "<class 'pandas.core.frame.DataFrame'>\n",
            "Int64Index: 760 entries, 0 to 775\n",
            "Data columns (total 18 columns):\n",
            " #   Column         Non-Null Count  Dtype  \n",
            "---  ------         --------------  -----  \n",
            " 0   Sector_score   760 non-null    float64\n",
            " 1   LOCATION_ID    760 non-null    object \n",
            " 2   PARA_A         760 non-null    float64\n",
            " 3   Score_A        760 non-null    float64\n",
            " 4   PARA_B         760 non-null    float64\n",
            " 5   Score_B        760 non-null    float64\n",
            " 6   TOTAL          760 non-null    float64\n",
            " 7   numbers        760 non-null    float64\n",
            " 8   Marks          760 non-null    int64  \n",
            " 9   Money_Value    760 non-null    float64\n",
            " 10  MONEY_Marks    760 non-null    int64  \n",
            " 11  District       760 non-null    int64  \n",
            " 12  Loss           760 non-null    int64  \n",
            " 13  LOSS_SCORE     760 non-null    int64  \n",
            " 14  History        760 non-null    int64  \n",
            " 15  History_score  760 non-null    int64  \n",
            " 16  Score          760 non-null    float64\n",
            " 17  Risk           760 non-null    int64  \n",
            "dtypes: float64(9), int64(8), object(1)\n",
            "memory usage: 112.8+ KB\n"
          ],
          "name": "stdout"
        }
      ]
    },
    {
      "cell_type": "code",
      "metadata": {
        "id": "7BclTqwQQtkX"
      },
      "source": [
        "df_trial_3 = df_trial_2.astype(float)"
      ],
      "execution_count": 79,
      "outputs": []
    },
    {
      "cell_type": "code",
      "metadata": {
        "colab": {
          "base_uri": "https://localhost:8080/"
        },
        "id": "-g6Y8mMBQtkX",
        "outputId": "8579866c-ddfc-47ec-c20b-69434a08606e"
      },
      "source": [
        "df_trial_3.info()"
      ],
      "execution_count": 80,
      "outputs": [
        {
          "output_type": "stream",
          "text": [
            "<class 'pandas.core.frame.DataFrame'>\n",
            "Int64Index: 760 entries, 0 to 775\n",
            "Data columns (total 18 columns):\n",
            " #   Column         Non-Null Count  Dtype  \n",
            "---  ------         --------------  -----  \n",
            " 0   Sector_score   760 non-null    float64\n",
            " 1   LOCATION_ID    760 non-null    float64\n",
            " 2   PARA_A         760 non-null    float64\n",
            " 3   Score_A        760 non-null    float64\n",
            " 4   PARA_B         760 non-null    float64\n",
            " 5   Score_B        760 non-null    float64\n",
            " 6   TOTAL          760 non-null    float64\n",
            " 7   numbers        760 non-null    float64\n",
            " 8   Marks          760 non-null    float64\n",
            " 9   Money_Value    760 non-null    float64\n",
            " 10  MONEY_Marks    760 non-null    float64\n",
            " 11  District       760 non-null    float64\n",
            " 12  Loss           760 non-null    float64\n",
            " 13  LOSS_SCORE     760 non-null    float64\n",
            " 14  History        760 non-null    float64\n",
            " 15  History_score  760 non-null    float64\n",
            " 16  Score          760 non-null    float64\n",
            " 17  Risk           760 non-null    float64\n",
            "dtypes: float64(18)\n",
            "memory usage: 112.8 KB\n"
          ],
          "name": "stdout"
        }
      ]
    },
    {
      "cell_type": "code",
      "metadata": {
        "id": "Bes0lK-YV-xD",
        "colab": {
          "base_uri": "https://localhost:8080/"
        },
        "outputId": "547fde88-1f88-4ec3-f2b1-2bc0312c1d32"
      },
      "source": [
        "df_audit_risk_3.columns"
      ],
      "execution_count": 81,
      "outputs": [
        {
          "output_type": "execute_result",
          "data": {
            "text/plain": [
              "Index(['Sector_score', 'LOCATION_ID', 'PARA_A', 'Score_A', 'Risk_A', 'PARA_B',\n",
              "       'Score_B', 'Risk_B', 'TOTAL', 'numbers', 'Score_B.1', 'Risk_C',\n",
              "       'Money_Value', 'Score_MV', 'Risk_D', 'District_Loss', 'PROB', 'RiSk_E',\n",
              "       'History', 'Prob', 'Risk_F', 'Score', 'Inherent_Risk', 'CONTROL_RISK',\n",
              "       'Audit_Risk', 'Risk'],\n",
              "      dtype='object')"
            ]
          },
          "metadata": {
            "tags": []
          },
          "execution_count": 81
        }
      ]
    },
    {
      "cell_type": "code",
      "metadata": {
        "id": "YFgLLUlUWHoy",
        "colab": {
          "base_uri": "https://localhost:8080/"
        },
        "outputId": "18e66e43-d20b-4361-9e7e-bc389836f100"
      },
      "source": [
        "df_trial_3.columns"
      ],
      "execution_count": 82,
      "outputs": [
        {
          "output_type": "execute_result",
          "data": {
            "text/plain": [
              "Index(['Sector_score', 'LOCATION_ID', 'PARA_A', 'Score_A', 'PARA_B', 'Score_B',\n",
              "       'TOTAL', 'numbers', 'Marks', 'Money_Value', 'MONEY_Marks', 'District',\n",
              "       'Loss', 'LOSS_SCORE', 'History', 'History_score', 'Score', 'Risk'],\n",
              "      dtype='object')"
            ]
          },
          "metadata": {
            "tags": []
          },
          "execution_count": 82
        }
      ]
    },
    {
      "cell_type": "code",
      "metadata": {
        "id": "FqmkEeZgWNkn",
        "colab": {
          "base_uri": "https://localhost:8080/"
        },
        "outputId": "d37ee09b-e6eb-429b-f58c-445db2e0fdb6"
      },
      "source": [
        "common_columns = np.intersect1d(df_audit_risk_3.columns, df_trial_3.columns)\n",
        "common_columns"
      ],
      "execution_count": 83,
      "outputs": [
        {
          "output_type": "execute_result",
          "data": {
            "text/plain": [
              "array(['History', 'LOCATION_ID', 'Money_Value', 'PARA_A', 'PARA_B',\n",
              "       'Risk', 'Score', 'Score_A', 'Score_B', 'Sector_score', 'TOTAL',\n",
              "       'numbers'], dtype=object)"
            ]
          },
          "metadata": {
            "tags": []
          },
          "execution_count": 83
        }
      ]
    },
    {
      "cell_type": "code",
      "metadata": {
        "id": "xwZtDa2k0R3U",
        "colab": {
          "base_uri": "https://localhost:8080/"
        },
        "outputId": "669c3ab2-721c-41be-eebe-b4733d91d2e0"
      },
      "source": [
        "df_audit_risk_3['History'].equals(df_trial_3['History'])"
      ],
      "execution_count": 84,
      "outputs": [
        {
          "output_type": "execute_result",
          "data": {
            "text/plain": [
              "True"
            ]
          },
          "metadata": {
            "tags": []
          },
          "execution_count": 84
        }
      ]
    },
    {
      "cell_type": "code",
      "metadata": {
        "id": "MQgrObYeWk9K",
        "colab": {
          "base_uri": "https://localhost:8080/"
        },
        "outputId": "ea8ef260-a1dc-440e-c356-7378b22d76f0"
      },
      "source": [
        "df_audit_risk_3['LOCATION_ID'].equals(df_trial_3['LOCATION_ID'])"
      ],
      "execution_count": 85,
      "outputs": [
        {
          "output_type": "execute_result",
          "data": {
            "text/plain": [
              "True"
            ]
          },
          "metadata": {
            "tags": []
          },
          "execution_count": 85
        }
      ]
    },
    {
      "cell_type": "code",
      "metadata": {
        "id": "GiJ-sPsMWkqq",
        "colab": {
          "base_uri": "https://localhost:8080/"
        },
        "outputId": "ae3b150b-94c8-4b11-b61a-9ccacd6f54d9"
      },
      "source": [
        "df_audit_risk_3['Money_Value'].equals(df_trial_3['Money_Value'])"
      ],
      "execution_count": 86,
      "outputs": [
        {
          "output_type": "execute_result",
          "data": {
            "text/plain": [
              "True"
            ]
          },
          "metadata": {
            "tags": []
          },
          "execution_count": 86
        }
      ]
    },
    {
      "cell_type": "code",
      "metadata": {
        "id": "tjDp3g0AWkdK",
        "colab": {
          "base_uri": "https://localhost:8080/"
        },
        "outputId": "51d67ffa-e155-473b-8043-f671f09bbc59"
      },
      "source": [
        "df_audit_risk_3['PARA_A'].equals(df_trial_3['PARA_A'])"
      ],
      "execution_count": 87,
      "outputs": [
        {
          "output_type": "execute_result",
          "data": {
            "text/plain": [
              "True"
            ]
          },
          "metadata": {
            "tags": []
          },
          "execution_count": 87
        }
      ]
    },
    {
      "cell_type": "code",
      "metadata": {
        "id": "y2p0TXG3WkO0",
        "colab": {
          "base_uri": "https://localhost:8080/"
        },
        "outputId": "0c9d08c0-412b-4924-8a38-bd4f4ad156e8"
      },
      "source": [
        "df_audit_risk_3['PARA_B'].equals(df_trial_3['PARA_B'])"
      ],
      "execution_count": 88,
      "outputs": [
        {
          "output_type": "execute_result",
          "data": {
            "text/plain": [
              "True"
            ]
          },
          "metadata": {
            "tags": []
          },
          "execution_count": 88
        }
      ]
    },
    {
      "cell_type": "code",
      "metadata": {
        "id": "Jv6oSa4AWj7S",
        "colab": {
          "base_uri": "https://localhost:8080/"
        },
        "outputId": "f8783332-7983-4ea9-f2ec-4c2e7e7acda9"
      },
      "source": [
        "df_audit_risk_3['Risk'].equals(df_trial_3['Risk'])"
      ],
      "execution_count": 89,
      "outputs": [
        {
          "output_type": "execute_result",
          "data": {
            "text/plain": [
              "False"
            ]
          },
          "metadata": {
            "tags": []
          },
          "execution_count": 89
        }
      ]
    },
    {
      "cell_type": "code",
      "metadata": {
        "id": "InsBDGS3awMV",
        "outputId": "20d4730a-1689-42e9-8e2f-137067c278da",
        "colab": {
          "base_uri": "https://localhost:8080/",
          "height": 265
        }
      },
      "source": [
        "df_audit_risk_3['Risk'].value_counts().plot.pie(explode=[0,0.1],autopct='%.2f%%')"
      ],
      "execution_count": 144,
      "outputs": [
        {
          "output_type": "execute_result",
          "data": {
            "text/plain": [
              "<matplotlib.axes._subplots.AxesSubplot at 0x7ffb96b11450>"
            ]
          },
          "metadata": {
            "tags": []
          },
          "execution_count": 144
        },
        {
          "output_type": "display_data",
          "data": {
            "image/png": "[encoded data removed]",
            "text/plain": [
              "<Figure size 432x288 with 1 Axes>"
            ]
          },
          "metadata": {
            "tags": []
          }
        }
      ]
    },
    {
      "cell_type": "code",
      "metadata": {
        "id": "beGNRGuPdsUC",
        "outputId": "67e102cf-fdd1-479a-ab99-23ccf1514ca3",
        "colab": {
          "base_uri": "https://localhost:8080/",
          "height": 265
        }
      },
      "source": [
        "df_trial_3['Risk'].value_counts().plot.pie(explode=[0,0.1],autopct='%.2f%%')"
      ],
      "execution_count": 145,
      "outputs": [
        {
          "output_type": "execute_result",
          "data": {
            "text/plain": [
              "<matplotlib.axes._subplots.AxesSubplot at 0x7ffb9662ff50>"
            ]
          },
          "metadata": {
            "tags": []
          },
          "execution_count": 145
        },
        {
          "output_type": "display_data",
          "data": {
            "image/png": "[encoded data removed]",
            "text/plain": [
              "<Figure size 432x288 with 1 Axes>"
            ]
          },
          "metadata": {
            "tags": []
          }
        }
      ]
    },
    {
      "cell_type": "code",
      "metadata": {
        "id": "rkG3dR7UWdjv",
        "colab": {
          "base_uri": "https://localhost:8080/"
        },
        "outputId": "53d1ce91-674c-4fef-99a5-00cad7b170a3"
      },
      "source": [
        "df_audit_risk_3['Score'].equals(df_trial_3['Score'])"
      ],
      "execution_count": 90,
      "outputs": [
        {
          "output_type": "execute_result",
          "data": {
            "text/plain": [
              "True"
            ]
          },
          "metadata": {
            "tags": []
          },
          "execution_count": 90
        }
      ]
    },
    {
      "cell_type": "code",
      "metadata": {
        "id": "yJU7k-hCWhKy",
        "colab": {
          "base_uri": "https://localhost:8080/"
        },
        "outputId": "624af2de-6953-40db-99f8-42fa01cea13b"
      },
      "source": [
        "df_audit_risk_3['Score_A'].equals(df_trial_3['Score_A'])"
      ],
      "execution_count": 91,
      "outputs": [
        {
          "output_type": "execute_result",
          "data": {
            "text/plain": [
              "True"
            ]
          },
          "metadata": {
            "tags": []
          },
          "execution_count": 91
        }
      ]
    },
    {
      "cell_type": "code",
      "metadata": {
        "id": "CdMVqSp9W8js",
        "colab": {
          "base_uri": "https://localhost:8080/"
        },
        "outputId": "8a83dcd8-11e9-4cd2-898a-3b9f2c8d1053"
      },
      "source": [
        "df_audit_risk_3['Score_B'].equals(df_trial_3['Score_B'])"
      ],
      "execution_count": 92,
      "outputs": [
        {
          "output_type": "execute_result",
          "data": {
            "text/plain": [
              "True"
            ]
          },
          "metadata": {
            "tags": []
          },
          "execution_count": 92
        }
      ]
    },
    {
      "cell_type": "code",
      "metadata": {
        "id": "FdAxNAiMXA7S",
        "colab": {
          "base_uri": "https://localhost:8080/"
        },
        "outputId": "2ebf268e-8528-4f42-fd5c-fc90f8a53241"
      },
      "source": [
        "df_audit_risk_3['Sector_score'].equals(df_trial_3['Sector_score'])"
      ],
      "execution_count": 93,
      "outputs": [
        {
          "output_type": "execute_result",
          "data": {
            "text/plain": [
              "True"
            ]
          },
          "metadata": {
            "tags": []
          },
          "execution_count": 93
        }
      ]
    },
    {
      "cell_type": "code",
      "metadata": {
        "id": "L7SkqNU1XAhJ",
        "colab": {
          "base_uri": "https://localhost:8080/"
        },
        "outputId": "f42f459e-ff48-4ff6-95a7-8e60a67a17a1"
      },
      "source": [
        "df_audit_risk_3['TOTAL'].equals(df_trial_3['TOTAL'])"
      ],
      "execution_count": 94,
      "outputs": [
        {
          "output_type": "execute_result",
          "data": {
            "text/plain": [
              "True"
            ]
          },
          "metadata": {
            "tags": []
          },
          "execution_count": 94
        }
      ]
    },
    {
      "cell_type": "code",
      "metadata": {
        "id": "VkwH5GewXVs_",
        "colab": {
          "base_uri": "https://localhost:8080/"
        },
        "outputId": "352c5956-dfe2-4830-d1cd-ede396eab25e"
      },
      "source": [
        "df_audit_risk_3['numbers'].equals(df_trial_3['numbers'])"
      ],
      "execution_count": 95,
      "outputs": [
        {
          "output_type": "execute_result",
          "data": {
            "text/plain": [
              "True"
            ]
          },
          "metadata": {
            "tags": []
          },
          "execution_count": 95
        }
      ]
    },
    {
      "cell_type": "markdown",
      "metadata": {
        "id": "vaEFcX-fXgIy"
      },
      "source": [
        "So they are equals but the Risk column in trial dataset has different data which is conflicting to the audit dataset. so two datasets can be merged after droping Risk from trial dataset"
      ]
    },
    {
      "cell_type": "code",
      "metadata": {
        "id": "mV-b3PA9XwHX"
      },
      "source": [
        "df_trial_4 = df_trial_3.drop(['Risk'], axis = 1)"
      ],
      "execution_count": 96,
      "outputs": []
    },
    {
      "cell_type": "code",
      "metadata": {
        "id": "UFPhn8jWYZ0D",
        "colab": {
          "base_uri": "https://localhost:8080/",
          "height": 439
        },
        "outputId": "2414cf76-366b-45f4-c311-3fc5d7bdbbff"
      },
      "source": [
        "df_trial_4"
      ],
      "execution_count": 97,
      "outputs": [
        {
          "output_type": "execute_result",
          "data": {
            "text/html": [
              "<div>\n",
              "<style scoped>\n",
              "    .dataframe tbody tr th:only-of-type {\n",
              "        vertical-align: middle;\n",
              "    }\n",
              "\n",
              "    .dataframe tbody tr th {\n",
              "        vertical-align: top;\n",
              "    }\n",
              "\n",
              "    .dataframe thead th {\n",
              "        text-align: right;\n",
              "    }\n",
              "</style>\n",
              "<table border=\"1\" class=\"dataframe\">\n",
              "  <thead>\n",
              "    <tr style=\"text-align: right;\">\n",
              "      <th></th>\n",
              "      <th>Sector_score</th>\n",
              "      <th>LOCATION_ID</th>\n",
              "      <th>PARA_A</th>\n",
              "      <th>Score_A</th>\n",
              "      <th>PARA_B</th>\n",
              "      <th>Score_B</th>\n",
              "      <th>TOTAL</th>\n",
              "      <th>numbers</th>\n",
              "      <th>Marks</th>\n",
              "      <th>Money_Value</th>\n",
              "      <th>MONEY_Marks</th>\n",
              "      <th>District</th>\n",
              "      <th>Loss</th>\n",
              "      <th>LOSS_SCORE</th>\n",
              "      <th>History</th>\n",
              "      <th>History_score</th>\n",
              "      <th>Score</th>\n",
              "    </tr>\n",
              "  </thead>\n",
              "  <tbody>\n",
              "    <tr>\n",
              "      <th>0</th>\n",
              "      <td>3.89</td>\n",
              "      <td>23.0</td>\n",
              "      <td>4.18</td>\n",
              "      <td>0.6</td>\n",
              "      <td>2.50</td>\n",
              "      <td>0.2</td>\n",
              "      <td>6.68</td>\n",
              "      <td>5.0</td>\n",
              "      <td>2.0</td>\n",
              "      <td>3.38</td>\n",
              "      <td>2.0</td>\n",
              "      <td>2.0</td>\n",
              "      <td>0.0</td>\n",
              "      <td>2.0</td>\n",
              "      <td>0.0</td>\n",
              "      <td>2.0</td>\n",
              "      <td>2.4</td>\n",
              "    </tr>\n",
              "    <tr>\n",
              "      <th>1</th>\n",
              "      <td>3.89</td>\n",
              "      <td>6.0</td>\n",
              "      <td>0.00</td>\n",
              "      <td>0.2</td>\n",
              "      <td>4.83</td>\n",
              "      <td>0.2</td>\n",
              "      <td>4.83</td>\n",
              "      <td>5.0</td>\n",
              "      <td>2.0</td>\n",
              "      <td>0.94</td>\n",
              "      <td>2.0</td>\n",
              "      <td>2.0</td>\n",
              "      <td>0.0</td>\n",
              "      <td>2.0</td>\n",
              "      <td>0.0</td>\n",
              "      <td>2.0</td>\n",
              "      <td>2.0</td>\n",
              "    </tr>\n",
              "    <tr>\n",
              "      <th>2</th>\n",
              "      <td>3.89</td>\n",
              "      <td>6.0</td>\n",
              "      <td>0.51</td>\n",
              "      <td>0.2</td>\n",
              "      <td>0.23</td>\n",
              "      <td>0.2</td>\n",
              "      <td>0.74</td>\n",
              "      <td>5.0</td>\n",
              "      <td>2.0</td>\n",
              "      <td>0.00</td>\n",
              "      <td>2.0</td>\n",
              "      <td>2.0</td>\n",
              "      <td>0.0</td>\n",
              "      <td>2.0</td>\n",
              "      <td>0.0</td>\n",
              "      <td>2.0</td>\n",
              "      <td>2.0</td>\n",
              "    </tr>\n",
              "    <tr>\n",
              "      <th>3</th>\n",
              "      <td>3.89</td>\n",
              "      <td>6.0</td>\n",
              "      <td>0.00</td>\n",
              "      <td>0.2</td>\n",
              "      <td>10.80</td>\n",
              "      <td>0.6</td>\n",
              "      <td>10.80</td>\n",
              "      <td>6.0</td>\n",
              "      <td>6.0</td>\n",
              "      <td>11.75</td>\n",
              "      <td>6.0</td>\n",
              "      <td>2.0</td>\n",
              "      <td>0.0</td>\n",
              "      <td>2.0</td>\n",
              "      <td>0.0</td>\n",
              "      <td>2.0</td>\n",
              "      <td>4.4</td>\n",
              "    </tr>\n",
              "    <tr>\n",
              "      <th>4</th>\n",
              "      <td>3.89</td>\n",
              "      <td>6.0</td>\n",
              "      <td>0.00</td>\n",
              "      <td>0.2</td>\n",
              "      <td>0.08</td>\n",
              "      <td>0.2</td>\n",
              "      <td>0.08</td>\n",
              "      <td>5.0</td>\n",
              "      <td>2.0</td>\n",
              "      <td>0.00</td>\n",
              "      <td>2.0</td>\n",
              "      <td>2.0</td>\n",
              "      <td>0.0</td>\n",
              "      <td>2.0</td>\n",
              "      <td>0.0</td>\n",
              "      <td>2.0</td>\n",
              "      <td>2.0</td>\n",
              "    </tr>\n",
              "    <tr>\n",
              "      <th>...</th>\n",
              "      <td>...</td>\n",
              "      <td>...</td>\n",
              "      <td>...</td>\n",
              "      <td>...</td>\n",
              "      <td>...</td>\n",
              "      <td>...</td>\n",
              "      <td>...</td>\n",
              "      <td>...</td>\n",
              "      <td>...</td>\n",
              "      <td>...</td>\n",
              "      <td>...</td>\n",
              "      <td>...</td>\n",
              "      <td>...</td>\n",
              "      <td>...</td>\n",
              "      <td>...</td>\n",
              "      <td>...</td>\n",
              "      <td>...</td>\n",
              "    </tr>\n",
              "    <tr>\n",
              "      <th>770</th>\n",
              "      <td>55.57</td>\n",
              "      <td>18.0</td>\n",
              "      <td>0.75</td>\n",
              "      <td>0.2</td>\n",
              "      <td>0.45</td>\n",
              "      <td>0.2</td>\n",
              "      <td>1.20</td>\n",
              "      <td>5.0</td>\n",
              "      <td>2.0</td>\n",
              "      <td>0.00</td>\n",
              "      <td>2.0</td>\n",
              "      <td>2.0</td>\n",
              "      <td>0.0</td>\n",
              "      <td>2.0</td>\n",
              "      <td>0.0</td>\n",
              "      <td>2.0</td>\n",
              "      <td>2.0</td>\n",
              "    </tr>\n",
              "    <tr>\n",
              "      <th>772</th>\n",
              "      <td>55.57</td>\n",
              "      <td>16.0</td>\n",
              "      <td>0.47</td>\n",
              "      <td>0.2</td>\n",
              "      <td>0.37</td>\n",
              "      <td>0.2</td>\n",
              "      <td>0.84</td>\n",
              "      <td>5.0</td>\n",
              "      <td>2.0</td>\n",
              "      <td>0.00</td>\n",
              "      <td>2.0</td>\n",
              "      <td>2.0</td>\n",
              "      <td>0.0</td>\n",
              "      <td>2.0</td>\n",
              "      <td>0.0</td>\n",
              "      <td>2.0</td>\n",
              "      <td>2.0</td>\n",
              "    </tr>\n",
              "    <tr>\n",
              "      <th>773</th>\n",
              "      <td>55.57</td>\n",
              "      <td>14.0</td>\n",
              "      <td>0.24</td>\n",
              "      <td>0.2</td>\n",
              "      <td>0.04</td>\n",
              "      <td>0.2</td>\n",
              "      <td>0.28</td>\n",
              "      <td>5.0</td>\n",
              "      <td>2.0</td>\n",
              "      <td>0.00</td>\n",
              "      <td>2.0</td>\n",
              "      <td>2.0</td>\n",
              "      <td>0.0</td>\n",
              "      <td>2.0</td>\n",
              "      <td>0.0</td>\n",
              "      <td>2.0</td>\n",
              "      <td>2.0</td>\n",
              "    </tr>\n",
              "    <tr>\n",
              "      <th>774</th>\n",
              "      <td>55.57</td>\n",
              "      <td>18.0</td>\n",
              "      <td>0.20</td>\n",
              "      <td>0.2</td>\n",
              "      <td>0.00</td>\n",
              "      <td>0.2</td>\n",
              "      <td>0.20</td>\n",
              "      <td>5.0</td>\n",
              "      <td>2.0</td>\n",
              "      <td>0.00</td>\n",
              "      <td>2.0</td>\n",
              "      <td>2.0</td>\n",
              "      <td>0.0</td>\n",
              "      <td>2.0</td>\n",
              "      <td>0.0</td>\n",
              "      <td>2.0</td>\n",
              "      <td>2.0</td>\n",
              "    </tr>\n",
              "    <tr>\n",
              "      <th>775</th>\n",
              "      <td>55.57</td>\n",
              "      <td>15.0</td>\n",
              "      <td>0.00</td>\n",
              "      <td>0.2</td>\n",
              "      <td>0.00</td>\n",
              "      <td>0.2</td>\n",
              "      <td>0.00</td>\n",
              "      <td>5.0</td>\n",
              "      <td>2.0</td>\n",
              "      <td>0.32</td>\n",
              "      <td>2.0</td>\n",
              "      <td>2.0</td>\n",
              "      <td>0.0</td>\n",
              "      <td>2.0</td>\n",
              "      <td>0.0</td>\n",
              "      <td>2.0</td>\n",
              "      <td>2.0</td>\n",
              "    </tr>\n",
              "  </tbody>\n",
              "</table>\n",
              "<p>760 rows × 17 columns</p>\n",
              "</div>"
            ],
            "text/plain": [
              "     Sector_score  LOCATION_ID  PARA_A  ...  History  History_score  Score\n",
              "0            3.89         23.0    4.18  ...      0.0            2.0    2.4\n",
              "1            3.89          6.0    0.00  ...      0.0            2.0    2.0\n",
              "2            3.89          6.0    0.51  ...      0.0            2.0    2.0\n",
              "3            3.89          6.0    0.00  ...      0.0            2.0    4.4\n",
              "4            3.89          6.0    0.00  ...      0.0            2.0    2.0\n",
              "..            ...          ...     ...  ...      ...            ...    ...\n",
              "770         55.57         18.0    0.75  ...      0.0            2.0    2.0\n",
              "772         55.57         16.0    0.47  ...      0.0            2.0    2.0\n",
              "773         55.57         14.0    0.24  ...      0.0            2.0    2.0\n",
              "774         55.57         18.0    0.20  ...      0.0            2.0    2.0\n",
              "775         55.57         15.0    0.00  ...      0.0            2.0    2.0\n",
              "\n",
              "[760 rows x 17 columns]"
            ]
          },
          "metadata": {
            "tags": []
          },
          "execution_count": 97
        }
      ]
    },
    {
      "cell_type": "code",
      "metadata": {
        "id": "yf88EMY3YqGZ",
        "colab": {
          "base_uri": "https://localhost:8080/"
        },
        "outputId": "9a01aee2-b2f7-4aca-dca7-6313eba4ccf6"
      },
      "source": [
        "common_columns = np.intersect1d(df_audit_risk_3.columns, df_trial_4.columns)\n",
        "common_columns"
      ],
      "execution_count": 98,
      "outputs": [
        {
          "output_type": "execute_result",
          "data": {
            "text/plain": [
              "array(['History', 'LOCATION_ID', 'Money_Value', 'PARA_A', 'PARA_B',\n",
              "       'Score', 'Score_A', 'Score_B', 'Sector_score', 'TOTAL', 'numbers'],\n",
              "      dtype=object)"
            ]
          },
          "metadata": {
            "tags": []
          },
          "execution_count": 98
        }
      ]
    },
    {
      "cell_type": "code",
      "metadata": {
        "id": "BXuefdGQYpNq"
      },
      "source": [
        "one_df = pd.merge(df_audit_risk_3, df_trial_4, how='outer', on = ['History', 'LOCATION_ID', 'Money_Value', 'PARA_A', 'PARA_B',\n",
        "       'Score', 'Score_A', 'Score_B', 'Sector_score', 'TOTAL', 'numbers'])"
      ],
      "execution_count": 99,
      "outputs": []
    },
    {
      "cell_type": "code",
      "metadata": {
        "id": "OokW1gNkaR8u",
        "colab": {
          "base_uri": "https://localhost:8080/",
          "height": 439
        },
        "outputId": "973f3c68-9a32-4cc2-ccab-5b7165bd40cb"
      },
      "source": [
        "one_df"
      ],
      "execution_count": 100,
      "outputs": [
        {
          "output_type": "execute_result",
          "data": {
            "text/html": [
              "<div>\n",
              "<style scoped>\n",
              "    .dataframe tbody tr th:only-of-type {\n",
              "        vertical-align: middle;\n",
              "    }\n",
              "\n",
              "    .dataframe tbody tr th {\n",
              "        vertical-align: top;\n",
              "    }\n",
              "\n",
              "    .dataframe thead th {\n",
              "        text-align: right;\n",
              "    }\n",
              "</style>\n",
              "<table border=\"1\" class=\"dataframe\">\n",
              "  <thead>\n",
              "    <tr style=\"text-align: right;\">\n",
              "      <th></th>\n",
              "      <th>Sector_score</th>\n",
              "      <th>LOCATION_ID</th>\n",
              "      <th>PARA_A</th>\n",
              "      <th>Score_A</th>\n",
              "      <th>Risk_A</th>\n",
              "      <th>PARA_B</th>\n",
              "      <th>Score_B</th>\n",
              "      <th>Risk_B</th>\n",
              "      <th>TOTAL</th>\n",
              "      <th>numbers</th>\n",
              "      <th>Score_B.1</th>\n",
              "      <th>Risk_C</th>\n",
              "      <th>Money_Value</th>\n",
              "      <th>Score_MV</th>\n",
              "      <th>Risk_D</th>\n",
              "      <th>District_Loss</th>\n",
              "      <th>PROB</th>\n",
              "      <th>RiSk_E</th>\n",
              "      <th>History</th>\n",
              "      <th>Prob</th>\n",
              "      <th>Risk_F</th>\n",
              "      <th>Score</th>\n",
              "      <th>Inherent_Risk</th>\n",
              "      <th>CONTROL_RISK</th>\n",
              "      <th>Audit_Risk</th>\n",
              "      <th>Risk</th>\n",
              "      <th>Marks</th>\n",
              "      <th>MONEY_Marks</th>\n",
              "      <th>District</th>\n",
              "      <th>Loss</th>\n",
              "      <th>LOSS_SCORE</th>\n",
              "      <th>History_score</th>\n",
              "    </tr>\n",
              "  </thead>\n",
              "  <tbody>\n",
              "    <tr>\n",
              "      <th>0</th>\n",
              "      <td>3.89</td>\n",
              "      <td>23.0</td>\n",
              "      <td>4.18</td>\n",
              "      <td>0.6</td>\n",
              "      <td>2.508</td>\n",
              "      <td>2.50</td>\n",
              "      <td>0.2</td>\n",
              "      <td>0.500</td>\n",
              "      <td>6.68</td>\n",
              "      <td>5.0</td>\n",
              "      <td>0.2</td>\n",
              "      <td>1.0</td>\n",
              "      <td>3.38</td>\n",
              "      <td>0.2</td>\n",
              "      <td>0.676</td>\n",
              "      <td>2.0</td>\n",
              "      <td>0.2</td>\n",
              "      <td>0.4</td>\n",
              "      <td>0.0</td>\n",
              "      <td>0.2</td>\n",
              "      <td>0.0</td>\n",
              "      <td>2.4</td>\n",
              "      <td>8.574</td>\n",
              "      <td>0.4</td>\n",
              "      <td>1.7148</td>\n",
              "      <td>1.0</td>\n",
              "      <td>2.0</td>\n",
              "      <td>2.0</td>\n",
              "      <td>2.0</td>\n",
              "      <td>0.0</td>\n",
              "      <td>2.0</td>\n",
              "      <td>2.0</td>\n",
              "    </tr>\n",
              "    <tr>\n",
              "      <th>1</th>\n",
              "      <td>3.89</td>\n",
              "      <td>6.0</td>\n",
              "      <td>0.00</td>\n",
              "      <td>0.2</td>\n",
              "      <td>0.000</td>\n",
              "      <td>4.83</td>\n",
              "      <td>0.2</td>\n",
              "      <td>0.966</td>\n",
              "      <td>4.83</td>\n",
              "      <td>5.0</td>\n",
              "      <td>0.2</td>\n",
              "      <td>1.0</td>\n",
              "      <td>0.94</td>\n",
              "      <td>0.2</td>\n",
              "      <td>0.188</td>\n",
              "      <td>2.0</td>\n",
              "      <td>0.2</td>\n",
              "      <td>0.4</td>\n",
              "      <td>0.0</td>\n",
              "      <td>0.2</td>\n",
              "      <td>0.0</td>\n",
              "      <td>2.0</td>\n",
              "      <td>2.554</td>\n",
              "      <td>0.4</td>\n",
              "      <td>0.5108</td>\n",
              "      <td>0.0</td>\n",
              "      <td>2.0</td>\n",
              "      <td>2.0</td>\n",
              "      <td>2.0</td>\n",
              "      <td>0.0</td>\n",
              "      <td>2.0</td>\n",
              "      <td>2.0</td>\n",
              "    </tr>\n",
              "    <tr>\n",
              "      <th>2</th>\n",
              "      <td>3.89</td>\n",
              "      <td>6.0</td>\n",
              "      <td>0.51</td>\n",
              "      <td>0.2</td>\n",
              "      <td>0.102</td>\n",
              "      <td>0.23</td>\n",
              "      <td>0.2</td>\n",
              "      <td>0.046</td>\n",
              "      <td>0.74</td>\n",
              "      <td>5.0</td>\n",
              "      <td>0.2</td>\n",
              "      <td>1.0</td>\n",
              "      <td>0.00</td>\n",
              "      <td>0.2</td>\n",
              "      <td>0.000</td>\n",
              "      <td>2.0</td>\n",
              "      <td>0.2</td>\n",
              "      <td>0.4</td>\n",
              "      <td>0.0</td>\n",
              "      <td>0.2</td>\n",
              "      <td>0.0</td>\n",
              "      <td>2.0</td>\n",
              "      <td>1.548</td>\n",
              "      <td>0.4</td>\n",
              "      <td>0.3096</td>\n",
              "      <td>0.0</td>\n",
              "      <td>2.0</td>\n",
              "      <td>2.0</td>\n",
              "      <td>2.0</td>\n",
              "      <td>0.0</td>\n",
              "      <td>2.0</td>\n",
              "      <td>2.0</td>\n",
              "    </tr>\n",
              "    <tr>\n",
              "      <th>3</th>\n",
              "      <td>3.89</td>\n",
              "      <td>6.0</td>\n",
              "      <td>0.00</td>\n",
              "      <td>0.2</td>\n",
              "      <td>0.000</td>\n",
              "      <td>10.80</td>\n",
              "      <td>0.6</td>\n",
              "      <td>6.480</td>\n",
              "      <td>10.80</td>\n",
              "      <td>6.0</td>\n",
              "      <td>0.6</td>\n",
              "      <td>3.6</td>\n",
              "      <td>11.75</td>\n",
              "      <td>0.6</td>\n",
              "      <td>7.050</td>\n",
              "      <td>2.0</td>\n",
              "      <td>0.2</td>\n",
              "      <td>0.4</td>\n",
              "      <td>0.0</td>\n",
              "      <td>0.2</td>\n",
              "      <td>0.0</td>\n",
              "      <td>4.4</td>\n",
              "      <td>17.530</td>\n",
              "      <td>0.4</td>\n",
              "      <td>3.5060</td>\n",
              "      <td>1.0</td>\n",
              "      <td>6.0</td>\n",
              "      <td>6.0</td>\n",
              "      <td>2.0</td>\n",
              "      <td>0.0</td>\n",
              "      <td>2.0</td>\n",
              "      <td>2.0</td>\n",
              "    </tr>\n",
              "    <tr>\n",
              "      <th>4</th>\n",
              "      <td>3.89</td>\n",
              "      <td>6.0</td>\n",
              "      <td>0.00</td>\n",
              "      <td>0.2</td>\n",
              "      <td>0.000</td>\n",
              "      <td>0.08</td>\n",
              "      <td>0.2</td>\n",
              "      <td>0.016</td>\n",
              "      <td>0.08</td>\n",
              "      <td>5.0</td>\n",
              "      <td>0.2</td>\n",
              "      <td>1.0</td>\n",
              "      <td>0.00</td>\n",
              "      <td>0.2</td>\n",
              "      <td>0.000</td>\n",
              "      <td>2.0</td>\n",
              "      <td>0.2</td>\n",
              "      <td>0.4</td>\n",
              "      <td>0.0</td>\n",
              "      <td>0.2</td>\n",
              "      <td>0.0</td>\n",
              "      <td>2.0</td>\n",
              "      <td>1.416</td>\n",
              "      <td>0.4</td>\n",
              "      <td>0.2832</td>\n",
              "      <td>0.0</td>\n",
              "      <td>2.0</td>\n",
              "      <td>2.0</td>\n",
              "      <td>2.0</td>\n",
              "      <td>0.0</td>\n",
              "      <td>2.0</td>\n",
              "      <td>2.0</td>\n",
              "    </tr>\n",
              "    <tr>\n",
              "      <th>...</th>\n",
              "      <td>...</td>\n",
              "      <td>...</td>\n",
              "      <td>...</td>\n",
              "      <td>...</td>\n",
              "      <td>...</td>\n",
              "      <td>...</td>\n",
              "      <td>...</td>\n",
              "      <td>...</td>\n",
              "      <td>...</td>\n",
              "      <td>...</td>\n",
              "      <td>...</td>\n",
              "      <td>...</td>\n",
              "      <td>...</td>\n",
              "      <td>...</td>\n",
              "      <td>...</td>\n",
              "      <td>...</td>\n",
              "      <td>...</td>\n",
              "      <td>...</td>\n",
              "      <td>...</td>\n",
              "      <td>...</td>\n",
              "      <td>...</td>\n",
              "      <td>...</td>\n",
              "      <td>...</td>\n",
              "      <td>...</td>\n",
              "      <td>...</td>\n",
              "      <td>...</td>\n",
              "      <td>...</td>\n",
              "      <td>...</td>\n",
              "      <td>...</td>\n",
              "      <td>...</td>\n",
              "      <td>...</td>\n",
              "      <td>...</td>\n",
              "    </tr>\n",
              "    <tr>\n",
              "      <th>755</th>\n",
              "      <td>55.57</td>\n",
              "      <td>18.0</td>\n",
              "      <td>0.75</td>\n",
              "      <td>0.2</td>\n",
              "      <td>0.150</td>\n",
              "      <td>0.45</td>\n",
              "      <td>0.2</td>\n",
              "      <td>0.090</td>\n",
              "      <td>1.20</td>\n",
              "      <td>5.0</td>\n",
              "      <td>0.2</td>\n",
              "      <td>1.0</td>\n",
              "      <td>0.00</td>\n",
              "      <td>0.2</td>\n",
              "      <td>0.000</td>\n",
              "      <td>2.0</td>\n",
              "      <td>0.2</td>\n",
              "      <td>0.4</td>\n",
              "      <td>0.0</td>\n",
              "      <td>0.2</td>\n",
              "      <td>0.0</td>\n",
              "      <td>2.0</td>\n",
              "      <td>1.640</td>\n",
              "      <td>0.4</td>\n",
              "      <td>0.3280</td>\n",
              "      <td>0.0</td>\n",
              "      <td>2.0</td>\n",
              "      <td>2.0</td>\n",
              "      <td>2.0</td>\n",
              "      <td>0.0</td>\n",
              "      <td>2.0</td>\n",
              "      <td>2.0</td>\n",
              "    </tr>\n",
              "    <tr>\n",
              "      <th>756</th>\n",
              "      <td>55.57</td>\n",
              "      <td>16.0</td>\n",
              "      <td>0.47</td>\n",
              "      <td>0.2</td>\n",
              "      <td>0.094</td>\n",
              "      <td>0.37</td>\n",
              "      <td>0.2</td>\n",
              "      <td>0.074</td>\n",
              "      <td>0.84</td>\n",
              "      <td>5.0</td>\n",
              "      <td>0.2</td>\n",
              "      <td>1.0</td>\n",
              "      <td>0.00</td>\n",
              "      <td>0.2</td>\n",
              "      <td>0.000</td>\n",
              "      <td>2.0</td>\n",
              "      <td>0.2</td>\n",
              "      <td>0.4</td>\n",
              "      <td>0.0</td>\n",
              "      <td>0.2</td>\n",
              "      <td>0.0</td>\n",
              "      <td>2.0</td>\n",
              "      <td>1.568</td>\n",
              "      <td>0.4</td>\n",
              "      <td>0.3136</td>\n",
              "      <td>0.0</td>\n",
              "      <td>2.0</td>\n",
              "      <td>2.0</td>\n",
              "      <td>2.0</td>\n",
              "      <td>0.0</td>\n",
              "      <td>2.0</td>\n",
              "      <td>2.0</td>\n",
              "    </tr>\n",
              "    <tr>\n",
              "      <th>757</th>\n",
              "      <td>55.57</td>\n",
              "      <td>14.0</td>\n",
              "      <td>0.24</td>\n",
              "      <td>0.2</td>\n",
              "      <td>0.048</td>\n",
              "      <td>0.04</td>\n",
              "      <td>0.2</td>\n",
              "      <td>0.008</td>\n",
              "      <td>0.28</td>\n",
              "      <td>5.0</td>\n",
              "      <td>0.2</td>\n",
              "      <td>1.0</td>\n",
              "      <td>0.00</td>\n",
              "      <td>0.2</td>\n",
              "      <td>0.000</td>\n",
              "      <td>2.0</td>\n",
              "      <td>0.2</td>\n",
              "      <td>0.4</td>\n",
              "      <td>0.0</td>\n",
              "      <td>0.2</td>\n",
              "      <td>0.0</td>\n",
              "      <td>2.0</td>\n",
              "      <td>1.456</td>\n",
              "      <td>0.4</td>\n",
              "      <td>0.2912</td>\n",
              "      <td>0.0</td>\n",
              "      <td>2.0</td>\n",
              "      <td>2.0</td>\n",
              "      <td>2.0</td>\n",
              "      <td>0.0</td>\n",
              "      <td>2.0</td>\n",
              "      <td>2.0</td>\n",
              "    </tr>\n",
              "    <tr>\n",
              "      <th>758</th>\n",
              "      <td>55.57</td>\n",
              "      <td>18.0</td>\n",
              "      <td>0.20</td>\n",
              "      <td>0.2</td>\n",
              "      <td>0.040</td>\n",
              "      <td>0.00</td>\n",
              "      <td>0.2</td>\n",
              "      <td>0.000</td>\n",
              "      <td>0.20</td>\n",
              "      <td>5.0</td>\n",
              "      <td>0.2</td>\n",
              "      <td>1.0</td>\n",
              "      <td>0.00</td>\n",
              "      <td>0.2</td>\n",
              "      <td>0.000</td>\n",
              "      <td>2.0</td>\n",
              "      <td>0.2</td>\n",
              "      <td>0.4</td>\n",
              "      <td>0.0</td>\n",
              "      <td>0.2</td>\n",
              "      <td>0.0</td>\n",
              "      <td>2.0</td>\n",
              "      <td>1.440</td>\n",
              "      <td>0.4</td>\n",
              "      <td>0.2880</td>\n",
              "      <td>0.0</td>\n",
              "      <td>2.0</td>\n",
              "      <td>2.0</td>\n",
              "      <td>2.0</td>\n",
              "      <td>0.0</td>\n",
              "      <td>2.0</td>\n",
              "      <td>2.0</td>\n",
              "    </tr>\n",
              "    <tr>\n",
              "      <th>759</th>\n",
              "      <td>55.57</td>\n",
              "      <td>15.0</td>\n",
              "      <td>0.00</td>\n",
              "      <td>0.2</td>\n",
              "      <td>0.000</td>\n",
              "      <td>0.00</td>\n",
              "      <td>0.2</td>\n",
              "      <td>0.000</td>\n",
              "      <td>0.00</td>\n",
              "      <td>5.0</td>\n",
              "      <td>0.2</td>\n",
              "      <td>1.0</td>\n",
              "      <td>0.32</td>\n",
              "      <td>0.2</td>\n",
              "      <td>0.064</td>\n",
              "      <td>2.0</td>\n",
              "      <td>0.2</td>\n",
              "      <td>0.4</td>\n",
              "      <td>0.0</td>\n",
              "      <td>0.2</td>\n",
              "      <td>0.0</td>\n",
              "      <td>2.0</td>\n",
              "      <td>1.464</td>\n",
              "      <td>0.4</td>\n",
              "      <td>0.2928</td>\n",
              "      <td>0.0</td>\n",
              "      <td>2.0</td>\n",
              "      <td>2.0</td>\n",
              "      <td>2.0</td>\n",
              "      <td>0.0</td>\n",
              "      <td>2.0</td>\n",
              "      <td>2.0</td>\n",
              "    </tr>\n",
              "  </tbody>\n",
              "</table>\n",
              "<p>760 rows × 32 columns</p>\n",
              "</div>"
            ],
            "text/plain": [
              "     Sector_score  LOCATION_ID  PARA_A  ...  Loss  LOSS_SCORE  History_score\n",
              "0            3.89         23.0    4.18  ...   0.0         2.0            2.0\n",
              "1            3.89          6.0    0.00  ...   0.0         2.0            2.0\n",
              "2            3.89          6.0    0.51  ...   0.0         2.0            2.0\n",
              "3            3.89          6.0    0.00  ...   0.0         2.0            2.0\n",
              "4            3.89          6.0    0.00  ...   0.0         2.0            2.0\n",
              "..            ...          ...     ...  ...   ...         ...            ...\n",
              "755         55.57         18.0    0.75  ...   0.0         2.0            2.0\n",
              "756         55.57         16.0    0.47  ...   0.0         2.0            2.0\n",
              "757         55.57         14.0    0.24  ...   0.0         2.0            2.0\n",
              "758         55.57         18.0    0.20  ...   0.0         2.0            2.0\n",
              "759         55.57         15.0    0.00  ...   0.0         2.0            2.0\n",
              "\n",
              "[760 rows x 32 columns]"
            ]
          },
          "metadata": {
            "tags": []
          },
          "execution_count": 100
        }
      ]
    },
    {
      "cell_type": "code",
      "metadata": {
        "id": "-JGkdoBYaWBJ",
        "colab": {
          "base_uri": "https://localhost:8080/"
        },
        "outputId": "4fcdc887-626f-4e2f-d49f-14d74c97e204"
      },
      "source": [
        "one_df.info()"
      ],
      "execution_count": 101,
      "outputs": [
        {
          "output_type": "stream",
          "text": [
            "<class 'pandas.core.frame.DataFrame'>\n",
            "Int64Index: 760 entries, 0 to 759\n",
            "Data columns (total 32 columns):\n",
            " #   Column         Non-Null Count  Dtype  \n",
            "---  ------         --------------  -----  \n",
            " 0   Sector_score   760 non-null    float64\n",
            " 1   LOCATION_ID    760 non-null    float64\n",
            " 2   PARA_A         760 non-null    float64\n",
            " 3   Score_A        760 non-null    float64\n",
            " 4   Risk_A         760 non-null    float64\n",
            " 5   PARA_B         760 non-null    float64\n",
            " 6   Score_B        760 non-null    float64\n",
            " 7   Risk_B         760 non-null    float64\n",
            " 8   TOTAL          760 non-null    float64\n",
            " 9   numbers        760 non-null    float64\n",
            " 10  Score_B.1      760 non-null    float64\n",
            " 11  Risk_C         760 non-null    float64\n",
            " 12  Money_Value    760 non-null    float64\n",
            " 13  Score_MV       760 non-null    float64\n",
            " 14  Risk_D         760 non-null    float64\n",
            " 15  District_Loss  760 non-null    float64\n",
            " 16  PROB           760 non-null    float64\n",
            " 17  RiSk_E         760 non-null    float64\n",
            " 18  History        760 non-null    float64\n",
            " 19  Prob           760 non-null    float64\n",
            " 20  Risk_F         760 non-null    float64\n",
            " 21  Score          760 non-null    float64\n",
            " 22  Inherent_Risk  760 non-null    float64\n",
            " 23  CONTROL_RISK   760 non-null    float64\n",
            " 24  Audit_Risk     760 non-null    float64\n",
            " 25  Risk           760 non-null    float64\n",
            " 26  Marks          760 non-null    float64\n",
            " 27  MONEY_Marks    760 non-null    float64\n",
            " 28  District       760 non-null    float64\n",
            " 29  Loss           760 non-null    float64\n",
            " 30  LOSS_SCORE     760 non-null    float64\n",
            " 31  History_score  760 non-null    float64\n",
            "dtypes: float64(32)\n",
            "memory usage: 195.9 KB\n"
          ],
          "name": "stdout"
        }
      ]
    },
    {
      "cell_type": "code",
      "metadata": {
        "id": "NoWWWb4XaCzb",
        "outputId": "0589f39c-6112-495b-99ed-6766b3c8e12b",
        "colab": {
          "base_uri": "https://localhost:8080/"
        }
      },
      "source": [
        "one_df = one_df.drop_duplicates(keep = 'first')\n",
        "one_df.info()"
      ],
      "execution_count": 134,
      "outputs": [
        {
          "output_type": "stream",
          "text": [
            "<class 'pandas.core.frame.DataFrame'>\n",
            "Int64Index: 760 entries, 0 to 759\n",
            "Data columns (total 32 columns):\n",
            " #   Column         Non-Null Count  Dtype  \n",
            "---  ------         --------------  -----  \n",
            " 0   Sector_score   760 non-null    float64\n",
            " 1   LOCATION_ID    760 non-null    float64\n",
            " 2   PARA_A         760 non-null    float64\n",
            " 3   Score_A        760 non-null    float64\n",
            " 4   Risk_A         760 non-null    float64\n",
            " 5   PARA_B         760 non-null    float64\n",
            " 6   Score_B        760 non-null    float64\n",
            " 7   Risk_B         760 non-null    float64\n",
            " 8   TOTAL          760 non-null    float64\n",
            " 9   numbers        760 non-null    float64\n",
            " 10  Score_B.1      760 non-null    float64\n",
            " 11  Risk_C         760 non-null    float64\n",
            " 12  Money_Value    760 non-null    float64\n",
            " 13  Score_MV       760 non-null    float64\n",
            " 14  Risk_D         760 non-null    float64\n",
            " 15  District_Loss  760 non-null    float64\n",
            " 16  PROB           760 non-null    float64\n",
            " 17  RiSk_E         760 non-null    float64\n",
            " 18  History        760 non-null    float64\n",
            " 19  Prob           760 non-null    float64\n",
            " 20  Risk_F         760 non-null    float64\n",
            " 21  Score          760 non-null    float64\n",
            " 22  Inherent_Risk  760 non-null    float64\n",
            " 23  CONTROL_RISK   760 non-null    float64\n",
            " 24  Audit_Risk     760 non-null    float64\n",
            " 25  Risk           760 non-null    float64\n",
            " 26  Marks          760 non-null    float64\n",
            " 27  MONEY_Marks    760 non-null    float64\n",
            " 28  District       760 non-null    float64\n",
            " 29  Loss           760 non-null    float64\n",
            " 30  LOSS_SCORE     760 non-null    float64\n",
            " 31  History_score  760 non-null    float64\n",
            "dtypes: float64(32)\n",
            "memory usage: 195.9 KB\n"
          ],
          "name": "stdout"
        }
      ]
    },
    {
      "cell_type": "code",
      "metadata": {
        "id": "BPQkad2qw1K8",
        "outputId": "20fea6a6-b112-4f26-8a3c-eb353a897a14",
        "colab": {
          "base_uri": "https://localhost:8080/",
          "height": 620
        }
      },
      "source": [
        "corr = one_df.corr()\n",
        "mask = np.triu(np.ones_like(corr, dtype=bool))\n",
        "f, ax = plt.subplots(figsize=(11, 9))\n",
        "cmap = sns.diverging_palette(230, 20, as_cmap=True)\n",
        "sns.heatmap(corr, mask=mask, cmap=cmap, vmax=.3, center=0, square=True, linewidths=.5, cbar_kws={\"shrink\": .5})"
      ],
      "execution_count": 138,
      "outputs": [
        {
          "output_type": "execute_result",
          "data": {
            "text/plain": [
              "<matplotlib.axes._subplots.AxesSubplot at 0x7ffb96859490>"
            ]
          },
          "metadata": {
            "tags": []
          },
          "execution_count": 138
        },
        {
          "output_type": "display_data",
          "data": {
            "image/png": "[encoded data removed]",
            "text/plain": [
              "<Figure size 792x648 with 2 Axes>"
            ]
          },
          "metadata": {
            "tags": []
          }
        }
      ]
    },
    {
      "cell_type": "code",
      "metadata": {
        "id": "bMmjpGHQ2PKc"
      },
      "source": [
        ""
      ],
      "execution_count": 142,
      "outputs": []
    },
    {
      "cell_type": "code",
      "metadata": {
        "id": "PX8Rqzo83G_r"
      },
      "source": [
        ""
      ],
      "execution_count": null,
      "outputs": []
    }
  ]
}