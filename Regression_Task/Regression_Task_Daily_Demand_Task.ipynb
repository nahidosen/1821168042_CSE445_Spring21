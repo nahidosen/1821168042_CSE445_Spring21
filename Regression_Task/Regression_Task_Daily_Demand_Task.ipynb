{
  "nbformat": 4,
  "nbformat_minor": 0,
  "metadata": {
    "colab": {
      "name": "Regression_Task_Daily_Demand_Task.ipynb",
      "provenance": [],
      "authorship_tag": "ABX9TyMkqrOR0i1nUpTw3iRwOJJv",
      "include_colab_link": true
    },
    "kernelspec": {
      "name": "python3",
      "display_name": "Python 3"
    },
    "language_info": {
      "name": "python"
    }
  },
  "cells": [
    {
      "cell_type": "markdown",
      "metadata": {
        "id": "view-in-github",
        "colab_type": "text"
      },
      "source": [
        "<a href=\"https://colab.research.google.com/github/nahidosen/1821168042_CSE445_Spring21/blob/main/Regression_Task/Regression_Task_Daily_Demand_Task.ipynb\" target=\"_parent\"><img src=\"https://colab.research.google.com/assets/colab-badge.svg\" alt=\"Open In Colab\"/></a>"
      ]
    },
    {
      "cell_type": "markdown",
      "metadata": {
        "id": "d0cWNAeY8Occ"
      },
      "source": [
        "\n",
        "e) Exploratory Data Analysis (EDA) and all the necessary data preparation\n",
        "\n",
        "f) Use any of the regression methods to build a predictor for predicting the daily demand of TV Models.\n",
        "\n",
        "g) Use proper evaluation parameters that have been discussed in the class to evaluate your result.\n",
        "\n",
        "h) Submit your code in an ipython notebook format in your Github repository and generate a report describing all of the above mentioned."
      ]
    },
    {
      "cell_type": "code",
      "metadata": {
        "id": "_SM07sNe72K0"
      },
      "source": [
        ""
      ],
      "execution_count": null,
      "outputs": []
    }
  ]
}