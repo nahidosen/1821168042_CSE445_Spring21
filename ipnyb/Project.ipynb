{
  "nbformat": 4,
  "nbformat_minor": 0,
  "metadata": {
    "colab": {
      "name": "Project.ipynb",
      "provenance": [],
      "collapsed_sections": [],
      "authorship_tag": "ABX9TyMtu6xCBE3/Py+UYmRmUCMI",
      "include_colab_link": true
    },
    "kernelspec": {
      "name": "python3",
      "display_name": "Python 3"
    },
    "language_info": {
      "name": "python"
    }
  },
  "cells": [
    {
      "cell_type": "markdown",
      "metadata": {
        "id": "view-in-github",
        "colab_type": "text"
      },
      "source": [
        "<a href=\"https://colab.research.google.com/github/nahidosen/1821168042_CSE445_Spring21/blob/main/ipnyb/Project.ipynb\" target=\"_parent\"><img src=\"https://colab.research.google.com/assets/colab-badge.svg\" alt=\"Open In Colab\"/></a>"
      ]
    },
    {
      "cell_type": "code",
      "metadata": {
        "colab": {
          "base_uri": "https://localhost:8080/"
        },
        "id": "2Nm_NxUaHBSp",
        "outputId": "25749c7d-1faf-4751-eb2f-91dd67a66b2c"
      },
      "source": [
        "!pip install scikit-plot"
      ],
      "execution_count": 202,
      "outputs": [
        {
          "output_type": "stream",
          "text": [
            "Requirement already satisfied: scikit-plot in /usr/local/lib/python3.7/dist-packages (0.3.7)\n",
            "Requirement already satisfied: scipy>=0.9 in /usr/local/lib/python3.7/dist-packages (from scikit-plot) (1.4.1)\n",
            "Requirement already satisfied: joblib>=0.10 in /usr/local/lib/python3.7/dist-packages (from scikit-plot) (1.0.1)\n",
            "Requirement already satisfied: matplotlib>=1.4.0 in /usr/local/lib/python3.7/dist-packages (from scikit-plot) (3.2.2)\n",
            "Requirement already satisfied: scikit-learn>=0.18 in /usr/local/lib/python3.7/dist-packages (from scikit-plot) (0.22.2.post1)\n",
            "Requirement already satisfied: numpy>=1.13.3 in /usr/local/lib/python3.7/dist-packages (from scipy>=0.9->scikit-plot) (1.19.5)\n",
            "Requirement already satisfied: kiwisolver>=1.0.1 in /usr/local/lib/python3.7/dist-packages (from matplotlib>=1.4.0->scikit-plot) (1.3.1)\n",
            "Requirement already satisfied: cycler>=0.10 in /usr/local/lib/python3.7/dist-packages (from matplotlib>=1.4.0->scikit-plot) (0.10.0)\n",
            "Requirement already satisfied: pyparsing!=2.0.4,!=2.1.2,!=2.1.6,>=2.0.1 in /usr/local/lib/python3.7/dist-packages (from matplotlib>=1.4.0->scikit-plot) (2.4.7)\n",
            "Requirement already satisfied: python-dateutil>=2.1 in /usr/local/lib/python3.7/dist-packages (from matplotlib>=1.4.0->scikit-plot) (2.8.1)\n",
            "Requirement already satisfied: six in /usr/local/lib/python3.7/dist-packages (from cycler>=0.10->matplotlib>=1.4.0->scikit-plot) (1.15.0)\n"
          ],
          "name": "stdout"
        }
      ]
    },
    {
      "cell_type": "code",
      "metadata": {
        "id": "IOfFEWZZsWVY"
      },
      "source": [
        "# Importing necessary packages\n",
        "\n",
        "import pandas as pd\n",
        "import numpy as np\n",
        "import matplotlib.pyplot as plt\n",
        "plt.style.use('ggplot')\n",
        "import seaborn as sns\n",
        "import scikitplot as skplt\n",
        "from sklearn.impute import SimpleImputer\n",
        "from sklearn import metrics\n",
        "from sklearn.model_selection import cross_val_score"
      ],
      "execution_count": 203,
      "outputs": []
    },
    {
      "cell_type": "code",
      "metadata": {
        "colab": {
          "base_uri": "https://localhost:8080/",
          "height": 830
        },
        "id": "LXdNuULVDDSR",
        "outputId": "d6edb526-e4a9-436b-98d8-6ea7bf6efc4e"
      },
      "source": [
        "data = 'https://raw.githubusercontent.com/nahidosen/Group_5_CSE445_3_Spring_21/main/dataset/IPL%20Matches%202008-2020.csv'\n",
        "\n",
        "ipl = pd.read_csv(data)\n",
        "ipl"
      ],
      "execution_count": 204,
      "outputs": [
        {
          "output_type": "execute_result",
          "data": {
            "text/html": [
              "<div>\n",
              "<style scoped>\n",
              "    .dataframe tbody tr th:only-of-type {\n",
              "        vertical-align: middle;\n",
              "    }\n",
              "\n",
              "    .dataframe tbody tr th {\n",
              "        vertical-align: top;\n",
              "    }\n",
              "\n",
              "    .dataframe thead th {\n",
              "        text-align: right;\n",
              "    }\n",
              "</style>\n",
              "<table border=\"1\" class=\"dataframe\">\n",
              "  <thead>\n",
              "    <tr style=\"text-align: right;\">\n",
              "      <th></th>\n",
              "      <th>id</th>\n",
              "      <th>city</th>\n",
              "      <th>date</th>\n",
              "      <th>player_of_match</th>\n",
              "      <th>venue</th>\n",
              "      <th>neutral_venue</th>\n",
              "      <th>team1</th>\n",
              "      <th>team2</th>\n",
              "      <th>toss_winner</th>\n",
              "      <th>toss_decision</th>\n",
              "      <th>winner</th>\n",
              "      <th>result</th>\n",
              "      <th>result_margin</th>\n",
              "      <th>eliminator</th>\n",
              "      <th>method</th>\n",
              "      <th>umpire1</th>\n",
              "      <th>umpire2</th>\n",
              "    </tr>\n",
              "  </thead>\n",
              "  <tbody>\n",
              "    <tr>\n",
              "      <th>0</th>\n",
              "      <td>335982</td>\n",
              "      <td>Bangalore</td>\n",
              "      <td>2008-04-18</td>\n",
              "      <td>BB McCullum</td>\n",
              "      <td>M Chinnaswamy Stadium</td>\n",
              "      <td>0</td>\n",
              "      <td>Royal Challengers Bangalore</td>\n",
              "      <td>Kolkata Knight Riders</td>\n",
              "      <td>Royal Challengers Bangalore</td>\n",
              "      <td>field</td>\n",
              "      <td>Kolkata Knight Riders</td>\n",
              "      <td>runs</td>\n",
              "      <td>140.0</td>\n",
              "      <td>N</td>\n",
              "      <td>NaN</td>\n",
              "      <td>Asad Rauf</td>\n",
              "      <td>RE Koertzen</td>\n",
              "    </tr>\n",
              "    <tr>\n",
              "      <th>1</th>\n",
              "      <td>335983</td>\n",
              "      <td>Chandigarh</td>\n",
              "      <td>2008-04-19</td>\n",
              "      <td>MEK Hussey</td>\n",
              "      <td>Punjab Cricket Association Stadium, Mohali</td>\n",
              "      <td>0</td>\n",
              "      <td>Kings XI Punjab</td>\n",
              "      <td>Chennai Super Kings</td>\n",
              "      <td>Chennai Super Kings</td>\n",
              "      <td>bat</td>\n",
              "      <td>Chennai Super Kings</td>\n",
              "      <td>runs</td>\n",
              "      <td>33.0</td>\n",
              "      <td>N</td>\n",
              "      <td>NaN</td>\n",
              "      <td>MR Benson</td>\n",
              "      <td>SL Shastri</td>\n",
              "    </tr>\n",
              "    <tr>\n",
              "      <th>2</th>\n",
              "      <td>335984</td>\n",
              "      <td>Delhi</td>\n",
              "      <td>2008-04-19</td>\n",
              "      <td>MF Maharoof</td>\n",
              "      <td>Feroz Shah Kotla</td>\n",
              "      <td>0</td>\n",
              "      <td>Delhi Daredevils</td>\n",
              "      <td>Rajasthan Royals</td>\n",
              "      <td>Rajasthan Royals</td>\n",
              "      <td>bat</td>\n",
              "      <td>Delhi Daredevils</td>\n",
              "      <td>wickets</td>\n",
              "      <td>9.0</td>\n",
              "      <td>N</td>\n",
              "      <td>NaN</td>\n",
              "      <td>Aleem Dar</td>\n",
              "      <td>GA Pratapkumar</td>\n",
              "    </tr>\n",
              "    <tr>\n",
              "      <th>3</th>\n",
              "      <td>335985</td>\n",
              "      <td>Mumbai</td>\n",
              "      <td>2008-04-20</td>\n",
              "      <td>MV Boucher</td>\n",
              "      <td>Wankhede Stadium</td>\n",
              "      <td>0</td>\n",
              "      <td>Mumbai Indians</td>\n",
              "      <td>Royal Challengers Bangalore</td>\n",
              "      <td>Mumbai Indians</td>\n",
              "      <td>bat</td>\n",
              "      <td>Royal Challengers Bangalore</td>\n",
              "      <td>wickets</td>\n",
              "      <td>5.0</td>\n",
              "      <td>N</td>\n",
              "      <td>NaN</td>\n",
              "      <td>SJ Davis</td>\n",
              "      <td>DJ Harper</td>\n",
              "    </tr>\n",
              "    <tr>\n",
              "      <th>4</th>\n",
              "      <td>335986</td>\n",
              "      <td>Kolkata</td>\n",
              "      <td>2008-04-20</td>\n",
              "      <td>DJ Hussey</td>\n",
              "      <td>Eden Gardens</td>\n",
              "      <td>0</td>\n",
              "      <td>Kolkata Knight Riders</td>\n",
              "      <td>Deccan Chargers</td>\n",
              "      <td>Deccan Chargers</td>\n",
              "      <td>bat</td>\n",
              "      <td>Kolkata Knight Riders</td>\n",
              "      <td>wickets</td>\n",
              "      <td>5.0</td>\n",
              "      <td>N</td>\n",
              "      <td>NaN</td>\n",
              "      <td>BF Bowden</td>\n",
              "      <td>K Hariharan</td>\n",
              "    </tr>\n",
              "    <tr>\n",
              "      <th>...</th>\n",
              "      <td>...</td>\n",
              "      <td>...</td>\n",
              "      <td>...</td>\n",
              "      <td>...</td>\n",
              "      <td>...</td>\n",
              "      <td>...</td>\n",
              "      <td>...</td>\n",
              "      <td>...</td>\n",
              "      <td>...</td>\n",
              "      <td>...</td>\n",
              "      <td>...</td>\n",
              "      <td>...</td>\n",
              "      <td>...</td>\n",
              "      <td>...</td>\n",
              "      <td>...</td>\n",
              "      <td>...</td>\n",
              "      <td>...</td>\n",
              "    </tr>\n",
              "    <tr>\n",
              "      <th>811</th>\n",
              "      <td>1216547</td>\n",
              "      <td>Dubai</td>\n",
              "      <td>2020-09-28</td>\n",
              "      <td>AB de Villiers</td>\n",
              "      <td>Dubai International Cricket Stadium</td>\n",
              "      <td>0</td>\n",
              "      <td>Royal Challengers Bangalore</td>\n",
              "      <td>Mumbai Indians</td>\n",
              "      <td>Mumbai Indians</td>\n",
              "      <td>field</td>\n",
              "      <td>Royal Challengers Bangalore</td>\n",
              "      <td>tie</td>\n",
              "      <td>NaN</td>\n",
              "      <td>Y</td>\n",
              "      <td>NaN</td>\n",
              "      <td>Nitin Menon</td>\n",
              "      <td>PR Reiffel</td>\n",
              "    </tr>\n",
              "    <tr>\n",
              "      <th>812</th>\n",
              "      <td>1237177</td>\n",
              "      <td>Dubai</td>\n",
              "      <td>2020-11-05</td>\n",
              "      <td>JJ Bumrah</td>\n",
              "      <td>Dubai International Cricket Stadium</td>\n",
              "      <td>0</td>\n",
              "      <td>Mumbai Indians</td>\n",
              "      <td>Delhi Capitals</td>\n",
              "      <td>Delhi Capitals</td>\n",
              "      <td>field</td>\n",
              "      <td>Mumbai Indians</td>\n",
              "      <td>runs</td>\n",
              "      <td>57.0</td>\n",
              "      <td>N</td>\n",
              "      <td>NaN</td>\n",
              "      <td>CB Gaffaney</td>\n",
              "      <td>Nitin Menon</td>\n",
              "    </tr>\n",
              "    <tr>\n",
              "      <th>813</th>\n",
              "      <td>1237178</td>\n",
              "      <td>Abu Dhabi</td>\n",
              "      <td>2020-11-06</td>\n",
              "      <td>KS Williamson</td>\n",
              "      <td>Sheikh Zayed Stadium</td>\n",
              "      <td>0</td>\n",
              "      <td>Royal Challengers Bangalore</td>\n",
              "      <td>Sunrisers Hyderabad</td>\n",
              "      <td>Sunrisers Hyderabad</td>\n",
              "      <td>field</td>\n",
              "      <td>Sunrisers Hyderabad</td>\n",
              "      <td>wickets</td>\n",
              "      <td>6.0</td>\n",
              "      <td>N</td>\n",
              "      <td>NaN</td>\n",
              "      <td>PR Reiffel</td>\n",
              "      <td>S Ravi</td>\n",
              "    </tr>\n",
              "    <tr>\n",
              "      <th>814</th>\n",
              "      <td>1237180</td>\n",
              "      <td>Abu Dhabi</td>\n",
              "      <td>2020-11-08</td>\n",
              "      <td>MP Stoinis</td>\n",
              "      <td>Sheikh Zayed Stadium</td>\n",
              "      <td>0</td>\n",
              "      <td>Delhi Capitals</td>\n",
              "      <td>Sunrisers Hyderabad</td>\n",
              "      <td>Delhi Capitals</td>\n",
              "      <td>bat</td>\n",
              "      <td>Delhi Capitals</td>\n",
              "      <td>runs</td>\n",
              "      <td>17.0</td>\n",
              "      <td>N</td>\n",
              "      <td>NaN</td>\n",
              "      <td>PR Reiffel</td>\n",
              "      <td>S Ravi</td>\n",
              "    </tr>\n",
              "    <tr>\n",
              "      <th>815</th>\n",
              "      <td>1237181</td>\n",
              "      <td>Dubai</td>\n",
              "      <td>2020-11-10</td>\n",
              "      <td>TA Boult</td>\n",
              "      <td>Dubai International Cricket Stadium</td>\n",
              "      <td>0</td>\n",
              "      <td>Delhi Capitals</td>\n",
              "      <td>Mumbai Indians</td>\n",
              "      <td>Delhi Capitals</td>\n",
              "      <td>bat</td>\n",
              "      <td>Mumbai Indians</td>\n",
              "      <td>wickets</td>\n",
              "      <td>5.0</td>\n",
              "      <td>N</td>\n",
              "      <td>NaN</td>\n",
              "      <td>CB Gaffaney</td>\n",
              "      <td>Nitin Menon</td>\n",
              "    </tr>\n",
              "  </tbody>\n",
              "</table>\n",
              "<p>816 rows × 17 columns</p>\n",
              "</div>"
            ],
            "text/plain": [
              "          id        city        date  ... method      umpire1         umpire2\n",
              "0     335982   Bangalore  2008-04-18  ...    NaN    Asad Rauf     RE Koertzen\n",
              "1     335983  Chandigarh  2008-04-19  ...    NaN    MR Benson      SL Shastri\n",
              "2     335984       Delhi  2008-04-19  ...    NaN    Aleem Dar  GA Pratapkumar\n",
              "3     335985      Mumbai  2008-04-20  ...    NaN     SJ Davis       DJ Harper\n",
              "4     335986     Kolkata  2008-04-20  ...    NaN    BF Bowden     K Hariharan\n",
              "..       ...         ...         ...  ...    ...          ...             ...\n",
              "811  1216547       Dubai  2020-09-28  ...    NaN  Nitin Menon      PR Reiffel\n",
              "812  1237177       Dubai  2020-11-05  ...    NaN  CB Gaffaney     Nitin Menon\n",
              "813  1237178   Abu Dhabi  2020-11-06  ...    NaN   PR Reiffel          S Ravi\n",
              "814  1237180   Abu Dhabi  2020-11-08  ...    NaN   PR Reiffel          S Ravi\n",
              "815  1237181       Dubai  2020-11-10  ...    NaN  CB Gaffaney     Nitin Menon\n",
              "\n",
              "[816 rows x 17 columns]"
            ]
          },
          "metadata": {
            "tags": []
          },
          "execution_count": 204
        }
      ]
    },
    {
      "cell_type": "code",
      "metadata": {
        "colab": {
          "base_uri": "https://localhost:8080/"
        },
        "id": "mz620CKdJkdx",
        "outputId": "236022ec-7b33-4a17-df76-b0aab49319b9"
      },
      "source": [
        "ipl.columns"
      ],
      "execution_count": 205,
      "outputs": [
        {
          "output_type": "execute_result",
          "data": {
            "text/plain": [
              "Index(['id', 'city', 'date', 'player_of_match', 'venue', 'neutral_venue',\n",
              "       'team1', 'team2', 'toss_winner', 'toss_decision', 'winner', 'result',\n",
              "       'result_margin', 'eliminator', 'method', 'umpire1', 'umpire2'],\n",
              "      dtype='object')"
            ]
          },
          "metadata": {
            "tags": []
          },
          "execution_count": 205
        }
      ]
    },
    {
      "cell_type": "code",
      "metadata": {
        "colab": {
          "base_uri": "https://localhost:8080/"
        },
        "id": "ixvbzZq1GE0P",
        "outputId": "d596f83f-17d0-4622-c25c-d86c9b15c19a"
      },
      "source": [
        "ipl.info()"
      ],
      "execution_count": 206,
      "outputs": [
        {
          "output_type": "stream",
          "text": [
            "<class 'pandas.core.frame.DataFrame'>\n",
            "RangeIndex: 816 entries, 0 to 815\n",
            "Data columns (total 17 columns):\n",
            " #   Column           Non-Null Count  Dtype  \n",
            "---  ------           --------------  -----  \n",
            " 0   id               816 non-null    int64  \n",
            " 1   city             803 non-null    object \n",
            " 2   date             816 non-null    object \n",
            " 3   player_of_match  812 non-null    object \n",
            " 4   venue            816 non-null    object \n",
            " 5   neutral_venue    816 non-null    int64  \n",
            " 6   team1            816 non-null    object \n",
            " 7   team2            816 non-null    object \n",
            " 8   toss_winner      816 non-null    object \n",
            " 9   toss_decision    816 non-null    object \n",
            " 10  winner           812 non-null    object \n",
            " 11  result           812 non-null    object \n",
            " 12  result_margin    799 non-null    float64\n",
            " 13  eliminator       812 non-null    object \n",
            " 14  method           19 non-null     object \n",
            " 15  umpire1          816 non-null    object \n",
            " 16  umpire2          816 non-null    object \n",
            "dtypes: float64(1), int64(2), object(14)\n",
            "memory usage: 108.5+ KB\n"
          ],
          "name": "stdout"
        }
      ]
    },
    {
      "cell_type": "code",
      "metadata": {
        "id": "hrmRr-gJhRXg"
      },
      "source": [
        "#ipl_2['city'] = ipl['city'].astype(str)\n",
        "#ipl_2.info()"
      ],
      "execution_count": 207,
      "outputs": []
    },
    {
      "cell_type": "code",
      "metadata": {
        "colab": {
          "base_uri": "https://localhost:8080/"
        },
        "id": "WstiqDPtS5OU",
        "outputId": "1cce83d9-40b3-4fc4-e24d-52eea8ac39ff"
      },
      "source": [
        "ipl.isnull().sum() "
      ],
      "execution_count": 208,
      "outputs": [
        {
          "output_type": "execute_result",
          "data": {
            "text/plain": [
              "id                   0\n",
              "city                13\n",
              "date                 0\n",
              "player_of_match      4\n",
              "venue                0\n",
              "neutral_venue        0\n",
              "team1                0\n",
              "team2                0\n",
              "toss_winner          0\n",
              "toss_decision        0\n",
              "winner               4\n",
              "result               4\n",
              "result_margin       17\n",
              "eliminator           4\n",
              "method             797\n",
              "umpire1              0\n",
              "umpire2              0\n",
              "dtype: int64"
            ]
          },
          "metadata": {
            "tags": []
          },
          "execution_count": 208
        }
      ]
    },
    {
      "cell_type": "code",
      "metadata": {
        "colab": {
          "base_uri": "https://localhost:8080/"
        },
        "id": "AwU5zK3aXXtv",
        "outputId": "c3e337eb-04c2-4161-f2f7-b702a68390ba"
      },
      "source": [
        "ipl.nunique()"
      ],
      "execution_count": 209,
      "outputs": [
        {
          "output_type": "execute_result",
          "data": {
            "text/plain": [
              "id                 816\n",
              "city                32\n",
              "date               596\n",
              "player_of_match    233\n",
              "venue               36\n",
              "neutral_venue        2\n",
              "team1               15\n",
              "team2               15\n",
              "toss_winner         15\n",
              "toss_decision        2\n",
              "winner              15\n",
              "result               3\n",
              "result_margin       91\n",
              "eliminator           2\n",
              "method               1\n",
              "umpire1             48\n",
              "umpire2             47\n",
              "dtype: int64"
            ]
          },
          "metadata": {
            "tags": []
          },
          "execution_count": 209
        }
      ]
    },
    {
      "cell_type": "code",
      "metadata": {
        "colab": {
          "base_uri": "https://localhost:8080/"
        },
        "id": "YYDI1siBJQ4A",
        "outputId": "c2989f53-983e-4ae5-8b3c-050b56e1185f"
      },
      "source": [
        "ipl['city'].value_counts().sort_index()"
      ],
      "execution_count": 210,
      "outputs": [
        {
          "output_type": "execute_result",
          "data": {
            "text/plain": [
              "Abu Dhabi          29\n",
              "Ahmedabad          12\n",
              "Bangalore          65\n",
              "Bengaluru          15\n",
              "Bloemfontein        2\n",
              "Cape Town           7\n",
              "Centurion          12\n",
              "Chandigarh         56\n",
              "Chennai            57\n",
              "Cuttack             7\n",
              "Delhi              74\n",
              "Dharamsala          9\n",
              "Dubai              26\n",
              "Durban             15\n",
              "East London         3\n",
              "Hyderabad          64\n",
              "Indore              9\n",
              "Jaipur             47\n",
              "Johannesburg        8\n",
              "Kanpur              4\n",
              "Kimberley           3\n",
              "Kochi               5\n",
              "Kolkata            77\n",
              "Mumbai            101\n",
              "Nagpur              3\n",
              "Port Elizabeth      7\n",
              "Pune               38\n",
              "Raipur              6\n",
              "Rajkot             10\n",
              "Ranchi              7\n",
              "Sharjah            12\n",
              "Visakhapatnam      13\n",
              "Name: city, dtype: int64"
            ]
          },
          "metadata": {
            "tags": []
          },
          "execution_count": 210
        }
      ]
    },
    {
      "cell_type": "code",
      "metadata": {
        "colab": {
          "base_uri": "https://localhost:8080/"
        },
        "id": "nRi0V6AQbqQu",
        "outputId": "3b686ebb-d93c-4ee4-a4bd-89b662989583"
      },
      "source": [
        "ipl_2 = ipl\n",
        "ipl_2['city'] = ipl_2['city'].replace('Bengaluru', 'Bangalore')\n",
        "ipl_2['city'].value_counts().sort_index()"
      ],
      "execution_count": 211,
      "outputs": [
        {
          "output_type": "execute_result",
          "data": {
            "text/plain": [
              "Abu Dhabi          29\n",
              "Ahmedabad          12\n",
              "Bangalore          80\n",
              "Bloemfontein        2\n",
              "Cape Town           7\n",
              "Centurion          12\n",
              "Chandigarh         56\n",
              "Chennai            57\n",
              "Cuttack             7\n",
              "Delhi              74\n",
              "Dharamsala          9\n",
              "Dubai              26\n",
              "Durban             15\n",
              "East London         3\n",
              "Hyderabad          64\n",
              "Indore              9\n",
              "Jaipur             47\n",
              "Johannesburg        8\n",
              "Kanpur              4\n",
              "Kimberley           3\n",
              "Kochi               5\n",
              "Kolkata            77\n",
              "Mumbai            101\n",
              "Nagpur              3\n",
              "Port Elizabeth      7\n",
              "Pune               38\n",
              "Raipur              6\n",
              "Rajkot             10\n",
              "Ranchi              7\n",
              "Sharjah            12\n",
              "Visakhapatnam      13\n",
              "Name: city, dtype: int64"
            ]
          },
          "metadata": {
            "tags": []
          },
          "execution_count": 211
        }
      ]
    },
    {
      "cell_type": "code",
      "metadata": {
        "colab": {
          "base_uri": "https://localhost:8080/"
        },
        "id": "3IKTtDqpJaBP",
        "outputId": "8b7b0e78-143a-4f0a-cc32-ad4014a49cb4"
      },
      "source": [
        "ipl_2['player_of_match'].sort_values().unique()"
      ],
      "execution_count": 212,
      "outputs": [
        {
          "output_type": "execute_result",
          "data": {
            "text/plain": [
              "array(['A Chandila', 'A Kumble', 'A Mishra', 'A Nehra', 'A Nortje',\n",
              "       'A Singh', 'A Symonds', 'A Zampa', 'AA Jhunjhunwala', 'AB Dinda',\n",
              "       'AB de Villiers', 'AC Gilchrist', 'AC Voges', 'AD Mascarenhas',\n",
              "       'AD Mathews', 'AD Russell', 'AJ Finch', 'AJ Tye', 'AM Rahane',\n",
              "       'AP Tare', 'AR Patel', 'AS Joseph', 'AS Rajpoot', 'AT Rayudu',\n",
              "       'Azhar Mahmood', 'B Kumar', 'B Lee', 'B Stanlake', 'BA Bhatt',\n",
              "       'BA Stokes', 'BB McCullum', 'BCJ Cutting', 'BJ Hodge',\n",
              "       'BW Hilfenhaus', 'CA Lynn', 'CH Gayle', 'CH Morris', 'CJ Anderson',\n",
              "       'CJ Jordan', 'CL White', 'CR Brathwaite', 'CRD Fernando',\n",
              "       'CV Varun', 'DA Miller', 'DA Warner', 'DE Bollinger', 'DJ Bravo',\n",
              "       'DJ Hooda', 'DJ Hussey', 'DJG Sammy', 'DL Chahar', 'DL Vettori',\n",
              "       'DP Nannes', 'DPMD Jayawardene', 'DR Smith', 'DW Steyn',\n",
              "       'EJG Morgan', 'F du Plessis', 'G Gambhir', 'GC Smith',\n",
              "       'GD McGrath', 'GH Vihari', 'GJ Bailey', 'GJ Maxwell', 'HF Gurney',\n",
              "       'HH Gibbs', 'HH Pandya', 'HM Amla', 'HV Patel', 'Harbhajan Singh',\n",
              "       'Harmeet Singh', 'I Sharma', 'IK Pathan', 'Imran Tahir',\n",
              "       'Iqbal Abdulla', 'Ishan Kishan', 'J Botha', 'J Theron',\n",
              "       'JA Morkel', 'JC Archer', 'JC Buttler', 'JD Ryder', 'JD Unadkat',\n",
              "       'JDP Oram', 'JEC Franklin', 'JH Kallis', 'JJ Bumrah', 'JJ Roy',\n",
              "       'JM Bairstow', 'JP Duminy', 'JP Faulkner', 'K Rabada',\n",
              "       'KA Pollard', 'KC Sangakkara', 'KD Karthik', 'KH Pandya',\n",
              "       'KK Ahmed', 'KK Cooper', 'KK Nair', 'KL Rahul', 'KM Jadhav',\n",
              "       'KMA Paul', 'KMDN Kulasekara', 'KP Pietersen', 'KS Williamson',\n",
              "       'KV Sharma', 'Kuldeep Yadav', 'L Balaji', 'L Ngidi', 'LH Ferguson',\n",
              "       'LJ Wright', 'LMP Simmons', 'LR Shukla', 'LRPL Taylor', 'M Kartik',\n",
              "       'M Morkel', 'M Muralitharan', 'M Ntini', 'M Vijay', 'M Vohra',\n",
              "       'MA Agarwal', 'MA Starc', 'MC Henriques', 'MD Mishra',\n",
              "       'MEK Hussey', 'MF Maharoof', 'MG Johnson', 'MJ Lumb',\n",
              "       'MJ McClenaghan', 'MK Pandey', 'MK Tiwary', 'ML Hayden',\n",
              "       'MM Patel', 'MM Sharma', 'MN Samuels', 'MP Stoinis', 'MR Marsh',\n",
              "       'MS Bisla', 'MS Dhoni', 'MS Gony', 'MV Boucher', 'Mandeep Singh',\n",
              "       'Mohammed Shami', 'Mohammed Siraj', 'Mujeeb Ur Rahman',\n",
              "       'Mustafizur Rahman', 'N Rana', 'NM Coulter-Nile', 'NV Ojha',\n",
              "       'P Kumar', 'P Negi', 'P Parameswaran', 'PA Patel', 'PC Valthaty',\n",
              "       'PD Collingwood', 'PJ Cummins', 'PK Garg', 'PP Chawla', 'PP Ojha',\n",
              "       'PP Shaw', 'PV Tambe', 'Q de Kock', 'R Ashwin', 'R Bhatia',\n",
              "       'R Dravid', 'R McLaren', 'R Sharma', 'R Tewatia', 'R Vinay Kumar',\n",
              "       'RA Jadeja', 'RA Tripathi', 'RD Gaikwad', 'RE Levi', 'RG Sharma',\n",
              "       'RJ Harris', 'RP Singh', 'RR Pant', 'RS Bopara', 'RV Uthappa',\n",
              "       'Rashid Khan', 'S Anirudha', 'S Aravind', 'S Badrinath',\n",
              "       'S Dhawan', 'S Gopal', 'S Nadeem', 'S Sohal', 'S Sreesanth',\n",
              "       'SA Asnodkar', 'SA Yadav', 'SB Jakati', 'SB Wagh', 'SC Ganguly',\n",
              "       'SE Marsh', 'SK Raina', 'SK Trivedi', 'SK Warne', 'SL Malinga',\n",
              "       'SM Curran', 'SM Katich', 'SM Pollock', 'SO Hetmyer', 'SP Goswami',\n",
              "       'SP Narine', 'SPD Smith', 'SR Tendulkar', 'SR Watson', 'SS Iyer',\n",
              "       'ST Jayasuriya', 'SV Samson', 'SW Billings', 'Sandeep Sharma',\n",
              "       'Shakib Al Hasan', 'Shivam Mavi', 'Shoaib Akhtar', 'Shubman Gill',\n",
              "       'Sohail Tanvir', 'TA Boult', 'TG Southee', 'TL Suman',\n",
              "       'TM Dilshan', 'UT Yadav', 'Umar Gul', 'V Kohli', 'V Sehwag',\n",
              "       'VR Aaron', 'WP Saha', 'WPUJC Vaas', 'Washington Sundar',\n",
              "       'YK Pathan', 'YS Chahal', 'Yuvraj Singh', 'Z Khan', nan],\n",
              "      dtype=object)"
            ]
          },
          "metadata": {
            "tags": []
          },
          "execution_count": 212
        }
      ]
    },
    {
      "cell_type": "code",
      "metadata": {
        "colab": {
          "base_uri": "https://localhost:8080/"
        },
        "id": "_2wpZsP3JhZ3",
        "outputId": "f00f238b-9c49-46a2-9f27-9068dac17940"
      },
      "source": [
        "ipl_2['venue'].value_counts().sort_index()"
      ],
      "execution_count": 213,
      "outputs": [
        {
          "output_type": "execute_result",
          "data": {
            "text/plain": [
              "Barabati Stadium                                         7\n",
              "Brabourne Stadium                                       11\n",
              "Buffalo Park                                             3\n",
              "De Beers Diamond Oval                                    3\n",
              "Dr DY Patil Sports Academy                              17\n",
              "Dr. Y.S. Rajasekhara Reddy ACA-VDCA Cricket Stadium     13\n",
              "Dubai International Cricket Stadium                     33\n",
              "Eden Gardens                                            77\n",
              "Feroz Shah Kotla                                        74\n",
              "Green Park                                               4\n",
              "Himachal Pradesh Cricket Association Stadium             9\n",
              "Holkar Cricket Stadium                                   9\n",
              "JSCA International Stadium Complex                       7\n",
              "Kingsmead                                               15\n",
              "M Chinnaswamy Stadium                                   65\n",
              "M.Chinnaswamy Stadium                                   15\n",
              "MA Chidambaram Stadium, Chepauk                         57\n",
              "Maharashtra Cricket Association Stadium                 21\n",
              "Nehru Stadium                                            5\n",
              "New Wanderers Stadium                                    8\n",
              "Newlands                                                 7\n",
              "OUTsurance Oval                                          2\n",
              "Punjab Cricket Association IS Bindra Stadium, Mohali    21\n",
              "Punjab Cricket Association Stadium, Mohali              35\n",
              "Rajiv Gandhi International Stadium, Uppal               64\n",
              "Sardar Patel Stadium, Motera                            12\n",
              "Saurashtra Cricket Association Stadium                  10\n",
              "Sawai Mansingh Stadium                                  47\n",
              "Shaheed Veer Narayan Singh International Stadium         6\n",
              "Sharjah Cricket Stadium                                 18\n",
              "Sheikh Zayed Stadium                                    29\n",
              "St George's Park                                         7\n",
              "Subrata Roy Sahara Stadium                              17\n",
              "SuperSport Park                                         12\n",
              "Vidarbha Cricket Association Stadium, Jamtha             3\n",
              "Wankhede Stadium                                        73\n",
              "Name: venue, dtype: int64"
            ]
          },
          "metadata": {
            "tags": []
          },
          "execution_count": 213
        }
      ]
    },
    {
      "cell_type": "code",
      "metadata": {
        "colab": {
          "base_uri": "https://localhost:8080/"
        },
        "id": "MMJGQuttkJ3m",
        "outputId": "2bc01e0d-fb7f-4b9e-f62a-373e9c45e9fa"
      },
      "source": [
        "ipl_2['venue'] = ipl_2['venue'].replace('M Chinnaswamy Stadium', 'M. Chinnaswamy Stadium')\n",
        "ipl_2['venue'].value_counts().sort_index()"
      ],
      "execution_count": 214,
      "outputs": [
        {
          "output_type": "execute_result",
          "data": {
            "text/plain": [
              "Barabati Stadium                                         7\n",
              "Brabourne Stadium                                       11\n",
              "Buffalo Park                                             3\n",
              "De Beers Diamond Oval                                    3\n",
              "Dr DY Patil Sports Academy                              17\n",
              "Dr. Y.S. Rajasekhara Reddy ACA-VDCA Cricket Stadium     13\n",
              "Dubai International Cricket Stadium                     33\n",
              "Eden Gardens                                            77\n",
              "Feroz Shah Kotla                                        74\n",
              "Green Park                                               4\n",
              "Himachal Pradesh Cricket Association Stadium             9\n",
              "Holkar Cricket Stadium                                   9\n",
              "JSCA International Stadium Complex                       7\n",
              "Kingsmead                                               15\n",
              "M. Chinnaswamy Stadium                                  65\n",
              "M.Chinnaswamy Stadium                                   15\n",
              "MA Chidambaram Stadium, Chepauk                         57\n",
              "Maharashtra Cricket Association Stadium                 21\n",
              "Nehru Stadium                                            5\n",
              "New Wanderers Stadium                                    8\n",
              "Newlands                                                 7\n",
              "OUTsurance Oval                                          2\n",
              "Punjab Cricket Association IS Bindra Stadium, Mohali    21\n",
              "Punjab Cricket Association Stadium, Mohali              35\n",
              "Rajiv Gandhi International Stadium, Uppal               64\n",
              "Sardar Patel Stadium, Motera                            12\n",
              "Saurashtra Cricket Association Stadium                  10\n",
              "Sawai Mansingh Stadium                                  47\n",
              "Shaheed Veer Narayan Singh International Stadium         6\n",
              "Sharjah Cricket Stadium                                 18\n",
              "Sheikh Zayed Stadium                                    29\n",
              "St George's Park                                         7\n",
              "Subrata Roy Sahara Stadium                              17\n",
              "SuperSport Park                                         12\n",
              "Vidarbha Cricket Association Stadium, Jamtha             3\n",
              "Wankhede Stadium                                        73\n",
              "Name: venue, dtype: int64"
            ]
          },
          "metadata": {
            "tags": []
          },
          "execution_count": 214
        }
      ]
    },
    {
      "cell_type": "code",
      "metadata": {
        "colab": {
          "base_uri": "https://localhost:8080/"
        },
        "id": "HA1G1WYylYPP",
        "outputId": "201c570d-ccce-49e7-d1d2-3b1ab3ec2d57"
      },
      "source": [
        "ipl_2['venue'] = ipl_2['venue'].replace('M.Chinnaswamy Stadium', 'M. Chinnaswamy Stadium')\n",
        "ipl_2['venue'].value_counts().sort_index()"
      ],
      "execution_count": 215,
      "outputs": [
        {
          "output_type": "execute_result",
          "data": {
            "text/plain": [
              "Barabati Stadium                                         7\n",
              "Brabourne Stadium                                       11\n",
              "Buffalo Park                                             3\n",
              "De Beers Diamond Oval                                    3\n",
              "Dr DY Patil Sports Academy                              17\n",
              "Dr. Y.S. Rajasekhara Reddy ACA-VDCA Cricket Stadium     13\n",
              "Dubai International Cricket Stadium                     33\n",
              "Eden Gardens                                            77\n",
              "Feroz Shah Kotla                                        74\n",
              "Green Park                                               4\n",
              "Himachal Pradesh Cricket Association Stadium             9\n",
              "Holkar Cricket Stadium                                   9\n",
              "JSCA International Stadium Complex                       7\n",
              "Kingsmead                                               15\n",
              "M. Chinnaswamy Stadium                                  80\n",
              "MA Chidambaram Stadium, Chepauk                         57\n",
              "Maharashtra Cricket Association Stadium                 21\n",
              "Nehru Stadium                                            5\n",
              "New Wanderers Stadium                                    8\n",
              "Newlands                                                 7\n",
              "OUTsurance Oval                                          2\n",
              "Punjab Cricket Association IS Bindra Stadium, Mohali    21\n",
              "Punjab Cricket Association Stadium, Mohali              35\n",
              "Rajiv Gandhi International Stadium, Uppal               64\n",
              "Sardar Patel Stadium, Motera                            12\n",
              "Saurashtra Cricket Association Stadium                  10\n",
              "Sawai Mansingh Stadium                                  47\n",
              "Shaheed Veer Narayan Singh International Stadium         6\n",
              "Sharjah Cricket Stadium                                 18\n",
              "Sheikh Zayed Stadium                                    29\n",
              "St George's Park                                         7\n",
              "Subrata Roy Sahara Stadium                              17\n",
              "SuperSport Park                                         12\n",
              "Vidarbha Cricket Association Stadium, Jamtha             3\n",
              "Wankhede Stadium                                        73\n",
              "Name: venue, dtype: int64"
            ]
          },
          "metadata": {
            "tags": []
          },
          "execution_count": 215
        }
      ]
    },
    {
      "cell_type": "code",
      "metadata": {
        "colab": {
          "base_uri": "https://localhost:8080/"
        },
        "id": "RbEDEx0ileYN",
        "outputId": "2223a58a-9e89-44aa-d54e-73ec0acdd409"
      },
      "source": [
        "ipl_2['venue'] = ipl_2['venue'].replace('Punjab Cricket Association Stadium, Mohali', 'Punjab Cricket Association IS Bindra Stadium, Mohali')\n",
        "ipl_2['venue'].value_counts().sort_index()"
      ],
      "execution_count": 216,
      "outputs": [
        {
          "output_type": "execute_result",
          "data": {
            "text/plain": [
              "Barabati Stadium                                         7\n",
              "Brabourne Stadium                                       11\n",
              "Buffalo Park                                             3\n",
              "De Beers Diamond Oval                                    3\n",
              "Dr DY Patil Sports Academy                              17\n",
              "Dr. Y.S. Rajasekhara Reddy ACA-VDCA Cricket Stadium     13\n",
              "Dubai International Cricket Stadium                     33\n",
              "Eden Gardens                                            77\n",
              "Feroz Shah Kotla                                        74\n",
              "Green Park                                               4\n",
              "Himachal Pradesh Cricket Association Stadium             9\n",
              "Holkar Cricket Stadium                                   9\n",
              "JSCA International Stadium Complex                       7\n",
              "Kingsmead                                               15\n",
              "M. Chinnaswamy Stadium                                  80\n",
              "MA Chidambaram Stadium, Chepauk                         57\n",
              "Maharashtra Cricket Association Stadium                 21\n",
              "Nehru Stadium                                            5\n",
              "New Wanderers Stadium                                    8\n",
              "Newlands                                                 7\n",
              "OUTsurance Oval                                          2\n",
              "Punjab Cricket Association IS Bindra Stadium, Mohali    56\n",
              "Rajiv Gandhi International Stadium, Uppal               64\n",
              "Sardar Patel Stadium, Motera                            12\n",
              "Saurashtra Cricket Association Stadium                  10\n",
              "Sawai Mansingh Stadium                                  47\n",
              "Shaheed Veer Narayan Singh International Stadium         6\n",
              "Sharjah Cricket Stadium                                 18\n",
              "Sheikh Zayed Stadium                                    29\n",
              "St George's Park                                         7\n",
              "Subrata Roy Sahara Stadium                              17\n",
              "SuperSport Park                                         12\n",
              "Vidarbha Cricket Association Stadium, Jamtha             3\n",
              "Wankhede Stadium                                        73\n",
              "Name: venue, dtype: int64"
            ]
          },
          "metadata": {
            "tags": []
          },
          "execution_count": 216
        }
      ]
    },
    {
      "cell_type": "code",
      "metadata": {
        "colab": {
          "base_uri": "https://localhost:8080/"
        },
        "id": "r2P9mVTwQK2Q",
        "outputId": "56d3c6fd-2f0e-4410-ebc7-51007aea8b3d"
      },
      "source": [
        "ipl_2['neutral_venue'].value_counts().sort_index()"
      ],
      "execution_count": 217,
      "outputs": [
        {
          "output_type": "execute_result",
          "data": {
            "text/plain": [
              "0    739\n",
              "1     77\n",
              "Name: neutral_venue, dtype: int64"
            ]
          },
          "metadata": {
            "tags": []
          },
          "execution_count": 217
        }
      ]
    },
    {
      "cell_type": "code",
      "metadata": {
        "colab": {
          "base_uri": "https://localhost:8080/"
        },
        "id": "g6g_ImW-Tsyq",
        "outputId": "9ad79383-2373-49f0-a670-e28cc9e9f56b"
      },
      "source": [
        "ipl_2['team1'].value_counts().sort_index()"
      ],
      "execution_count": 218,
      "outputs": [
        {
          "output_type": "execute_result",
          "data": {
            "text/plain": [
              "Chennai Super Kings             94\n",
              "Deccan Chargers                 39\n",
              "Delhi Capitals                  19\n",
              "Delhi Daredevils                83\n",
              "Gujarat Lions                   16\n",
              "Kings XI Punjab                 92\n",
              "Kochi Tuskers Kerala             7\n",
              "Kolkata Knight Riders           95\n",
              "Mumbai Indians                  97\n",
              "Pune Warriors                   23\n",
              "Rajasthan Royals                70\n",
              "Rising Pune Supergiant           7\n",
              "Rising Pune Supergiants          7\n",
              "Royal Challengers Bangalore    108\n",
              "Sunrisers Hyderabad             59\n",
              "Name: team1, dtype: int64"
            ]
          },
          "metadata": {
            "tags": []
          },
          "execution_count": 218
        }
      ]
    },
    {
      "cell_type": "code",
      "metadata": {
        "colab": {
          "base_uri": "https://localhost:8080/"
        },
        "id": "cY1j1c6Kl7aa",
        "outputId": "7cd642eb-8deb-4e03-b272-bf54dbc2a3e4"
      },
      "source": [
        "ipl_2 = ipl_2.replace('Rising Pune Supergiants', 'Rising Pune Supergiant')\n",
        "ipl_2['team1'].value_counts().sort_index()"
      ],
      "execution_count": 219,
      "outputs": [
        {
          "output_type": "execute_result",
          "data": {
            "text/plain": [
              "Chennai Super Kings             94\n",
              "Deccan Chargers                 39\n",
              "Delhi Capitals                  19\n",
              "Delhi Daredevils                83\n",
              "Gujarat Lions                   16\n",
              "Kings XI Punjab                 92\n",
              "Kochi Tuskers Kerala             7\n",
              "Kolkata Knight Riders           95\n",
              "Mumbai Indians                  97\n",
              "Pune Warriors                   23\n",
              "Rajasthan Royals                70\n",
              "Rising Pune Supergiant          14\n",
              "Royal Challengers Bangalore    108\n",
              "Sunrisers Hyderabad             59\n",
              "Name: team1, dtype: int64"
            ]
          },
          "metadata": {
            "tags": []
          },
          "execution_count": 219
        }
      ]
    },
    {
      "cell_type": "code",
      "metadata": {
        "colab": {
          "base_uri": "https://localhost:8080/"
        },
        "id": "yFwuU1yKT2E-",
        "outputId": "6b300150-9e7e-460d-bddc-45a32deb8f80"
      },
      "source": [
        "ipl_2['team2'].value_counts().sort_index()"
      ],
      "execution_count": 220,
      "outputs": [
        {
          "output_type": "execute_result",
          "data": {
            "text/plain": [
              "Chennai Super Kings             84\n",
              "Deccan Chargers                 36\n",
              "Delhi Capitals                  14\n",
              "Delhi Daredevils                78\n",
              "Gujarat Lions                   14\n",
              "Kings XI Punjab                 98\n",
              "Kochi Tuskers Kerala             7\n",
              "Kolkata Knight Riders           97\n",
              "Mumbai Indians                 106\n",
              "Pune Warriors                   23\n",
              "Rajasthan Royals                91\n",
              "Rising Pune Supergiant          16\n",
              "Royal Challengers Bangalore     87\n",
              "Sunrisers Hyderabad             65\n",
              "Name: team2, dtype: int64"
            ]
          },
          "metadata": {
            "tags": []
          },
          "execution_count": 220
        }
      ]
    },
    {
      "cell_type": "code",
      "metadata": {
        "colab": {
          "base_uri": "https://localhost:8080/"
        },
        "id": "JRt07uhBT7r3",
        "outputId": "50407401-0db7-47d9-f7c7-843653ddab99"
      },
      "source": [
        "ipl_2['toss_winner'].value_counts().sort_index()"
      ],
      "execution_count": 221,
      "outputs": [
        {
          "output_type": "execute_result",
          "data": {
            "text/plain": [
              "Chennai Super Kings             97\n",
              "Deccan Chargers                 43\n",
              "Delhi Capitals                  20\n",
              "Delhi Daredevils                80\n",
              "Gujarat Lions                   15\n",
              "Kings XI Punjab                 85\n",
              "Kochi Tuskers Kerala             8\n",
              "Kolkata Knight Riders           98\n",
              "Mumbai Indians                 106\n",
              "Pune Warriors                   20\n",
              "Rajasthan Royals                87\n",
              "Rising Pune Supergiant          13\n",
              "Royal Challengers Bangalore     87\n",
              "Sunrisers Hyderabad             57\n",
              "Name: toss_winner, dtype: int64"
            ]
          },
          "metadata": {
            "tags": []
          },
          "execution_count": 221
        }
      ]
    },
    {
      "cell_type": "code",
      "metadata": {
        "colab": {
          "base_uri": "https://localhost:8080/"
        },
        "id": "fKvfLGiwUD-u",
        "outputId": "7f26ace8-3be6-4caf-939b-dfb4634fdcba"
      },
      "source": [
        "ipl_2['toss_decision'].value_counts().sort_index()"
      ],
      "execution_count": 222,
      "outputs": [
        {
          "output_type": "execute_result",
          "data": {
            "text/plain": [
              "bat      320\n",
              "field    496\n",
              "Name: toss_decision, dtype: int64"
            ]
          },
          "metadata": {
            "tags": []
          },
          "execution_count": 222
        }
      ]
    },
    {
      "cell_type": "code",
      "metadata": {
        "colab": {
          "base_uri": "https://localhost:8080/"
        },
        "id": "zPNm6C5DU0GW",
        "outputId": "d2350837-3ecd-4b34-8566-ad5d151290b0"
      },
      "source": [
        "ipl_2['winner'].value_counts().sort_index()"
      ],
      "execution_count": 223,
      "outputs": [
        {
          "output_type": "execute_result",
          "data": {
            "text/plain": [
              "Chennai Super Kings            106\n",
              "Deccan Chargers                 29\n",
              "Delhi Capitals                  19\n",
              "Delhi Daredevils                67\n",
              "Gujarat Lions                   13\n",
              "Kings XI Punjab                 88\n",
              "Kochi Tuskers Kerala             6\n",
              "Kolkata Knight Riders           99\n",
              "Mumbai Indians                 120\n",
              "Pune Warriors                   12\n",
              "Rajasthan Royals                81\n",
              "Rising Pune Supergiant          15\n",
              "Royal Challengers Bangalore     91\n",
              "Sunrisers Hyderabad             66\n",
              "Name: winner, dtype: int64"
            ]
          },
          "metadata": {
            "tags": []
          },
          "execution_count": 223
        }
      ]
    },
    {
      "cell_type": "code",
      "metadata": {
        "colab": {
          "base_uri": "https://localhost:8080/"
        },
        "id": "x84xjFdeU4Fd",
        "outputId": "db01711b-aaeb-4b76-82e0-638368504d19"
      },
      "source": [
        "ipl_2['result'].value_counts().sort_index()"
      ],
      "execution_count": 224,
      "outputs": [
        {
          "output_type": "execute_result",
          "data": {
            "text/plain": [
              "runs       364\n",
              "tie         13\n",
              "wickets    435\n",
              "Name: result, dtype: int64"
            ]
          },
          "metadata": {
            "tags": []
          },
          "execution_count": 224
        }
      ]
    },
    {
      "cell_type": "code",
      "metadata": {
        "colab": {
          "base_uri": "https://localhost:8080/"
        },
        "id": "JB6gphFJU7u1",
        "outputId": "1558d365-7d67-41fb-8b8b-7c8b64379122"
      },
      "source": [
        "ipl_2['result_margin'].value_counts()"
      ],
      "execution_count": 225,
      "outputs": [
        {
          "output_type": "execute_result",
          "data": {
            "text/plain": [
              "6.0      95\n",
              "7.0      94\n",
              "5.0      85\n",
              "8.0      67\n",
              "4.0      53\n",
              "         ..\n",
              "76.0      1\n",
              "88.0      1\n",
              "67.0      1\n",
              "36.0      1\n",
              "140.0     1\n",
              "Name: result_margin, Length: 91, dtype: int64"
            ]
          },
          "metadata": {
            "tags": []
          },
          "execution_count": 225
        }
      ]
    },
    {
      "cell_type": "code",
      "metadata": {
        "colab": {
          "base_uri": "https://localhost:8080/"
        },
        "id": "s91xLv_TU8bv",
        "outputId": "4dd11c65-6844-4a12-94a7-b47a9f08dce0"
      },
      "source": [
        "ipl_2['eliminator'].value_counts()"
      ],
      "execution_count": 226,
      "outputs": [
        {
          "output_type": "execute_result",
          "data": {
            "text/plain": [
              "N    799\n",
              "Y     13\n",
              "Name: eliminator, dtype: int64"
            ]
          },
          "metadata": {
            "tags": []
          },
          "execution_count": 226
        }
      ]
    },
    {
      "cell_type": "code",
      "metadata": {
        "colab": {
          "base_uri": "https://localhost:8080/"
        },
        "id": "iIK6hLIJU9B9",
        "outputId": "27d5bca1-aa32-4ca3-c9a6-6506263e49a8"
      },
      "source": [
        "ipl_2['method'].value_counts()"
      ],
      "execution_count": 227,
      "outputs": [
        {
          "output_type": "execute_result",
          "data": {
            "text/plain": [
              "D/L    19\n",
              "Name: method, dtype: int64"
            ]
          },
          "metadata": {
            "tags": []
          },
          "execution_count": 227
        }
      ]
    },
    {
      "cell_type": "code",
      "metadata": {
        "colab": {
          "base_uri": "https://localhost:8080/"
        },
        "id": "e5AWH9OoVD9v",
        "outputId": "b1f85b7b-d7cc-454c-beb6-089b5593f116"
      },
      "source": [
        "ipl_2['umpire1'].value_counts().sort_index()"
      ],
      "execution_count": 228,
      "outputs": [
        {
          "output_type": "execute_result",
          "data": {
            "text/plain": [
              "A Deshmukh                5\n",
              "A Nand Kishore           14\n",
              "AK Chaudhary             56\n",
              "AM Saheba                 3\n",
              "AV Jayaprakash            2\n",
              "AY Dandekar              28\n",
              "Aleem Dar                38\n",
              "Asad Rauf                51\n",
              "BF Bowden                37\n",
              "BG Jerling               13\n",
              "BNJ Oxenford             16\n",
              "BR Doctrove              34\n",
              "C Shamshuddin            22\n",
              "CB Gaffaney              34\n",
              "CK Nandan                 8\n",
              "DJ Harper                 9\n",
              "GAV Baxter                7\n",
              "HDPK Dharmasena          78\n",
              "IJ Gould                  3\n",
              "IL Howell                 7\n",
              "JD Cloete                16\n",
              "K Bharatan                3\n",
              "K Hariharan              10\n",
              "K Srinath                 2\n",
              "KN Ananthapadmanabhan    33\n",
              "M Erasmus                40\n",
              "MR Benson                10\n",
              "NJ Llong                 21\n",
              "Nitin Menon              20\n",
              "PG Pathak                 4\n",
              "PR Reiffel                5\n",
              "RE Koertzen              20\n",
              "RJ Tucker                 5\n",
              "RK Illingworth           13\n",
              "RM Deshpande              7\n",
              "S Asnani                 19\n",
              "S Das                    10\n",
              "S Ravi                   37\n",
              "SD Fry                    5\n",
              "SJ Davis                  6\n",
              "SJA Taufel                1\n",
              "SK Tarapore               5\n",
              "SL Shastri                1\n",
              "SS Hazare                11\n",
              "UV Gandhe                 8\n",
              "VA Kulkarni              19\n",
              "VK Sharma                 6\n",
              "YC Barde                 14\n",
              "Name: umpire1, dtype: int64"
            ]
          },
          "metadata": {
            "tags": []
          },
          "execution_count": 228
        }
      ]
    },
    {
      "cell_type": "code",
      "metadata": {
        "colab": {
          "base_uri": "https://localhost:8080/"
        },
        "id": "hpAs3IOvVDqT",
        "outputId": "0089f30e-3114-4ed1-9116-4778d3cc21a9"
      },
      "source": [
        "ipl_2['umpire2'].value_counts().sort_index()"
      ],
      "execution_count": 229,
      "outputs": [
        {
          "output_type": "execute_result",
          "data": {
            "text/plain": [
              "A Deshmukh          7\n",
              "A Nand Kishore     11\n",
              "AK Chaudhary       31\n",
              "AL Hill             6\n",
              "AM Saheba          23\n",
              "AV Jayaprakash      4\n",
              "BG Jerling          4\n",
              "BNJ Oxenford       32\n",
              "BR Doctrove         8\n",
              "C Shamshuddin      60\n",
              "CB Gaffaney        13\n",
              "CK Nandan          49\n",
              "DJ Harper          18\n",
              "GA Pratapkumar      6\n",
              "HDPK Dharmasena    16\n",
              "I Shivram           6\n",
              "IJ Gould            3\n",
              "IL Howell           7\n",
              "JD Cloete           1\n",
              "K Hariharan        11\n",
              "K Srinath          13\n",
              "K Srinivasan        6\n",
              "M Erasmus          25\n",
              "MR Benson           2\n",
              "NJ Llong           16\n",
              "Nitin Menon        37\n",
              "PG Pathak           7\n",
              "PR Reiffel         19\n",
              "RB Tiffin          30\n",
              "RE Koertzen        21\n",
              "RJ Tucker          41\n",
              "RK Illingworth     18\n",
              "S Asnani           11\n",
              "S Das               5\n",
              "S Ravi             84\n",
              "SD Fry              1\n",
              "SD Ranade           2\n",
              "SJ Davis            1\n",
              "SJA Taufel         54\n",
              "SK Tarapore        26\n",
              "SL Shastri         13\n",
              "SS Hazare           6\n",
              "Subroto Das         1\n",
              "TH Wijewardene      5\n",
              "VA Kulkarni        31\n",
              "VK Sharma          20\n",
              "YC Barde            5\n",
              "Name: umpire2, dtype: int64"
            ]
          },
          "metadata": {
            "tags": []
          },
          "execution_count": 229
        }
      ]
    },
    {
      "cell_type": "code",
      "metadata": {
        "colab": {
          "base_uri": "https://localhost:8080/"
        },
        "id": "Rq0I3kyHTwxU",
        "outputId": "2725b2d9-fe1f-4120-e918-cef4588c3f91"
      },
      "source": [
        "ipl_2 = ipl_2.drop_duplicates(keep = 'first')\n",
        "ipl_2.info()"
      ],
      "execution_count": 230,
      "outputs": [
        {
          "output_type": "stream",
          "text": [
            "<class 'pandas.core.frame.DataFrame'>\n",
            "Int64Index: 816 entries, 0 to 815\n",
            "Data columns (total 17 columns):\n",
            " #   Column           Non-Null Count  Dtype  \n",
            "---  ------           --------------  -----  \n",
            " 0   id               816 non-null    int64  \n",
            " 1   city             803 non-null    object \n",
            " 2   date             816 non-null    object \n",
            " 3   player_of_match  812 non-null    object \n",
            " 4   venue            816 non-null    object \n",
            " 5   neutral_venue    816 non-null    int64  \n",
            " 6   team1            816 non-null    object \n",
            " 7   team2            816 non-null    object \n",
            " 8   toss_winner      816 non-null    object \n",
            " 9   toss_decision    816 non-null    object \n",
            " 10  winner           812 non-null    object \n",
            " 11  result           812 non-null    object \n",
            " 12  result_margin    799 non-null    float64\n",
            " 13  eliminator       812 non-null    object \n",
            " 14  method           19 non-null     object \n",
            " 15  umpire1          816 non-null    object \n",
            " 16  umpire2          816 non-null    object \n",
            "dtypes: float64(1), int64(2), object(14)\n",
            "memory usage: 114.8+ KB\n"
          ],
          "name": "stdout"
        }
      ]
    },
    {
      "cell_type": "code",
      "metadata": {
        "colab": {
          "base_uri": "https://localhost:8080/"
        },
        "id": "uQA0QmbloMZv",
        "outputId": "c7449e28-d69b-403f-9c3f-ae20ebd055d0"
      },
      "source": [
        "ipl_3 = ipl_2\n",
        "ipl_3 = ipl_3.drop(['id'], axis = 1)\n",
        "ipl_3 = ipl_3.drop(['player_of_match'], axis = 1)\n",
        "ipl_3 = ipl_3.drop(['result'], axis = 1)\n",
        "ipl_3 = ipl_3.drop(['result_margin'], axis = 1)\n",
        "ipl_3 = ipl_3.drop(['method'], axis = 1)\n",
        "ipl_3.info()"
      ],
      "execution_count": 231,
      "outputs": [
        {
          "output_type": "stream",
          "text": [
            "<class 'pandas.core.frame.DataFrame'>\n",
            "Int64Index: 816 entries, 0 to 815\n",
            "Data columns (total 12 columns):\n",
            " #   Column         Non-Null Count  Dtype \n",
            "---  ------         --------------  ----- \n",
            " 0   city           803 non-null    object\n",
            " 1   date           816 non-null    object\n",
            " 2   venue          816 non-null    object\n",
            " 3   neutral_venue  816 non-null    int64 \n",
            " 4   team1          816 non-null    object\n",
            " 5   team2          816 non-null    object\n",
            " 6   toss_winner    816 non-null    object\n",
            " 7   toss_decision  816 non-null    object\n",
            " 8   winner         812 non-null    object\n",
            " 9   eliminator     812 non-null    object\n",
            " 10  umpire1        816 non-null    object\n",
            " 11  umpire2        816 non-null    object\n",
            "dtypes: int64(1), object(11)\n",
            "memory usage: 82.9+ KB\n"
          ],
          "name": "stdout"
        }
      ]
    },
    {
      "cell_type": "code",
      "metadata": {
        "colab": {
          "base_uri": "https://localhost:8080/"
        },
        "id": "IRKG0lGlt6Ug",
        "outputId": "2c20c9e8-fe34-4243-e529-fc472072e17a"
      },
      "source": [
        "ipl_3['winner'].fillna('Tie', inplace=True)\n",
        "ipl_3.info()"
      ],
      "execution_count": 232,
      "outputs": [
        {
          "output_type": "stream",
          "text": [
            "<class 'pandas.core.frame.DataFrame'>\n",
            "Int64Index: 816 entries, 0 to 815\n",
            "Data columns (total 12 columns):\n",
            " #   Column         Non-Null Count  Dtype \n",
            "---  ------         --------------  ----- \n",
            " 0   city           803 non-null    object\n",
            " 1   date           816 non-null    object\n",
            " 2   venue          816 non-null    object\n",
            " 3   neutral_venue  816 non-null    int64 \n",
            " 4   team1          816 non-null    object\n",
            " 5   team2          816 non-null    object\n",
            " 6   toss_winner    816 non-null    object\n",
            " 7   toss_decision  816 non-null    object\n",
            " 8   winner         816 non-null    object\n",
            " 9   eliminator     812 non-null    object\n",
            " 10  umpire1        816 non-null    object\n",
            " 11  umpire2        816 non-null    object\n",
            "dtypes: int64(1), object(11)\n",
            "memory usage: 82.9+ KB\n"
          ],
          "name": "stdout"
        }
      ]
    },
    {
      "cell_type": "code",
      "metadata": {
        "colab": {
          "base_uri": "https://localhost:8080/",
          "height": 292
        },
        "id": "UyjDNxNfyjYh",
        "outputId": "72997cf1-0520-4174-d36f-aa0a2e11e53f"
      },
      "source": [
        "ipl_3[ipl_3['eliminator'].isnull() == True]"
      ],
      "execution_count": 233,
      "outputs": [
        {
          "output_type": "execute_result",
          "data": {
            "text/html": [
              "<div>\n",
              "<style scoped>\n",
              "    .dataframe tbody tr th:only-of-type {\n",
              "        vertical-align: middle;\n",
              "    }\n",
              "\n",
              "    .dataframe tbody tr th {\n",
              "        vertical-align: top;\n",
              "    }\n",
              "\n",
              "    .dataframe thead th {\n",
              "        text-align: right;\n",
              "    }\n",
              "</style>\n",
              "<table border=\"1\" class=\"dataframe\">\n",
              "  <thead>\n",
              "    <tr style=\"text-align: right;\">\n",
              "      <th></th>\n",
              "      <th>city</th>\n",
              "      <th>date</th>\n",
              "      <th>venue</th>\n",
              "      <th>neutral_venue</th>\n",
              "      <th>team1</th>\n",
              "      <th>team2</th>\n",
              "      <th>toss_winner</th>\n",
              "      <th>toss_decision</th>\n",
              "      <th>winner</th>\n",
              "      <th>eliminator</th>\n",
              "      <th>umpire1</th>\n",
              "      <th>umpire2</th>\n",
              "    </tr>\n",
              "  </thead>\n",
              "  <tbody>\n",
              "    <tr>\n",
              "      <th>241</th>\n",
              "      <td>Delhi</td>\n",
              "      <td>2011-05-21</td>\n",
              "      <td>Feroz Shah Kotla</td>\n",
              "      <td>0</td>\n",
              "      <td>Delhi Daredevils</td>\n",
              "      <td>Pune Warriors</td>\n",
              "      <td>Delhi Daredevils</td>\n",
              "      <td>bat</td>\n",
              "      <td>Tie</td>\n",
              "      <td>NaN</td>\n",
              "      <td>SS Hazare</td>\n",
              "      <td>RJ Tucker</td>\n",
              "    </tr>\n",
              "    <tr>\n",
              "      <th>486</th>\n",
              "      <td>Bangalore</td>\n",
              "      <td>2015-04-29</td>\n",
              "      <td>M. Chinnaswamy Stadium</td>\n",
              "      <td>0</td>\n",
              "      <td>Royal Challengers Bangalore</td>\n",
              "      <td>Rajasthan Royals</td>\n",
              "      <td>Rajasthan Royals</td>\n",
              "      <td>field</td>\n",
              "      <td>Tie</td>\n",
              "      <td>NaN</td>\n",
              "      <td>JD Cloete</td>\n",
              "      <td>PG Pathak</td>\n",
              "    </tr>\n",
              "    <tr>\n",
              "      <th>511</th>\n",
              "      <td>Bangalore</td>\n",
              "      <td>2015-05-17</td>\n",
              "      <td>M. Chinnaswamy Stadium</td>\n",
              "      <td>0</td>\n",
              "      <td>Royal Challengers Bangalore</td>\n",
              "      <td>Delhi Daredevils</td>\n",
              "      <td>Royal Challengers Bangalore</td>\n",
              "      <td>field</td>\n",
              "      <td>Tie</td>\n",
              "      <td>NaN</td>\n",
              "      <td>HDPK Dharmasena</td>\n",
              "      <td>K Srinivasan</td>\n",
              "    </tr>\n",
              "    <tr>\n",
              "      <th>744</th>\n",
              "      <td>Bangalore</td>\n",
              "      <td>2019-04-30</td>\n",
              "      <td>M. Chinnaswamy Stadium</td>\n",
              "      <td>0</td>\n",
              "      <td>Royal Challengers Bangalore</td>\n",
              "      <td>Rajasthan Royals</td>\n",
              "      <td>Rajasthan Royals</td>\n",
              "      <td>field</td>\n",
              "      <td>Tie</td>\n",
              "      <td>NaN</td>\n",
              "      <td>UV Gandhe</td>\n",
              "      <td>NJ Llong</td>\n",
              "    </tr>\n",
              "  </tbody>\n",
              "</table>\n",
              "</div>"
            ],
            "text/plain": [
              "          city        date  ...          umpire1       umpire2\n",
              "241      Delhi  2011-05-21  ...        SS Hazare     RJ Tucker\n",
              "486  Bangalore  2015-04-29  ...        JD Cloete     PG Pathak\n",
              "511  Bangalore  2015-05-17  ...  HDPK Dharmasena  K Srinivasan\n",
              "744  Bangalore  2019-04-30  ...        UV Gandhe      NJ Llong\n",
              "\n",
              "[4 rows x 12 columns]"
            ]
          },
          "metadata": {
            "tags": []
          },
          "execution_count": 233
        }
      ]
    },
    {
      "cell_type": "code",
      "metadata": {
        "colab": {
          "base_uri": "https://localhost:8080/"
        },
        "id": "uWykrchF0ZEP",
        "outputId": "e7787a18-66cf-4c50-e849-0c0207eb0c0a"
      },
      "source": [
        "ipl_3['eliminator'].fillna('N', inplace=True)\n",
        "ipl_3.info()"
      ],
      "execution_count": 234,
      "outputs": [
        {
          "output_type": "stream",
          "text": [
            "<class 'pandas.core.frame.DataFrame'>\n",
            "Int64Index: 816 entries, 0 to 815\n",
            "Data columns (total 12 columns):\n",
            " #   Column         Non-Null Count  Dtype \n",
            "---  ------         --------------  ----- \n",
            " 0   city           803 non-null    object\n",
            " 1   date           816 non-null    object\n",
            " 2   venue          816 non-null    object\n",
            " 3   neutral_venue  816 non-null    int64 \n",
            " 4   team1          816 non-null    object\n",
            " 5   team2          816 non-null    object\n",
            " 6   toss_winner    816 non-null    object\n",
            " 7   toss_decision  816 non-null    object\n",
            " 8   winner         816 non-null    object\n",
            " 9   eliminator     816 non-null    object\n",
            " 10  umpire1        816 non-null    object\n",
            " 11  umpire2        816 non-null    object\n",
            "dtypes: int64(1), object(11)\n",
            "memory usage: 82.9+ KB\n"
          ],
          "name": "stdout"
        }
      ]
    },
    {
      "cell_type": "code",
      "metadata": {
        "colab": {
          "base_uri": "https://localhost:8080/",
          "height": 826
        },
        "id": "LMJlyQJE2Fvx",
        "outputId": "bec9e466-ecc9-4f0a-c784-33d48a028e22"
      },
      "source": [
        "ipl_3[ipl_3['city'].isnull() == True]"
      ],
      "execution_count": 235,
      "outputs": [
        {
          "output_type": "execute_result",
          "data": {
            "text/html": [
              "<div>\n",
              "<style scoped>\n",
              "    .dataframe tbody tr th:only-of-type {\n",
              "        vertical-align: middle;\n",
              "    }\n",
              "\n",
              "    .dataframe tbody tr th {\n",
              "        vertical-align: top;\n",
              "    }\n",
              "\n",
              "    .dataframe thead th {\n",
              "        text-align: right;\n",
              "    }\n",
              "</style>\n",
              "<table border=\"1\" class=\"dataframe\">\n",
              "  <thead>\n",
              "    <tr style=\"text-align: right;\">\n",
              "      <th></th>\n",
              "      <th>city</th>\n",
              "      <th>date</th>\n",
              "      <th>venue</th>\n",
              "      <th>neutral_venue</th>\n",
              "      <th>team1</th>\n",
              "      <th>team2</th>\n",
              "      <th>toss_winner</th>\n",
              "      <th>toss_decision</th>\n",
              "      <th>winner</th>\n",
              "      <th>eliminator</th>\n",
              "      <th>umpire1</th>\n",
              "      <th>umpire2</th>\n",
              "    </tr>\n",
              "  </thead>\n",
              "  <tbody>\n",
              "    <tr>\n",
              "      <th>399</th>\n",
              "      <td>NaN</td>\n",
              "      <td>2014-04-17</td>\n",
              "      <td>Sharjah Cricket Stadium</td>\n",
              "      <td>1</td>\n",
              "      <td>Delhi Daredevils</td>\n",
              "      <td>Royal Challengers Bangalore</td>\n",
              "      <td>Royal Challengers Bangalore</td>\n",
              "      <td>field</td>\n",
              "      <td>Royal Challengers Bangalore</td>\n",
              "      <td>N</td>\n",
              "      <td>Aleem Dar</td>\n",
              "      <td>S Ravi</td>\n",
              "    </tr>\n",
              "    <tr>\n",
              "      <th>402</th>\n",
              "      <td>NaN</td>\n",
              "      <td>2014-04-19</td>\n",
              "      <td>Dubai International Cricket Stadium</td>\n",
              "      <td>1</td>\n",
              "      <td>Royal Challengers Bangalore</td>\n",
              "      <td>Mumbai Indians</td>\n",
              "      <td>Royal Challengers Bangalore</td>\n",
              "      <td>field</td>\n",
              "      <td>Royal Challengers Bangalore</td>\n",
              "      <td>N</td>\n",
              "      <td>Aleem Dar</td>\n",
              "      <td>AK Chaudhary</td>\n",
              "    </tr>\n",
              "    <tr>\n",
              "      <th>403</th>\n",
              "      <td>NaN</td>\n",
              "      <td>2014-04-19</td>\n",
              "      <td>Dubai International Cricket Stadium</td>\n",
              "      <td>1</td>\n",
              "      <td>Kolkata Knight Riders</td>\n",
              "      <td>Delhi Daredevils</td>\n",
              "      <td>Kolkata Knight Riders</td>\n",
              "      <td>bat</td>\n",
              "      <td>Delhi Daredevils</td>\n",
              "      <td>N</td>\n",
              "      <td>Aleem Dar</td>\n",
              "      <td>VA Kulkarni</td>\n",
              "    </tr>\n",
              "    <tr>\n",
              "      <th>404</th>\n",
              "      <td>NaN</td>\n",
              "      <td>2014-04-20</td>\n",
              "      <td>Sharjah Cricket Stadium</td>\n",
              "      <td>1</td>\n",
              "      <td>Rajasthan Royals</td>\n",
              "      <td>Kings XI Punjab</td>\n",
              "      <td>Kings XI Punjab</td>\n",
              "      <td>field</td>\n",
              "      <td>Kings XI Punjab</td>\n",
              "      <td>N</td>\n",
              "      <td>BF Bowden</td>\n",
              "      <td>M Erasmus</td>\n",
              "    </tr>\n",
              "    <tr>\n",
              "      <th>406</th>\n",
              "      <td>NaN</td>\n",
              "      <td>2014-04-22</td>\n",
              "      <td>Sharjah Cricket Stadium</td>\n",
              "      <td>1</td>\n",
              "      <td>Kings XI Punjab</td>\n",
              "      <td>Sunrisers Hyderabad</td>\n",
              "      <td>Sunrisers Hyderabad</td>\n",
              "      <td>field</td>\n",
              "      <td>Kings XI Punjab</td>\n",
              "      <td>N</td>\n",
              "      <td>M Erasmus</td>\n",
              "      <td>S Ravi</td>\n",
              "    </tr>\n",
              "    <tr>\n",
              "      <th>407</th>\n",
              "      <td>NaN</td>\n",
              "      <td>2014-04-23</td>\n",
              "      <td>Dubai International Cricket Stadium</td>\n",
              "      <td>1</td>\n",
              "      <td>Rajasthan Royals</td>\n",
              "      <td>Chennai Super Kings</td>\n",
              "      <td>Rajasthan Royals</td>\n",
              "      <td>field</td>\n",
              "      <td>Chennai Super Kings</td>\n",
              "      <td>N</td>\n",
              "      <td>HDPK Dharmasena</td>\n",
              "      <td>RK Illingworth</td>\n",
              "    </tr>\n",
              "    <tr>\n",
              "      <th>408</th>\n",
              "      <td>NaN</td>\n",
              "      <td>2014-04-24</td>\n",
              "      <td>Sharjah Cricket Stadium</td>\n",
              "      <td>1</td>\n",
              "      <td>Royal Challengers Bangalore</td>\n",
              "      <td>Kolkata Knight Riders</td>\n",
              "      <td>Royal Challengers Bangalore</td>\n",
              "      <td>field</td>\n",
              "      <td>Kolkata Knight Riders</td>\n",
              "      <td>N</td>\n",
              "      <td>Aleem Dar</td>\n",
              "      <td>VA Kulkarni</td>\n",
              "    </tr>\n",
              "    <tr>\n",
              "      <th>409</th>\n",
              "      <td>NaN</td>\n",
              "      <td>2014-04-25</td>\n",
              "      <td>Dubai International Cricket Stadium</td>\n",
              "      <td>1</td>\n",
              "      <td>Sunrisers Hyderabad</td>\n",
              "      <td>Delhi Daredevils</td>\n",
              "      <td>Sunrisers Hyderabad</td>\n",
              "      <td>bat</td>\n",
              "      <td>Sunrisers Hyderabad</td>\n",
              "      <td>N</td>\n",
              "      <td>M Erasmus</td>\n",
              "      <td>S Ravi</td>\n",
              "    </tr>\n",
              "    <tr>\n",
              "      <th>410</th>\n",
              "      <td>NaN</td>\n",
              "      <td>2014-04-25</td>\n",
              "      <td>Dubai International Cricket Stadium</td>\n",
              "      <td>1</td>\n",
              "      <td>Chennai Super Kings</td>\n",
              "      <td>Mumbai Indians</td>\n",
              "      <td>Mumbai Indians</td>\n",
              "      <td>bat</td>\n",
              "      <td>Chennai Super Kings</td>\n",
              "      <td>N</td>\n",
              "      <td>BF Bowden</td>\n",
              "      <td>M Erasmus</td>\n",
              "    </tr>\n",
              "    <tr>\n",
              "      <th>413</th>\n",
              "      <td>NaN</td>\n",
              "      <td>2014-04-27</td>\n",
              "      <td>Sharjah Cricket Stadium</td>\n",
              "      <td>1</td>\n",
              "      <td>Delhi Daredevils</td>\n",
              "      <td>Mumbai Indians</td>\n",
              "      <td>Mumbai Indians</td>\n",
              "      <td>bat</td>\n",
              "      <td>Delhi Daredevils</td>\n",
              "      <td>N</td>\n",
              "      <td>Aleem Dar</td>\n",
              "      <td>VA Kulkarni</td>\n",
              "    </tr>\n",
              "    <tr>\n",
              "      <th>414</th>\n",
              "      <td>NaN</td>\n",
              "      <td>2014-04-27</td>\n",
              "      <td>Sharjah Cricket Stadium</td>\n",
              "      <td>1</td>\n",
              "      <td>Sunrisers Hyderabad</td>\n",
              "      <td>Chennai Super Kings</td>\n",
              "      <td>Sunrisers Hyderabad</td>\n",
              "      <td>bat</td>\n",
              "      <td>Chennai Super Kings</td>\n",
              "      <td>N</td>\n",
              "      <td>AK Chaudhary</td>\n",
              "      <td>VA Kulkarni</td>\n",
              "    </tr>\n",
              "    <tr>\n",
              "      <th>415</th>\n",
              "      <td>NaN</td>\n",
              "      <td>2014-04-28</td>\n",
              "      <td>Dubai International Cricket Stadium</td>\n",
              "      <td>1</td>\n",
              "      <td>Kings XI Punjab</td>\n",
              "      <td>Royal Challengers Bangalore</td>\n",
              "      <td>Kings XI Punjab</td>\n",
              "      <td>field</td>\n",
              "      <td>Kings XI Punjab</td>\n",
              "      <td>N</td>\n",
              "      <td>BF Bowden</td>\n",
              "      <td>S Ravi</td>\n",
              "    </tr>\n",
              "    <tr>\n",
              "      <th>417</th>\n",
              "      <td>NaN</td>\n",
              "      <td>2014-04-30</td>\n",
              "      <td>Dubai International Cricket Stadium</td>\n",
              "      <td>1</td>\n",
              "      <td>Mumbai Indians</td>\n",
              "      <td>Sunrisers Hyderabad</td>\n",
              "      <td>Mumbai Indians</td>\n",
              "      <td>field</td>\n",
              "      <td>Sunrisers Hyderabad</td>\n",
              "      <td>N</td>\n",
              "      <td>HDPK Dharmasena</td>\n",
              "      <td>M Erasmus</td>\n",
              "    </tr>\n",
              "  </tbody>\n",
              "</table>\n",
              "</div>"
            ],
            "text/plain": [
              "    city        date  ...          umpire1         umpire2\n",
              "399  NaN  2014-04-17  ...        Aleem Dar          S Ravi\n",
              "402  NaN  2014-04-19  ...        Aleem Dar    AK Chaudhary\n",
              "403  NaN  2014-04-19  ...        Aleem Dar     VA Kulkarni\n",
              "404  NaN  2014-04-20  ...        BF Bowden       M Erasmus\n",
              "406  NaN  2014-04-22  ...        M Erasmus          S Ravi\n",
              "407  NaN  2014-04-23  ...  HDPK Dharmasena  RK Illingworth\n",
              "408  NaN  2014-04-24  ...        Aleem Dar     VA Kulkarni\n",
              "409  NaN  2014-04-25  ...        M Erasmus          S Ravi\n",
              "410  NaN  2014-04-25  ...        BF Bowden       M Erasmus\n",
              "413  NaN  2014-04-27  ...        Aleem Dar     VA Kulkarni\n",
              "414  NaN  2014-04-27  ...     AK Chaudhary     VA Kulkarni\n",
              "415  NaN  2014-04-28  ...        BF Bowden          S Ravi\n",
              "417  NaN  2014-04-30  ...  HDPK Dharmasena       M Erasmus\n",
              "\n",
              "[13 rows x 12 columns]"
            ]
          },
          "metadata": {
            "tags": []
          },
          "execution_count": 235
        }
      ]
    },
    {
      "cell_type": "code",
      "metadata": {
        "colab": {
          "base_uri": "https://localhost:8080/",
          "height": 439
        },
        "id": "p1egC6DO5V4x",
        "outputId": "d8b04ba6-ec11-4edc-87ba-864524787fd0"
      },
      "source": [
        "ipl_3[(ipl_3['city'].isnull() == True) & (ipl_3['venue'] == 'Sharjah Cricket Stadium')]"
      ],
      "execution_count": 236,
      "outputs": [
        {
          "output_type": "execute_result",
          "data": {
            "text/html": [
              "<div>\n",
              "<style scoped>\n",
              "    .dataframe tbody tr th:only-of-type {\n",
              "        vertical-align: middle;\n",
              "    }\n",
              "\n",
              "    .dataframe tbody tr th {\n",
              "        vertical-align: top;\n",
              "    }\n",
              "\n",
              "    .dataframe thead th {\n",
              "        text-align: right;\n",
              "    }\n",
              "</style>\n",
              "<table border=\"1\" class=\"dataframe\">\n",
              "  <thead>\n",
              "    <tr style=\"text-align: right;\">\n",
              "      <th></th>\n",
              "      <th>city</th>\n",
              "      <th>date</th>\n",
              "      <th>venue</th>\n",
              "      <th>neutral_venue</th>\n",
              "      <th>team1</th>\n",
              "      <th>team2</th>\n",
              "      <th>toss_winner</th>\n",
              "      <th>toss_decision</th>\n",
              "      <th>winner</th>\n",
              "      <th>eliminator</th>\n",
              "      <th>umpire1</th>\n",
              "      <th>umpire2</th>\n",
              "    </tr>\n",
              "  </thead>\n",
              "  <tbody>\n",
              "    <tr>\n",
              "      <th>399</th>\n",
              "      <td>NaN</td>\n",
              "      <td>2014-04-17</td>\n",
              "      <td>Sharjah Cricket Stadium</td>\n",
              "      <td>1</td>\n",
              "      <td>Delhi Daredevils</td>\n",
              "      <td>Royal Challengers Bangalore</td>\n",
              "      <td>Royal Challengers Bangalore</td>\n",
              "      <td>field</td>\n",
              "      <td>Royal Challengers Bangalore</td>\n",
              "      <td>N</td>\n",
              "      <td>Aleem Dar</td>\n",
              "      <td>S Ravi</td>\n",
              "    </tr>\n",
              "    <tr>\n",
              "      <th>404</th>\n",
              "      <td>NaN</td>\n",
              "      <td>2014-04-20</td>\n",
              "      <td>Sharjah Cricket Stadium</td>\n",
              "      <td>1</td>\n",
              "      <td>Rajasthan Royals</td>\n",
              "      <td>Kings XI Punjab</td>\n",
              "      <td>Kings XI Punjab</td>\n",
              "      <td>field</td>\n",
              "      <td>Kings XI Punjab</td>\n",
              "      <td>N</td>\n",
              "      <td>BF Bowden</td>\n",
              "      <td>M Erasmus</td>\n",
              "    </tr>\n",
              "    <tr>\n",
              "      <th>406</th>\n",
              "      <td>NaN</td>\n",
              "      <td>2014-04-22</td>\n",
              "      <td>Sharjah Cricket Stadium</td>\n",
              "      <td>1</td>\n",
              "      <td>Kings XI Punjab</td>\n",
              "      <td>Sunrisers Hyderabad</td>\n",
              "      <td>Sunrisers Hyderabad</td>\n",
              "      <td>field</td>\n",
              "      <td>Kings XI Punjab</td>\n",
              "      <td>N</td>\n",
              "      <td>M Erasmus</td>\n",
              "      <td>S Ravi</td>\n",
              "    </tr>\n",
              "    <tr>\n",
              "      <th>408</th>\n",
              "      <td>NaN</td>\n",
              "      <td>2014-04-24</td>\n",
              "      <td>Sharjah Cricket Stadium</td>\n",
              "      <td>1</td>\n",
              "      <td>Royal Challengers Bangalore</td>\n",
              "      <td>Kolkata Knight Riders</td>\n",
              "      <td>Royal Challengers Bangalore</td>\n",
              "      <td>field</td>\n",
              "      <td>Kolkata Knight Riders</td>\n",
              "      <td>N</td>\n",
              "      <td>Aleem Dar</td>\n",
              "      <td>VA Kulkarni</td>\n",
              "    </tr>\n",
              "    <tr>\n",
              "      <th>413</th>\n",
              "      <td>NaN</td>\n",
              "      <td>2014-04-27</td>\n",
              "      <td>Sharjah Cricket Stadium</td>\n",
              "      <td>1</td>\n",
              "      <td>Delhi Daredevils</td>\n",
              "      <td>Mumbai Indians</td>\n",
              "      <td>Mumbai Indians</td>\n",
              "      <td>bat</td>\n",
              "      <td>Delhi Daredevils</td>\n",
              "      <td>N</td>\n",
              "      <td>Aleem Dar</td>\n",
              "      <td>VA Kulkarni</td>\n",
              "    </tr>\n",
              "    <tr>\n",
              "      <th>414</th>\n",
              "      <td>NaN</td>\n",
              "      <td>2014-04-27</td>\n",
              "      <td>Sharjah Cricket Stadium</td>\n",
              "      <td>1</td>\n",
              "      <td>Sunrisers Hyderabad</td>\n",
              "      <td>Chennai Super Kings</td>\n",
              "      <td>Sunrisers Hyderabad</td>\n",
              "      <td>bat</td>\n",
              "      <td>Chennai Super Kings</td>\n",
              "      <td>N</td>\n",
              "      <td>AK Chaudhary</td>\n",
              "      <td>VA Kulkarni</td>\n",
              "    </tr>\n",
              "  </tbody>\n",
              "</table>\n",
              "</div>"
            ],
            "text/plain": [
              "    city        date  ...       umpire1      umpire2\n",
              "399  NaN  2014-04-17  ...     Aleem Dar       S Ravi\n",
              "404  NaN  2014-04-20  ...     BF Bowden    M Erasmus\n",
              "406  NaN  2014-04-22  ...     M Erasmus       S Ravi\n",
              "408  NaN  2014-04-24  ...     Aleem Dar  VA Kulkarni\n",
              "413  NaN  2014-04-27  ...     Aleem Dar  VA Kulkarni\n",
              "414  NaN  2014-04-27  ...  AK Chaudhary  VA Kulkarni\n",
              "\n",
              "[6 rows x 12 columns]"
            ]
          },
          "metadata": {
            "tags": []
          },
          "execution_count": 236
        }
      ]
    },
    {
      "cell_type": "code",
      "metadata": {
        "colab": {
          "base_uri": "https://localhost:8080/",
          "height": 114
        },
        "id": "PIJ9GI01Rfjg",
        "outputId": "616434d5-1ea2-415d-d189-10bd974450b4"
      },
      "source": [
        "ipl_3['city'] = np.where((ipl_3['city'].isnull() == True) & (ipl_3['venue'] == 'Sharjah Cricket Stadium'), 'Sharjah', ipl_3['city'])\n",
        "ipl_3[ipl_3.index == 399]"
      ],
      "execution_count": 237,
      "outputs": [
        {
          "output_type": "execute_result",
          "data": {
            "text/html": [
              "<div>\n",
              "<style scoped>\n",
              "    .dataframe tbody tr th:only-of-type {\n",
              "        vertical-align: middle;\n",
              "    }\n",
              "\n",
              "    .dataframe tbody tr th {\n",
              "        vertical-align: top;\n",
              "    }\n",
              "\n",
              "    .dataframe thead th {\n",
              "        text-align: right;\n",
              "    }\n",
              "</style>\n",
              "<table border=\"1\" class=\"dataframe\">\n",
              "  <thead>\n",
              "    <tr style=\"text-align: right;\">\n",
              "      <th></th>\n",
              "      <th>city</th>\n",
              "      <th>date</th>\n",
              "      <th>venue</th>\n",
              "      <th>neutral_venue</th>\n",
              "      <th>team1</th>\n",
              "      <th>team2</th>\n",
              "      <th>toss_winner</th>\n",
              "      <th>toss_decision</th>\n",
              "      <th>winner</th>\n",
              "      <th>eliminator</th>\n",
              "      <th>umpire1</th>\n",
              "      <th>umpire2</th>\n",
              "    </tr>\n",
              "  </thead>\n",
              "  <tbody>\n",
              "    <tr>\n",
              "      <th>399</th>\n",
              "      <td>Sharjah</td>\n",
              "      <td>2014-04-17</td>\n",
              "      <td>Sharjah Cricket Stadium</td>\n",
              "      <td>1</td>\n",
              "      <td>Delhi Daredevils</td>\n",
              "      <td>Royal Challengers Bangalore</td>\n",
              "      <td>Royal Challengers Bangalore</td>\n",
              "      <td>field</td>\n",
              "      <td>Royal Challengers Bangalore</td>\n",
              "      <td>N</td>\n",
              "      <td>Aleem Dar</td>\n",
              "      <td>S Ravi</td>\n",
              "    </tr>\n",
              "  </tbody>\n",
              "</table>\n",
              "</div>"
            ],
            "text/plain": [
              "        city        date                    venue  ...  eliminator    umpire1 umpire2\n",
              "399  Sharjah  2014-04-17  Sharjah Cricket Stadium  ...           N  Aleem Dar  S Ravi\n",
              "\n",
              "[1 rows x 12 columns]"
            ]
          },
          "metadata": {
            "tags": []
          },
          "execution_count": 237
        }
      ]
    },
    {
      "cell_type": "code",
      "metadata": {
        "colab": {
          "base_uri": "https://localhost:8080/",
          "height": 504
        },
        "id": "33didd4e6xcY",
        "outputId": "2c2d5dca-3b8d-48e8-f30c-a644f3d96e9c"
      },
      "source": [
        "ipl_3[(ipl_3['city'].isnull() == True) & (ipl_3['venue'] == 'Dubai International Cricket Stadium')]"
      ],
      "execution_count": 238,
      "outputs": [
        {
          "output_type": "execute_result",
          "data": {
            "text/html": [
              "<div>\n",
              "<style scoped>\n",
              "    .dataframe tbody tr th:only-of-type {\n",
              "        vertical-align: middle;\n",
              "    }\n",
              "\n",
              "    .dataframe tbody tr th {\n",
              "        vertical-align: top;\n",
              "    }\n",
              "\n",
              "    .dataframe thead th {\n",
              "        text-align: right;\n",
              "    }\n",
              "</style>\n",
              "<table border=\"1\" class=\"dataframe\">\n",
              "  <thead>\n",
              "    <tr style=\"text-align: right;\">\n",
              "      <th></th>\n",
              "      <th>city</th>\n",
              "      <th>date</th>\n",
              "      <th>venue</th>\n",
              "      <th>neutral_venue</th>\n",
              "      <th>team1</th>\n",
              "      <th>team2</th>\n",
              "      <th>toss_winner</th>\n",
              "      <th>toss_decision</th>\n",
              "      <th>winner</th>\n",
              "      <th>eliminator</th>\n",
              "      <th>umpire1</th>\n",
              "      <th>umpire2</th>\n",
              "    </tr>\n",
              "  </thead>\n",
              "  <tbody>\n",
              "    <tr>\n",
              "      <th>402</th>\n",
              "      <td>NaN</td>\n",
              "      <td>2014-04-19</td>\n",
              "      <td>Dubai International Cricket Stadium</td>\n",
              "      <td>1</td>\n",
              "      <td>Royal Challengers Bangalore</td>\n",
              "      <td>Mumbai Indians</td>\n",
              "      <td>Royal Challengers Bangalore</td>\n",
              "      <td>field</td>\n",
              "      <td>Royal Challengers Bangalore</td>\n",
              "      <td>N</td>\n",
              "      <td>Aleem Dar</td>\n",
              "      <td>AK Chaudhary</td>\n",
              "    </tr>\n",
              "    <tr>\n",
              "      <th>403</th>\n",
              "      <td>NaN</td>\n",
              "      <td>2014-04-19</td>\n",
              "      <td>Dubai International Cricket Stadium</td>\n",
              "      <td>1</td>\n",
              "      <td>Kolkata Knight Riders</td>\n",
              "      <td>Delhi Daredevils</td>\n",
              "      <td>Kolkata Knight Riders</td>\n",
              "      <td>bat</td>\n",
              "      <td>Delhi Daredevils</td>\n",
              "      <td>N</td>\n",
              "      <td>Aleem Dar</td>\n",
              "      <td>VA Kulkarni</td>\n",
              "    </tr>\n",
              "    <tr>\n",
              "      <th>407</th>\n",
              "      <td>NaN</td>\n",
              "      <td>2014-04-23</td>\n",
              "      <td>Dubai International Cricket Stadium</td>\n",
              "      <td>1</td>\n",
              "      <td>Rajasthan Royals</td>\n",
              "      <td>Chennai Super Kings</td>\n",
              "      <td>Rajasthan Royals</td>\n",
              "      <td>field</td>\n",
              "      <td>Chennai Super Kings</td>\n",
              "      <td>N</td>\n",
              "      <td>HDPK Dharmasena</td>\n",
              "      <td>RK Illingworth</td>\n",
              "    </tr>\n",
              "    <tr>\n",
              "      <th>409</th>\n",
              "      <td>NaN</td>\n",
              "      <td>2014-04-25</td>\n",
              "      <td>Dubai International Cricket Stadium</td>\n",
              "      <td>1</td>\n",
              "      <td>Sunrisers Hyderabad</td>\n",
              "      <td>Delhi Daredevils</td>\n",
              "      <td>Sunrisers Hyderabad</td>\n",
              "      <td>bat</td>\n",
              "      <td>Sunrisers Hyderabad</td>\n",
              "      <td>N</td>\n",
              "      <td>M Erasmus</td>\n",
              "      <td>S Ravi</td>\n",
              "    </tr>\n",
              "    <tr>\n",
              "      <th>410</th>\n",
              "      <td>NaN</td>\n",
              "      <td>2014-04-25</td>\n",
              "      <td>Dubai International Cricket Stadium</td>\n",
              "      <td>1</td>\n",
              "      <td>Chennai Super Kings</td>\n",
              "      <td>Mumbai Indians</td>\n",
              "      <td>Mumbai Indians</td>\n",
              "      <td>bat</td>\n",
              "      <td>Chennai Super Kings</td>\n",
              "      <td>N</td>\n",
              "      <td>BF Bowden</td>\n",
              "      <td>M Erasmus</td>\n",
              "    </tr>\n",
              "    <tr>\n",
              "      <th>415</th>\n",
              "      <td>NaN</td>\n",
              "      <td>2014-04-28</td>\n",
              "      <td>Dubai International Cricket Stadium</td>\n",
              "      <td>1</td>\n",
              "      <td>Kings XI Punjab</td>\n",
              "      <td>Royal Challengers Bangalore</td>\n",
              "      <td>Kings XI Punjab</td>\n",
              "      <td>field</td>\n",
              "      <td>Kings XI Punjab</td>\n",
              "      <td>N</td>\n",
              "      <td>BF Bowden</td>\n",
              "      <td>S Ravi</td>\n",
              "    </tr>\n",
              "    <tr>\n",
              "      <th>417</th>\n",
              "      <td>NaN</td>\n",
              "      <td>2014-04-30</td>\n",
              "      <td>Dubai International Cricket Stadium</td>\n",
              "      <td>1</td>\n",
              "      <td>Mumbai Indians</td>\n",
              "      <td>Sunrisers Hyderabad</td>\n",
              "      <td>Mumbai Indians</td>\n",
              "      <td>field</td>\n",
              "      <td>Sunrisers Hyderabad</td>\n",
              "      <td>N</td>\n",
              "      <td>HDPK Dharmasena</td>\n",
              "      <td>M Erasmus</td>\n",
              "    </tr>\n",
              "  </tbody>\n",
              "</table>\n",
              "</div>"
            ],
            "text/plain": [
              "    city        date  ...          umpire1         umpire2\n",
              "402  NaN  2014-04-19  ...        Aleem Dar    AK Chaudhary\n",
              "403  NaN  2014-04-19  ...        Aleem Dar     VA Kulkarni\n",
              "407  NaN  2014-04-23  ...  HDPK Dharmasena  RK Illingworth\n",
              "409  NaN  2014-04-25  ...        M Erasmus          S Ravi\n",
              "410  NaN  2014-04-25  ...        BF Bowden       M Erasmus\n",
              "415  NaN  2014-04-28  ...        BF Bowden          S Ravi\n",
              "417  NaN  2014-04-30  ...  HDPK Dharmasena       M Erasmus\n",
              "\n",
              "[7 rows x 12 columns]"
            ]
          },
          "metadata": {
            "tags": []
          },
          "execution_count": 238
        }
      ]
    },
    {
      "cell_type": "code",
      "metadata": {
        "colab": {
          "base_uri": "https://localhost:8080/",
          "height": 97
        },
        "id": "QS1LHcdxRdvu",
        "outputId": "8c88dd51-c132-46c2-8049-83dc7fdc2f14"
      },
      "source": [
        "ipl_3['city'] = np.where((ipl_3['city'].isnull() == True) & (ipl_3['venue'] == 'Dubai International Cricket Stadium'), 'Dubai', ipl_3['city'])\n",
        "ipl_3[ipl_3.index == 407]"
      ],
      "execution_count": 239,
      "outputs": [
        {
          "output_type": "execute_result",
          "data": {
            "text/html": [
              "<div>\n",
              "<style scoped>\n",
              "    .dataframe tbody tr th:only-of-type {\n",
              "        vertical-align: middle;\n",
              "    }\n",
              "\n",
              "    .dataframe tbody tr th {\n",
              "        vertical-align: top;\n",
              "    }\n",
              "\n",
              "    .dataframe thead th {\n",
              "        text-align: right;\n",
              "    }\n",
              "</style>\n",
              "<table border=\"1\" class=\"dataframe\">\n",
              "  <thead>\n",
              "    <tr style=\"text-align: right;\">\n",
              "      <th></th>\n",
              "      <th>city</th>\n",
              "      <th>date</th>\n",
              "      <th>venue</th>\n",
              "      <th>neutral_venue</th>\n",
              "      <th>team1</th>\n",
              "      <th>team2</th>\n",
              "      <th>toss_winner</th>\n",
              "      <th>toss_decision</th>\n",
              "      <th>winner</th>\n",
              "      <th>eliminator</th>\n",
              "      <th>umpire1</th>\n",
              "      <th>umpire2</th>\n",
              "    </tr>\n",
              "  </thead>\n",
              "  <tbody>\n",
              "    <tr>\n",
              "      <th>407</th>\n",
              "      <td>Dubai</td>\n",
              "      <td>2014-04-23</td>\n",
              "      <td>Dubai International Cricket Stadium</td>\n",
              "      <td>1</td>\n",
              "      <td>Rajasthan Royals</td>\n",
              "      <td>Chennai Super Kings</td>\n",
              "      <td>Rajasthan Royals</td>\n",
              "      <td>field</td>\n",
              "      <td>Chennai Super Kings</td>\n",
              "      <td>N</td>\n",
              "      <td>HDPK Dharmasena</td>\n",
              "      <td>RK Illingworth</td>\n",
              "    </tr>\n",
              "  </tbody>\n",
              "</table>\n",
              "</div>"
            ],
            "text/plain": [
              "      city        date  ...          umpire1         umpire2\n",
              "407  Dubai  2014-04-23  ...  HDPK Dharmasena  RK Illingworth\n",
              "\n",
              "[1 rows x 12 columns]"
            ]
          },
          "metadata": {
            "tags": []
          },
          "execution_count": 239
        }
      ]
    },
    {
      "cell_type": "code",
      "metadata": {
        "colab": {
          "base_uri": "https://localhost:8080/"
        },
        "id": "LZPRJjcB2_o_",
        "outputId": "15ff5321-5158-44ea-8e7c-88fe844657bd"
      },
      "source": [
        "ipl_3.info()"
      ],
      "execution_count": 240,
      "outputs": [
        {
          "output_type": "stream",
          "text": [
            "<class 'pandas.core.frame.DataFrame'>\n",
            "Int64Index: 816 entries, 0 to 815\n",
            "Data columns (total 12 columns):\n",
            " #   Column         Non-Null Count  Dtype \n",
            "---  ------         --------------  ----- \n",
            " 0   city           816 non-null    object\n",
            " 1   date           816 non-null    object\n",
            " 2   venue          816 non-null    object\n",
            " 3   neutral_venue  816 non-null    int64 \n",
            " 4   team1          816 non-null    object\n",
            " 5   team2          816 non-null    object\n",
            " 6   toss_winner    816 non-null    object\n",
            " 7   toss_decision  816 non-null    object\n",
            " 8   winner         816 non-null    object\n",
            " 9   eliminator     816 non-null    object\n",
            " 10  umpire1        816 non-null    object\n",
            " 11  umpire2        816 non-null    object\n",
            "dtypes: int64(1), object(11)\n",
            "memory usage: 82.9+ KB\n"
          ],
          "name": "stdout"
        }
      ]
    },
    {
      "cell_type": "code",
      "metadata": {
        "colab": {
          "base_uri": "https://localhost:8080/"
        },
        "id": "Aq6U4tWu3M1O",
        "outputId": "7a2f23b1-56be-4c74-c9e3-6399f66b97c7"
      },
      "source": [
        "ipl_3['date'] = pd.to_datetime(ipl_3['date'])\n",
        "ipl_3['year'] = ipl_3['date'].dt.year\n",
        "ipl_3['month'] = ipl_3['date'].dt.month\n",
        "ipl_3['day'] = ipl_3['date'].dt.day\n",
        "ipl_3.info()"
      ],
      "execution_count": 241,
      "outputs": [
        {
          "output_type": "stream",
          "text": [
            "<class 'pandas.core.frame.DataFrame'>\n",
            "Int64Index: 816 entries, 0 to 815\n",
            "Data columns (total 15 columns):\n",
            " #   Column         Non-Null Count  Dtype         \n",
            "---  ------         --------------  -----         \n",
            " 0   city           816 non-null    object        \n",
            " 1   date           816 non-null    datetime64[ns]\n",
            " 2   venue          816 non-null    object        \n",
            " 3   neutral_venue  816 non-null    int64         \n",
            " 4   team1          816 non-null    object        \n",
            " 5   team2          816 non-null    object        \n",
            " 6   toss_winner    816 non-null    object        \n",
            " 7   toss_decision  816 non-null    object        \n",
            " 8   winner         816 non-null    object        \n",
            " 9   eliminator     816 non-null    object        \n",
            " 10  umpire1        816 non-null    object        \n",
            " 11  umpire2        816 non-null    object        \n",
            " 12  year           816 non-null    int64         \n",
            " 13  month          816 non-null    int64         \n",
            " 14  day            816 non-null    int64         \n",
            "dtypes: datetime64[ns](1), int64(4), object(10)\n",
            "memory usage: 102.0+ KB\n"
          ],
          "name": "stdout"
        }
      ]
    },
    {
      "cell_type": "code",
      "metadata": {
        "colab": {
          "base_uri": "https://localhost:8080/"
        },
        "id": "qc_j8A4k4Ij-",
        "outputId": "7492809a-120a-4ebd-f802-c025fbd5eaf0"
      },
      "source": [
        "print(min(ipl_3['date']))\n",
        "print(max(ipl_3['date']))"
      ],
      "execution_count": 242,
      "outputs": [
        {
          "output_type": "stream",
          "text": [
            "2008-04-18 00:00:00\n",
            "2020-11-10 00:00:00\n"
          ],
          "name": "stdout"
        }
      ]
    },
    {
      "cell_type": "code",
      "metadata": {
        "colab": {
          "base_uri": "https://localhost:8080/",
          "height": 830
        },
        "id": "oEMKD96a4E1R",
        "outputId": "c2bbeb20-3007-4f1f-c449-4f5e0b567c35"
      },
      "source": [
        "ipl_4 = ipl_3\n",
        "ipl_4 = ipl_4.drop(['date'], axis = 1)\n",
        "ipl_4"
      ],
      "execution_count": 243,
      "outputs": [
        {
          "output_type": "execute_result",
          "data": {
            "text/html": [
              "<div>\n",
              "<style scoped>\n",
              "    .dataframe tbody tr th:only-of-type {\n",
              "        vertical-align: middle;\n",
              "    }\n",
              "\n",
              "    .dataframe tbody tr th {\n",
              "        vertical-align: top;\n",
              "    }\n",
              "\n",
              "    .dataframe thead th {\n",
              "        text-align: right;\n",
              "    }\n",
              "</style>\n",
              "<table border=\"1\" class=\"dataframe\">\n",
              "  <thead>\n",
              "    <tr style=\"text-align: right;\">\n",
              "      <th></th>\n",
              "      <th>city</th>\n",
              "      <th>venue</th>\n",
              "      <th>neutral_venue</th>\n",
              "      <th>team1</th>\n",
              "      <th>team2</th>\n",
              "      <th>toss_winner</th>\n",
              "      <th>toss_decision</th>\n",
              "      <th>winner</th>\n",
              "      <th>eliminator</th>\n",
              "      <th>umpire1</th>\n",
              "      <th>umpire2</th>\n",
              "      <th>year</th>\n",
              "      <th>month</th>\n",
              "      <th>day</th>\n",
              "    </tr>\n",
              "  </thead>\n",
              "  <tbody>\n",
              "    <tr>\n",
              "      <th>0</th>\n",
              "      <td>Bangalore</td>\n",
              "      <td>M. Chinnaswamy Stadium</td>\n",
              "      <td>0</td>\n",
              "      <td>Royal Challengers Bangalore</td>\n",
              "      <td>Kolkata Knight Riders</td>\n",
              "      <td>Royal Challengers Bangalore</td>\n",
              "      <td>field</td>\n",
              "      <td>Kolkata Knight Riders</td>\n",
              "      <td>N</td>\n",
              "      <td>Asad Rauf</td>\n",
              "      <td>RE Koertzen</td>\n",
              "      <td>2008</td>\n",
              "      <td>4</td>\n",
              "      <td>18</td>\n",
              "    </tr>\n",
              "    <tr>\n",
              "      <th>1</th>\n",
              "      <td>Chandigarh</td>\n",
              "      <td>Punjab Cricket Association IS Bindra Stadium, ...</td>\n",
              "      <td>0</td>\n",
              "      <td>Kings XI Punjab</td>\n",
              "      <td>Chennai Super Kings</td>\n",
              "      <td>Chennai Super Kings</td>\n",
              "      <td>bat</td>\n",
              "      <td>Chennai Super Kings</td>\n",
              "      <td>N</td>\n",
              "      <td>MR Benson</td>\n",
              "      <td>SL Shastri</td>\n",
              "      <td>2008</td>\n",
              "      <td>4</td>\n",
              "      <td>19</td>\n",
              "    </tr>\n",
              "    <tr>\n",
              "      <th>2</th>\n",
              "      <td>Delhi</td>\n",
              "      <td>Feroz Shah Kotla</td>\n",
              "      <td>0</td>\n",
              "      <td>Delhi Daredevils</td>\n",
              "      <td>Rajasthan Royals</td>\n",
              "      <td>Rajasthan Royals</td>\n",
              "      <td>bat</td>\n",
              "      <td>Delhi Daredevils</td>\n",
              "      <td>N</td>\n",
              "      <td>Aleem Dar</td>\n",
              "      <td>GA Pratapkumar</td>\n",
              "      <td>2008</td>\n",
              "      <td>4</td>\n",
              "      <td>19</td>\n",
              "    </tr>\n",
              "    <tr>\n",
              "      <th>3</th>\n",
              "      <td>Mumbai</td>\n",
              "      <td>Wankhede Stadium</td>\n",
              "      <td>0</td>\n",
              "      <td>Mumbai Indians</td>\n",
              "      <td>Royal Challengers Bangalore</td>\n",
              "      <td>Mumbai Indians</td>\n",
              "      <td>bat</td>\n",
              "      <td>Royal Challengers Bangalore</td>\n",
              "      <td>N</td>\n",
              "      <td>SJ Davis</td>\n",
              "      <td>DJ Harper</td>\n",
              "      <td>2008</td>\n",
              "      <td>4</td>\n",
              "      <td>20</td>\n",
              "    </tr>\n",
              "    <tr>\n",
              "      <th>4</th>\n",
              "      <td>Kolkata</td>\n",
              "      <td>Eden Gardens</td>\n",
              "      <td>0</td>\n",
              "      <td>Kolkata Knight Riders</td>\n",
              "      <td>Deccan Chargers</td>\n",
              "      <td>Deccan Chargers</td>\n",
              "      <td>bat</td>\n",
              "      <td>Kolkata Knight Riders</td>\n",
              "      <td>N</td>\n",
              "      <td>BF Bowden</td>\n",
              "      <td>K Hariharan</td>\n",
              "      <td>2008</td>\n",
              "      <td>4</td>\n",
              "      <td>20</td>\n",
              "    </tr>\n",
              "    <tr>\n",
              "      <th>...</th>\n",
              "      <td>...</td>\n",
              "      <td>...</td>\n",
              "      <td>...</td>\n",
              "      <td>...</td>\n",
              "      <td>...</td>\n",
              "      <td>...</td>\n",
              "      <td>...</td>\n",
              "      <td>...</td>\n",
              "      <td>...</td>\n",
              "      <td>...</td>\n",
              "      <td>...</td>\n",
              "      <td>...</td>\n",
              "      <td>...</td>\n",
              "      <td>...</td>\n",
              "    </tr>\n",
              "    <tr>\n",
              "      <th>811</th>\n",
              "      <td>Dubai</td>\n",
              "      <td>Dubai International Cricket Stadium</td>\n",
              "      <td>0</td>\n",
              "      <td>Royal Challengers Bangalore</td>\n",
              "      <td>Mumbai Indians</td>\n",
              "      <td>Mumbai Indians</td>\n",
              "      <td>field</td>\n",
              "      <td>Royal Challengers Bangalore</td>\n",
              "      <td>Y</td>\n",
              "      <td>Nitin Menon</td>\n",
              "      <td>PR Reiffel</td>\n",
              "      <td>2020</td>\n",
              "      <td>9</td>\n",
              "      <td>28</td>\n",
              "    </tr>\n",
              "    <tr>\n",
              "      <th>812</th>\n",
              "      <td>Dubai</td>\n",
              "      <td>Dubai International Cricket Stadium</td>\n",
              "      <td>0</td>\n",
              "      <td>Mumbai Indians</td>\n",
              "      <td>Delhi Capitals</td>\n",
              "      <td>Delhi Capitals</td>\n",
              "      <td>field</td>\n",
              "      <td>Mumbai Indians</td>\n",
              "      <td>N</td>\n",
              "      <td>CB Gaffaney</td>\n",
              "      <td>Nitin Menon</td>\n",
              "      <td>2020</td>\n",
              "      <td>11</td>\n",
              "      <td>5</td>\n",
              "    </tr>\n",
              "    <tr>\n",
              "      <th>813</th>\n",
              "      <td>Abu Dhabi</td>\n",
              "      <td>Sheikh Zayed Stadium</td>\n",
              "      <td>0</td>\n",
              "      <td>Royal Challengers Bangalore</td>\n",
              "      <td>Sunrisers Hyderabad</td>\n",
              "      <td>Sunrisers Hyderabad</td>\n",
              "      <td>field</td>\n",
              "      <td>Sunrisers Hyderabad</td>\n",
              "      <td>N</td>\n",
              "      <td>PR Reiffel</td>\n",
              "      <td>S Ravi</td>\n",
              "      <td>2020</td>\n",
              "      <td>11</td>\n",
              "      <td>6</td>\n",
              "    </tr>\n",
              "    <tr>\n",
              "      <th>814</th>\n",
              "      <td>Abu Dhabi</td>\n",
              "      <td>Sheikh Zayed Stadium</td>\n",
              "      <td>0</td>\n",
              "      <td>Delhi Capitals</td>\n",
              "      <td>Sunrisers Hyderabad</td>\n",
              "      <td>Delhi Capitals</td>\n",
              "      <td>bat</td>\n",
              "      <td>Delhi Capitals</td>\n",
              "      <td>N</td>\n",
              "      <td>PR Reiffel</td>\n",
              "      <td>S Ravi</td>\n",
              "      <td>2020</td>\n",
              "      <td>11</td>\n",
              "      <td>8</td>\n",
              "    </tr>\n",
              "    <tr>\n",
              "      <th>815</th>\n",
              "      <td>Dubai</td>\n",
              "      <td>Dubai International Cricket Stadium</td>\n",
              "      <td>0</td>\n",
              "      <td>Delhi Capitals</td>\n",
              "      <td>Mumbai Indians</td>\n",
              "      <td>Delhi Capitals</td>\n",
              "      <td>bat</td>\n",
              "      <td>Mumbai Indians</td>\n",
              "      <td>N</td>\n",
              "      <td>CB Gaffaney</td>\n",
              "      <td>Nitin Menon</td>\n",
              "      <td>2020</td>\n",
              "      <td>11</td>\n",
              "      <td>10</td>\n",
              "    </tr>\n",
              "  </tbody>\n",
              "</table>\n",
              "<p>816 rows × 14 columns</p>\n",
              "</div>"
            ],
            "text/plain": [
              "           city                                              venue  ...  month day\n",
              "0     Bangalore                             M. Chinnaswamy Stadium  ...      4  18\n",
              "1    Chandigarh  Punjab Cricket Association IS Bindra Stadium, ...  ...      4  19\n",
              "2         Delhi                                   Feroz Shah Kotla  ...      4  19\n",
              "3        Mumbai                                   Wankhede Stadium  ...      4  20\n",
              "4       Kolkata                                       Eden Gardens  ...      4  20\n",
              "..          ...                                                ...  ...    ...  ..\n",
              "811       Dubai                Dubai International Cricket Stadium  ...      9  28\n",
              "812       Dubai                Dubai International Cricket Stadium  ...     11   5\n",
              "813   Abu Dhabi                               Sheikh Zayed Stadium  ...     11   6\n",
              "814   Abu Dhabi                               Sheikh Zayed Stadium  ...     11   8\n",
              "815       Dubai                Dubai International Cricket Stadium  ...     11  10\n",
              "\n",
              "[816 rows x 14 columns]"
            ]
          },
          "metadata": {
            "tags": []
          },
          "execution_count": 243
        }
      ]
    },
    {
      "cell_type": "code",
      "metadata": {
        "colab": {
          "base_uri": "https://localhost:8080/"
        },
        "id": "TsTpPNds4nmH",
        "outputId": "4013062b-2e07-472b-bc26-5d57809e465e"
      },
      "source": [
        "ipl_4.columns"
      ],
      "execution_count": 244,
      "outputs": [
        {
          "output_type": "execute_result",
          "data": {
            "text/plain": [
              "Index(['city', 'venue', 'neutral_venue', 'team1', 'team2', 'toss_winner',\n",
              "       'toss_decision', 'winner', 'eliminator', 'umpire1', 'umpire2', 'year',\n",
              "       'month', 'day'],\n",
              "      dtype='object')"
            ]
          },
          "metadata": {
            "tags": []
          },
          "execution_count": 244
        }
      ]
    },
    {
      "cell_type": "code",
      "metadata": {
        "colab": {
          "base_uri": "https://localhost:8080/",
          "height": 830
        },
        "id": "IENB1m-r4ZRF",
        "outputId": "99746972-88a4-4c5a-e042-a7da6a628706"
      },
      "source": [
        "ipl_4 = ipl_4[['year', 'month', 'day', 'city', 'venue', 'neutral_venue', 'team1', 'team2', 'toss_winner',\n",
        "       'toss_decision', 'winner', 'eliminator', 'umpire1', 'umpire2']]\n",
        "ipl_4"
      ],
      "execution_count": 245,
      "outputs": [
        {
          "output_type": "execute_result",
          "data": {
            "text/html": [
              "<div>\n",
              "<style scoped>\n",
              "    .dataframe tbody tr th:only-of-type {\n",
              "        vertical-align: middle;\n",
              "    }\n",
              "\n",
              "    .dataframe tbody tr th {\n",
              "        vertical-align: top;\n",
              "    }\n",
              "\n",
              "    .dataframe thead th {\n",
              "        text-align: right;\n",
              "    }\n",
              "</style>\n",
              "<table border=\"1\" class=\"dataframe\">\n",
              "  <thead>\n",
              "    <tr style=\"text-align: right;\">\n",
              "      <th></th>\n",
              "      <th>year</th>\n",
              "      <th>month</th>\n",
              "      <th>day</th>\n",
              "      <th>city</th>\n",
              "      <th>venue</th>\n",
              "      <th>neutral_venue</th>\n",
              "      <th>team1</th>\n",
              "      <th>team2</th>\n",
              "      <th>toss_winner</th>\n",
              "      <th>toss_decision</th>\n",
              "      <th>winner</th>\n",
              "      <th>eliminator</th>\n",
              "      <th>umpire1</th>\n",
              "      <th>umpire2</th>\n",
              "    </tr>\n",
              "  </thead>\n",
              "  <tbody>\n",
              "    <tr>\n",
              "      <th>0</th>\n",
              "      <td>2008</td>\n",
              "      <td>4</td>\n",
              "      <td>18</td>\n",
              "      <td>Bangalore</td>\n",
              "      <td>M. Chinnaswamy Stadium</td>\n",
              "      <td>0</td>\n",
              "      <td>Royal Challengers Bangalore</td>\n",
              "      <td>Kolkata Knight Riders</td>\n",
              "      <td>Royal Challengers Bangalore</td>\n",
              "      <td>field</td>\n",
              "      <td>Kolkata Knight Riders</td>\n",
              "      <td>N</td>\n",
              "      <td>Asad Rauf</td>\n",
              "      <td>RE Koertzen</td>\n",
              "    </tr>\n",
              "    <tr>\n",
              "      <th>1</th>\n",
              "      <td>2008</td>\n",
              "      <td>4</td>\n",
              "      <td>19</td>\n",
              "      <td>Chandigarh</td>\n",
              "      <td>Punjab Cricket Association IS Bindra Stadium, ...</td>\n",
              "      <td>0</td>\n",
              "      <td>Kings XI Punjab</td>\n",
              "      <td>Chennai Super Kings</td>\n",
              "      <td>Chennai Super Kings</td>\n",
              "      <td>bat</td>\n",
              "      <td>Chennai Super Kings</td>\n",
              "      <td>N</td>\n",
              "      <td>MR Benson</td>\n",
              "      <td>SL Shastri</td>\n",
              "    </tr>\n",
              "    <tr>\n",
              "      <th>2</th>\n",
              "      <td>2008</td>\n",
              "      <td>4</td>\n",
              "      <td>19</td>\n",
              "      <td>Delhi</td>\n",
              "      <td>Feroz Shah Kotla</td>\n",
              "      <td>0</td>\n",
              "      <td>Delhi Daredevils</td>\n",
              "      <td>Rajasthan Royals</td>\n",
              "      <td>Rajasthan Royals</td>\n",
              "      <td>bat</td>\n",
              "      <td>Delhi Daredevils</td>\n",
              "      <td>N</td>\n",
              "      <td>Aleem Dar</td>\n",
              "      <td>GA Pratapkumar</td>\n",
              "    </tr>\n",
              "    <tr>\n",
              "      <th>3</th>\n",
              "      <td>2008</td>\n",
              "      <td>4</td>\n",
              "      <td>20</td>\n",
              "      <td>Mumbai</td>\n",
              "      <td>Wankhede Stadium</td>\n",
              "      <td>0</td>\n",
              "      <td>Mumbai Indians</td>\n",
              "      <td>Royal Challengers Bangalore</td>\n",
              "      <td>Mumbai Indians</td>\n",
              "      <td>bat</td>\n",
              "      <td>Royal Challengers Bangalore</td>\n",
              "      <td>N</td>\n",
              "      <td>SJ Davis</td>\n",
              "      <td>DJ Harper</td>\n",
              "    </tr>\n",
              "    <tr>\n",
              "      <th>4</th>\n",
              "      <td>2008</td>\n",
              "      <td>4</td>\n",
              "      <td>20</td>\n",
              "      <td>Kolkata</td>\n",
              "      <td>Eden Gardens</td>\n",
              "      <td>0</td>\n",
              "      <td>Kolkata Knight Riders</td>\n",
              "      <td>Deccan Chargers</td>\n",
              "      <td>Deccan Chargers</td>\n",
              "      <td>bat</td>\n",
              "      <td>Kolkata Knight Riders</td>\n",
              "      <td>N</td>\n",
              "      <td>BF Bowden</td>\n",
              "      <td>K Hariharan</td>\n",
              "    </tr>\n",
              "    <tr>\n",
              "      <th>...</th>\n",
              "      <td>...</td>\n",
              "      <td>...</td>\n",
              "      <td>...</td>\n",
              "      <td>...</td>\n",
              "      <td>...</td>\n",
              "      <td>...</td>\n",
              "      <td>...</td>\n",
              "      <td>...</td>\n",
              "      <td>...</td>\n",
              "      <td>...</td>\n",
              "      <td>...</td>\n",
              "      <td>...</td>\n",
              "      <td>...</td>\n",
              "      <td>...</td>\n",
              "    </tr>\n",
              "    <tr>\n",
              "      <th>811</th>\n",
              "      <td>2020</td>\n",
              "      <td>9</td>\n",
              "      <td>28</td>\n",
              "      <td>Dubai</td>\n",
              "      <td>Dubai International Cricket Stadium</td>\n",
              "      <td>0</td>\n",
              "      <td>Royal Challengers Bangalore</td>\n",
              "      <td>Mumbai Indians</td>\n",
              "      <td>Mumbai Indians</td>\n",
              "      <td>field</td>\n",
              "      <td>Royal Challengers Bangalore</td>\n",
              "      <td>Y</td>\n",
              "      <td>Nitin Menon</td>\n",
              "      <td>PR Reiffel</td>\n",
              "    </tr>\n",
              "    <tr>\n",
              "      <th>812</th>\n",
              "      <td>2020</td>\n",
              "      <td>11</td>\n",
              "      <td>5</td>\n",
              "      <td>Dubai</td>\n",
              "      <td>Dubai International Cricket Stadium</td>\n",
              "      <td>0</td>\n",
              "      <td>Mumbai Indians</td>\n",
              "      <td>Delhi Capitals</td>\n",
              "      <td>Delhi Capitals</td>\n",
              "      <td>field</td>\n",
              "      <td>Mumbai Indians</td>\n",
              "      <td>N</td>\n",
              "      <td>CB Gaffaney</td>\n",
              "      <td>Nitin Menon</td>\n",
              "    </tr>\n",
              "    <tr>\n",
              "      <th>813</th>\n",
              "      <td>2020</td>\n",
              "      <td>11</td>\n",
              "      <td>6</td>\n",
              "      <td>Abu Dhabi</td>\n",
              "      <td>Sheikh Zayed Stadium</td>\n",
              "      <td>0</td>\n",
              "      <td>Royal Challengers Bangalore</td>\n",
              "      <td>Sunrisers Hyderabad</td>\n",
              "      <td>Sunrisers Hyderabad</td>\n",
              "      <td>field</td>\n",
              "      <td>Sunrisers Hyderabad</td>\n",
              "      <td>N</td>\n",
              "      <td>PR Reiffel</td>\n",
              "      <td>S Ravi</td>\n",
              "    </tr>\n",
              "    <tr>\n",
              "      <th>814</th>\n",
              "      <td>2020</td>\n",
              "      <td>11</td>\n",
              "      <td>8</td>\n",
              "      <td>Abu Dhabi</td>\n",
              "      <td>Sheikh Zayed Stadium</td>\n",
              "      <td>0</td>\n",
              "      <td>Delhi Capitals</td>\n",
              "      <td>Sunrisers Hyderabad</td>\n",
              "      <td>Delhi Capitals</td>\n",
              "      <td>bat</td>\n",
              "      <td>Delhi Capitals</td>\n",
              "      <td>N</td>\n",
              "      <td>PR Reiffel</td>\n",
              "      <td>S Ravi</td>\n",
              "    </tr>\n",
              "    <tr>\n",
              "      <th>815</th>\n",
              "      <td>2020</td>\n",
              "      <td>11</td>\n",
              "      <td>10</td>\n",
              "      <td>Dubai</td>\n",
              "      <td>Dubai International Cricket Stadium</td>\n",
              "      <td>0</td>\n",
              "      <td>Delhi Capitals</td>\n",
              "      <td>Mumbai Indians</td>\n",
              "      <td>Delhi Capitals</td>\n",
              "      <td>bat</td>\n",
              "      <td>Mumbai Indians</td>\n",
              "      <td>N</td>\n",
              "      <td>CB Gaffaney</td>\n",
              "      <td>Nitin Menon</td>\n",
              "    </tr>\n",
              "  </tbody>\n",
              "</table>\n",
              "<p>816 rows × 14 columns</p>\n",
              "</div>"
            ],
            "text/plain": [
              "     year  month  day  ... eliminator      umpire1         umpire2\n",
              "0    2008      4   18  ...          N    Asad Rauf     RE Koertzen\n",
              "1    2008      4   19  ...          N    MR Benson      SL Shastri\n",
              "2    2008      4   19  ...          N    Aleem Dar  GA Pratapkumar\n",
              "3    2008      4   20  ...          N     SJ Davis       DJ Harper\n",
              "4    2008      4   20  ...          N    BF Bowden     K Hariharan\n",
              "..    ...    ...  ...  ...        ...          ...             ...\n",
              "811  2020      9   28  ...          Y  Nitin Menon      PR Reiffel\n",
              "812  2020     11    5  ...          N  CB Gaffaney     Nitin Menon\n",
              "813  2020     11    6  ...          N   PR Reiffel          S Ravi\n",
              "814  2020     11    8  ...          N   PR Reiffel          S Ravi\n",
              "815  2020     11   10  ...          N  CB Gaffaney     Nitin Menon\n",
              "\n",
              "[816 rows x 14 columns]"
            ]
          },
          "metadata": {
            "tags": []
          },
          "execution_count": 245
        }
      ]
    },
    {
      "cell_type": "code",
      "metadata": {
        "colab": {
          "base_uri": "https://localhost:8080/"
        },
        "id": "pX4-cy4nj5ZP",
        "outputId": "403439d2-1dcc-4c7b-c511-bbd07e02af9b"
      },
      "source": [
        "ipl_4.columns"
      ],
      "execution_count": 246,
      "outputs": [
        {
          "output_type": "execute_result",
          "data": {
            "text/plain": [
              "Index(['year', 'month', 'day', 'city', 'venue', 'neutral_venue', 'team1',\n",
              "       'team2', 'toss_winner', 'toss_decision', 'winner', 'eliminator',\n",
              "       'umpire1', 'umpire2'],\n",
              "      dtype='object')"
            ]
          },
          "metadata": {
            "tags": []
          },
          "execution_count": 246
        }
      ]
    },
    {
      "cell_type": "code",
      "metadata": {
        "colab": {
          "base_uri": "https://localhost:8080/"
        },
        "id": "dVswlTCQjHbH",
        "outputId": "76bf2ee9-e5fe-4055-adc4-ae23d11fa0d6"
      },
      "source": [
        "ipl_4['team1'].sort_values().unique()"
      ],
      "execution_count": 247,
      "outputs": [
        {
          "output_type": "execute_result",
          "data": {
            "text/plain": [
              "array(['Chennai Super Kings', 'Deccan Chargers', 'Delhi Capitals',\n",
              "       'Delhi Daredevils', 'Gujarat Lions', 'Kings XI Punjab',\n",
              "       'Kochi Tuskers Kerala', 'Kolkata Knight Riders', 'Mumbai Indians',\n",
              "       'Pune Warriors', 'Rajasthan Royals', 'Rising Pune Supergiant',\n",
              "       'Royal Challengers Bangalore', 'Sunrisers Hyderabad'], dtype=object)"
            ]
          },
          "metadata": {
            "tags": []
          },
          "execution_count": 247
        }
      ]
    },
    {
      "cell_type": "code",
      "metadata": {
        "colab": {
          "base_uri": "https://localhost:8080/"
        },
        "id": "INSYD1TzjW9E",
        "outputId": "2c4a21cc-b124-40ca-e8fd-ca90bee6b8c3"
      },
      "source": [
        "ipl_4['team2'].sort_values().unique()"
      ],
      "execution_count": 248,
      "outputs": [
        {
          "output_type": "execute_result",
          "data": {
            "text/plain": [
              "array(['Chennai Super Kings', 'Deccan Chargers', 'Delhi Capitals',\n",
              "       'Delhi Daredevils', 'Gujarat Lions', 'Kings XI Punjab',\n",
              "       'Kochi Tuskers Kerala', 'Kolkata Knight Riders', 'Mumbai Indians',\n",
              "       'Pune Warriors', 'Rajasthan Royals', 'Rising Pune Supergiant',\n",
              "       'Royal Challengers Bangalore', 'Sunrisers Hyderabad'], dtype=object)"
            ]
          },
          "metadata": {
            "tags": []
          },
          "execution_count": 248
        }
      ]
    },
    {
      "cell_type": "code",
      "metadata": {
        "colab": {
          "base_uri": "https://localhost:8080/"
        },
        "id": "j0BA3cdFkBxX",
        "outputId": "6d35e80f-2e5b-40c1-adac-a169701c3185"
      },
      "source": [
        "ipl_4['toss_winner'].sort_values().unique()"
      ],
      "execution_count": 249,
      "outputs": [
        {
          "output_type": "execute_result",
          "data": {
            "text/plain": [
              "array(['Chennai Super Kings', 'Deccan Chargers', 'Delhi Capitals',\n",
              "       'Delhi Daredevils', 'Gujarat Lions', 'Kings XI Punjab',\n",
              "       'Kochi Tuskers Kerala', 'Kolkata Knight Riders', 'Mumbai Indians',\n",
              "       'Pune Warriors', 'Rajasthan Royals', 'Rising Pune Supergiant',\n",
              "       'Royal Challengers Bangalore', 'Sunrisers Hyderabad'], dtype=object)"
            ]
          },
          "metadata": {
            "tags": []
          },
          "execution_count": 249
        }
      ]
    },
    {
      "cell_type": "code",
      "metadata": {
        "colab": {
          "base_uri": "https://localhost:8080/"
        },
        "id": "IJRAxxqUj__n",
        "outputId": "30f1386e-7899-4389-b0e5-45da393ddef9"
      },
      "source": [
        "ipl_4['winner'].sort_values().unique()"
      ],
      "execution_count": 250,
      "outputs": [
        {
          "output_type": "execute_result",
          "data": {
            "text/plain": [
              "array(['Chennai Super Kings', 'Deccan Chargers', 'Delhi Capitals',\n",
              "       'Delhi Daredevils', 'Gujarat Lions', 'Kings XI Punjab',\n",
              "       'Kochi Tuskers Kerala', 'Kolkata Knight Riders', 'Mumbai Indians',\n",
              "       'Pune Warriors', 'Rajasthan Royals', 'Rising Pune Supergiant',\n",
              "       'Royal Challengers Bangalore', 'Sunrisers Hyderabad', 'Tie'],\n",
              "      dtype=object)"
            ]
          },
          "metadata": {
            "tags": []
          },
          "execution_count": 250
        }
      ]
    },
    {
      "cell_type": "code",
      "metadata": {
        "colab": {
          "base_uri": "https://localhost:8080/",
          "height": 830
        },
        "id": "ION0_D85mR2A",
        "outputId": "44f32073-0654-4926-be89-dc2392532f5c"
      },
      "source": [
        "ipl_5 = ipl_4\n",
        "ipl_5"
      ],
      "execution_count": 251,
      "outputs": [
        {
          "output_type": "execute_result",
          "data": {
            "text/html": [
              "<div>\n",
              "<style scoped>\n",
              "    .dataframe tbody tr th:only-of-type {\n",
              "        vertical-align: middle;\n",
              "    }\n",
              "\n",
              "    .dataframe tbody tr th {\n",
              "        vertical-align: top;\n",
              "    }\n",
              "\n",
              "    .dataframe thead th {\n",
              "        text-align: right;\n",
              "    }\n",
              "</style>\n",
              "<table border=\"1\" class=\"dataframe\">\n",
              "  <thead>\n",
              "    <tr style=\"text-align: right;\">\n",
              "      <th></th>\n",
              "      <th>year</th>\n",
              "      <th>month</th>\n",
              "      <th>day</th>\n",
              "      <th>city</th>\n",
              "      <th>venue</th>\n",
              "      <th>neutral_venue</th>\n",
              "      <th>team1</th>\n",
              "      <th>team2</th>\n",
              "      <th>toss_winner</th>\n",
              "      <th>toss_decision</th>\n",
              "      <th>winner</th>\n",
              "      <th>eliminator</th>\n",
              "      <th>umpire1</th>\n",
              "      <th>umpire2</th>\n",
              "    </tr>\n",
              "  </thead>\n",
              "  <tbody>\n",
              "    <tr>\n",
              "      <th>0</th>\n",
              "      <td>2008</td>\n",
              "      <td>4</td>\n",
              "      <td>18</td>\n",
              "      <td>Bangalore</td>\n",
              "      <td>M. Chinnaswamy Stadium</td>\n",
              "      <td>0</td>\n",
              "      <td>Royal Challengers Bangalore</td>\n",
              "      <td>Kolkata Knight Riders</td>\n",
              "      <td>Royal Challengers Bangalore</td>\n",
              "      <td>field</td>\n",
              "      <td>Kolkata Knight Riders</td>\n",
              "      <td>N</td>\n",
              "      <td>Asad Rauf</td>\n",
              "      <td>RE Koertzen</td>\n",
              "    </tr>\n",
              "    <tr>\n",
              "      <th>1</th>\n",
              "      <td>2008</td>\n",
              "      <td>4</td>\n",
              "      <td>19</td>\n",
              "      <td>Chandigarh</td>\n",
              "      <td>Punjab Cricket Association IS Bindra Stadium, ...</td>\n",
              "      <td>0</td>\n",
              "      <td>Kings XI Punjab</td>\n",
              "      <td>Chennai Super Kings</td>\n",
              "      <td>Chennai Super Kings</td>\n",
              "      <td>bat</td>\n",
              "      <td>Chennai Super Kings</td>\n",
              "      <td>N</td>\n",
              "      <td>MR Benson</td>\n",
              "      <td>SL Shastri</td>\n",
              "    </tr>\n",
              "    <tr>\n",
              "      <th>2</th>\n",
              "      <td>2008</td>\n",
              "      <td>4</td>\n",
              "      <td>19</td>\n",
              "      <td>Delhi</td>\n",
              "      <td>Feroz Shah Kotla</td>\n",
              "      <td>0</td>\n",
              "      <td>Delhi Daredevils</td>\n",
              "      <td>Rajasthan Royals</td>\n",
              "      <td>Rajasthan Royals</td>\n",
              "      <td>bat</td>\n",
              "      <td>Delhi Daredevils</td>\n",
              "      <td>N</td>\n",
              "      <td>Aleem Dar</td>\n",
              "      <td>GA Pratapkumar</td>\n",
              "    </tr>\n",
              "    <tr>\n",
              "      <th>3</th>\n",
              "      <td>2008</td>\n",
              "      <td>4</td>\n",
              "      <td>20</td>\n",
              "      <td>Mumbai</td>\n",
              "      <td>Wankhede Stadium</td>\n",
              "      <td>0</td>\n",
              "      <td>Mumbai Indians</td>\n",
              "      <td>Royal Challengers Bangalore</td>\n",
              "      <td>Mumbai Indians</td>\n",
              "      <td>bat</td>\n",
              "      <td>Royal Challengers Bangalore</td>\n",
              "      <td>N</td>\n",
              "      <td>SJ Davis</td>\n",
              "      <td>DJ Harper</td>\n",
              "    </tr>\n",
              "    <tr>\n",
              "      <th>4</th>\n",
              "      <td>2008</td>\n",
              "      <td>4</td>\n",
              "      <td>20</td>\n",
              "      <td>Kolkata</td>\n",
              "      <td>Eden Gardens</td>\n",
              "      <td>0</td>\n",
              "      <td>Kolkata Knight Riders</td>\n",
              "      <td>Deccan Chargers</td>\n",
              "      <td>Deccan Chargers</td>\n",
              "      <td>bat</td>\n",
              "      <td>Kolkata Knight Riders</td>\n",
              "      <td>N</td>\n",
              "      <td>BF Bowden</td>\n",
              "      <td>K Hariharan</td>\n",
              "    </tr>\n",
              "    <tr>\n",
              "      <th>...</th>\n",
              "      <td>...</td>\n",
              "      <td>...</td>\n",
              "      <td>...</td>\n",
              "      <td>...</td>\n",
              "      <td>...</td>\n",
              "      <td>...</td>\n",
              "      <td>...</td>\n",
              "      <td>...</td>\n",
              "      <td>...</td>\n",
              "      <td>...</td>\n",
              "      <td>...</td>\n",
              "      <td>...</td>\n",
              "      <td>...</td>\n",
              "      <td>...</td>\n",
              "    </tr>\n",
              "    <tr>\n",
              "      <th>811</th>\n",
              "      <td>2020</td>\n",
              "      <td>9</td>\n",
              "      <td>28</td>\n",
              "      <td>Dubai</td>\n",
              "      <td>Dubai International Cricket Stadium</td>\n",
              "      <td>0</td>\n",
              "      <td>Royal Challengers Bangalore</td>\n",
              "      <td>Mumbai Indians</td>\n",
              "      <td>Mumbai Indians</td>\n",
              "      <td>field</td>\n",
              "      <td>Royal Challengers Bangalore</td>\n",
              "      <td>Y</td>\n",
              "      <td>Nitin Menon</td>\n",
              "      <td>PR Reiffel</td>\n",
              "    </tr>\n",
              "    <tr>\n",
              "      <th>812</th>\n",
              "      <td>2020</td>\n",
              "      <td>11</td>\n",
              "      <td>5</td>\n",
              "      <td>Dubai</td>\n",
              "      <td>Dubai International Cricket Stadium</td>\n",
              "      <td>0</td>\n",
              "      <td>Mumbai Indians</td>\n",
              "      <td>Delhi Capitals</td>\n",
              "      <td>Delhi Capitals</td>\n",
              "      <td>field</td>\n",
              "      <td>Mumbai Indians</td>\n",
              "      <td>N</td>\n",
              "      <td>CB Gaffaney</td>\n",
              "      <td>Nitin Menon</td>\n",
              "    </tr>\n",
              "    <tr>\n",
              "      <th>813</th>\n",
              "      <td>2020</td>\n",
              "      <td>11</td>\n",
              "      <td>6</td>\n",
              "      <td>Abu Dhabi</td>\n",
              "      <td>Sheikh Zayed Stadium</td>\n",
              "      <td>0</td>\n",
              "      <td>Royal Challengers Bangalore</td>\n",
              "      <td>Sunrisers Hyderabad</td>\n",
              "      <td>Sunrisers Hyderabad</td>\n",
              "      <td>field</td>\n",
              "      <td>Sunrisers Hyderabad</td>\n",
              "      <td>N</td>\n",
              "      <td>PR Reiffel</td>\n",
              "      <td>S Ravi</td>\n",
              "    </tr>\n",
              "    <tr>\n",
              "      <th>814</th>\n",
              "      <td>2020</td>\n",
              "      <td>11</td>\n",
              "      <td>8</td>\n",
              "      <td>Abu Dhabi</td>\n",
              "      <td>Sheikh Zayed Stadium</td>\n",
              "      <td>0</td>\n",
              "      <td>Delhi Capitals</td>\n",
              "      <td>Sunrisers Hyderabad</td>\n",
              "      <td>Delhi Capitals</td>\n",
              "      <td>bat</td>\n",
              "      <td>Delhi Capitals</td>\n",
              "      <td>N</td>\n",
              "      <td>PR Reiffel</td>\n",
              "      <td>S Ravi</td>\n",
              "    </tr>\n",
              "    <tr>\n",
              "      <th>815</th>\n",
              "      <td>2020</td>\n",
              "      <td>11</td>\n",
              "      <td>10</td>\n",
              "      <td>Dubai</td>\n",
              "      <td>Dubai International Cricket Stadium</td>\n",
              "      <td>0</td>\n",
              "      <td>Delhi Capitals</td>\n",
              "      <td>Mumbai Indians</td>\n",
              "      <td>Delhi Capitals</td>\n",
              "      <td>bat</td>\n",
              "      <td>Mumbai Indians</td>\n",
              "      <td>N</td>\n",
              "      <td>CB Gaffaney</td>\n",
              "      <td>Nitin Menon</td>\n",
              "    </tr>\n",
              "  </tbody>\n",
              "</table>\n",
              "<p>816 rows × 14 columns</p>\n",
              "</div>"
            ],
            "text/plain": [
              "     year  month  day  ... eliminator      umpire1         umpire2\n",
              "0    2008      4   18  ...          N    Asad Rauf     RE Koertzen\n",
              "1    2008      4   19  ...          N    MR Benson      SL Shastri\n",
              "2    2008      4   19  ...          N    Aleem Dar  GA Pratapkumar\n",
              "3    2008      4   20  ...          N     SJ Davis       DJ Harper\n",
              "4    2008      4   20  ...          N    BF Bowden     K Hariharan\n",
              "..    ...    ...  ...  ...        ...          ...             ...\n",
              "811  2020      9   28  ...          Y  Nitin Menon      PR Reiffel\n",
              "812  2020     11    5  ...          N  CB Gaffaney     Nitin Menon\n",
              "813  2020     11    6  ...          N   PR Reiffel          S Ravi\n",
              "814  2020     11    8  ...          N   PR Reiffel          S Ravi\n",
              "815  2020     11   10  ...          N  CB Gaffaney     Nitin Menon\n",
              "\n",
              "[816 rows x 14 columns]"
            ]
          },
          "metadata": {
            "tags": []
          },
          "execution_count": 251
        }
      ]
    },
    {
      "cell_type": "code",
      "metadata": {
        "colab": {
          "base_uri": "https://localhost:8080/",
          "height": 589
        },
        "id": "xvVAwzIefaoC",
        "outputId": "53e6a632-a092-41e1-8feb-3b73450c76bb"
      },
      "source": [
        "# Creating Dictionaries\n",
        "\n",
        "team_encodings = {\n",
        "    'Mumbai Indians': 1,\n",
        "    'Kolkata Knight Riders': 2,\n",
        "    'Royal Challengers Bangalore': 3,\n",
        "    'Deccan Chargers': 4,\n",
        "    'Chennai Super Kings': 5,\n",
        "    'Rajasthan Royals': 6,\n",
        "    'Delhi Daredevils': 7,\n",
        "    'Gujarat Lions': 8,\n",
        "    'Kings XI Punjab': 9,\n",
        "    'Sunrisers Hyderabad': 10,\n",
        "    'Rising Pune Supergiant': 11,\n",
        "    'Kochi Tuskers Kerala': 12,\n",
        "    'Pune Warriors': 13,\n",
        "    'Delhi Capitals': 14,\n",
        "    'Tie': 15\n",
        "}\n",
        "\n",
        "team_encode_dict = {\n",
        "    'team1': team_encodings,\n",
        "    'team2': team_encodings,\n",
        "    'toss_winner': team_encodings,\n",
        "    'winner': team_encodings\n",
        "}\n",
        "\n",
        "ipl_5.replace(team_encode_dict, inplace=True)\n",
        "ipl_5"
      ],
      "execution_count": 252,
      "outputs": [
        {
          "output_type": "execute_result",
          "data": {
            "text/html": [
              "<div>\n",
              "<style scoped>\n",
              "    .dataframe tbody tr th:only-of-type {\n",
              "        vertical-align: middle;\n",
              "    }\n",
              "\n",
              "    .dataframe tbody tr th {\n",
              "        vertical-align: top;\n",
              "    }\n",
              "\n",
              "    .dataframe thead th {\n",
              "        text-align: right;\n",
              "    }\n",
              "</style>\n",
              "<table border=\"1\" class=\"dataframe\">\n",
              "  <thead>\n",
              "    <tr style=\"text-align: right;\">\n",
              "      <th></th>\n",
              "      <th>year</th>\n",
              "      <th>month</th>\n",
              "      <th>day</th>\n",
              "      <th>city</th>\n",
              "      <th>venue</th>\n",
              "      <th>neutral_venue</th>\n",
              "      <th>team1</th>\n",
              "      <th>team2</th>\n",
              "      <th>toss_winner</th>\n",
              "      <th>toss_decision</th>\n",
              "      <th>winner</th>\n",
              "      <th>eliminator</th>\n",
              "      <th>umpire1</th>\n",
              "      <th>umpire2</th>\n",
              "    </tr>\n",
              "  </thead>\n",
              "  <tbody>\n",
              "    <tr>\n",
              "      <th>0</th>\n",
              "      <td>2008</td>\n",
              "      <td>4</td>\n",
              "      <td>18</td>\n",
              "      <td>Bangalore</td>\n",
              "      <td>M. Chinnaswamy Stadium</td>\n",
              "      <td>0</td>\n",
              "      <td>3</td>\n",
              "      <td>2</td>\n",
              "      <td>3</td>\n",
              "      <td>field</td>\n",
              "      <td>2</td>\n",
              "      <td>N</td>\n",
              "      <td>Asad Rauf</td>\n",
              "      <td>RE Koertzen</td>\n",
              "    </tr>\n",
              "    <tr>\n",
              "      <th>1</th>\n",
              "      <td>2008</td>\n",
              "      <td>4</td>\n",
              "      <td>19</td>\n",
              "      <td>Chandigarh</td>\n",
              "      <td>Punjab Cricket Association IS Bindra Stadium, ...</td>\n",
              "      <td>0</td>\n",
              "      <td>9</td>\n",
              "      <td>5</td>\n",
              "      <td>5</td>\n",
              "      <td>bat</td>\n",
              "      <td>5</td>\n",
              "      <td>N</td>\n",
              "      <td>MR Benson</td>\n",
              "      <td>SL Shastri</td>\n",
              "    </tr>\n",
              "    <tr>\n",
              "      <th>2</th>\n",
              "      <td>2008</td>\n",
              "      <td>4</td>\n",
              "      <td>19</td>\n",
              "      <td>Delhi</td>\n",
              "      <td>Feroz Shah Kotla</td>\n",
              "      <td>0</td>\n",
              "      <td>7</td>\n",
              "      <td>6</td>\n",
              "      <td>6</td>\n",
              "      <td>bat</td>\n",
              "      <td>7</td>\n",
              "      <td>N</td>\n",
              "      <td>Aleem Dar</td>\n",
              "      <td>GA Pratapkumar</td>\n",
              "    </tr>\n",
              "    <tr>\n",
              "      <th>3</th>\n",
              "      <td>2008</td>\n",
              "      <td>4</td>\n",
              "      <td>20</td>\n",
              "      <td>Mumbai</td>\n",
              "      <td>Wankhede Stadium</td>\n",
              "      <td>0</td>\n",
              "      <td>1</td>\n",
              "      <td>3</td>\n",
              "      <td>1</td>\n",
              "      <td>bat</td>\n",
              "      <td>3</td>\n",
              "      <td>N</td>\n",
              "      <td>SJ Davis</td>\n",
              "      <td>DJ Harper</td>\n",
              "    </tr>\n",
              "    <tr>\n",
              "      <th>4</th>\n",
              "      <td>2008</td>\n",
              "      <td>4</td>\n",
              "      <td>20</td>\n",
              "      <td>Kolkata</td>\n",
              "      <td>Eden Gardens</td>\n",
              "      <td>0</td>\n",
              "      <td>2</td>\n",
              "      <td>4</td>\n",
              "      <td>4</td>\n",
              "      <td>bat</td>\n",
              "      <td>2</td>\n",
              "      <td>N</td>\n",
              "      <td>BF Bowden</td>\n",
              "      <td>K Hariharan</td>\n",
              "    </tr>\n",
              "    <tr>\n",
              "      <th>...</th>\n",
              "      <td>...</td>\n",
              "      <td>...</td>\n",
              "      <td>...</td>\n",
              "      <td>...</td>\n",
              "      <td>...</td>\n",
              "      <td>...</td>\n",
              "      <td>...</td>\n",
              "      <td>...</td>\n",
              "      <td>...</td>\n",
              "      <td>...</td>\n",
              "      <td>...</td>\n",
              "      <td>...</td>\n",
              "      <td>...</td>\n",
              "      <td>...</td>\n",
              "    </tr>\n",
              "    <tr>\n",
              "      <th>811</th>\n",
              "      <td>2020</td>\n",
              "      <td>9</td>\n",
              "      <td>28</td>\n",
              "      <td>Dubai</td>\n",
              "      <td>Dubai International Cricket Stadium</td>\n",
              "      <td>0</td>\n",
              "      <td>3</td>\n",
              "      <td>1</td>\n",
              "      <td>1</td>\n",
              "      <td>field</td>\n",
              "      <td>3</td>\n",
              "      <td>Y</td>\n",
              "      <td>Nitin Menon</td>\n",
              "      <td>PR Reiffel</td>\n",
              "    </tr>\n",
              "    <tr>\n",
              "      <th>812</th>\n",
              "      <td>2020</td>\n",
              "      <td>11</td>\n",
              "      <td>5</td>\n",
              "      <td>Dubai</td>\n",
              "      <td>Dubai International Cricket Stadium</td>\n",
              "      <td>0</td>\n",
              "      <td>1</td>\n",
              "      <td>14</td>\n",
              "      <td>14</td>\n",
              "      <td>field</td>\n",
              "      <td>1</td>\n",
              "      <td>N</td>\n",
              "      <td>CB Gaffaney</td>\n",
              "      <td>Nitin Menon</td>\n",
              "    </tr>\n",
              "    <tr>\n",
              "      <th>813</th>\n",
              "      <td>2020</td>\n",
              "      <td>11</td>\n",
              "      <td>6</td>\n",
              "      <td>Abu Dhabi</td>\n",
              "      <td>Sheikh Zayed Stadium</td>\n",
              "      <td>0</td>\n",
              "      <td>3</td>\n",
              "      <td>10</td>\n",
              "      <td>10</td>\n",
              "      <td>field</td>\n",
              "      <td>10</td>\n",
              "      <td>N</td>\n",
              "      <td>PR Reiffel</td>\n",
              "      <td>S Ravi</td>\n",
              "    </tr>\n",
              "    <tr>\n",
              "      <th>814</th>\n",
              "      <td>2020</td>\n",
              "      <td>11</td>\n",
              "      <td>8</td>\n",
              "      <td>Abu Dhabi</td>\n",
              "      <td>Sheikh Zayed Stadium</td>\n",
              "      <td>0</td>\n",
              "      <td>14</td>\n",
              "      <td>10</td>\n",
              "      <td>14</td>\n",
              "      <td>bat</td>\n",
              "      <td>14</td>\n",
              "      <td>N</td>\n",
              "      <td>PR Reiffel</td>\n",
              "      <td>S Ravi</td>\n",
              "    </tr>\n",
              "    <tr>\n",
              "      <th>815</th>\n",
              "      <td>2020</td>\n",
              "      <td>11</td>\n",
              "      <td>10</td>\n",
              "      <td>Dubai</td>\n",
              "      <td>Dubai International Cricket Stadium</td>\n",
              "      <td>0</td>\n",
              "      <td>14</td>\n",
              "      <td>1</td>\n",
              "      <td>14</td>\n",
              "      <td>bat</td>\n",
              "      <td>1</td>\n",
              "      <td>N</td>\n",
              "      <td>CB Gaffaney</td>\n",
              "      <td>Nitin Menon</td>\n",
              "    </tr>\n",
              "  </tbody>\n",
              "</table>\n",
              "<p>816 rows × 14 columns</p>\n",
              "</div>"
            ],
            "text/plain": [
              "     year  month  day  ... eliminator      umpire1         umpire2\n",
              "0    2008      4   18  ...          N    Asad Rauf     RE Koertzen\n",
              "1    2008      4   19  ...          N    MR Benson      SL Shastri\n",
              "2    2008      4   19  ...          N    Aleem Dar  GA Pratapkumar\n",
              "3    2008      4   20  ...          N     SJ Davis       DJ Harper\n",
              "4    2008      4   20  ...          N    BF Bowden     K Hariharan\n",
              "..    ...    ...  ...  ...        ...          ...             ...\n",
              "811  2020      9   28  ...          Y  Nitin Menon      PR Reiffel\n",
              "812  2020     11    5  ...          N  CB Gaffaney     Nitin Menon\n",
              "813  2020     11    6  ...          N   PR Reiffel          S Ravi\n",
              "814  2020     11    8  ...          N   PR Reiffel          S Ravi\n",
              "815  2020     11   10  ...          N  CB Gaffaney     Nitin Menon\n",
              "\n",
              "[816 rows x 14 columns]"
            ]
          },
          "metadata": {
            "tags": []
          },
          "execution_count": 252
        }
      ]
    },
    {
      "cell_type": "code",
      "metadata": {
        "colab": {
          "base_uri": "https://localhost:8080/"
        },
        "id": "nEnUEkMWmq_T",
        "outputId": "042fb0c6-2222-4861-87a6-3dd7ca90194e"
      },
      "source": [
        "ipl_5.info()"
      ],
      "execution_count": 253,
      "outputs": [
        {
          "output_type": "stream",
          "text": [
            "<class 'pandas.core.frame.DataFrame'>\n",
            "Int64Index: 816 entries, 0 to 815\n",
            "Data columns (total 14 columns):\n",
            " #   Column         Non-Null Count  Dtype \n",
            "---  ------         --------------  ----- \n",
            " 0   year           816 non-null    int64 \n",
            " 1   month          816 non-null    int64 \n",
            " 2   day            816 non-null    int64 \n",
            " 3   city           816 non-null    object\n",
            " 4   venue          816 non-null    object\n",
            " 5   neutral_venue  816 non-null    int64 \n",
            " 6   team1          816 non-null    int64 \n",
            " 7   team2          816 non-null    int64 \n",
            " 8   toss_winner    816 non-null    int64 \n",
            " 9   toss_decision  816 non-null    object\n",
            " 10  winner         816 non-null    int64 \n",
            " 11  eliminator     816 non-null    object\n",
            " 12  umpire1        816 non-null    object\n",
            " 13  umpire2        816 non-null    object\n",
            "dtypes: int64(8), object(6)\n",
            "memory usage: 95.6+ KB\n"
          ],
          "name": "stdout"
        }
      ]
    },
    {
      "cell_type": "code",
      "metadata": {
        "colab": {
          "base_uri": "https://localhost:8080/",
          "height": 1000
        },
        "id": "0pSpSAVqnfVI",
        "outputId": "8472cc0e-97a5-4bed-c855-0bff60596690"
      },
      "source": [
        "from sklearn.preprocessing import LabelEncoder\n",
        "\n",
        "ftr_list = ['city', 'venue', 'toss_decision', 'eliminator', 'umpire1', 'umpire2']\n",
        "encoder = LabelEncoder()\n",
        "for ftr in ftr_list:\n",
        "    ipl_5[ftr] = encoder.fit_transform(ipl_5[ftr])\n",
        "    print(encoder.classes_)\n",
        "\n",
        "ipl_5"
      ],
      "execution_count": 254,
      "outputs": [
        {
          "output_type": "stream",
          "text": [
            "['Abu Dhabi' 'Ahmedabad' 'Bangalore' 'Bloemfontein' 'Cape Town'\n",
            " 'Centurion' 'Chandigarh' 'Chennai' 'Cuttack' 'Delhi' 'Dharamsala' 'Dubai'\n",
            " 'Durban' 'East London' 'Hyderabad' 'Indore' 'Jaipur' 'Johannesburg'\n",
            " 'Kanpur' 'Kimberley' 'Kochi' 'Kolkata' 'Mumbai' 'Nagpur' 'Port Elizabeth'\n",
            " 'Pune' 'Raipur' 'Rajkot' 'Ranchi' 'Sharjah' 'Visakhapatnam']\n",
            "['Barabati Stadium' 'Brabourne Stadium' 'Buffalo Park'\n",
            " 'De Beers Diamond Oval' 'Dr DY Patil Sports Academy'\n",
            " 'Dr. Y.S. Rajasekhara Reddy ACA-VDCA Cricket Stadium'\n",
            " 'Dubai International Cricket Stadium' 'Eden Gardens' 'Feroz Shah Kotla'\n",
            " 'Green Park' 'Himachal Pradesh Cricket Association Stadium'\n",
            " 'Holkar Cricket Stadium' 'JSCA International Stadium Complex' 'Kingsmead'\n",
            " 'M. Chinnaswamy Stadium' 'MA Chidambaram Stadium, Chepauk'\n",
            " 'Maharashtra Cricket Association Stadium' 'Nehru Stadium'\n",
            " 'New Wanderers Stadium' 'Newlands' 'OUTsurance Oval'\n",
            " 'Punjab Cricket Association IS Bindra Stadium, Mohali'\n",
            " 'Rajiv Gandhi International Stadium, Uppal'\n",
            " 'Sardar Patel Stadium, Motera' 'Saurashtra Cricket Association Stadium'\n",
            " 'Sawai Mansingh Stadium'\n",
            " 'Shaheed Veer Narayan Singh International Stadium'\n",
            " 'Sharjah Cricket Stadium' 'Sheikh Zayed Stadium' \"St George's Park\"\n",
            " 'Subrata Roy Sahara Stadium' 'SuperSport Park'\n",
            " 'Vidarbha Cricket Association Stadium, Jamtha' 'Wankhede Stadium']\n",
            "['bat' 'field']\n",
            "['N' 'Y']\n",
            "['A Deshmukh' 'A Nand Kishore' 'AK Chaudhary' 'AM Saheba' 'AV Jayaprakash'\n",
            " 'AY Dandekar' 'Aleem Dar' 'Asad Rauf' 'BF Bowden' 'BG Jerling'\n",
            " 'BNJ Oxenford' 'BR Doctrove' 'C Shamshuddin' 'CB Gaffaney' 'CK Nandan'\n",
            " 'DJ Harper' 'GAV Baxter' 'HDPK Dharmasena' 'IJ Gould' 'IL Howell'\n",
            " 'JD Cloete' 'K Bharatan' 'K Hariharan' 'K Srinath'\n",
            " 'KN Ananthapadmanabhan' 'M Erasmus' 'MR Benson' 'NJ Llong' 'Nitin Menon'\n",
            " 'PG Pathak' 'PR Reiffel' 'RE Koertzen' 'RJ Tucker' 'RK Illingworth'\n",
            " 'RM Deshpande' 'S Asnani' 'S Das' 'S Ravi' 'SD Fry' 'SJ Davis'\n",
            " 'SJA Taufel' 'SK Tarapore' 'SL Shastri' 'SS Hazare' 'UV Gandhe'\n",
            " 'VA Kulkarni' 'VK Sharma' 'YC Barde']\n",
            "['A Deshmukh' 'A Nand Kishore' 'AK Chaudhary' 'AL Hill' 'AM Saheba'\n",
            " 'AV Jayaprakash' 'BG Jerling' 'BNJ Oxenford' 'BR Doctrove'\n",
            " 'C Shamshuddin' 'CB Gaffaney' 'CK Nandan' 'DJ Harper' 'GA Pratapkumar'\n",
            " 'HDPK Dharmasena' 'I Shivram' 'IJ Gould' 'IL Howell' 'JD Cloete'\n",
            " 'K Hariharan' 'K Srinath' 'K Srinivasan' 'M Erasmus' 'MR Benson'\n",
            " 'NJ Llong' 'Nitin Menon' 'PG Pathak' 'PR Reiffel' 'RB Tiffin'\n",
            " 'RE Koertzen' 'RJ Tucker' 'RK Illingworth' 'S Asnani' 'S Das' 'S Ravi'\n",
            " 'SD Fry' 'SD Ranade' 'SJ Davis' 'SJA Taufel' 'SK Tarapore' 'SL Shastri'\n",
            " 'SS Hazare' 'Subroto Das' 'TH Wijewardene' 'VA Kulkarni' 'VK Sharma'\n",
            " 'YC Barde']\n"
          ],
          "name": "stdout"
        },
        {
          "output_type": "execute_result",
          "data": {
            "text/html": [
              "<div>\n",
              "<style scoped>\n",
              "    .dataframe tbody tr th:only-of-type {\n",
              "        vertical-align: middle;\n",
              "    }\n",
              "\n",
              "    .dataframe tbody tr th {\n",
              "        vertical-align: top;\n",
              "    }\n",
              "\n",
              "    .dataframe thead th {\n",
              "        text-align: right;\n",
              "    }\n",
              "</style>\n",
              "<table border=\"1\" class=\"dataframe\">\n",
              "  <thead>\n",
              "    <tr style=\"text-align: right;\">\n",
              "      <th></th>\n",
              "      <th>year</th>\n",
              "      <th>month</th>\n",
              "      <th>day</th>\n",
              "      <th>city</th>\n",
              "      <th>venue</th>\n",
              "      <th>neutral_venue</th>\n",
              "      <th>team1</th>\n",
              "      <th>team2</th>\n",
              "      <th>toss_winner</th>\n",
              "      <th>toss_decision</th>\n",
              "      <th>winner</th>\n",
              "      <th>eliminator</th>\n",
              "      <th>umpire1</th>\n",
              "      <th>umpire2</th>\n",
              "    </tr>\n",
              "  </thead>\n",
              "  <tbody>\n",
              "    <tr>\n",
              "      <th>0</th>\n",
              "      <td>2008</td>\n",
              "      <td>4</td>\n",
              "      <td>18</td>\n",
              "      <td>2</td>\n",
              "      <td>14</td>\n",
              "      <td>0</td>\n",
              "      <td>3</td>\n",
              "      <td>2</td>\n",
              "      <td>3</td>\n",
              "      <td>1</td>\n",
              "      <td>2</td>\n",
              "      <td>0</td>\n",
              "      <td>7</td>\n",
              "      <td>29</td>\n",
              "    </tr>\n",
              "    <tr>\n",
              "      <th>1</th>\n",
              "      <td>2008</td>\n",
              "      <td>4</td>\n",
              "      <td>19</td>\n",
              "      <td>6</td>\n",
              "      <td>21</td>\n",
              "      <td>0</td>\n",
              "      <td>9</td>\n",
              "      <td>5</td>\n",
              "      <td>5</td>\n",
              "      <td>0</td>\n",
              "      <td>5</td>\n",
              "      <td>0</td>\n",
              "      <td>26</td>\n",
              "      <td>40</td>\n",
              "    </tr>\n",
              "    <tr>\n",
              "      <th>2</th>\n",
              "      <td>2008</td>\n",
              "      <td>4</td>\n",
              "      <td>19</td>\n",
              "      <td>9</td>\n",
              "      <td>8</td>\n",
              "      <td>0</td>\n",
              "      <td>7</td>\n",
              "      <td>6</td>\n",
              "      <td>6</td>\n",
              "      <td>0</td>\n",
              "      <td>7</td>\n",
              "      <td>0</td>\n",
              "      <td>6</td>\n",
              "      <td>13</td>\n",
              "    </tr>\n",
              "    <tr>\n",
              "      <th>3</th>\n",
              "      <td>2008</td>\n",
              "      <td>4</td>\n",
              "      <td>20</td>\n",
              "      <td>22</td>\n",
              "      <td>33</td>\n",
              "      <td>0</td>\n",
              "      <td>1</td>\n",
              "      <td>3</td>\n",
              "      <td>1</td>\n",
              "      <td>0</td>\n",
              "      <td>3</td>\n",
              "      <td>0</td>\n",
              "      <td>39</td>\n",
              "      <td>12</td>\n",
              "    </tr>\n",
              "    <tr>\n",
              "      <th>4</th>\n",
              "      <td>2008</td>\n",
              "      <td>4</td>\n",
              "      <td>20</td>\n",
              "      <td>21</td>\n",
              "      <td>7</td>\n",
              "      <td>0</td>\n",
              "      <td>2</td>\n",
              "      <td>4</td>\n",
              "      <td>4</td>\n",
              "      <td>0</td>\n",
              "      <td>2</td>\n",
              "      <td>0</td>\n",
              "      <td>8</td>\n",
              "      <td>19</td>\n",
              "    </tr>\n",
              "    <tr>\n",
              "      <th>...</th>\n",
              "      <td>...</td>\n",
              "      <td>...</td>\n",
              "      <td>...</td>\n",
              "      <td>...</td>\n",
              "      <td>...</td>\n",
              "      <td>...</td>\n",
              "      <td>...</td>\n",
              "      <td>...</td>\n",
              "      <td>...</td>\n",
              "      <td>...</td>\n",
              "      <td>...</td>\n",
              "      <td>...</td>\n",
              "      <td>...</td>\n",
              "      <td>...</td>\n",
              "    </tr>\n",
              "    <tr>\n",
              "      <th>811</th>\n",
              "      <td>2020</td>\n",
              "      <td>9</td>\n",
              "      <td>28</td>\n",
              "      <td>11</td>\n",
              "      <td>6</td>\n",
              "      <td>0</td>\n",
              "      <td>3</td>\n",
              "      <td>1</td>\n",
              "      <td>1</td>\n",
              "      <td>1</td>\n",
              "      <td>3</td>\n",
              "      <td>1</td>\n",
              "      <td>28</td>\n",
              "      <td>27</td>\n",
              "    </tr>\n",
              "    <tr>\n",
              "      <th>812</th>\n",
              "      <td>2020</td>\n",
              "      <td>11</td>\n",
              "      <td>5</td>\n",
              "      <td>11</td>\n",
              "      <td>6</td>\n",
              "      <td>0</td>\n",
              "      <td>1</td>\n",
              "      <td>14</td>\n",
              "      <td>14</td>\n",
              "      <td>1</td>\n",
              "      <td>1</td>\n",
              "      <td>0</td>\n",
              "      <td>13</td>\n",
              "      <td>25</td>\n",
              "    </tr>\n",
              "    <tr>\n",
              "      <th>813</th>\n",
              "      <td>2020</td>\n",
              "      <td>11</td>\n",
              "      <td>6</td>\n",
              "      <td>0</td>\n",
              "      <td>28</td>\n",
              "      <td>0</td>\n",
              "      <td>3</td>\n",
              "      <td>10</td>\n",
              "      <td>10</td>\n",
              "      <td>1</td>\n",
              "      <td>10</td>\n",
              "      <td>0</td>\n",
              "      <td>30</td>\n",
              "      <td>34</td>\n",
              "    </tr>\n",
              "    <tr>\n",
              "      <th>814</th>\n",
              "      <td>2020</td>\n",
              "      <td>11</td>\n",
              "      <td>8</td>\n",
              "      <td>0</td>\n",
              "      <td>28</td>\n",
              "      <td>0</td>\n",
              "      <td>14</td>\n",
              "      <td>10</td>\n",
              "      <td>14</td>\n",
              "      <td>0</td>\n",
              "      <td>14</td>\n",
              "      <td>0</td>\n",
              "      <td>30</td>\n",
              "      <td>34</td>\n",
              "    </tr>\n",
              "    <tr>\n",
              "      <th>815</th>\n",
              "      <td>2020</td>\n",
              "      <td>11</td>\n",
              "      <td>10</td>\n",
              "      <td>11</td>\n",
              "      <td>6</td>\n",
              "      <td>0</td>\n",
              "      <td>14</td>\n",
              "      <td>1</td>\n",
              "      <td>14</td>\n",
              "      <td>0</td>\n",
              "      <td>1</td>\n",
              "      <td>0</td>\n",
              "      <td>13</td>\n",
              "      <td>25</td>\n",
              "    </tr>\n",
              "  </tbody>\n",
              "</table>\n",
              "<p>816 rows × 14 columns</p>\n",
              "</div>"
            ],
            "text/plain": [
              "     year  month  day  city  ...  winner  eliminator  umpire1  umpire2\n",
              "0    2008      4   18     2  ...       2           0        7       29\n",
              "1    2008      4   19     6  ...       5           0       26       40\n",
              "2    2008      4   19     9  ...       7           0        6       13\n",
              "3    2008      4   20    22  ...       3           0       39       12\n",
              "4    2008      4   20    21  ...       2           0        8       19\n",
              "..    ...    ...  ...   ...  ...     ...         ...      ...      ...\n",
              "811  2020      9   28    11  ...       3           1       28       27\n",
              "812  2020     11    5    11  ...       1           0       13       25\n",
              "813  2020     11    6     0  ...      10           0       30       34\n",
              "814  2020     11    8     0  ...      14           0       30       34\n",
              "815  2020     11   10    11  ...       1           0       13       25\n",
              "\n",
              "[816 rows x 14 columns]"
            ]
          },
          "metadata": {
            "tags": []
          },
          "execution_count": 254
        }
      ]
    },
    {
      "cell_type": "code",
      "metadata": {
        "colab": {
          "base_uri": "https://localhost:8080/"
        },
        "id": "beGKS4vsn6sx",
        "outputId": "1cd9c796-73bf-4a53-8189-29ec86e49a87"
      },
      "source": [
        "ipl_5.info()"
      ],
      "execution_count": 255,
      "outputs": [
        {
          "output_type": "stream",
          "text": [
            "<class 'pandas.core.frame.DataFrame'>\n",
            "Int64Index: 816 entries, 0 to 815\n",
            "Data columns (total 14 columns):\n",
            " #   Column         Non-Null Count  Dtype\n",
            "---  ------         --------------  -----\n",
            " 0   year           816 non-null    int64\n",
            " 1   month          816 non-null    int64\n",
            " 2   day            816 non-null    int64\n",
            " 3   city           816 non-null    int64\n",
            " 4   venue          816 non-null    int64\n",
            " 5   neutral_venue  816 non-null    int64\n",
            " 6   team1          816 non-null    int64\n",
            " 7   team2          816 non-null    int64\n",
            " 8   toss_winner    816 non-null    int64\n",
            " 9   toss_decision  816 non-null    int64\n",
            " 10  winner         816 non-null    int64\n",
            " 11  eliminator     816 non-null    int64\n",
            " 12  umpire1        816 non-null    int64\n",
            " 13  umpire2        816 non-null    int64\n",
            "dtypes: int64(14)\n",
            "memory usage: 95.6 KB\n"
          ],
          "name": "stdout"
        }
      ]
    },
    {
      "cell_type": "code",
      "metadata": {
        "colab": {
          "base_uri": "https://localhost:8080/",
          "height": 1000
        },
        "id": "fdUfRVDun_nd",
        "outputId": "707b94ec-2195-4cbf-85b7-2285f03108c9"
      },
      "source": [
        "ipl_5.hist(figsize = (20,20))"
      ],
      "execution_count": 256,
      "outputs": [
        {
          "output_type": "execute_result",
          "data": {
            "text/plain": [
              "array([[<matplotlib.axes._subplots.AxesSubplot object at 0x7f33e2a47710>,\n",
              "        <matplotlib.axes._subplots.AxesSubplot object at 0x7f33e29f9450>,\n",
              "        <matplotlib.axes._subplots.AxesSubplot object at 0x7f33e29aaad0>,\n",
              "        <matplotlib.axes._subplots.AxesSubplot object at 0x7f33e2969190>],\n",
              "       [<matplotlib.axes._subplots.AxesSubplot object at 0x7f33e40c1990>,\n",
              "        <matplotlib.axes._subplots.AxesSubplot object at 0x7f33e40b18d0>,\n",
              "        <matplotlib.axes._subplots.AxesSubplot object at 0x7f33e40a4750>,\n",
              "        <matplotlib.axes._subplots.AxesSubplot object at 0x7f33e47bb7d0>],\n",
              "       [<matplotlib.axes._subplots.AxesSubplot object at 0x7f33e47bb690>,\n",
              "        <matplotlib.axes._subplots.AxesSubplot object at 0x7f33e480f310>,\n",
              "        <matplotlib.axes._subplots.AxesSubplot object at 0x7f33e497af90>,\n",
              "        <matplotlib.axes._subplots.AxesSubplot object at 0x7f33ef6f9590>],\n",
              "       [<matplotlib.axes._subplots.AxesSubplot object at 0x7f33e41a8d90>,\n",
              "        <matplotlib.axes._subplots.AxesSubplot object at 0x7f33e432a610>,\n",
              "        <matplotlib.axes._subplots.AxesSubplot object at 0x7f33e4449050>,\n",
              "        <matplotlib.axes._subplots.AxesSubplot object at 0x7f33ef385e90>]],\n",
              "      dtype=object)"
            ]
          },
          "metadata": {
            "tags": []
          },
          "execution_count": 256
        },
        {
          "output_type": "display_data",
          "data": {
            "image/png": "[encoded data removed]",
            "text/plain": [
              "<Figure size 1440x1440 with 16 Axes>"
            ]
          },
          "metadata": {
            "tags": []
          }
        }
      ]
    },
    {
      "cell_type": "code",
      "metadata": {
        "colab": {
          "base_uri": "https://localhost:8080/",
          "height": 502
        },
        "id": "ftly2ZHspHgi",
        "outputId": "9b7b2598-f675-4999-b98b-fc2b93338df1"
      },
      "source": [
        "ipl_5['winner'].hist(bins=50)"
      ],
      "execution_count": 257,
      "outputs": [
        {
          "output_type": "execute_result",
          "data": {
            "text/plain": [
              "<matplotlib.axes._subplots.AxesSubplot at 0x7f33e2a475d0>"
            ]
          },
          "metadata": {
            "tags": []
          },
          "execution_count": 257
        },
        {
          "output_type": "display_data",
          "data": {
            "image/png": "[encoded data removed]",
            "text/plain": [
              "<Figure size 864x576 with 1 Axes>"
            ]
          },
          "metadata": {
            "tags": []
          }
        }
      ]
    },
    {
      "cell_type": "code",
      "metadata": {
        "colab": {
          "base_uri": "https://localhost:8080/",
          "height": 502
        },
        "id": "qUBuPYvQpIDs",
        "outputId": "6a1bb9f8-f1b5-4bda-841e-b8914deabe93"
      },
      "source": [
        "ipl_5['toss_winner'].hist(bins=50)"
      ],
      "execution_count": 258,
      "outputs": [
        {
          "output_type": "execute_result",
          "data": {
            "text/plain": [
              "<matplotlib.axes._subplots.AxesSubplot at 0x7f33e430ee50>"
            ]
          },
          "metadata": {
            "tags": []
          },
          "execution_count": 258
        },
        {
          "output_type": "display_data",
          "data": {
            "image/png": "[encoded data removed]",
            "text/plain": [
              "<Figure size 864x576 with 1 Axes>"
            ]
          },
          "metadata": {
            "tags": []
          }
        }
      ]
    },
    {
      "cell_type": "code",
      "metadata": {
        "colab": {
          "base_uri": "https://localhost:8080/"
        },
        "id": "FRLhAlAfo8u4",
        "outputId": "55418b11-12cb-46dd-b8c0-a68f40256b71"
      },
      "source": [
        "ipl_5.isnull().sum()"
      ],
      "execution_count": 259,
      "outputs": [
        {
          "output_type": "execute_result",
          "data": {
            "text/plain": [
              "year             0\n",
              "month            0\n",
              "day              0\n",
              "city             0\n",
              "venue            0\n",
              "neutral_venue    0\n",
              "team1            0\n",
              "team2            0\n",
              "toss_winner      0\n",
              "toss_decision    0\n",
              "winner           0\n",
              "eliminator       0\n",
              "umpire1          0\n",
              "umpire2          0\n",
              "dtype: int64"
            ]
          },
          "metadata": {
            "tags": []
          },
          "execution_count": 259
        }
      ]
    },
    {
      "cell_type": "code",
      "metadata": {
        "colab": {
          "base_uri": "https://localhost:8080/",
          "height": 559
        },
        "id": "TtCS9GXvpwFk",
        "outputId": "02d7b0ea-4af7-4611-b86b-dd051581634b"
      },
      "source": [
        "# Confusion Matrix\n",
        "\n",
        "import seaborn as sns\n",
        "sns.set(rc={'figure.figsize': (12,8)})\n",
        "ax = sns.heatmap(ipl_5.corr(), annot=True)"
      ],
      "execution_count": 260,
      "outputs": [
        {
          "output_type": "display_data",
          "data": {
            "image/png": "[encoded data removed]",
            "text/plain": [
              "<Figure size 864x576 with 2 Axes>"
            ]
          },
          "metadata": {
            "tags": []
          }
        }
      ]
    },
    {
      "cell_type": "code",
      "metadata": {
        "id": "xzVv1mf3s8oq"
      },
      "source": [
        "def correlation(dataset, threshold):\n",
        "    col_corr = []\n",
        "    corr_matrix = dataset.corr()\n",
        "    for i in range(len(corr_matrix.columns)):\n",
        "        for j in range(i):\n",
        "            if abs(corr_matrix.iloc[i, j]) >= threshold and i!=j:\n",
        "                colname = corr_matrix.columns[i]\n",
        "                col_corr.append(colname)\n",
        "    return col_corr"
      ],
      "execution_count": 261,
      "outputs": []
    },
    {
      "cell_type": "code",
      "metadata": {
        "colab": {
          "base_uri": "https://localhost:8080/"
        },
        "id": "zHUSNN83tI2Z",
        "outputId": "6ac66050-4627-498d-b5ba-d0b846974301"
      },
      "source": [
        "corr_columns = correlation(ipl_5, 0.1)\n",
        "corr_columns = list(dict.fromkeys(corr_columns))\n",
        "corr_columns"
      ],
      "execution_count": 262,
      "outputs": [
        {
          "output_type": "execute_result",
          "data": {
            "text/plain": [
              "['month',\n",
              " 'day',\n",
              " 'neutral_venue',\n",
              " 'team1',\n",
              " 'team2',\n",
              " 'toss_winner',\n",
              " 'toss_decision',\n",
              " 'winner',\n",
              " 'umpire2']"
            ]
          },
          "metadata": {
            "tags": []
          },
          "execution_count": 262
        }
      ]
    },
    {
      "cell_type": "code",
      "metadata": {
        "id": "Liy0o5GeZKlv"
      },
      "source": [
        "X = ipl_5.drop(['winner', 'year', 'month', 'day', 'city', 'eliminator', 'umpire1', 'umpire2'], axis = 1)\n",
        "y = ipl_5['winner']"
      ],
      "execution_count": 263,
      "outputs": []
    },
    {
      "cell_type": "code",
      "metadata": {
        "colab": {
          "base_uri": "https://localhost:8080/",
          "height": 419
        },
        "id": "n-CCHYGuZbju",
        "outputId": "4aebabdc-79d6-45eb-882e-6818d214ae5e"
      },
      "source": [
        "X"
      ],
      "execution_count": 264,
      "outputs": [
        {
          "output_type": "execute_result",
          "data": {
            "text/html": [
              "<div>\n",
              "<style scoped>\n",
              "    .dataframe tbody tr th:only-of-type {\n",
              "        vertical-align: middle;\n",
              "    }\n",
              "\n",
              "    .dataframe tbody tr th {\n",
              "        vertical-align: top;\n",
              "    }\n",
              "\n",
              "    .dataframe thead th {\n",
              "        text-align: right;\n",
              "    }\n",
              "</style>\n",
              "<table border=\"1\" class=\"dataframe\">\n",
              "  <thead>\n",
              "    <tr style=\"text-align: right;\">\n",
              "      <th></th>\n",
              "      <th>venue</th>\n",
              "      <th>neutral_venue</th>\n",
              "      <th>team1</th>\n",
              "      <th>team2</th>\n",
              "      <th>toss_winner</th>\n",
              "      <th>toss_decision</th>\n",
              "    </tr>\n",
              "  </thead>\n",
              "  <tbody>\n",
              "    <tr>\n",
              "      <th>0</th>\n",
              "      <td>14</td>\n",
              "      <td>0</td>\n",
              "      <td>3</td>\n",
              "      <td>2</td>\n",
              "      <td>3</td>\n",
              "      <td>1</td>\n",
              "    </tr>\n",
              "    <tr>\n",
              "      <th>1</th>\n",
              "      <td>21</td>\n",
              "      <td>0</td>\n",
              "      <td>9</td>\n",
              "      <td>5</td>\n",
              "      <td>5</td>\n",
              "      <td>0</td>\n",
              "    </tr>\n",
              "    <tr>\n",
              "      <th>2</th>\n",
              "      <td>8</td>\n",
              "      <td>0</td>\n",
              "      <td>7</td>\n",
              "      <td>6</td>\n",
              "      <td>6</td>\n",
              "      <td>0</td>\n",
              "    </tr>\n",
              "    <tr>\n",
              "      <th>3</th>\n",
              "      <td>33</td>\n",
              "      <td>0</td>\n",
              "      <td>1</td>\n",
              "      <td>3</td>\n",
              "      <td>1</td>\n",
              "      <td>0</td>\n",
              "    </tr>\n",
              "    <tr>\n",
              "      <th>4</th>\n",
              "      <td>7</td>\n",
              "      <td>0</td>\n",
              "      <td>2</td>\n",
              "      <td>4</td>\n",
              "      <td>4</td>\n",
              "      <td>0</td>\n",
              "    </tr>\n",
              "    <tr>\n",
              "      <th>...</th>\n",
              "      <td>...</td>\n",
              "      <td>...</td>\n",
              "      <td>...</td>\n",
              "      <td>...</td>\n",
              "      <td>...</td>\n",
              "      <td>...</td>\n",
              "    </tr>\n",
              "    <tr>\n",
              "      <th>811</th>\n",
              "      <td>6</td>\n",
              "      <td>0</td>\n",
              "      <td>3</td>\n",
              "      <td>1</td>\n",
              "      <td>1</td>\n",
              "      <td>1</td>\n",
              "    </tr>\n",
              "    <tr>\n",
              "      <th>812</th>\n",
              "      <td>6</td>\n",
              "      <td>0</td>\n",
              "      <td>1</td>\n",
              "      <td>14</td>\n",
              "      <td>14</td>\n",
              "      <td>1</td>\n",
              "    </tr>\n",
              "    <tr>\n",
              "      <th>813</th>\n",
              "      <td>28</td>\n",
              "      <td>0</td>\n",
              "      <td>3</td>\n",
              "      <td>10</td>\n",
              "      <td>10</td>\n",
              "      <td>1</td>\n",
              "    </tr>\n",
              "    <tr>\n",
              "      <th>814</th>\n",
              "      <td>28</td>\n",
              "      <td>0</td>\n",
              "      <td>14</td>\n",
              "      <td>10</td>\n",
              "      <td>14</td>\n",
              "      <td>0</td>\n",
              "    </tr>\n",
              "    <tr>\n",
              "      <th>815</th>\n",
              "      <td>6</td>\n",
              "      <td>0</td>\n",
              "      <td>14</td>\n",
              "      <td>1</td>\n",
              "      <td>14</td>\n",
              "      <td>0</td>\n",
              "    </tr>\n",
              "  </tbody>\n",
              "</table>\n",
              "<p>816 rows × 6 columns</p>\n",
              "</div>"
            ],
            "text/plain": [
              "     venue  neutral_venue  team1  team2  toss_winner  toss_decision\n",
              "0       14              0      3      2            3              1\n",
              "1       21              0      9      5            5              0\n",
              "2        8              0      7      6            6              0\n",
              "3       33              0      1      3            1              0\n",
              "4        7              0      2      4            4              0\n",
              "..     ...            ...    ...    ...          ...            ...\n",
              "811      6              0      3      1            1              1\n",
              "812      6              0      1     14           14              1\n",
              "813     28              0      3     10           10              1\n",
              "814     28              0     14     10           14              0\n",
              "815      6              0     14      1           14              0\n",
              "\n",
              "[816 rows x 6 columns]"
            ]
          },
          "metadata": {
            "tags": []
          },
          "execution_count": 264
        }
      ]
    },
    {
      "cell_type": "code",
      "metadata": {
        "colab": {
          "base_uri": "https://localhost:8080/"
        },
        "id": "hNS0RxoyZgz7",
        "outputId": "ff092efb-acd6-415c-e52e-7de0d22bb4c8"
      },
      "source": [
        "y"
      ],
      "execution_count": 265,
      "outputs": [
        {
          "output_type": "execute_result",
          "data": {
            "text/plain": [
              "0       2\n",
              "1       5\n",
              "2       7\n",
              "3       3\n",
              "4       2\n",
              "       ..\n",
              "811     3\n",
              "812     1\n",
              "813    10\n",
              "814    14\n",
              "815     1\n",
              "Name: winner, Length: 816, dtype: int64"
            ]
          },
          "metadata": {
            "tags": []
          },
          "execution_count": 265
        }
      ]
    },
    {
      "cell_type": "code",
      "metadata": {
        "id": "i0Eo5fkvZiNk"
      },
      "source": [
        "from sklearn.model_selection import train_test_split\n",
        "from sklearn.metrics import classification_report\n",
        "from sklearn.metrics import confusion_matrix\n",
        "from sklearn.metrics import roc_auc_score\n",
        "from sklearn.metrics import roc_curve\n",
        "\n",
        "X_train, X_test, y_train, y_test = train_test_split(X, y, test_size = 0.20, random_state = 0)"
      ],
      "execution_count": 266,
      "outputs": []
    },
    {
      "cell_type": "markdown",
      "metadata": {
        "id": "0W-HFDd3-U01"
      },
      "source": [
        "# DecisionTreeClassifier"
      ]
    },
    {
      "cell_type": "code",
      "metadata": {
        "colab": {
          "base_uri": "https://localhost:8080/"
        },
        "id": "vHpMRjdvZybs",
        "outputId": "d0c46b45-8ace-42b2-9f45-124d9fa3b566"
      },
      "source": [
        "from sklearn.tree import DecisionTreeClassifier\n",
        "decisiontree = DecisionTreeClassifier()\n",
        "print(cross_val_score(decisiontree, X, y, cv=4))"
      ],
      "execution_count": 267,
      "outputs": [
        {
          "output_type": "stream",
          "text": [
            "[0.47058824 0.44607843 0.4754902  0.48039216]\n"
          ],
          "name": "stdout"
        }
      ]
    },
    {
      "cell_type": "code",
      "metadata": {
        "colab": {
          "base_uri": "https://localhost:8080/"
        },
        "id": "LBXcdGcDZ2B2",
        "outputId": "7b1ddea5-e2b2-44c9-dc78-e8443b689cc7"
      },
      "source": [
        "decisiontree.fit(X_train, y_train)\n",
        "predictions = decisiontree.predict(X_train)\n",
        "score = decisiontree.score(X_train, y_train)\n",
        "print(score) # Accuracy "
      ],
      "execution_count": 268,
      "outputs": [
        {
          "output_type": "stream",
          "text": [
            "0.8895705521472392\n"
          ],
          "name": "stdout"
        }
      ]
    },
    {
      "cell_type": "code",
      "metadata": {
        "colab": {
          "base_uri": "https://localhost:8080/"
        },
        "id": "IcG0G_RS6k8i",
        "outputId": "9f2adb74-4571-4589-95bc-5179f47271d5"
      },
      "source": [
        "predictions = decisiontree.predict(X_test)\n",
        "score = decisiontree.score(X_test, y_test)\n",
        "print(score) # Accuracy"
      ],
      "execution_count": 269,
      "outputs": [
        {
          "output_type": "stream",
          "text": [
            "0.5121951219512195\n"
          ],
          "name": "stdout"
        }
      ]
    },
    {
      "cell_type": "code",
      "metadata": {
        "colab": {
          "base_uri": "https://localhost:8080/"
        },
        "id": "FXnppg9kZ7EO",
        "outputId": "54c9262c-5571-4b60-d637-284958a7b55f"
      },
      "source": [
        "cm = metrics.confusion_matrix(y_test, predictions)\n",
        "print(cm)"
      ],
      "execution_count": 270,
      "outputs": [
        {
          "output_type": "stream",
          "text": [
            "[[14  0  0  0  2  1  0  1  2  0  0  0  0]\n",
            " [ 1  9  1  0  0  0  2  0  1  0  0  0  0]\n",
            " [ 2  1  9  0  1  0  1  0  2  0  0  0  0]\n",
            " [ 1  0  0  3  1  0  1  0  1  0  0  0  0]\n",
            " [ 0  2  4  0 14  3  1  0  2  0  0  0  0]\n",
            " [ 1  2  1  0  1  9  0  0  2  1  0  0  1]\n",
            " [ 2  2  0  0  1  1  4  0  0  0  1  0  0]\n",
            " [ 0  0  0  0  0  0  0  0  0  1  1  0  0]\n",
            " [ 1  3  2  1  1  2  2  1  8  1  1  1  0]\n",
            " [ 1  2  1  0  2  1  0  0  0  9  0  0  0]\n",
            " [ 0  1  1  0  0  0  0  0  0  0  2  0  0]\n",
            " [ 0  1  0  0  0  0  0  0  0  1  0  2  0]\n",
            " [ 0  0  0  0  0  0  1  0  0  0  0  0  1]]\n"
          ],
          "name": "stdout"
        }
      ]
    },
    {
      "cell_type": "code",
      "metadata": {
        "colab": {
          "base_uri": "https://localhost:8080/",
          "height": 530
        },
        "id": "fweC38q3a9TM",
        "outputId": "6af2b974-746c-45c7-ad8a-7aa4724fd7af"
      },
      "source": [
        "plt.figure(figsize=(9,9))\n",
        "sns.heatmap(cm, annot=True, fmt=\".3f\", linewidths=.5, square = True, cmap = 'Blues_r');\n",
        "plt.ylabel('y_test');\n",
        "plt.xlabel('predictions');\n",
        "all_sample_title = 'Accuracy Score: {0}'.format(score)\n",
        "plt.title(all_sample_title, size = 15);"
      ],
      "execution_count": 271,
      "outputs": [
        {
          "output_type": "display_data",
          "data": {
            "image/png": "[encoded data removed]",
            "text/plain": [
              "<Figure size 648x648 with 2 Axes>"
            ]
          },
          "metadata": {
            "tags": []
          }
        }
      ]
    },
    {
      "cell_type": "code",
      "metadata": {
        "colab": {
          "base_uri": "https://localhost:8080/"
        },
        "id": "TPnLPB5bbFh7",
        "outputId": "b712a6e0-227a-4e21-bd57-0404ea03db9b"
      },
      "source": [
        "print(metrics.classification_report(y_test, predictions))\n",
        "confusion_matrix(y_test, predictions).ravel()"
      ],
      "execution_count": 272,
      "outputs": [
        {
          "output_type": "stream",
          "text": [
            "              precision    recall  f1-score   support\n",
            "\n",
            "           1       0.61      0.70      0.65        20\n",
            "           2       0.39      0.64      0.49        14\n",
            "           3       0.47      0.56      0.51        16\n",
            "           4       0.75      0.43      0.55         7\n",
            "           5       0.61      0.54      0.57        26\n",
            "           6       0.53      0.50      0.51        18\n",
            "           7       0.33      0.36      0.35        11\n",
            "           8       0.00      0.00      0.00         2\n",
            "           9       0.44      0.33      0.38        24\n",
            "          10       0.69      0.56      0.62        16\n",
            "          11       0.40      0.50      0.44         4\n",
            "          14       0.67      0.50      0.57         4\n",
            "          15       0.50      0.50      0.50         2\n",
            "\n",
            "    accuracy                           0.51       164\n",
            "   macro avg       0.49      0.47      0.47       164\n",
            "weighted avg       0.53      0.51      0.51       164\n",
            "\n"
          ],
          "name": "stdout"
        },
        {
          "output_type": "execute_result",
          "data": {
            "text/plain": [
              "array([14,  0,  0,  0,  2,  1,  0,  1,  2,  0,  0,  0,  0,  1,  9,  1,  0,\n",
              "        0,  0,  2,  0,  1,  0,  0,  0,  0,  2,  1,  9,  0,  1,  0,  1,  0,\n",
              "        2,  0,  0,  0,  0,  1,  0,  0,  3,  1,  0,  1,  0,  1,  0,  0,  0,\n",
              "        0,  0,  2,  4,  0, 14,  3,  1,  0,  2,  0,  0,  0,  0,  1,  2,  1,\n",
              "        0,  1,  9,  0,  0,  2,  1,  0,  0,  1,  2,  2,  0,  0,  1,  1,  4,\n",
              "        0,  0,  0,  1,  0,  0,  0,  0,  0,  0,  0,  0,  0,  0,  0,  1,  1,\n",
              "        0,  0,  1,  3,  2,  1,  1,  2,  2,  1,  8,  1,  1,  1,  0,  1,  2,\n",
              "        1,  0,  2,  1,  0,  0,  0,  9,  0,  0,  0,  0,  1,  1,  0,  0,  0,\n",
              "        0,  0,  0,  0,  2,  0,  0,  0,  1,  0,  0,  0,  0,  0,  0,  0,  1,\n",
              "        0,  2,  0,  0,  0,  0,  0,  0,  0,  1,  0,  0,  0,  0,  0,  1])"
            ]
          },
          "metadata": {
            "tags": []
          },
          "execution_count": 272
        }
      ]
    },
    {
      "cell_type": "code",
      "metadata": {
        "id": "Gs68jtZC-jUW"
      },
      "source": [
        "#metrics.plot_roc_curve(decisiontree, X_test, y_test)  \n",
        "#plt.show()"
      ],
      "execution_count": 273,
      "outputs": []
    },
    {
      "cell_type": "markdown",
      "metadata": {
        "id": "7Bj8od4A-dT_"
      },
      "source": [
        "# Random Forest"
      ]
    },
    {
      "cell_type": "code",
      "metadata": {
        "colab": {
          "base_uri": "https://localhost:8080/"
        },
        "id": "ZvNhuOq-9qs0",
        "outputId": "7aaac96f-929d-4e35-9021-26f371e3f863"
      },
      "source": [
        "from sklearn.ensemble import RandomForestClassifier\n",
        "randomforest = RandomForestClassifier()\n",
        "print(cross_val_score(randomforest, X, y, cv=4))"
      ],
      "execution_count": 274,
      "outputs": [
        {
          "output_type": "stream",
          "text": [
            "[0.50980392 0.44607843 0.46568627 0.53431373]\n"
          ],
          "name": "stdout"
        }
      ]
    },
    {
      "cell_type": "code",
      "metadata": {
        "colab": {
          "base_uri": "https://localhost:8080/"
        },
        "id": "N4pqZfu8_Ou4",
        "outputId": "9405d487-5e3f-4ad3-8094-9f5299739419"
      },
      "source": [
        "randomforest.fit(X_train, y_train)\n",
        "predictions = randomforest.predict(X_train)\n",
        "score = randomforest.score(X_train, y_train)\n",
        "print(score) # Accuracy "
      ],
      "execution_count": 275,
      "outputs": [
        {
          "output_type": "stream",
          "text": [
            "0.8895705521472392\n"
          ],
          "name": "stdout"
        }
      ]
    },
    {
      "cell_type": "code",
      "metadata": {
        "colab": {
          "base_uri": "https://localhost:8080/"
        },
        "id": "z9qm5j4o_Yp_",
        "outputId": "ab9f0bd7-e9f3-41c0-8830-384dd901885b"
      },
      "source": [
        "predictions = randomforest.predict(X_test)\n",
        "score = randomforest.score(X_test, y_test)\n",
        "print(score) # Accuracy"
      ],
      "execution_count": 276,
      "outputs": [
        {
          "output_type": "stream",
          "text": [
            "0.4878048780487805\n"
          ],
          "name": "stdout"
        }
      ]
    },
    {
      "cell_type": "code",
      "metadata": {
        "colab": {
          "base_uri": "https://localhost:8080/"
        },
        "id": "AemMuT1uAjju",
        "outputId": "8e8c82d2-bafc-4652-cbbd-a9542510d6e3"
      },
      "source": [
        "cm = metrics.confusion_matrix(y_test, predictions)\n",
        "print(cm)"
      ],
      "execution_count": 277,
      "outputs": [
        {
          "output_type": "stream",
          "text": [
            "[[14  1  0  0  2  1  0  0  2  0  0  0  0]\n",
            " [ 1  8  1  0  0  0  1  0  2  1  0  0  0]\n",
            " [ 2  1  8  1  1  0  0  0  3  0  0  0  0]\n",
            " [ 1  1  0  1  1  0  1  0  1  0  0  1  0]\n",
            " [ 0  2  3  0 13  4  2  0  2  0  0  0  0]\n",
            " [ 1  2  1  0  2  9  0  0  1  1  0  0  1]\n",
            " [ 2  2  0  0  2  1  3  0  0  0  1  0  0]\n",
            " [ 0  1  0  0  0  0  0  0  0  1  0  0  0]\n",
            " [ 2  2  4  0  1  1  0  0 12  1  0  1  0]\n",
            " [ 1  3  1  0  1  1  0  0  0  9  0  0  0]\n",
            " [ 0  1  1  0  0  0  0  0  0  0  2  0  0]\n",
            " [ 0  1  0  0  1  1  0  0  0  1  0  0  0]\n",
            " [ 0  0  0  0  0  0  1  0  0  0  0  0  1]]\n"
          ],
          "name": "stdout"
        }
      ]
    },
    {
      "cell_type": "code",
      "metadata": {
        "colab": {
          "base_uri": "https://localhost:8080/",
          "height": 530
        },
        "id": "IKXcFMGgAlTn",
        "outputId": "04d5def6-293f-416b-e0bc-45de71dc0b83"
      },
      "source": [
        "plt.figure(figsize=(9,9))\n",
        "sns.heatmap(cm, annot=True, fmt=\".3f\", linewidths=.5, square = True, cmap = 'Blues_r');\n",
        "plt.ylabel('y_test');\n",
        "plt.xlabel('predictions');\n",
        "all_sample_title = 'Accuracy Score: {0}'.format(score)\n",
        "plt.title(all_sample_title, size = 15);"
      ],
      "execution_count": 278,
      "outputs": [
        {
          "output_type": "display_data",
          "data": {
            "image/png": "[encoded data removed]",
            "text/plain": [
              "<Figure size 648x648 with 2 Axes>"
            ]
          },
          "metadata": {
            "tags": []
          }
        }
      ]
    },
    {
      "cell_type": "code",
      "metadata": {
        "colab": {
          "base_uri": "https://localhost:8080/"
        },
        "id": "6mbLtlLUAtSK",
        "outputId": "de7ea799-1f65-4cae-ee16-561c948cfce3"
      },
      "source": [
        "print(metrics.classification_report(y_test, predictions))\n",
        "confusion_matrix(y_test, predictions).ravel()"
      ],
      "execution_count": 279,
      "outputs": [
        {
          "output_type": "stream",
          "text": [
            "              precision    recall  f1-score   support\n",
            "\n",
            "           1       0.58      0.70      0.64        20\n",
            "           2       0.32      0.57      0.41        14\n",
            "           3       0.42      0.50      0.46        16\n",
            "           4       0.50      0.14      0.22         7\n",
            "           5       0.54      0.50      0.52        26\n",
            "           6       0.50      0.50      0.50        18\n",
            "           7       0.38      0.27      0.32        11\n",
            "           8       0.00      0.00      0.00         2\n",
            "           9       0.52      0.50      0.51        24\n",
            "          10       0.64      0.56      0.60        16\n",
            "          11       0.67      0.50      0.57         4\n",
            "          14       0.00      0.00      0.00         4\n",
            "          15       0.50      0.50      0.50         2\n",
            "\n",
            "    accuracy                           0.49       164\n",
            "   macro avg       0.43      0.40      0.40       164\n",
            "weighted avg       0.49      0.49      0.48       164\n",
            "\n"
          ],
          "name": "stdout"
        },
        {
          "output_type": "execute_result",
          "data": {
            "text/plain": [
              "array([14,  1,  0,  0,  2,  1,  0,  0,  2,  0,  0,  0,  0,  1,  8,  1,  0,\n",
              "        0,  0,  1,  0,  2,  1,  0,  0,  0,  2,  1,  8,  1,  1,  0,  0,  0,\n",
              "        3,  0,  0,  0,  0,  1,  1,  0,  1,  1,  0,  1,  0,  1,  0,  0,  1,\n",
              "        0,  0,  2,  3,  0, 13,  4,  2,  0,  2,  0,  0,  0,  0,  1,  2,  1,\n",
              "        0,  2,  9,  0,  0,  1,  1,  0,  0,  1,  2,  2,  0,  0,  2,  1,  3,\n",
              "        0,  0,  0,  1,  0,  0,  0,  1,  0,  0,  0,  0,  0,  0,  0,  1,  0,\n",
              "        0,  0,  2,  2,  4,  0,  1,  1,  0,  0, 12,  1,  0,  1,  0,  1,  3,\n",
              "        1,  0,  1,  1,  0,  0,  0,  9,  0,  0,  0,  0,  1,  1,  0,  0,  0,\n",
              "        0,  0,  0,  0,  2,  0,  0,  0,  1,  0,  0,  1,  1,  0,  0,  0,  1,\n",
              "        0,  0,  0,  0,  0,  0,  0,  0,  0,  1,  0,  0,  0,  0,  0,  1])"
            ]
          },
          "metadata": {
            "tags": []
          },
          "execution_count": 279
        }
      ]
    },
    {
      "cell_type": "code",
      "metadata": {
        "id": "CQglv_d1AxBK"
      },
      "source": [
        "#metrics.plot_roc_curve(randomforest, X_test, y_test)  \n",
        "#plt.show()"
      ],
      "execution_count": 280,
      "outputs": []
    },
    {
      "cell_type": "markdown",
      "metadata": {
        "id": "KqIbsWhrA_Pa"
      },
      "source": [
        "# SVM"
      ]
    },
    {
      "cell_type": "code",
      "metadata": {
        "colab": {
          "base_uri": "https://localhost:8080/"
        },
        "id": "0Id0i_Z9BGS4",
        "outputId": "036786ae-3cbd-45e1-a841-a84b0fb8793a"
      },
      "source": [
        "from sklearn import svm\n",
        "supvm = svm.SVC(kernel='poly', degree=8)\n",
        "print(cross_val_score(supvm, X, y, cv=3))"
      ],
      "execution_count": 281,
      "outputs": [
        {
          "output_type": "stream",
          "text": [
            "[0.31985294 0.37867647 0.33823529]\n"
          ],
          "name": "stdout"
        }
      ]
    },
    {
      "cell_type": "code",
      "metadata": {
        "colab": {
          "base_uri": "https://localhost:8080/"
        },
        "id": "4AYuFkmmBPq1",
        "outputId": "feeae7e0-bb73-4e69-8729-62da3ec20dfe"
      },
      "source": [
        "supvm.fit(X_train, y_train)\n",
        "predictions = supvm.predict(X_train)\n",
        "score = supvm.score(X_train, y_train)\n",
        "print(score) # Accuracy "
      ],
      "execution_count": 282,
      "outputs": [
        {
          "output_type": "stream",
          "text": [
            "0.5061349693251533\n"
          ],
          "name": "stdout"
        }
      ]
    },
    {
      "cell_type": "code",
      "metadata": {
        "colab": {
          "base_uri": "https://localhost:8080/"
        },
        "id": "uTnu8J80BVC1",
        "outputId": "b289d2e2-f6d3-4eca-d6ac-3dc953eda1b0"
      },
      "source": [
        "predictions = supvm.predict(X_test)\n",
        "score = supvm.score(X_test, y_test)\n",
        "print(score) # Accuracy "
      ],
      "execution_count": 283,
      "outputs": [
        {
          "output_type": "stream",
          "text": [
            "0.31097560975609756\n"
          ],
          "name": "stdout"
        }
      ]
    },
    {
      "cell_type": "code",
      "metadata": {
        "colab": {
          "base_uri": "https://localhost:8080/"
        },
        "id": "Ox-nyhADBaGW",
        "outputId": "234b5b86-91c4-4fca-daf8-072c7e3ff780"
      },
      "source": [
        "cm = metrics.confusion_matrix(y_test, predictions)\n",
        "print(cm)"
      ],
      "execution_count": 284,
      "outputs": [
        {
          "output_type": "stream",
          "text": [
            "[[ 7 13  0  0  0  0  0  0  0  0  0  0  0]\n",
            " [ 0 12  0  0  0  1  0  0  0  1  0  0  0]\n",
            " [ 0 12  4  0  0  0  0  0  0  0  0  0  0]\n",
            " [ 0  6  0  0  0  1  0  0  0  0  0  0  0]\n",
            " [ 0 12  0  0  9  3  0  0  1  1  0  0  0]\n",
            " [ 1  3  2  0  4  6  1  0  1  0  0  0  0]\n",
            " [ 1  8  0  0  1  0  0  0  0  0  1  0  0]\n",
            " [ 0  1  0  0  0  0  0  0  0  1  0  0  0]\n",
            " [ 0  7  2  0  4  0  1  0  6  3  0  1  0]\n",
            " [ 1  4  2  0  1  1  2  0  0  5  0  0  0]\n",
            " [ 0  1  1  0  0  0  0  0  0  1  1  0  0]\n",
            " [ 1  0  1  0  0  0  1  0  0  0  0  1  0]\n",
            " [ 0  1  0  0  0  0  1  0  0  0  0  0  0]]\n"
          ],
          "name": "stdout"
        }
      ]
    },
    {
      "cell_type": "code",
      "metadata": {
        "colab": {
          "base_uri": "https://localhost:8080/",
          "height": 526
        },
        "id": "w7p_uKSRBcgs",
        "outputId": "0a159611-434b-4a05-972f-1188a28f5dba"
      },
      "source": [
        "plt.figure(figsize=(9,9))\n",
        "sns.heatmap(cm, annot=True, fmt=\".3f\", linewidths=.5, square = True, cmap = 'Blues_r');\n",
        "plt.ylabel('y_test');\n",
        "plt.xlabel('predictions');\n",
        "all_sample_title = 'Accuracy Score: {0}'.format(score)\n",
        "plt.title(all_sample_title, size = 15);"
      ],
      "execution_count": 285,
      "outputs": [
        {
          "output_type": "display_data",
          "data": {
            "image/png": "[encoded data removed]",
            "text/plain": [
              "<Figure size 648x648 with 2 Axes>"
            ]
          },
          "metadata": {
            "tags": []
          }
        }
      ]
    },
    {
      "cell_type": "code",
      "metadata": {
        "colab": {
          "base_uri": "https://localhost:8080/"
        },
        "id": "mgEs8XnzBfSK",
        "outputId": "e52d71de-8674-4108-a0fd-fc225bd96c9b"
      },
      "source": [
        "print(metrics.classification_report(y_test, predictions))\n",
        "\n",
        "confusion_matrix(y_test, predictions).ravel()"
      ],
      "execution_count": 286,
      "outputs": [
        {
          "output_type": "stream",
          "text": [
            "              precision    recall  f1-score   support\n",
            "\n",
            "           1       0.64      0.35      0.45        20\n",
            "           2       0.15      0.86      0.26        14\n",
            "           3       0.33      0.25      0.29        16\n",
            "           4       0.00      0.00      0.00         7\n",
            "           5       0.47      0.35      0.40        26\n",
            "           6       0.50      0.33      0.40        18\n",
            "           7       0.00      0.00      0.00        11\n",
            "           8       0.00      0.00      0.00         2\n",
            "           9       0.75      0.25      0.38        24\n",
            "          10       0.42      0.31      0.36        16\n",
            "          11       0.50      0.25      0.33         4\n",
            "          14       0.50      0.25      0.33         4\n",
            "          15       0.00      0.00      0.00         2\n",
            "\n",
            "    accuracy                           0.31       164\n",
            "   macro avg       0.33      0.25      0.25       164\n",
            "weighted avg       0.43      0.31      0.32       164\n",
            "\n"
          ],
          "name": "stdout"
        },
        {
          "output_type": "execute_result",
          "data": {
            "text/plain": [
              "array([ 7, 13,  0,  0,  0,  0,  0,  0,  0,  0,  0,  0,  0,  0, 12,  0,  0,\n",
              "        0,  1,  0,  0,  0,  1,  0,  0,  0,  0, 12,  4,  0,  0,  0,  0,  0,\n",
              "        0,  0,  0,  0,  0,  0,  6,  0,  0,  0,  1,  0,  0,  0,  0,  0,  0,\n",
              "        0,  0, 12,  0,  0,  9,  3,  0,  0,  1,  1,  0,  0,  0,  1,  3,  2,\n",
              "        0,  4,  6,  1,  0,  1,  0,  0,  0,  0,  1,  8,  0,  0,  1,  0,  0,\n",
              "        0,  0,  0,  1,  0,  0,  0,  1,  0,  0,  0,  0,  0,  0,  0,  1,  0,\n",
              "        0,  0,  0,  7,  2,  0,  4,  0,  1,  0,  6,  3,  0,  1,  0,  1,  4,\n",
              "        2,  0,  1,  1,  2,  0,  0,  5,  0,  0,  0,  0,  1,  1,  0,  0,  0,\n",
              "        0,  0,  0,  1,  1,  0,  0,  1,  0,  1,  0,  0,  0,  1,  0,  0,  0,\n",
              "        0,  1,  0,  0,  1,  0,  0,  0,  0,  1,  0,  0,  0,  0,  0,  0])"
            ]
          },
          "metadata": {
            "tags": []
          },
          "execution_count": 286
        }
      ]
    },
    {
      "cell_type": "code",
      "metadata": {
        "id": "tbqU9-ARBkPN"
      },
      "source": [
        "#metrics.plot_roc_curve(supvm, X_test, y_test)  \n",
        "#plt.show()"
      ],
      "execution_count": 287,
      "outputs": []
    },
    {
      "cell_type": "markdown",
      "metadata": {
        "id": "RI6Is0kjFfof"
      },
      "source": [
        "# Regression"
      ]
    },
    {
      "cell_type": "code",
      "metadata": {
        "colab": {
          "base_uri": "https://localhost:8080/"
        },
        "id": "m_pil4JRFdAN",
        "outputId": "abefded0-3e3e-4357-c367-5ca5efe09944"
      },
      "source": [
        "from sklearn.linear_model import LinearRegression\n",
        "from sklearn.metrics import mean_squared_error, r2_score\n",
        "\n",
        "model = LinearRegression()\n",
        "model.fit(X_train, y_train)\n",
        "# make predictions\n",
        "yhat = model.predict(X_test)\n",
        "\n",
        "print(\"R2 score : %.2f\" % r2_score(y_test,yhat))\n",
        "print(\"Mean squared error: %.2f\" % mean_squared_error(y_test,yhat))"
      ],
      "execution_count": 288,
      "outputs": [
        {
          "output_type": "stream",
          "text": [
            "R2 score : 0.39\n",
            "Mean squared error: 7.15\n"
          ],
          "name": "stdout"
        }
      ]
    },
    {
      "cell_type": "code",
      "metadata": {
        "colab": {
          "base_uri": "https://localhost:8080/"
        },
        "id": "yv-BZ-CvGAkU",
        "outputId": "fae3ef1a-a7d0-4cb5-c62d-119f73561f4a"
      },
      "source": [
        "from lightgbm import LGBMRegressor\n",
        "from sklearn.metrics import mean_squared_error, r2_score\n",
        "import math\n",
        "model_lgb = LGBMRegressor( n_estimators=200,\n",
        "                           learning_rate=0.03,\n",
        "                           num_leaves=32,\n",
        "                           colsample_bytree=0.9497036,\n",
        "                           subsample=0.8715623,\n",
        "                           max_depth=8,\n",
        "                           reg_alpha=0.04,\n",
        "                           reg_lambda=0.073,\n",
        "                           min_split_gain=0.0222415,\n",
        "                           min_child_weight=40)\n",
        "model_lgb.fit(X_train, y_train)\n",
        "\n",
        "y_pred_lgb = model_lgb.predict(X_test)\n",
        "\n",
        "\n",
        "print(\"R2 score : %.2f\" % r2_score(y_test,y_pred_lgb))\n",
        "mse = mean_squared_error(y_test,y_pred_lgb)\n",
        "print(mse)\n",
        "#print(\"Mean squared error: %.2f\" % mean_squared_error(y_test,y_pred_lgb))\n",
        "rmse = math.sqrt(mse)\n",
        "print(rmse)"
      ],
      "execution_count": 289,
      "outputs": [
        {
          "output_type": "stream",
          "text": [
            "R2 score : 0.35\n",
            "7.670584871835835\n",
            "2.7695820753023073\n"
          ],
          "name": "stdout"
        }
      ]
    },
    {
      "cell_type": "markdown",
      "metadata": {
        "id": "7ihfviRc9rf7"
      },
      "source": [
        "# Prediction"
      ]
    },
    {
      "cell_type": "code",
      "metadata": {
        "colab": {
          "base_uri": "https://localhost:8080/"
        },
        "id": "AoVnOg5OqA3d",
        "outputId": "6571624f-5610-4ebb-fb27-2daceb3fd45e"
      },
      "source": [
        "from sklearn.model_selection import train_test_split\n",
        "\n",
        "train_df, test_df = train_test_split(ipl_5, test_size=0.2, random_state=5)\n",
        "\n",
        "print(train_df.columns)\n",
        "print(train_df.shape)\n",
        "\n",
        "print(test_df.columns)\n",
        "print(test_df.shape)"
      ],
      "execution_count": 290,
      "outputs": [
        {
          "output_type": "stream",
          "text": [
            "Index(['year', 'month', 'day', 'city', 'venue', 'neutral_venue', 'team1',\n",
            "       'team2', 'toss_winner', 'toss_decision', 'winner', 'eliminator',\n",
            "       'umpire1', 'umpire2'],\n",
            "      dtype='object')\n",
            "(652, 14)\n",
            "Index(['year', 'month', 'day', 'city', 'venue', 'neutral_venue', 'team1',\n",
            "       'team2', 'toss_winner', 'toss_decision', 'winner', 'eliminator',\n",
            "       'umpire1', 'umpire2'],\n",
            "      dtype='object')\n",
            "(164, 14)\n"
          ],
          "name": "stdout"
        }
      ]
    },
    {
      "cell_type": "code",
      "metadata": {
        "id": "spq1zqNYrnM-"
      },
      "source": [
        "from sklearn.linear_model import LogisticRegression\n",
        "from sklearn.ensemble import RandomForestClassifier\n",
        "from sklearn.metrics import accuracy_score\n",
        "from sklearn.model_selection import cross_val_score\n",
        "import warnings\n",
        "warnings.filterwarnings('ignore')\n",
        "\n",
        "def print_model_scores(model, data, predictor, target):\n",
        "    model.fit(data[predictor], data[target])\n",
        "    predictions = model.predict(data[predictor])\n",
        "    accuracy = accuracy_score(predictions, data[target])\n",
        "    print('Accuracy: %s' % '{0:.2}'.format(accuracy))\n",
        "    scores = cross_val_score(model, data[predictor], data[target], scoring=\"neg_mean_squared_error\", cv=5)\n",
        "    print('Cross-Validation Scores: {}'.format(np.sqrt(-scores)))\n",
        "    print(f'Average RMSE: {np.sqrt(-scores).mean()}')"
      ],
      "execution_count": 291,
      "outputs": []
    },
    {
      "cell_type": "code",
      "metadata": {
        "id": "Ns4-ORe6rr4H",
        "colab": {
          "base_uri": "https://localhost:8080/"
        },
        "outputId": "f0aa940a-e03d-476e-8a93-b6fd230fda90"
      },
      "source": [
        "# Logistic Regression\n",
        "\n",
        "target_var = [\"winner\"]\n",
        "predictor_var = ['year', 'month', 'day', 'city', 'venue', 'neutral_venue', 'team1',\n",
        "       'team2', 'toss_winner', 'toss_decision', 'eliminator',\n",
        "       'umpire1', 'umpire2']\n",
        "model = LogisticRegression()\n",
        "\n",
        "print_model_scores(model, train_df, predictor_var, target_var)"
      ],
      "execution_count": 292,
      "outputs": [
        {
          "output_type": "stream",
          "text": [
            "Accuracy: 0.3\n",
            "Cross-Validation Scores: [4.04082223 3.79533663 4.01918476 3.88191071 3.5970073 ]\n",
            "Average RMSE: 3.866852327291803\n"
          ],
          "name": "stdout"
        }
      ]
    },
    {
      "cell_type": "code",
      "metadata": {
        "colab": {
          "base_uri": "https://localhost:8080/"
        },
        "id": "5tM1oQvgt4p3",
        "outputId": "228ff7f9-5997-460c-a823-27c000d4616b"
      },
      "source": [
        "# Random Forest Classifier\n",
        "model = RandomForestClassifier()\n",
        "print_model_scores(model, train_df, predictor_var, target_var)"
      ],
      "execution_count": 293,
      "outputs": [
        {
          "output_type": "stream",
          "text": [
            "Accuracy: 1.0\n",
            "Cross-Validation Scores: [4.01998823 3.49372393 3.14642654 3.50823208 3.54639579]\n",
            "Average RMSE: 3.542953312248364\n"
          ],
          "name": "stdout"
        }
      ]
    },
    {
      "cell_type": "code",
      "metadata": {
        "colab": {
          "base_uri": "https://localhost:8080/"
        },
        "id": "kWEgSlUZC1to",
        "outputId": "9f296cba-3148-4bea-d954-1a7078f0c277"
      },
      "source": [
        "print_model_scores(model, test_df, predictor_var, target_var)"
      ],
      "execution_count": 294,
      "outputs": [
        {
          "output_type": "stream",
          "text": [
            "Accuracy: 1.0\n",
            "Cross-Validation Scores: [2.43708718 3.69274473 3.72135524 4.63517513 3.39576943]\n",
            "Average RMSE: 3.576426342596662\n"
          ],
          "name": "stdout"
        }
      ]
    },
    {
      "cell_type": "code",
      "metadata": {
        "colab": {
          "base_uri": "https://localhost:8080/"
        },
        "id": "2O1C-3IeuHiv",
        "outputId": "236d6269-8e1f-4c44-adbe-6636a318fe3d"
      },
      "source": [
        "# Sample Test\n",
        "import re\n",
        "t = test_df.sample().to_numpy().tolist()\n",
        "t = str(t)[1:-1]\n",
        "temp = re.findall(r'\\d+', t)\n",
        "res = list(map(int, temp))\n",
        "\n",
        "year, month, day, city, venue, neutral_venue, team1, team2, toss_winner, toss_decision, winner, eliminator, umpire1, umpire2 = res\n",
        "\n",
        "inp = [year,\n",
        "       month,\n",
        "       day,\n",
        "       city,\n",
        "       venue,\n",
        "       neutral_venue,\n",
        "       team1,\n",
        "       team2,\n",
        "       toss_winner,\n",
        "       toss_decision,\n",
        "       eliminator,\n",
        "       umpire1,\n",
        "       umpire2,\n",
        "]\n",
        "\n",
        "print(inp)\n",
        "inp = np.array(inp).reshape((1, -1))\n",
        "print(inp)\n",
        "output = model.predict(inp)\n",
        "print(output)\n",
        "print(f\"team1: {list(team_encodings.keys())[list(team_encode_dict['team1'].values()).index(team1)]}\")\n",
        "print(f\"team2: {list(team_encodings.keys())[list(team_encode_dict['team1'].values()).index(team2)]}\")\n",
        "print(f\"Actual winner is: {list(team_encodings.keys())[list(team_encode_dict['team1'].values()).index(winner)]}\")\n",
        "print(f\"Predicted winner: {list(team_encodings.keys())[list(team_encode_dict['team1'].values()).index(output)]}\")"
      ],
      "execution_count": 295,
      "outputs": [
        {
          "output_type": "stream",
          "text": [
            "[2013, 4, 21, 9, 8, 0, 7, 1, 1, 0, 0, 17, 34]\n",
            "[[2013    4   21    9    8    0    7    1    1    0    0   17   34]]\n",
            "[7]\n",
            "team1: Delhi Daredevils\n",
            "team2: Mumbai Indians\n",
            "Actual winner is: Delhi Daredevils\n",
            "Predicted winner: Delhi Daredevils\n"
          ],
          "name": "stdout"
        }
      ]
    },
    {
      "cell_type": "code",
      "metadata": {
        "colab": {
          "base_uri": "https://localhost:8080/"
        },
        "id": "g0Udc5_lWRs-",
        "outputId": "b81e29d0-7935-449f-a520-8b3fe65719e3"
      },
      "source": [
        "pd.Series(index=predictor_var, data=model.feature_importances_)"
      ],
      "execution_count": 296,
      "outputs": [
        {
          "output_type": "execute_result",
          "data": {
            "text/plain": [
              "year             0.079306\n",
              "month            0.041389\n",
              "day              0.090857\n",
              "city             0.087138\n",
              "venue            0.091825\n",
              "neutral_venue    0.004632\n",
              "team1            0.140064\n",
              "team2            0.137049\n",
              "toss_winner      0.109252\n",
              "toss_decision    0.025770\n",
              "eliminator       0.006085\n",
              "umpire1          0.092093\n",
              "umpire2          0.094539\n",
              "dtype: float64"
            ]
          },
          "metadata": {
            "tags": []
          },
          "execution_count": 296
        }
      ]
    },
    {
      "cell_type": "code",
      "metadata": {
        "colab": {
          "base_uri": "https://localhost:8080/"
        },
        "id": "5kEufFY-W5gQ",
        "outputId": "3f3f2062-b3c8-45f8-bf72-15fdb9c0a86e"
      },
      "source": [
        "from sklearn.tree import DecisionTreeClassifier\n",
        "model = DecisionTreeClassifier()\n",
        "print_model_scores(model, train_df, predictor_var, target_var)"
      ],
      "execution_count": 297,
      "outputs": [
        {
          "output_type": "stream",
          "text": [
            "Accuracy: 1.0\n",
            "Cross-Validation Scores: [4.15629753 3.56188474 3.6867747  3.45298087 3.37980427]\n",
            "Average RMSE: 3.6475484237298064\n"
          ],
          "name": "stdout"
        }
      ]
    },
    {
      "cell_type": "code",
      "metadata": {
        "colab": {
          "base_uri": "https://localhost:8080/"
        },
        "id": "NMGavLU1ERE6",
        "outputId": "30a78913-a954-4dad-c39e-f5e5762dbd57"
      },
      "source": [
        "print_model_scores(model, test_df, predictor_var, target_var)"
      ],
      "execution_count": 298,
      "outputs": [
        {
          "output_type": "stream",
          "text": [
            "Accuracy: 1.0\n",
            "Cross-Validation Scores: [4.4004132  3.71320331 3.86515122 4.02266307 4.5757513 ]\n",
            "Average RMSE: 4.1154364205430385\n"
          ],
          "name": "stdout"
        }
      ]
    },
    {
      "cell_type": "code",
      "metadata": {
        "colab": {
          "base_uri": "https://localhost:8080/"
        },
        "id": "Tv5E3aRJXDb_",
        "outputId": "585b014f-5249-457a-e07c-7d7ae61a87bc"
      },
      "source": [
        "import re\n",
        "t = test_df.sample().to_numpy().tolist()\n",
        "t = str(t)[1:-1]\n",
        "temp = re.findall(r'\\d+', t)\n",
        "res = list(map(int, temp))\n",
        "\n",
        "year, month, day, city, venue, neutral_venue, team1, team2, toss_winner, toss_decision, winner, eliminator, umpire1, umpire2 = res\n",
        "\n",
        "inp = [year,\n",
        "       month,\n",
        "       day,\n",
        "       city,\n",
        "       venue,\n",
        "       neutral_venue,\n",
        "       team1,\n",
        "       team2,\n",
        "       toss_winner,\n",
        "       toss_decision,\n",
        "       eliminator,\n",
        "       umpire1,\n",
        "       umpire2,\n",
        "]\n",
        "\n",
        "print(inp)\n",
        "inp = np.array(inp).reshape((1, -1))\n",
        "print(inp)\n",
        "output = model.predict(inp)\n",
        "print(output)\n",
        "print(f\"team1: {list(team_encodings.keys())[list(team_encode_dict['team1'].values()).index(team1)]}\")\n",
        "print(f\"team2: {list(team_encodings.keys())[list(team_encode_dict['team1'].values()).index(team2)]}\")\n",
        "print(f\"Actual winner is: {list(team_encodings.keys())[list(team_encode_dict['team1'].values()).index(winner)]}\")\n",
        "print(f\"Predicted winner: {list(team_encodings.keys())[list(team_encode_dict['team1'].values()).index(output)]}\")"
      ],
      "execution_count": 299,
      "outputs": [
        {
          "output_type": "stream",
          "text": [
            "[2011, 4, 29, 16, 25, 0, 6, 1, 6, 1, 0, 7, 39]\n",
            "[[2011    4   29   16   25    0    6    1    6    1    0    7   39]]\n",
            "[6]\n",
            "team1: Rajasthan Royals\n",
            "team2: Mumbai Indians\n",
            "Actual winner is: Rajasthan Royals\n",
            "Predicted winner: Rajasthan Royals\n"
          ],
          "name": "stdout"
        }
      ]
    }
  ]
}